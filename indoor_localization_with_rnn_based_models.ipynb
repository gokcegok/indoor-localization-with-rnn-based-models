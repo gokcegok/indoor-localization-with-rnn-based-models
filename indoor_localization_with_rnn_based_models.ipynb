{
  "nbformat": 4,
  "nbformat_minor": 0,
  "metadata": {
    "colab": {
      "provenance": []
    },
    "kernelspec": {
      "name": "python3",
      "display_name": "Python 3"
    },
    "language_info": {
      "name": "python"
    }
  },
  "cells": [
    {
      "cell_type": "code",
      "source": [
        "import numpy as np\n",
        "import pandas as pd\n",
        "import os\n",
        "from sklearn.preprocessing import MinMaxScaler\n",
        "from keras.models import Sequential\n",
        "from keras.layers import Dense\n",
        "from keras.layers import LSTM, SimpleRNN\n",
        "from keras.layers import Dropout\n",
        "import matplotlib.pyplot as plt\n",
        "from sklearn.metrics import mean_squared_error, mean_absolute_error, mean_absolute_percentage_error, r2_score\n",
        "from sklearn.model_selection import train_test_split\n",
        "from keras.callbacks import ModelCheckpoint\n",
        "from scipy.stats import pearsonr\n",
        "from sklearn.feature_selection import r_regression"
      ],
      "metadata": {
        "id": "kJGbLIRDumlT"
      },
      "execution_count": null,
      "outputs": []
    },
    {
      "cell_type": "code",
      "source": [
        "data = pd.read_csv(\"/content/drive/MyDrive/hallederiz kadirin projeleri/iBeacon_RSSI_Labeled.csv\")"
      ],
      "metadata": {
        "id": "XGmA9efwvjOY"
      },
      "execution_count": null,
      "outputs": []
    },
    {
      "cell_type": "code",
      "source": [
        "data.head()"
      ],
      "metadata": {
        "colab": {
          "base_uri": "https://localhost:8080/",
          "height": 206
        },
        "id": "J0LPqHVqvnKC",
        "outputId": "2bd0b90f-cc50-41da-90f5-a62e679e401b"
      },
      "execution_count": null,
      "outputs": [
        {
          "output_type": "execute_result",
          "data": {
            "text/plain": [
              "  location                 date  b3001  b3002  b3003  b3004  b3005  b3006  \\\n",
              "0      O02  10-18-2016 11:15:21   -200   -200   -200   -200   -200    -78   \n",
              "1      P01  10-18-2016 11:15:19   -200   -200   -200   -200   -200    -78   \n",
              "2      P01  10-18-2016 11:15:17   -200   -200   -200   -200   -200    -77   \n",
              "3      P01  10-18-2016 11:15:15   -200   -200   -200   -200   -200    -77   \n",
              "4      P01  10-18-2016 11:15:13   -200   -200   -200   -200   -200    -77   \n",
              "\n",
              "   b3007  b3008  b3009  b3010  b3011  b3012  b3013  \n",
              "0   -200   -200   -200   -200   -200   -200   -200  \n",
              "1   -200   -200   -200   -200   -200   -200   -200  \n",
              "2   -200   -200   -200   -200   -200   -200   -200  \n",
              "3   -200   -200   -200   -200   -200   -200   -200  \n",
              "4   -200   -200   -200   -200   -200   -200   -200  "
            ],
            "text/html": [
              "\n",
              "  <div id=\"df-0d60f082-a156-400c-8280-e9ccfe034aed\">\n",
              "    <div class=\"colab-df-container\">\n",
              "      <div>\n",
              "<style scoped>\n",
              "    .dataframe tbody tr th:only-of-type {\n",
              "        vertical-align: middle;\n",
              "    }\n",
              "\n",
              "    .dataframe tbody tr th {\n",
              "        vertical-align: top;\n",
              "    }\n",
              "\n",
              "    .dataframe thead th {\n",
              "        text-align: right;\n",
              "    }\n",
              "</style>\n",
              "<table border=\"1\" class=\"dataframe\">\n",
              "  <thead>\n",
              "    <tr style=\"text-align: right;\">\n",
              "      <th></th>\n",
              "      <th>location</th>\n",
              "      <th>date</th>\n",
              "      <th>b3001</th>\n",
              "      <th>b3002</th>\n",
              "      <th>b3003</th>\n",
              "      <th>b3004</th>\n",
              "      <th>b3005</th>\n",
              "      <th>b3006</th>\n",
              "      <th>b3007</th>\n",
              "      <th>b3008</th>\n",
              "      <th>b3009</th>\n",
              "      <th>b3010</th>\n",
              "      <th>b3011</th>\n",
              "      <th>b3012</th>\n",
              "      <th>b3013</th>\n",
              "    </tr>\n",
              "  </thead>\n",
              "  <tbody>\n",
              "    <tr>\n",
              "      <th>0</th>\n",
              "      <td>O02</td>\n",
              "      <td>10-18-2016 11:15:21</td>\n",
              "      <td>-200</td>\n",
              "      <td>-200</td>\n",
              "      <td>-200</td>\n",
              "      <td>-200</td>\n",
              "      <td>-200</td>\n",
              "      <td>-78</td>\n",
              "      <td>-200</td>\n",
              "      <td>-200</td>\n",
              "      <td>-200</td>\n",
              "      <td>-200</td>\n",
              "      <td>-200</td>\n",
              "      <td>-200</td>\n",
              "      <td>-200</td>\n",
              "    </tr>\n",
              "    <tr>\n",
              "      <th>1</th>\n",
              "      <td>P01</td>\n",
              "      <td>10-18-2016 11:15:19</td>\n",
              "      <td>-200</td>\n",
              "      <td>-200</td>\n",
              "      <td>-200</td>\n",
              "      <td>-200</td>\n",
              "      <td>-200</td>\n",
              "      <td>-78</td>\n",
              "      <td>-200</td>\n",
              "      <td>-200</td>\n",
              "      <td>-200</td>\n",
              "      <td>-200</td>\n",
              "      <td>-200</td>\n",
              "      <td>-200</td>\n",
              "      <td>-200</td>\n",
              "    </tr>\n",
              "    <tr>\n",
              "      <th>2</th>\n",
              "      <td>P01</td>\n",
              "      <td>10-18-2016 11:15:17</td>\n",
              "      <td>-200</td>\n",
              "      <td>-200</td>\n",
              "      <td>-200</td>\n",
              "      <td>-200</td>\n",
              "      <td>-200</td>\n",
              "      <td>-77</td>\n",
              "      <td>-200</td>\n",
              "      <td>-200</td>\n",
              "      <td>-200</td>\n",
              "      <td>-200</td>\n",
              "      <td>-200</td>\n",
              "      <td>-200</td>\n",
              "      <td>-200</td>\n",
              "    </tr>\n",
              "    <tr>\n",
              "      <th>3</th>\n",
              "      <td>P01</td>\n",
              "      <td>10-18-2016 11:15:15</td>\n",
              "      <td>-200</td>\n",
              "      <td>-200</td>\n",
              "      <td>-200</td>\n",
              "      <td>-200</td>\n",
              "      <td>-200</td>\n",
              "      <td>-77</td>\n",
              "      <td>-200</td>\n",
              "      <td>-200</td>\n",
              "      <td>-200</td>\n",
              "      <td>-200</td>\n",
              "      <td>-200</td>\n",
              "      <td>-200</td>\n",
              "      <td>-200</td>\n",
              "    </tr>\n",
              "    <tr>\n",
              "      <th>4</th>\n",
              "      <td>P01</td>\n",
              "      <td>10-18-2016 11:15:13</td>\n",
              "      <td>-200</td>\n",
              "      <td>-200</td>\n",
              "      <td>-200</td>\n",
              "      <td>-200</td>\n",
              "      <td>-200</td>\n",
              "      <td>-77</td>\n",
              "      <td>-200</td>\n",
              "      <td>-200</td>\n",
              "      <td>-200</td>\n",
              "      <td>-200</td>\n",
              "      <td>-200</td>\n",
              "      <td>-200</td>\n",
              "      <td>-200</td>\n",
              "    </tr>\n",
              "  </tbody>\n",
              "</table>\n",
              "</div>\n",
              "      <button class=\"colab-df-convert\" onclick=\"convertToInteractive('df-0d60f082-a156-400c-8280-e9ccfe034aed')\"\n",
              "              title=\"Convert this dataframe to an interactive table.\"\n",
              "              style=\"display:none;\">\n",
              "        \n",
              "  <svg xmlns=\"http://www.w3.org/2000/svg\" height=\"24px\"viewBox=\"0 0 24 24\"\n",
              "       width=\"24px\">\n",
              "    <path d=\"M0 0h24v24H0V0z\" fill=\"none\"/>\n",
              "    <path d=\"M18.56 5.44l.94 2.06.94-2.06 2.06-.94-2.06-.94-.94-2.06-.94 2.06-2.06.94zm-11 1L8.5 8.5l.94-2.06 2.06-.94-2.06-.94L8.5 2.5l-.94 2.06-2.06.94zm10 10l.94 2.06.94-2.06 2.06-.94-2.06-.94-.94-2.06-.94 2.06-2.06.94z\"/><path d=\"M17.41 7.96l-1.37-1.37c-.4-.4-.92-.59-1.43-.59-.52 0-1.04.2-1.43.59L10.3 9.45l-7.72 7.72c-.78.78-.78 2.05 0 2.83L4 21.41c.39.39.9.59 1.41.59.51 0 1.02-.2 1.41-.59l7.78-7.78 2.81-2.81c.8-.78.8-2.07 0-2.86zM5.41 20L4 18.59l7.72-7.72 1.47 1.35L5.41 20z\"/>\n",
              "  </svg>\n",
              "      </button>\n",
              "      \n",
              "  <style>\n",
              "    .colab-df-container {\n",
              "      display:flex;\n",
              "      flex-wrap:wrap;\n",
              "      gap: 12px;\n",
              "    }\n",
              "\n",
              "    .colab-df-convert {\n",
              "      background-color: #E8F0FE;\n",
              "      border: none;\n",
              "      border-radius: 50%;\n",
              "      cursor: pointer;\n",
              "      display: none;\n",
              "      fill: #1967D2;\n",
              "      height: 32px;\n",
              "      padding: 0 0 0 0;\n",
              "      width: 32px;\n",
              "    }\n",
              "\n",
              "    .colab-df-convert:hover {\n",
              "      background-color: #E2EBFA;\n",
              "      box-shadow: 0px 1px 2px rgba(60, 64, 67, 0.3), 0px 1px 3px 1px rgba(60, 64, 67, 0.15);\n",
              "      fill: #174EA6;\n",
              "    }\n",
              "\n",
              "    [theme=dark] .colab-df-convert {\n",
              "      background-color: #3B4455;\n",
              "      fill: #D2E3FC;\n",
              "    }\n",
              "\n",
              "    [theme=dark] .colab-df-convert:hover {\n",
              "      background-color: #434B5C;\n",
              "      box-shadow: 0px 1px 3px 1px rgba(0, 0, 0, 0.15);\n",
              "      filter: drop-shadow(0px 1px 2px rgba(0, 0, 0, 0.3));\n",
              "      fill: #FFFFFF;\n",
              "    }\n",
              "  </style>\n",
              "\n",
              "      <script>\n",
              "        const buttonEl =\n",
              "          document.querySelector('#df-0d60f082-a156-400c-8280-e9ccfe034aed button.colab-df-convert');\n",
              "        buttonEl.style.display =\n",
              "          google.colab.kernel.accessAllowed ? 'block' : 'none';\n",
              "\n",
              "        async function convertToInteractive(key) {\n",
              "          const element = document.querySelector('#df-0d60f082-a156-400c-8280-e9ccfe034aed');\n",
              "          const dataTable =\n",
              "            await google.colab.kernel.invokeFunction('convertToInteractive',\n",
              "                                                     [key], {});\n",
              "          if (!dataTable) return;\n",
              "\n",
              "          const docLinkHtml = 'Like what you see? Visit the ' +\n",
              "            '<a target=\"_blank\" href=https://colab.research.google.com/notebooks/data_table.ipynb>data table notebook</a>'\n",
              "            + ' to learn more about interactive tables.';\n",
              "          element.innerHTML = '';\n",
              "          dataTable['output_type'] = 'display_data';\n",
              "          await google.colab.output.renderOutput(dataTable, element);\n",
              "          const docLink = document.createElement('div');\n",
              "          docLink.innerHTML = docLinkHtml;\n",
              "          element.appendChild(docLink);\n",
              "        }\n",
              "      </script>\n",
              "    </div>\n",
              "  </div>\n",
              "  "
            ]
          },
          "metadata": {},
          "execution_count": 6
        }
      ]
    },
    {
      "cell_type": "code",
      "source": [
        "data.tail()"
      ],
      "metadata": {
        "colab": {
          "base_uri": "https://localhost:8080/",
          "height": 206
        },
        "id": "Seqaq-fowBWK",
        "outputId": "ae661253-2b38-447e-daa4-97cfa94579bd"
      },
      "execution_count": null,
      "outputs": [
        {
          "output_type": "execute_result",
          "data": {
            "text/plain": [
              "     location               date  b3001  b3002  b3003  b3004  b3005  b3006  \\\n",
              "1415      I01  4-19-2016 9:37:46   -200    -76   -200   -200   -200   -200   \n",
              "1416      I01  4-19-2016 9:37:39   -200    -72   -200   -200   -200   -200   \n",
              "1417      I01  4-19-2016 9:37:36   -200    -67   -200   -200   -200   -200   \n",
              "1418      I01  4-19-2016 9:37:26   -200    -79   -200   -200   -200   -200   \n",
              "1419      I01  4-19-2016 9:37:23   -200    -75   -200   -200   -200   -200   \n",
              "\n",
              "      b3007  b3008  b3009  b3010  b3011  b3012  b3013  \n",
              "1415   -200   -200   -200   -200   -200   -200   -200  \n",
              "1416   -200   -200   -200   -200   -200   -200   -200  \n",
              "1417   -200   -200   -200   -200   -200   -200   -200  \n",
              "1418   -200   -200   -200   -200   -200   -200   -200  \n",
              "1419   -200   -200   -200   -200   -200   -200   -200  "
            ],
            "text/html": [
              "\n",
              "  <div id=\"df-a9e8f5d4-1558-42a6-aecb-adf65722b8b5\">\n",
              "    <div class=\"colab-df-container\">\n",
              "      <div>\n",
              "<style scoped>\n",
              "    .dataframe tbody tr th:only-of-type {\n",
              "        vertical-align: middle;\n",
              "    }\n",
              "\n",
              "    .dataframe tbody tr th {\n",
              "        vertical-align: top;\n",
              "    }\n",
              "\n",
              "    .dataframe thead th {\n",
              "        text-align: right;\n",
              "    }\n",
              "</style>\n",
              "<table border=\"1\" class=\"dataframe\">\n",
              "  <thead>\n",
              "    <tr style=\"text-align: right;\">\n",
              "      <th></th>\n",
              "      <th>location</th>\n",
              "      <th>date</th>\n",
              "      <th>b3001</th>\n",
              "      <th>b3002</th>\n",
              "      <th>b3003</th>\n",
              "      <th>b3004</th>\n",
              "      <th>b3005</th>\n",
              "      <th>b3006</th>\n",
              "      <th>b3007</th>\n",
              "      <th>b3008</th>\n",
              "      <th>b3009</th>\n",
              "      <th>b3010</th>\n",
              "      <th>b3011</th>\n",
              "      <th>b3012</th>\n",
              "      <th>b3013</th>\n",
              "    </tr>\n",
              "  </thead>\n",
              "  <tbody>\n",
              "    <tr>\n",
              "      <th>1415</th>\n",
              "      <td>I01</td>\n",
              "      <td>4-19-2016 9:37:46</td>\n",
              "      <td>-200</td>\n",
              "      <td>-76</td>\n",
              "      <td>-200</td>\n",
              "      <td>-200</td>\n",
              "      <td>-200</td>\n",
              "      <td>-200</td>\n",
              "      <td>-200</td>\n",
              "      <td>-200</td>\n",
              "      <td>-200</td>\n",
              "      <td>-200</td>\n",
              "      <td>-200</td>\n",
              "      <td>-200</td>\n",
              "      <td>-200</td>\n",
              "    </tr>\n",
              "    <tr>\n",
              "      <th>1416</th>\n",
              "      <td>I01</td>\n",
              "      <td>4-19-2016 9:37:39</td>\n",
              "      <td>-200</td>\n",
              "      <td>-72</td>\n",
              "      <td>-200</td>\n",
              "      <td>-200</td>\n",
              "      <td>-200</td>\n",
              "      <td>-200</td>\n",
              "      <td>-200</td>\n",
              "      <td>-200</td>\n",
              "      <td>-200</td>\n",
              "      <td>-200</td>\n",
              "      <td>-200</td>\n",
              "      <td>-200</td>\n",
              "      <td>-200</td>\n",
              "    </tr>\n",
              "    <tr>\n",
              "      <th>1417</th>\n",
              "      <td>I01</td>\n",
              "      <td>4-19-2016 9:37:36</td>\n",
              "      <td>-200</td>\n",
              "      <td>-67</td>\n",
              "      <td>-200</td>\n",
              "      <td>-200</td>\n",
              "      <td>-200</td>\n",
              "      <td>-200</td>\n",
              "      <td>-200</td>\n",
              "      <td>-200</td>\n",
              "      <td>-200</td>\n",
              "      <td>-200</td>\n",
              "      <td>-200</td>\n",
              "      <td>-200</td>\n",
              "      <td>-200</td>\n",
              "    </tr>\n",
              "    <tr>\n",
              "      <th>1418</th>\n",
              "      <td>I01</td>\n",
              "      <td>4-19-2016 9:37:26</td>\n",
              "      <td>-200</td>\n",
              "      <td>-79</td>\n",
              "      <td>-200</td>\n",
              "      <td>-200</td>\n",
              "      <td>-200</td>\n",
              "      <td>-200</td>\n",
              "      <td>-200</td>\n",
              "      <td>-200</td>\n",
              "      <td>-200</td>\n",
              "      <td>-200</td>\n",
              "      <td>-200</td>\n",
              "      <td>-200</td>\n",
              "      <td>-200</td>\n",
              "    </tr>\n",
              "    <tr>\n",
              "      <th>1419</th>\n",
              "      <td>I01</td>\n",
              "      <td>4-19-2016 9:37:23</td>\n",
              "      <td>-200</td>\n",
              "      <td>-75</td>\n",
              "      <td>-200</td>\n",
              "      <td>-200</td>\n",
              "      <td>-200</td>\n",
              "      <td>-200</td>\n",
              "      <td>-200</td>\n",
              "      <td>-200</td>\n",
              "      <td>-200</td>\n",
              "      <td>-200</td>\n",
              "      <td>-200</td>\n",
              "      <td>-200</td>\n",
              "      <td>-200</td>\n",
              "    </tr>\n",
              "  </tbody>\n",
              "</table>\n",
              "</div>\n",
              "      <button class=\"colab-df-convert\" onclick=\"convertToInteractive('df-a9e8f5d4-1558-42a6-aecb-adf65722b8b5')\"\n",
              "              title=\"Convert this dataframe to an interactive table.\"\n",
              "              style=\"display:none;\">\n",
              "        \n",
              "  <svg xmlns=\"http://www.w3.org/2000/svg\" height=\"24px\"viewBox=\"0 0 24 24\"\n",
              "       width=\"24px\">\n",
              "    <path d=\"M0 0h24v24H0V0z\" fill=\"none\"/>\n",
              "    <path d=\"M18.56 5.44l.94 2.06.94-2.06 2.06-.94-2.06-.94-.94-2.06-.94 2.06-2.06.94zm-11 1L8.5 8.5l.94-2.06 2.06-.94-2.06-.94L8.5 2.5l-.94 2.06-2.06.94zm10 10l.94 2.06.94-2.06 2.06-.94-2.06-.94-.94-2.06-.94 2.06-2.06.94z\"/><path d=\"M17.41 7.96l-1.37-1.37c-.4-.4-.92-.59-1.43-.59-.52 0-1.04.2-1.43.59L10.3 9.45l-7.72 7.72c-.78.78-.78 2.05 0 2.83L4 21.41c.39.39.9.59 1.41.59.51 0 1.02-.2 1.41-.59l7.78-7.78 2.81-2.81c.8-.78.8-2.07 0-2.86zM5.41 20L4 18.59l7.72-7.72 1.47 1.35L5.41 20z\"/>\n",
              "  </svg>\n",
              "      </button>\n",
              "      \n",
              "  <style>\n",
              "    .colab-df-container {\n",
              "      display:flex;\n",
              "      flex-wrap:wrap;\n",
              "      gap: 12px;\n",
              "    }\n",
              "\n",
              "    .colab-df-convert {\n",
              "      background-color: #E8F0FE;\n",
              "      border: none;\n",
              "      border-radius: 50%;\n",
              "      cursor: pointer;\n",
              "      display: none;\n",
              "      fill: #1967D2;\n",
              "      height: 32px;\n",
              "      padding: 0 0 0 0;\n",
              "      width: 32px;\n",
              "    }\n",
              "\n",
              "    .colab-df-convert:hover {\n",
              "      background-color: #E2EBFA;\n",
              "      box-shadow: 0px 1px 2px rgba(60, 64, 67, 0.3), 0px 1px 3px 1px rgba(60, 64, 67, 0.15);\n",
              "      fill: #174EA6;\n",
              "    }\n",
              "\n",
              "    [theme=dark] .colab-df-convert {\n",
              "      background-color: #3B4455;\n",
              "      fill: #D2E3FC;\n",
              "    }\n",
              "\n",
              "    [theme=dark] .colab-df-convert:hover {\n",
              "      background-color: #434B5C;\n",
              "      box-shadow: 0px 1px 3px 1px rgba(0, 0, 0, 0.15);\n",
              "      filter: drop-shadow(0px 1px 2px rgba(0, 0, 0, 0.3));\n",
              "      fill: #FFFFFF;\n",
              "    }\n",
              "  </style>\n",
              "\n",
              "      <script>\n",
              "        const buttonEl =\n",
              "          document.querySelector('#df-a9e8f5d4-1558-42a6-aecb-adf65722b8b5 button.colab-df-convert');\n",
              "        buttonEl.style.display =\n",
              "          google.colab.kernel.accessAllowed ? 'block' : 'none';\n",
              "\n",
              "        async function convertToInteractive(key) {\n",
              "          const element = document.querySelector('#df-a9e8f5d4-1558-42a6-aecb-adf65722b8b5');\n",
              "          const dataTable =\n",
              "            await google.colab.kernel.invokeFunction('convertToInteractive',\n",
              "                                                     [key], {});\n",
              "          if (!dataTable) return;\n",
              "\n",
              "          const docLinkHtml = 'Like what you see? Visit the ' +\n",
              "            '<a target=\"_blank\" href=https://colab.research.google.com/notebooks/data_table.ipynb>data table notebook</a>'\n",
              "            + ' to learn more about interactive tables.';\n",
              "          element.innerHTML = '';\n",
              "          dataTable['output_type'] = 'display_data';\n",
              "          await google.colab.output.renderOutput(dataTable, element);\n",
              "          const docLink = document.createElement('div');\n",
              "          docLink.innerHTML = docLinkHtml;\n",
              "          element.appendChild(docLink);\n",
              "        }\n",
              "      </script>\n",
              "    </div>\n",
              "  </div>\n",
              "  "
            ]
          },
          "metadata": {},
          "execution_count": 7
        }
      ]
    },
    {
      "cell_type": "code",
      "source": [
        "data.info()"
      ],
      "metadata": {
        "colab": {
          "base_uri": "https://localhost:8080/"
        },
        "id": "HZrJVykZvsJp",
        "outputId": "0b4b4688-1a9f-4193-bc05-03f595187453"
      },
      "execution_count": null,
      "outputs": [
        {
          "output_type": "stream",
          "name": "stdout",
          "text": [
            "<class 'pandas.core.frame.DataFrame'>\n",
            "RangeIndex: 1420 entries, 0 to 1419\n",
            "Data columns (total 15 columns):\n",
            " #   Column    Non-Null Count  Dtype \n",
            "---  ------    --------------  ----- \n",
            " 0   location  1420 non-null   object\n",
            " 1   date      1420 non-null   object\n",
            " 2   b3001     1420 non-null   int64 \n",
            " 3   b3002     1420 non-null   int64 \n",
            " 4   b3003     1420 non-null   int64 \n",
            " 5   b3004     1420 non-null   int64 \n",
            " 6   b3005     1420 non-null   int64 \n",
            " 7   b3006     1420 non-null   int64 \n",
            " 8   b3007     1420 non-null   int64 \n",
            " 9   b3008     1420 non-null   int64 \n",
            " 10  b3009     1420 non-null   int64 \n",
            " 11  b3010     1420 non-null   int64 \n",
            " 12  b3011     1420 non-null   int64 \n",
            " 13  b3012     1420 non-null   int64 \n",
            " 14  b3013     1420 non-null   int64 \n",
            "dtypes: int64(13), object(2)\n",
            "memory usage: 166.5+ KB\n"
          ]
        }
      ]
    },
    {
      "cell_type": "code",
      "source": [
        "data[\"date\"] = pd.to_datetime(data[\"date\"])"
      ],
      "metadata": {
        "id": "IHCui7dJv0tI"
      },
      "execution_count": null,
      "outputs": []
    },
    {
      "cell_type": "code",
      "source": [
        "sorted = data.sort_values(by=\"date\", ascending=True)"
      ],
      "metadata": {
        "id": "5bnQST0yxLC-"
      },
      "execution_count": null,
      "outputs": []
    },
    {
      "cell_type": "code",
      "source": [
        "sorted.head()"
      ],
      "metadata": {
        "colab": {
          "base_uri": "https://localhost:8080/",
          "height": 206
        },
        "id": "-Uu5yXo7sMx_",
        "outputId": "f0d28de8-54c5-40a3-e6ac-9ea39afd25aa"
      },
      "execution_count": null,
      "outputs": [
        {
          "output_type": "execute_result",
          "data": {
            "text/plain": [
              "     location                date  b3001  b3002  b3003  b3004  b3005  b3006  \\\n",
              "1419      I01 2016-04-19 09:37:23   -200    -75   -200   -200   -200   -200   \n",
              "1418      I01 2016-04-19 09:37:26   -200    -79   -200   -200   -200   -200   \n",
              "1417      I01 2016-04-19 09:37:36   -200    -67   -200   -200   -200   -200   \n",
              "1416      I01 2016-04-19 09:37:39   -200    -72   -200   -200   -200   -200   \n",
              "1415      I01 2016-04-19 09:37:46   -200    -76   -200   -200   -200   -200   \n",
              "\n",
              "      b3007  b3008  b3009  b3010  b3011  b3012  b3013  \n",
              "1419   -200   -200   -200   -200   -200   -200   -200  \n",
              "1418   -200   -200   -200   -200   -200   -200   -200  \n",
              "1417   -200   -200   -200   -200   -200   -200   -200  \n",
              "1416   -200   -200   -200   -200   -200   -200   -200  \n",
              "1415   -200   -200   -200   -200   -200   -200   -200  "
            ],
            "text/html": [
              "\n",
              "  <div id=\"df-8e69ef34-dc88-4987-9a0f-9652d276d8f5\">\n",
              "    <div class=\"colab-df-container\">\n",
              "      <div>\n",
              "<style scoped>\n",
              "    .dataframe tbody tr th:only-of-type {\n",
              "        vertical-align: middle;\n",
              "    }\n",
              "\n",
              "    .dataframe tbody tr th {\n",
              "        vertical-align: top;\n",
              "    }\n",
              "\n",
              "    .dataframe thead th {\n",
              "        text-align: right;\n",
              "    }\n",
              "</style>\n",
              "<table border=\"1\" class=\"dataframe\">\n",
              "  <thead>\n",
              "    <tr style=\"text-align: right;\">\n",
              "      <th></th>\n",
              "      <th>location</th>\n",
              "      <th>date</th>\n",
              "      <th>b3001</th>\n",
              "      <th>b3002</th>\n",
              "      <th>b3003</th>\n",
              "      <th>b3004</th>\n",
              "      <th>b3005</th>\n",
              "      <th>b3006</th>\n",
              "      <th>b3007</th>\n",
              "      <th>b3008</th>\n",
              "      <th>b3009</th>\n",
              "      <th>b3010</th>\n",
              "      <th>b3011</th>\n",
              "      <th>b3012</th>\n",
              "      <th>b3013</th>\n",
              "    </tr>\n",
              "  </thead>\n",
              "  <tbody>\n",
              "    <tr>\n",
              "      <th>1419</th>\n",
              "      <td>I01</td>\n",
              "      <td>2016-04-19 09:37:23</td>\n",
              "      <td>-200</td>\n",
              "      <td>-75</td>\n",
              "      <td>-200</td>\n",
              "      <td>-200</td>\n",
              "      <td>-200</td>\n",
              "      <td>-200</td>\n",
              "      <td>-200</td>\n",
              "      <td>-200</td>\n",
              "      <td>-200</td>\n",
              "      <td>-200</td>\n",
              "      <td>-200</td>\n",
              "      <td>-200</td>\n",
              "      <td>-200</td>\n",
              "    </tr>\n",
              "    <tr>\n",
              "      <th>1418</th>\n",
              "      <td>I01</td>\n",
              "      <td>2016-04-19 09:37:26</td>\n",
              "      <td>-200</td>\n",
              "      <td>-79</td>\n",
              "      <td>-200</td>\n",
              "      <td>-200</td>\n",
              "      <td>-200</td>\n",
              "      <td>-200</td>\n",
              "      <td>-200</td>\n",
              "      <td>-200</td>\n",
              "      <td>-200</td>\n",
              "      <td>-200</td>\n",
              "      <td>-200</td>\n",
              "      <td>-200</td>\n",
              "      <td>-200</td>\n",
              "    </tr>\n",
              "    <tr>\n",
              "      <th>1417</th>\n",
              "      <td>I01</td>\n",
              "      <td>2016-04-19 09:37:36</td>\n",
              "      <td>-200</td>\n",
              "      <td>-67</td>\n",
              "      <td>-200</td>\n",
              "      <td>-200</td>\n",
              "      <td>-200</td>\n",
              "      <td>-200</td>\n",
              "      <td>-200</td>\n",
              "      <td>-200</td>\n",
              "      <td>-200</td>\n",
              "      <td>-200</td>\n",
              "      <td>-200</td>\n",
              "      <td>-200</td>\n",
              "      <td>-200</td>\n",
              "    </tr>\n",
              "    <tr>\n",
              "      <th>1416</th>\n",
              "      <td>I01</td>\n",
              "      <td>2016-04-19 09:37:39</td>\n",
              "      <td>-200</td>\n",
              "      <td>-72</td>\n",
              "      <td>-200</td>\n",
              "      <td>-200</td>\n",
              "      <td>-200</td>\n",
              "      <td>-200</td>\n",
              "      <td>-200</td>\n",
              "      <td>-200</td>\n",
              "      <td>-200</td>\n",
              "      <td>-200</td>\n",
              "      <td>-200</td>\n",
              "      <td>-200</td>\n",
              "      <td>-200</td>\n",
              "    </tr>\n",
              "    <tr>\n",
              "      <th>1415</th>\n",
              "      <td>I01</td>\n",
              "      <td>2016-04-19 09:37:46</td>\n",
              "      <td>-200</td>\n",
              "      <td>-76</td>\n",
              "      <td>-200</td>\n",
              "      <td>-200</td>\n",
              "      <td>-200</td>\n",
              "      <td>-200</td>\n",
              "      <td>-200</td>\n",
              "      <td>-200</td>\n",
              "      <td>-200</td>\n",
              "      <td>-200</td>\n",
              "      <td>-200</td>\n",
              "      <td>-200</td>\n",
              "      <td>-200</td>\n",
              "    </tr>\n",
              "  </tbody>\n",
              "</table>\n",
              "</div>\n",
              "      <button class=\"colab-df-convert\" onclick=\"convertToInteractive('df-8e69ef34-dc88-4987-9a0f-9652d276d8f5')\"\n",
              "              title=\"Convert this dataframe to an interactive table.\"\n",
              "              style=\"display:none;\">\n",
              "        \n",
              "  <svg xmlns=\"http://www.w3.org/2000/svg\" height=\"24px\"viewBox=\"0 0 24 24\"\n",
              "       width=\"24px\">\n",
              "    <path d=\"M0 0h24v24H0V0z\" fill=\"none\"/>\n",
              "    <path d=\"M18.56 5.44l.94 2.06.94-2.06 2.06-.94-2.06-.94-.94-2.06-.94 2.06-2.06.94zm-11 1L8.5 8.5l.94-2.06 2.06-.94-2.06-.94L8.5 2.5l-.94 2.06-2.06.94zm10 10l.94 2.06.94-2.06 2.06-.94-2.06-.94-.94-2.06-.94 2.06-2.06.94z\"/><path d=\"M17.41 7.96l-1.37-1.37c-.4-.4-.92-.59-1.43-.59-.52 0-1.04.2-1.43.59L10.3 9.45l-7.72 7.72c-.78.78-.78 2.05 0 2.83L4 21.41c.39.39.9.59 1.41.59.51 0 1.02-.2 1.41-.59l7.78-7.78 2.81-2.81c.8-.78.8-2.07 0-2.86zM5.41 20L4 18.59l7.72-7.72 1.47 1.35L5.41 20z\"/>\n",
              "  </svg>\n",
              "      </button>\n",
              "      \n",
              "  <style>\n",
              "    .colab-df-container {\n",
              "      display:flex;\n",
              "      flex-wrap:wrap;\n",
              "      gap: 12px;\n",
              "    }\n",
              "\n",
              "    .colab-df-convert {\n",
              "      background-color: #E8F0FE;\n",
              "      border: none;\n",
              "      border-radius: 50%;\n",
              "      cursor: pointer;\n",
              "      display: none;\n",
              "      fill: #1967D2;\n",
              "      height: 32px;\n",
              "      padding: 0 0 0 0;\n",
              "      width: 32px;\n",
              "    }\n",
              "\n",
              "    .colab-df-convert:hover {\n",
              "      background-color: #E2EBFA;\n",
              "      box-shadow: 0px 1px 2px rgba(60, 64, 67, 0.3), 0px 1px 3px 1px rgba(60, 64, 67, 0.15);\n",
              "      fill: #174EA6;\n",
              "    }\n",
              "\n",
              "    [theme=dark] .colab-df-convert {\n",
              "      background-color: #3B4455;\n",
              "      fill: #D2E3FC;\n",
              "    }\n",
              "\n",
              "    [theme=dark] .colab-df-convert:hover {\n",
              "      background-color: #434B5C;\n",
              "      box-shadow: 0px 1px 3px 1px rgba(0, 0, 0, 0.15);\n",
              "      filter: drop-shadow(0px 1px 2px rgba(0, 0, 0, 0.3));\n",
              "      fill: #FFFFFF;\n",
              "    }\n",
              "  </style>\n",
              "\n",
              "      <script>\n",
              "        const buttonEl =\n",
              "          document.querySelector('#df-8e69ef34-dc88-4987-9a0f-9652d276d8f5 button.colab-df-convert');\n",
              "        buttonEl.style.display =\n",
              "          google.colab.kernel.accessAllowed ? 'block' : 'none';\n",
              "\n",
              "        async function convertToInteractive(key) {\n",
              "          const element = document.querySelector('#df-8e69ef34-dc88-4987-9a0f-9652d276d8f5');\n",
              "          const dataTable =\n",
              "            await google.colab.kernel.invokeFunction('convertToInteractive',\n",
              "                                                     [key], {});\n",
              "          if (!dataTable) return;\n",
              "\n",
              "          const docLinkHtml = 'Like what you see? Visit the ' +\n",
              "            '<a target=\"_blank\" href=https://colab.research.google.com/notebooks/data_table.ipynb>data table notebook</a>'\n",
              "            + ' to learn more about interactive tables.';\n",
              "          element.innerHTML = '';\n",
              "          dataTable['output_type'] = 'display_data';\n",
              "          await google.colab.output.renderOutput(dataTable, element);\n",
              "          const docLink = document.createElement('div');\n",
              "          docLink.innerHTML = docLinkHtml;\n",
              "          element.appendChild(docLink);\n",
              "        }\n",
              "      </script>\n",
              "    </div>\n",
              "  </div>\n",
              "  "
            ]
          },
          "metadata": {},
          "execution_count": 91
        }
      ]
    },
    {
      "cell_type": "code",
      "source": [
        "print(\"unique date: \", data[\"date\"].nunique())\n",
        "print(\"sample size: \", len(data))"
      ],
      "metadata": {
        "colab": {
          "base_uri": "https://localhost:8080/"
        },
        "id": "iK2MG_-Hsc1H",
        "outputId": "c20157cd-aaa2-4966-cad6-dfeba2111f3b"
      },
      "execution_count": null,
      "outputs": [
        {
          "output_type": "stream",
          "name": "stdout",
          "text": [
            "unique date:  1420\n",
            "sample size:  1420\n"
          ]
        }
      ]
    },
    {
      "cell_type": "code",
      "source": [
        "#@title\n",
        "fig, axes = plt.subplots(nrows=3, ncols=5, figsize=(25, 10))\n",
        "fig.suptitle(\"RSSI distributions\", fontsize=24)\n",
        "\n",
        "# Lazy counter so we can remove unwated axes\n",
        "counter = 0\n",
        "for i in range(3):\n",
        "    for j in range(5):\n",
        "\n",
        "        ax = axes[i][j]\n",
        "\n",
        "        # Plot when we have data\n",
        "        if counter < len(data.columns.drop([\"location\", \"date\"])):\n",
        "\n",
        "            ax.hist(data[data.columns.drop([\"location\", \"date\"])[counter]], bins=20, color='lightgreen', ec='black', label='{}'.format(data.columns.drop([\"location\", \"date\"])[counter]))\n",
        "            ax.set_xlabel('RSSI')\n",
        "            ax.set_ylabel('frekans')\n",
        "            leg = ax.legend(loc='upper center')\n",
        "            leg.draw_frame(False)\n",
        "\n",
        "        # Remove axis when we no longer have data\n",
        "        else:\n",
        "            ax.set_axis_off()\n",
        "\n",
        "        counter += 1\n",
        "\n",
        "plt.show()"
      ],
      "metadata": {
        "colab": {
          "base_uri": "https://localhost:8080/",
          "height": 749
        },
        "cellView": "form",
        "id": "A_ArHLEiNxtU",
        "outputId": "848b98a5-7c49-4eb1-a195-96f72a17d7ac"
      },
      "execution_count": null,
      "outputs": [
        {
          "output_type": "display_data",
          "data": {
            "text/plain": [
              "<Figure size 2500x1000 with 15 Axes>"
            ],
            "image/png": "[encoded data removed]"
          },
          "metadata": {}
        }
      ]
    },
    {
      "cell_type": "code",
      "source": [
        "data[\"location\"].nunique()"
      ],
      "metadata": {
        "colab": {
          "base_uri": "https://localhost:8080/"
        },
        "id": "bYWY953DV3yX",
        "outputId": "31b8378e-7c15-4e19-e445-e46428b3064e"
      },
      "execution_count": null,
      "outputs": [
        {
          "output_type": "execute_result",
          "data": {
            "text/plain": [
              "105"
            ]
          },
          "metadata": {},
          "execution_count": 68
        }
      ]
    },
    {
      "cell_type": "code",
      "source": [
        "data[\"location\"].unique()"
      ],
      "metadata": {
        "colab": {
          "base_uri": "https://localhost:8080/"
        },
        "id": "hm9x64hJxmH_",
        "outputId": "36ac216b-cf3c-412d-9667-a9bfa0447089"
      },
      "execution_count": null,
      "outputs": [
        {
          "output_type": "execute_result",
          "data": {
            "text/plain": [
              "array(['O02', 'P01', 'P02', 'R01', 'R02', 'S01', 'S02', 'T01', 'U02',\n",
              "       'U01', 'J03', 'K03', 'L03', 'M03', 'N03', 'O03', 'P03', 'Q03',\n",
              "       'R03', 'S03', 'T03', 'U03', 'U04', 'T04', 'S04', 'R04', 'Q04',\n",
              "       'P04', 'O04', 'N04', 'M04', 'L04', 'K04', 'J04', 'I04', 'I05',\n",
              "       'J05', 'K05', 'L05', 'M05', 'N05', 'O05', 'P05', 'Q05', 'R05',\n",
              "       'S05', 'T05', 'U05', 'S06', 'R06', 'Q06', 'P06', 'O06', 'N06',\n",
              "       'M06', 'L06', 'K06', 'J06', 'I06', 'F08', 'J02', 'J07', 'I07',\n",
              "       'I10', 'J10', 'D15', 'E15', 'G15', 'J15', 'L15', 'R15', 'T15',\n",
              "       'W15', 'I08', 'I03', 'J08', 'I01', 'I02', 'J01', 'K01', 'K02',\n",
              "       'L01', 'L02', 'M01', 'M02', 'N01', 'N02', 'O01', 'I09', 'D14',\n",
              "       'D13', 'K07', 'K08', 'N15', 'P15', 'I15', 'S15', 'U15', 'V15',\n",
              "       'S07', 'S08', 'L09', 'L08', 'Q02', 'Q01'], dtype=object)"
            ]
          },
          "metadata": {},
          "execution_count": 69
        }
      ]
    },
    {
      "cell_type": "markdown",
      "source": [
        "![iBeacon_Layout.jpg](data:image/jpeg;base64,/9j/4AAQSkZJRgABAQEAYABgAAD/2wBDAAMCAgMCAgMDAwMEAwMEBQgFBQQEBQoHBwYIDAoMDAsKCwsNDhIQDQ4RDgsLEBYQERMUFRUVDA8XGBYUGBIUFRT/2wBDAQMEBAUEBQkFBQkUDQsNFBQUFBQUFBQUFBQUFBQUFBQUFBQUFBQUFBQUFBQUFBQUFBQUFBQUFBQUFBQUFBQUFBT/wAARCAKgA8ADASIAAhEBAxEB/8QAHwAAAQUBAQEBAQEAAAAAAAAAAAECAwQFBgcICQoL/8QAtRAAAgEDAwIEAwUFBAQAAAF9AQIDAAQRBRIhMUEGE1FhByJxFDKBkaEII0KxwRVS0fAkM2JyggkKFhcYGRolJicoKSo0NTY3ODk6Q0RFRkdISUpTVFVWV1hZWmNkZWZnaGlqc3R1dnd4eXqDhIWGh4iJipKTlJWWl5iZmqKjpKWmp6ipqrKztLW2t7i5usLDxMXGx8jJytLT1NXW19jZ2uHi4+Tl5ufo6erx8vP09fb3+Pn6/8QAHwEAAwEBAQEBAQEBAQAAAAAAAAECAwQFBgcICQoL/8QAtREAAgECBAQDBAcFBAQAAQJ3AAECAxEEBSExBhJBUQdhcRMiMoEIFEKRobHBCSMzUvAVYnLRChYkNOEl8RcYGRomJygpKjU2Nzg5OkNERUZHSElKU1RVVldYWVpjZGVmZ2hpanN0dXZ3eHl6goOEhYaHiImKkpOUlZaXmJmaoqOkpaanqKmqsrO0tba3uLm6wsPExcbHyMnK0tPU1dbX2Nna4uPk5ebn6Onq8vP09fb3+Pn6/9oADAMBAAIRAxEAPwD9U6KKKACiiigAooooAKKKKACiiigAooooAKKKKACiiigAooooAKKKKACiiigAooooAKKKKACiiigAooooAKKKKACiiigAooooAKKKKACiiigAooooAKKKKACiiigAooooAKKKKACiiigAooooAKKKKACiiigAooooAKKKKACiiigAooooAKKKKACiiigAooooAKKKKACiiigAooooAKKKKACiiigAooooAKKKKACiiigAooooAKKKKACiiigAooooAKKKKACiiigAooooAKKKKACiiigAooooAKKKKACiiigAooooAKKKKACiiigAooooAKKKKACiiigAooooAKKKKACiiigAooooAKKKKACiiigAooooAKKKKACiiigAooooAKKKKACiiigAooooAKKKKACiiigAooooAKKKKACiiigAooooAKKKKACiiigAooooAKKKKACiiigAooooAKKKKACiiigAooooAKKKKACiiigAooooAKKKKACiiigAooooAKKKKACiiigAooooAKKKKACiiigAooooAKKKKACiiigAooooAKKKKACiiigAorgPix8cfBnwV0v7b4q1mKzkeNpIbGMh7qdQQCyRg5CAkBpGwi5BZlHNeF/CGb41fFr44XHj7UW1Xwh8Mdyrp2h6tdIhmtGgKvH9ljiVjKZ1SUXEknyAskZlRixAPq5biN5WiVwZFGWXPIzUtZ8FrFbak4ijWMGIE7QBk7jyfetCgAooooAKKKKACiiigAooooAKKKKACiiigAooooAKKKKACiiigAooooAKKKKACiiigAooooAKKKKACiiigAooooAKKKKACiiigAooooAKKKKACiiigAooooAKKKKACiiigAooooAKKKKACiiigAooooAKKKKACiiigAooooAKKKKACiiigAooooAKKKKACiiigAooooAKKKKACiiigAooooAKKKKACiiigAooooAKKKKACiiigAooooAKKKKACiiigAooooAKKKKACiiigAooooAKKKKACiiigAooooAKKKKACiopZkgjeSR1jjQFmdiAFAGSSfSvnfxx+1xDqGs/8Iv8JdGl+IfieRcrdWqltPhUkgSbwVEq5BAcMkJKspnRgFIB7p4p8W6L4H0OfV/EGp2uj6bDgPdXkojQEnCqCTyxJACjJJIABJr5yvv2g/H3x6vZ9H+CmhvYaOrmG58a63H5UcWDhhCjKwDjB4ZZHVl2yQRhhIL3hX9lPVPHGtQ+KvjZr8ni7V1yYdDtpCun2gYYKcBdykcFUVFZTtl88gOfoDwrY22l+H7K0s7eK1tIE8uKCBAkcagkBVUAAADoBQB5N8KP2U/DfgHVf+El8QXM/jrxxJIs8uuaxmTZKAQGhjYttKgkKzM7qpKq4TCj2HWLi5s9OmmtYllmQZ2uTgDucDrjrgcntzxWhRQBiaPazw3zy3F415LNCrFgAEAycBQO3PXv1rbrF09PsOsS2bH935W+D/d3HK/8BJ49iPStqgAooooAKKKKAPJIf2q/hXdwxzW/i2G5t5FDxz29pcSRyKRkMrLGQykYIIJBBBqX/hqT4Y/9DP8A+U+6/wDjVL+yd/yaz8G/+xM0b/0hhr1WgDyn/hqT4Y/9DP8A+U+6/wDjVH/DUnwx/wChn/8AKfdf/Gq9WooA8p/4ak+GP/Qz/wDlPuv/AI1R/wANSfDH/oZ//Kfdf/Gq9WooA8p/4ak+GP8A0M//AJT7r/41R/w1J8Mf+hn/APKfdf8AxqvVqKAPKf8AhqT4Y/8AQz/+U+6/+NUf8NSfDH/oZ/8Ayn3X/wAar1aigDyn/hqT4Y/9DP8A+U+6/wDjVH/DUnwx/wChn/8AKfdf/Gq9WooA8p/4ak+GP/Qz/wDlPuv/AI1R/wANSfDH/oZ//Kfdf/Gq9WooA8p/4ak+GP8A0M//AJT7r/41R/w1J8Mf+hn/APKfdf8AxqvVqKAOd8FePNA+I2itqvhvU4tVsVma3eSMMpSRcbkZWAZWGQcEA4IPQiuiryr4Ef8AIR+KX/Y53f8A6T21eq0AFFFFABRRRQAUUUUAFFFFABRRRQAUUUUAFFFFABRRRQAUUUUAFFFFABRRRQAUUUUAFFFFABRRRQAUUUUAFFFFABRRRQAUUUUAFFFFABRRRQAUUUUAFFFFABRRRQAUUUUAFFFFABRRRQAUUUUAFFFFABRRRQAUUUUAFFFFABRRRQAUUUUAFFFFABRRRQAUUUUAFFFFABRRRQAUUUUAFFFFABRRRQAUUUUAFFFFABRRXjvjr9qTwT4Rt9RFhdnxTdaedt5/ZMsQtLJumLq9ldLa3IyPlklDnPyqx4IB69JIsMbO7BEUZLE4A9ya8W+JP7WvgPwLYwLpV+njTV7xY/smn6BKtyJDKu6ENKuVUupDKg3SOuTHHJjFfPPxo8VeNv2hfDyaF4hns/BfhTVJI5bLT4dNlvrrUZInWSMw20kQub8K6IxCw2sIAyZZ4yQff/g38BfBnwf8M6ZqljoU+nazcSm5uLvWxAbu2M0hlliVYSYbZCxJMVvtjyBwSM0AcEfg/wDFT9pZ1vPiZqx8GeEGIePwnYIGeVc5AlUkggjGTNvJ4Kw2rrmvf/A/w10v4b6N/Zfhu3tdMtS3mSlIC8s8mADJLIzl5XIABd2LHAyTiuwVgygg5B706gCh9lv/APn+T/vx/wDXqnpNveNp8JS7RE5wvk5PU981t1Q0L/kFwf8AAv8A0I0AH2W//wCf5P8Avx/9ej7Lf/8AP8n/AH4/+vV+igDJjs3bVFa5kWd40DoyoUxyR6nPBP51rVUH/IUP/XH/ANmNW6ACiiigAooooA8q/ZO/5NZ+Df8A2Jmjf+kMNeq15V+yd/yaz8G/+xM0b/0hhr1Q8AmgBM45NGd3Svm/VNWb4rb9U1OWabRZnY2GmCQrAsIJCSOowJHcDcd2QobaAMEtDZ6g/wAK4ZNZ0Qy2+nWYM15pUbloJoF5k2Rk4RwuSpXGSADkHj5h8Q4JYz6nrzXtfpf7z5t55Q9t7Kzttc+lqKZHIssaurBlYZBHINeXfHr4iab4FsPC9rdfEO2+H+o6xrllaWbSaet/LqOZ0ElqkOCQJFIQygfu94YkV9N1S7n0nS56p+tFfON14++L2pftIeIfhzpfiTwTY6bZ6JDr9teXnhS8uZhHNczRJA+3U41ZlEQJkAUMTwi10X7N3x01P4qeH/GS+KbfSbTVvB+t3Gh6hqmjSudMvGhVWaeFpOUA3EMjMxQqcseyTTV/60dgl7rs/wCrq6/A9sozXmfhv9o74d+KtU1XT7XxELO60zTv7YnXWLO401W0/LD7bE1zHGs1sChzPEWjGVJbDDMvw7/aD8C/FPVLvTNA1S7Oo21jFqbWup6VeabJJZylhHcRLdRRmWIlSPMTco4yeRmgPSKK8z8M/tGfD/xh4ysvC+ma1cNq2oQzXGmm60u7trbU4oivmSWdzLEsN0oDBswu4KncMrzUGoftNfDfS/E0eiXevy28kmof2SupPpl2NKN7g/6N/aHlfZfNBBUx+buDgoRuG2gO/kepUV4zH+2D8H7hbx7bxpb3tvZaoujXd3Y2lxcW1rcFo0UzTRxmOOItLGonZhEWO0PkED2YUdLi62HUUUUDPKvgR/yEfil/2Od3/wCk9tXqteVfAj/kI/FL/sc7v/0ntq9VoAKKKKACiiigAooooAKKKKACiiigAooooAKKKKACis7xH4h07wj4f1LW9XuksdK063ku7q5kBKxRIpZmIAJOADwBn0qDwj4u0nx54a0/X9Cu/t2k38fm29x5bxllyRyrgMpBBBDAEEEEUF8k+XntptfpfsbFFFeb+Jv2hPBPhPXNd0m/udYlvNBRJNUOn+HdRvYbNXiEqtJLBbvGo8s7uW4Gc9DSbS3Lp0alZ8tKLk/JXPSKKqaVq1lrum2uo6beW+oafdRrNb3drKssU0bDKujqSGUjkEHBq3TMmmnZhRWN4t8Y6J4D0OfWPEGp2+k6bDgNPcvtBY/dRR1d2PCooLMSAAScVgeG/jN4a8UeIrfQrVdcs9UuIZLiCHWPDuo6aJUjKiQo9zBGrFd6ZAOfmFK6NY0as4ucYtpdbaHcUUVn+INesfCug6lrWqT/AGXTNNtpby6n2M/lxRoXdtqgk4UE4AJOOBTMknJ2W5oUV5dD+0v8PzDY3N3qGq6Lp18VFvqmueHtR02wbcpZM3VxbpCu4D5cuN2QBkkV6jSunsa1KNWjb2sXG/dWCiiuK8YfGLwx4H8R2mgalLqk+tXVo99FY6Tol7qUpt1dUaQi2hk2qGZRk45YetG25NOnOrLlpxbflqdrRWX4a8SWnizSY9Rsob+C3kZlCalp1xYTDBwcwzokgHoSvPUZFalMmUXFuMlZhRXIeOvit4c+HN9o9jrU1/8AbtXMy2NnpulXeoTT+UoaTEdtFI3yqwJJHT6GtPwl4ysPGljLd6fb6rbxRSeUy6tpF3pshbAORHcxRsy8j5gCM5Gcg0rrY0dGqoKo4vlfW2n3m5RRWfr3iDS/Cuk3Oq61qVnpGl2wDT3t/OkEMQJABZ2IVeSByepFMyScnZbmhRXnel/Hzwjq2paVYp/wkFlJqky29nNqfhfVLG3mkZSyqJp7ZIwSFOMtzjivRKV09jSpRqUXapFr1VgoorD8I+NtF8dWN3eaHefbra1vbjTpn8p49txDIY5Uw6gnaykZHBxwSKZCjJpyS0RuUVheFfHGieNm1ldFvftp0fUZdJvv3Tx+TdRBTJH8yjdgOvzLlTngmt2gJRlB8slZhRWJ4q8aaN4Jg06bWrz7FHqOoW+l2reU8nmXM7iOGP5QcbmIG44A7kCtugHGSSk1owooooJCisPxl420X4f6KNW168+waebiC187ynk/ezSrFEuEUnl3UZxgZycDmtygrlkoqTWjCiis/wAQa9Y+FdB1LWtUn+y6ZpttLeXU+xn8uKNC7ttUEnCgnABJxwKBJOTstzQorj/EXxc8KeFfDuia3qOpsljrbwx6YsFpNPcXjyrujWKCNGldivOAuQMk4xXYUi5U5wScotJ/pv8AcFFFYnhjxno/jL+1v7HvPtn9lahNpd5+6dPKuYseZH8wG7G4fMMg54JpkqMmnJLRG3RRXJ+Mvit4V+H+veGdG8Q6ummaj4luzY6TDJFIwuZwVGzcqlVJLqBuIyWAGTQOFOdSXLBXfl951lFU9Y1az0DSb3U9RuEtNPsoHubi4kOFijRSzsfYAE/hWZ4D8eaH8TfCWneJ/DV9/aWh6gjPbXXkyReYoYoTtkVWHzKRyB0oDknye0t7u1+l+xv0UVx/jz4ueEfhjqHh6x8Ua1HpFx4gu/sOm+dFIyzTcfKXVSqfeXlyo560ttx06c6suSmm32Wp2FFYPjDxzongGysbvXr37Db3t9Bptu/lPJvuJnCRJhFJG5iBk4A7kVvUyXGSipNaMKKxvF3jLQ/AOgXWt+ItVtdG0m2GZbq8kCICeAoz95ieAoySSAASa5zQ/jf4R1zX7PRBdalpOqXwc2dtr+i32km7K4LLAbuGMSsAQSqEsBzjAzSujWNCrOLnGDa72djvKKKKZgFFeb+If2hPBXhnXte0e8uNanvdBCHVP7O8OalfRWYeFZlMksFu8a/u2VvvcDr0Nd1oeuad4m0i01XSL631PTLuMS295aSiSKVD0ZWBwRSujedCrTipzg0ns2nr1/IvUUVzvjj4heHfhvpUWoeI9Vh023mmW2t0YNJNczN92GGJAXlkPZEVmODgUzOMJVJKMFds6KiuJ8LfGbwn4v8AEDaFaXl5Y64IRcJpmt6Xd6XczxZYGSKK6ijaVQVO4oGC8bsZGe2pXvsOpTnSfLUi0/PQKKK8v1H9pTwFpc+tpPeaw0GiXUtnqV9B4b1KaytJYv8AWiS5S3MShcgli+AOScc0NpblU6NWs2qUXL0Vz1CioLG+ttTsre8s7iK7tLiNZobiBw8ciMMqysOCCCCCOCDU9My20YUVyvjP4neHfANxY2urXk7ahfFvsum6bYz397MqjLutvbo8pRf4n27VJUEgkZteC/HWkeP9NuL3R3uzFb3DWk8d9YXFlNFKoVirRTojqcMp5XnNK62NfY1FD2ji+XvbT7zoKKK5Lx18UND+HMay63HrIgMTztPpug32oRRInLNI9vDIseBz85HAJ7U9iYU51JcsE2+yOtorjPh/8XPDvxOjjm8PjWZrWa2W8hvL7QL+xtp4WwVeOa4gRJMhgRtYkg56c12dLfYKlOdKXJUi0+z0CisHxt450T4d6C2s+Ib3+z9NWeG2M/lPL+8lkWKNdqKTy7qM4wM5OBzXHfEj9pf4W/CNpovFfjrR9MvISBJYLP8AaLxckDJt4g0mMnrtwKLjjSqS5eWLd3Zabvsu71X3np9FfLWpfteeMPGkMh+Ffwe8Q6vp65LeJvFQGkaYkeM+em87p0HcAow544Nef+HPihc/HTwLf/8ACQePfGuu+JZTdWE/hz4V6dJDYafcxu8O4XkI3lSVEima7VXVlJXBxTMj6y8cfGHwZ8Op4bXxB4is7HUpxm30tGM99cf9craMNNIfZFNeKeIP2yX1TVp9F8F+GppdRjO1m1aOae6TPQ/2ZZJNdjPpcragcksADXlnwm/Zd8YN4XsotZ8KWOgXt1bxtqv9vXLXkU1xtHmB9N01bW3uE3Z2tcXEzEEbskHPvnh/9nvS7XSYNO1zW/EWq6XEMJoWlxLomkxg9UFtYpFvQ91meUHODkYAAPBPE/iDxJ491640bxr4jknuCqt/wjNxbtdTMDngaDpsrMY2GMNf3UiqcFoxggemeBf2ffEmqT6dfXMH/CIxWIxZ6hrCWuoa1arzxZ2sSf2dpZwSMwpMzA4bB5r3Hwb4d8PeA47jTvDfh230HTQqFbPS9PWCMH5skogHJ65Iyea6T+1k/wCfa7/78NQBz/gj4X+Hfh+91PpdlJLqt5gXmsahM91f3eOR5txIWdlBzhM7VzhVUcVX1Cx+068bbU5JLgtKrW4JwnlkkEADADDIGepxnHGa6j+1k/59rv8A78NWJ4pmN1b2s9vbTreW06vEXhIz6r+OBx7CgC54eme1km0q4bM1rzEx48yIngj6dOOBwK3q4nUPEttfyWF3p8c8uoxnIgSMksh4dTj09ecEe+a6YaspAP2W7H/bBqANCqGhf8guD/gX/oRo/tZP+fa7/wC/DVT0nUlh0+JDBcMRn5lhYjqe4FAG3RVD+1k/59rv/vw1H9rJ/wA+13/34agCQf8AIUP/AFx/9mNW6zrW6F1qDkRyR4iAxIhU9T0zWjQAUUUUAFFFFAHlX7J3/JrPwb/7EzRv/SGGvVDyCK8r/ZO/5NZ+Df8A2Jmjf+kMNeq0AfMk1vD8K2Tw9rc8em21sxh0+9umEcF1ACTGFc4Xeq4VkzuypIBUglm1PiUt14c8PXK373am2vL2zYSRWMTDDu7jKh9pJVCdzHHAXLD6ZmhSeNklRZEYYKuMg/UGm29tFaQpFDEkMajCpGoVR7ACvlHw5hHjPrjbve9ul/8ALyPl3kVL2/tObS97CwwpbwxwxqEjRQqqvAAAwAK+eP23Gu5vAnhG3sdG1zWrhfFmj37xaJo13qLRwW95FLNI4t43KhUBIzgtjC5PFfRnpTT1FfVdU10af3an0/RrurHxV42t/A/i39r7X9d8dfDHXPFnhaDwra6Va3WpfDbVNUtxex3c7SLEPsUmRsdD5ijawIwxo+Gvwp8b+LPhP+0P4c0LT9a8I+APEVvLYeANF8TNPDcWg+zPDMVhmPmWlrJKAY4WClVJIQAgH7Wo/GkklFx7pr73cvmfMpen4Kx8VaN4f0zUvCWq+KtA+EHjnVPiXpfhXUbSfT/iLqGsXdpFI8ZU2EYvp3ivUmdP+XcshjXLOjNGrcVYeBfEHjj4i6tbabZ/ECSXxP8ACq78Np4i8S+H7rTbeDUmcEQCEQxRWUccYAAVER8ZBlkLM36FUn4U2ubf+t/8yY6JJdP+B/kfKHwW+LmsfEa48J+DfEPwD8YeFvGfh20eCTxJrWkQJpGlSJEYJZbK9Zy0m8fKohUl1frsDOPPNN8KeJdY/Y3v/wBnHXPBWup8RESTRUum0i5fRrk/aRNHqK6iIzbiMIRMQ0iy70ZAhfap+88UU37179RR9xprpsfnr4ktrz/hSP7SOhR+EfGmoavr3iSF9LZvBuqtLqMS29miyhvs3Kh7ac7icAgEkeYpb760PUotY0Wxv4EuIoLmBJkS7tpLaYBlBAeKRVeNsHlXUMDkEA8VodqFo5rpX8vwVhWtt5/iOooooKPKvgR/yEfil/2Od3/6T21eq15V8CP+Qj8Uv+xzu/8A0ntq9VoAKKKKACiiigAooooAKKKKACiiigAooooA+cj+2ppFxf6jBpvgDxxrUNjdy2cl3p2iyzwmSNirgOoIOCOxNO/4bJh/6JV8Rv8AwnZ//ia+LPF+kya340+H1tc+G/E/i/w9Hr3jCfVNG8K3UkF1Koe0WN8rPCSFldCfnHBPByQfcv2b/wBnPRLj4YpceMPCWp2GqT6lfSw2usX87XcNobmQ26yETN8wi2A5Yk4ySc5IBp/G39q5PH0fh3wXF8O/HVvBf6nb32rWc2iTCe5062kWWWNIwu5g7rDGxHAV2BPNM+Ef7Vcfw98TeMvCrfDzxzJp1zqMviDRtOXQpluba2uW3ToYtuRGLkylWAx+8x2wOot/2S/hzB4qvNcfTbud7i3S2SzkvZPIt1Ukkpgh8seTuZhwMAUaj+yT8ONQ8RaTq66bd2ctgJFaC3vZPLukcAbZdxZsAgMNjKc9SRxWdne57ixOH+r/AFZ3ty3v05t72t5KF77a2Op/4bJh/wCiVfEb/wAJ2f8A+JrwKP8Aan8X6X8U/jHe+EPhTrupXGuCwC/2lZXSS6fKlgsaGW3S2feCfnCs8e5e4zke2f8ADN/w6/6F3/yeuP8A45XDa1+xB4F1HxLqGs2Gr+I9Be9REktdPuoGiUKgX5TNDI46Zzu6njHSnJN2sc2BrU6XtFUt70bK97X5ovW2vQvfAr9qXQPBfwl8NeHdB+HfxG1XTtItvsAuv7CeQvJGxWXcY9yht4bKgnaeO1d5/wANkw/9Eq+I3/hOz/8AxNYek/st/DPRtPhs7fw43lRDALX9yWYk5LE+ZySSSfc1b/4Zv+HX/Qu/+T1x/wDHKpaJI5cTUjVrzqRvZtvXfV9TzvxJ+1Bb65+0V4S1HVfh544fTtJ0W7m0vR5dDkE7X7yRrJcrGVywSH5A3O3zWxjcc+q/8Nkw/wDRKviN/wCE7P8A/E15t8bP2W/Bd98LfFM2heGJ38TWmlXc+kNaXtz532sQv5Sp+853Ngbe+a8D/Z3+DP8AwkfxU8Pw6v4U+JFvokPh+WTV28ZwPa251DMQC27JtLJzIQGO75QexpK6Z0VJU61OHvWcVa2vdvS3e+t7an2L/wANkw/9Eq+I3/hOz/8AxNch8Yv2s4te+EfjfTB8NPH9kb3Q762+03egzRwxb7d13uxXCqM5JPQA1vf8M3/Dr/oXf/J64/8AjlVNY/Zd+HOsaRfWB0SW1F1A8BngvpvMj3KV3LuYrkZyMgjI5B6U3sctCap1YTlsmn+Jk+G/2qdH/wCFO6XoetfCzx1qGj/2DFZXrNoMzW08H2cJIS2MGNlzz0wazP2d/wBqy78M/A/wXpWqfDzx/rF1aadHEt/a6JPNFPCM+S6ybfmBj2cjg0zSf2I/Atm0Meo6p4i1/Tok2f2bf3cMcLgDA3GCGJyB6b8HuDXY3P7MPwzvLOS0l8NBreRPLaMX1yo24xjiUY49KlJ3udterTVOVOEubmlzeStfv1d9dOi36a//AA2TD/0Sr4jf+E7P/wDE14z4v/as1iH9pDR/Enh/4U+KdSu4/Cd1p76Vqlnc2UxR7y3kM6hLeZmUFFU/KBlx8wOAew/4Ym+C/wD0Jn/lUvf/AI9Xl/x1/YV8D/2LZ6n4P0DX4rmG7torrTdD1BWkmtWnTz3T7Sx/eLHuK4cDjkEU5arQzwVWFKpJ1Nmmtb21XW2v3HvGi/tnXlxpcEmr/CDx5Y6iwPm29lo9zcwpycbZGhjLcYPKDBJHOMm9/wANkw/9Eq+I3/hOz/8AxNfP/wADf2K/Acul+JD4p8Ga55H9r40c+I9SK3xs/sltuMgtZhH/AMfH2rHGdu3PavSv+GJvgv8A9CZ/5VL3/wCPVRxTtzO23le346/ecr8Xv2qtRvPi58LNb0T4XeLZ7/Sjqm3TdW0+4s2uhLboh8srDIzbACxwh7Zx1r2D4W/tdS+MPEuheHvFfw88ReCNU1u8ks7Ka5tbh7JpFgeZVM8sEOGKxSfLtP3RyeccNrn7FPwl1/WrDUbjQLlTaqyPbx6lcCK4BXaofLlht6jYy89cjivILf4a+D/g/wDtK+GJNEszoun2HjXTQGe9nkSGKTQ9SkmJMjtgEopJPYY6ZFSlq2dlatCpRpU0tYqzev8ANJ97bNdD9I68P+LxGqftEfBTRdSTfojPqupxwyEGObULeCM2+V7tGjzyL7rkfdzXe/8AC5fA/wD0NOl/+BArmPiHr3wr+KGgppWu+IrJo4Z0vLS6s9Qa3urK5TPlzwTIQ0ci5OGB6Eg5BIJJXRGEqxo1eae1mvS6av8AK9yb4mfFnxH8NfF3ha1n8MaXfeG/EGu2mgwajHrUi3kck6sxd7Y2uzapRxxMSfl6ZIHqlfPF1pXgjXde8N6j4n+M2reK4dA1FdWs9O1CfTYLf7UiOscj/ZbSF22bywXfjIGQRkH1T/hcvgf/AKGnS/8AwIFCv1HiPYqMI0rXS1avZ9t/LfRI7Ovl79m7VPiBa+GvF8fh7wx4a1TTP+Ey1wrcan4juLKYt9ul3AxJYTAAHod5z6Cva2+M/gtWwuvwSD+9GkjqfoQpB/OuV+HfiL4c/DPSdR0/S/Ec88N9qd3q0jXkbswluJWlkVdsa/KGYgAgnHUnrQ1douhXhToVISjdtx3v0v2a7mD+yHJfTWfxbfU7a3s9Rb4g6obi3tLhp4o38u3yqSMiFwD0JRSfQV79Xj3gHxB8Ofhy3iZtN8RzznxBrVxrt19qjZtk8wQOqbY1wg8sYByeTya9N8P+ItN8U6ct/pV2l5aFmQSR5+8pIIwRkEH1oirKxGMrRr15VIbO35HlH7U//ID+HP8A2UDw9/6WpXtdcv4++HmnfEa10W31Ka6gTSdYs9bgNq6qWmtpRLGrblbKFgMgYJHQjrXUUW1bJqVYyoU6a3Tf42CiiiqOQ8R/bEUv8G41UFmPiHRAAOp/4mVvXt1cR4m+Fdt4y8U6Xqms65q17pumXkOo2nh/dBHYpdQ58qYlIhM5VjvCvKybgp25VcdvUrds7alSP1enSi7tNt/O2n4BXA/tA/8AJBfiT/2LWpf+ksld9WP4w8MWvjbwjrfh2+kmistXsZ9PnktyFkWOWNo2KkggMAxxkEZ7Gm9jGhNU6sJy2TT/ABPmP9lG8i17xpE3xBUQfEfS9EtU8OabJj7Jb6G0KBbixJ/1kkhyJ5ThgVEeEVcH60rzTxd8AvD/AIs0PwZZm91PSdU8HtC+ia/pssaX9oURUYbnjZGSRVCyRshRx1XgY9IhQxxIjSNKyqAZHxlvc4AGfoBUxTSsztzCvTxVRVqenS3RW7eT373ve+7fXiv7Mf8AzVj/ALKBq3/tKvaq8p074DXHh/U/EF14f+I3izw/BreqT6xc2VpFpcsS3ExG8oZ7GRwPlGAWPSm90zLDyh7KpTlK3Nbe/R+SZ6tXzH+1p8O4Pit8SfhV4Wml+zSX1vrotrodbe4S0jeCUHBwUkVG49K+mkUqiqWLkDBZsZPvxXM+IPh7p3iTxv4U8U3M10moeG/tf2SOJ1ET/aIhG/mAqScAcYI565okuZWDA4j6rX9snZpSt6uLS/E+fLr4mXH7RXg3wH8OZo3tdf12eaLxraRnDWNtp8oS/jfA+UTTiOJemVmNeg/sZ/8AJtng/wD7fP8A0snrsvCvwb8M+DfiN4u8b6ZayRa54o8j7cxYeWPKTbmNQBtL4DOedzAGtD4Z/D3TvhT4I03wtpM11cafYeZ5Ul66tKd8ryHcVVR1c4wBxipjF3uzuxWLoTw7oUFZc0ZW87S5vuuorulc6ivnb9pjwPpHxK+K/wAHvC+vW32vSNVbXLa4jzg7Tpr4ZT2ZThgexAPavomuX8RfD3TvE3jTwl4muprqO/8ADMl1JZxwuoikM8JhfzAVJICkkYI5656VUldWODB1/q1b2t7O0reri0vxZ8ofELxrrJ8HaB8OfGdy11448J+ONA8y+k4Orac98Ba3y+pZRskwTtkU5xuAr7XrzP4sfs++FvjFr3hPW9YN7Z6r4bvo721u9OkSN5QkiyiCbcjb4i8aNt4IK5BGTn0ylFNNnTjcTRr0qapqz1bXRN228na/le3Q8O+KQXUv2nPg1pupxrJpCW2sahaRy4ZJNQijhEbYP8ccUkzKe25iPu5Fj9siOJf2cPGF5jbqGnxQ3umzKP3kN9HMht2jPUP5m0DHJ3Y74r0D4h/DfRPidosWn6zFMr2s63djf2UzQXVjcqCEnglXlHXJ9QQSGBUkHn4fglBqGsabf+K/FniDx0mmTC6srHW/scdrDcAgrMYrW3gWV1xlfN3hD8ygNzQ09V3Lo4ilF0Ksnb2XTv7zlp01vZ32312PQ7NpntIGuUWO4KKZEQ5CtjkA+mamooqzxT5o8K+Ltd8N/tAfHuPRPA2r+Lp5L/SmSSxu7G3gjkGk2+1ZWnnRwCerIj4GeCeD6t8A/hvefCX4TaF4Y1C6t7vULXz57l7NSIFlnnkneOLdyY0aUopIBKqCQM4Gz4b+HmneFvGHi/xJaTXUl94ouLa5vI5nUxRtBbpboIwFBAKRgncW5JxgcV07MFGScD3qIxtqepisWqsVTpqytC+924w5e/TXawteEXQi1X9tqzh1VFcaT4IN1occxBCTTXjR3csY7PsWBCeu0+hr3TzU/wCei/mK474hfDHRfiLJpF5c3d5pOu6LMbjStc0mcQ3lk7YDhSQyujhQrxSK8bgDcpwMOSuYYWrGlKSnopJq/a/9Wfk2edftfqbXwh4L1SxRf+EksvGGk/2S6/63zpLhY3ReMkNE0gZehGcjivea+efGvwJ8bL4+8H+NdF8cHxzf6DLIG0Xx00EFmY3XBlgaytUEVwo3ASNFIcP2C4b3V9XgsLGGbVLi1sHYKH3XA8tXIyVDsFz0OMgZx0FJbtm+K5I4elThNStzX8rvazs7aXv5s0a+NdL8ceLvA/g345X1h4e0688Lp401ZdQ1f7ZLNd6fE3lrNcfYBCFnjiQ7yBcIxAbgY5+iNW/aG+Ffh/P9qfEvwfpvQn7Xr1rF1PH3pBXlmh/H39n/AOGdj4ojj+IVlq1p4g1W61i9QBr9DJOFEkaiGIgphfunJwSSSKJJsWDxNPDxn7SPNfl09Hf+unkez/CLwtpngj4W+E9B0W//ALV0nT9Mt4LW/wAg/aYxGNsvHGGHzccc111fGPwy/bY/Z9+FfhhPBnhPxp4h8ZRabI4trCTS5jPaxM25IEeWGENGuTsyWIXA3EbRXUxftra54mZ08JfAT4lakRjZcaxpn2C1mznBSZfNUjjrxggggHGaWxx15KVWclLmu3r38z0r4k/D3xZb/EbT/iP4En0271y30w6PfaHrZeO3v7TzxMBFOgLQTA7wGKOrbhuA25ro/hJ8VLb4q6DfXH9mXWhazpN7JpesaNesjy2N5GFLx70JWRMMrLIpwysDwcgfF/xW+Mfxz1jxCutx/wDCN/s7atHaGxebxJ42066tLiHfuQzQSZAZW34dYVkG91JIxWV4Ck+Jlro89pY/HJbafULt9Q1R/h/4Gv8AxKdQuXVVkla5Nsvlk7UG4MqrtUKFGFCs7nZUq0p4dRm7yVraNNLqn0a7dfRaH6O14r8evjx8OfDPw/8AFukal440G21ifSbuGLTP7Qie7dzCygCFWLnkjtxkV8vyfs2ar8T5ruPXdE+L3xIt2nQSQ+OPE9vo2l4GDlYQ8t0gYjBAQAg8AHNem6H+xP5ejyadB4U+Gfgm1kgaDzIdNuvEuowKylT5N7dvCUYA8OYm/wB0U3scNKShUjJ9GjM+CH7a3hu3+DXgPw74Q8HeNviPrWl6HY6Zdp4c0R3t7a5it0jkSWaQoFVXVlL4K8cFsjM3jj9oL48bYn1LSfh78BtJuJgkd1428Qx3d9NGQcPCkR2hyQAI3QnPHUjHsPhj9mO00jw1pOg6v498a+INI0uzhsbawGqjTII4YkCIh+wpA7jaAMSO+e5NdX4Z+D/gj4d31tceGvCej6NeSz/vb21s0W5mJjYZkmxvkOMDLMTxQtEXiJqpWnOOzbf4nwL8dvB/iXxf8PJtZ134i/Ej4nCC9sxK0ejnw94bZJLqFPnjl2LORuCpJCpAZgxwA2Oz+M37L7/Df9nvxJc6V4H8B+BbWCO3hjhshc65qxD3MKrGmoXBj8nJK5VY3U8qD/FX3d4u8I6R488Man4d1+xj1PRtSga2urWUkCRGGDyCCp7hlIIIBBBANcFH8AYL46RB4l8a+KvGej6VNFc22ka3Pa/Z2liIMLzNDbxy3BQqGxNI4LAMwZgDUST18z0sJiaVNUXN2dObl6/DovP3ettxbf8AZy8JXlwl34r/ALR+Il+jBxN4uuzfQhgch0tMLaxMDyDHCpyB6Cu4tbyy8PeHdO3qtvarDHFHHEhwPlGFAA4GB9OK26xLjThqvheO2Ay7W6lMnHzBQRz6Hv7E1oeKMs/EjXGow28ljPaRzqxhkuPlLFeSNvbjnOa3q5W6nk1bwrbahHzeWhE3IIyyHDgj0Izx9K6S1uEvLaKeM7o5FDqfYjIoArW3/IVvv9yP+TVfqhbf8hW+/wByP+TVfoAKoat920/6+Y/51fqhq33bT/r5j/nQBNa2FvZtI0MKRNIxZ2UYJJOefzqzRRQAVQ0L/kFwf8C/9CNX6oaF/wAguD/gX/oRoAv0UUUAVB/yFD/1x/8AZjVuqg/5Ch/64/8Asxq3QAUUUUAFFFFAHlX7J3/JrPwb/wCxM0b/ANIYa9Vryr9k7/k1n4N/9iZo3/pDDXqtABRRRQAUUUUAFFFFABRRRQAUUUUAFFFFABRRRQB5V8CP+Qj8Uv8Asc7v/wBJ7avVa8q+BH/IR+KX/Y53f/pPbV6rQAUUUUAFFFFABRRRQAUUUUAFFFFABRRRQB8BfAm6gk+MWjwpNG88cnjAyRqwLKDe6ZgkdgcHGeuD6V9W18G/sxWNtb/tseJpooIopptK1YySIgDORqMYBJAyTgAc+gr7yoAKF60UUAIKWiigAooooAKKKKACiiigAooooAKKKKACiiigAr5h+Nn7K+ofFTx/rup3emaL4k0HUjZzR6fqut3lokM8MTRbzDHDIjNh2AY4IDMOhOfp6igD4d/4d56XNx/wr/wPZd9/9s39xn22+THj1zk9MY5yD/h3Tpf/AEKHgf8A8CL/APxr7iooA+Hf+HdOl/8AQoeB/wDwIv8A/Gj/AId06X/0KHgf/wACL/8Axr7iooA+FrP/AIJ0WaiYXHhLwGf3rGPy7jUPuE5AOT169OOmKn/4d06X/wBCh4H/APAi/wD8a+4qKAPh3/h3Tpf/AEKHgf8A8CL/APxrgf2Vf2I9P+MHh/xdez+GPB96dM1+fTVbUJLuNlCJGdqiLAK/MSCfmJzmvrPxH8OfCfxG/aM1ODxZ4X0bxPDZ+FLF7ePWtPiu1hZru8DlBIrBSQqgkYztGegqb9m3wz4U8B/Fj4yiw0XTPDuiWWl6ZcywaTYpawqFudXDOY4VALbI0BONxCAdhQNJt2R5r/w7E0j/AKErwB/4Faj/AI0f8OxNI/6ErwB/4Faj/jX1t8OPil4F+LGteItN8MTS6g2gtAl7OYpI4xJKHIRd+GJATnjHIwTzjvP7Dsf+eH/jzf40k77GlSlOjLkqRs+z89T4GvP+CZWkQxoR4L8AjdIi/Ldaj3YD16c1P/w7E0j/AKErwB/4Faj/AI190aho9pHFEViwTNGv3j0LAEdfSrX9h2P/ADw/8eb/ABpmR8G/8OxNI/6ErwB/4Faj/jR/w7E0j/oSvAH/AIFaj/jX3l/Ydj/zw/8AHm/xo/sOx/54f+PN/jQB8C6d/wAEy9JubNJD4M8AnJPLXWoA8EjsfarJ/wCCYuk4A/4QvwBjOQPtWo/419qeH/DemX1i81xZRTSmaQFmGTgMQB+VXND0WyOn48gALNMoAYjAErAAAHsABQB8Pn/gmLpOAP8AhC/AGM5A+1aj/jVb/h2XpP8AaPk/8IX4B/1W/H2rUcdcZ69a++v7Dsf+eH/jzf41T/sm0/tby/K+TyN23ceu7GetAHwz/wAOxNI/6ErwB/4Faj/jR/w7E0j/AKErwB/4Faj/AI195f2HY/8APD/x5v8AGj+w7H/nh/483+NAHwLqP/BMvSbazeQeDPAIwRyt1qBPJA7n3qx/w7E0j/oSvAH/AIFaj/jX3Lq2k2kNhI6RYYFQDuPdgPWo9a0OxaG2Q24KvcRqysxIIJ6HJoA+Hv8Ah2JpH/QleAP/AAK1H/Gj/h2JpH/QleAP/ArUf8a+3L7w3pdrc6c0FlFEzXG0sgIONjccH2Fa39h2P/PD/wAeb/GgD4Fsf+CZekTrKf8AhDPAJ2ysvN1qPY4xwelWP+HYmkf9CV4A/wDArUf8a+5tN0m0kSctFkrPIo+Y9AxAHWrn9h2P/PD/AMeb/GgD4N/4diaR/wBCV4A/8CtR/wAahb/gmTpC3kUf/CF+AfmRmx9p1HHBUevvX3x/Ydj/AM8P/Hm/xqtJo9ouoQp5PytFISNx7FB6+5oA+Fv+HYmkf9CV4A/8CtR/xo/4diaR/wBCV4A/8CtR/wAa+8v7Dsf+eH/jzf41k2PhnS7qa+aeyilYXDKGcEnAC4HJoA+HL/8A4JlaRBZTyDwX4BBVCflutRzwPc1Y/wCHYmkf9CV8P/8AwJ1H/Gvta30i0i0O9ZIQhjkuAu0kBQJGAAGewArb/sOx/wCeH/jzf40AfB3/AA7E0j/oSvh//wCBOo/40f8ADsTSP+hK+H//AIE6j/jX3j/Ydj/zw/8AHm/xo/sOx/54f+PN/jQB8C2f/BMzSZmuQfBfgE7JdvNzqHYA4HPTmrP/AA7E0j/oSvh//wCBOo/419y2GkWkkl2GiyFnKj5j02qcdfc1c/sOx/54f+PN/jQB8Hf8OxNI/wChK+H/AP4E6j/jRY/8E09F0zVLRk8G+A4LiQyL9oN7rTrtwW2mGO5iVhnJGTkHHUAAfcGuaLZfYUHkAhriBSGYkEGZARye4JqjrHh3TbK90r7PZxwmS4CsUGCRkcZ60AfOmnfsNzW6bGHw1ii6+W/g6+vnB/66XGqsrZ7kxgkce9dPof7H/wDYRX7Dq/hbQe5/4R34f6XabTnPy70lwMgE5zz0Ir6D/sOx/wCeH/jzf40f2HY/88P/AB5v8aAPK5fgDKulTRah8TPHepQpE2Io7+201OhPAsLe3xzjpjOOerZntP2YfhzdWsLano194jyikr4k1u/1ZW4HBF1PICOnBGPlX+6MejX2jWcdlcOsOGWNiDubsD70trotm9rCxhyWQEnc3cD3oAyfCvwq8FeBAo8NeENB8PBfujStMgtccdvLQY6D8hXV1Q/sOx/54f8Ajzf40f2HY/8APD/x5v8AGgDIPiSGz1bUoltru7lDqCtvCWPCgevqDzWxpOqR6xYx3USuiPkbZAAwIJByAT3Fc9pum2g8XavbtFlWjikVdx4AUA9+5NS+GdJtWGpwyQ8w3kir8x+7wR3+tAHVVT1D/XWP/Xf/ANkamf2HY/8APD/x5v8AGqt5o9pHLaBYsBptp+Y9NrHHX1AoA2aKof2HY/8APD/x5v8AGj+w7H/nh/483+NAF+qml/8AILs/+uKf+gio/wCw7H/nh/483+NVtP0ezl0+2d4cs0SkncepAJ70AZ6x6hpOpX8FnYfare5cTozsFRCwIfJPXkDgdq0vDumz6TpcdtcSJIyE48vOACc4yeTyT+lT/wBh2P8Azw/8eb/Gj+w7H/nh/wCPN/jQAW3/ACFb7/cj/k1X6xLfSLRtSu0MWUVIyPmPfdnv7Crn9h2P/PD/AMeb/GgC/VDVvu2n/XzH/Oj+w7H/AJ4f+PN/jVLUtJtI1ttsWN06KfmPQnkdaANyiqH9h2P/ADw/8eb/ABo/sOx/54f+PN/jQBfqhoX/ACC4P+Bf+hGj+w7H/nh/483+NU9J0m0m0+J3iyxzk7j6ketAG3RVD+w7H/nh/wCPN/jR/Ydj/wA8P/Hm/wAaAJB/yFD/ANcf/ZjVus61s4bPUXWFNgMQJGSe59TWjQAUUUUAFFFFAHlX7J3/ACaz8G/+xM0b/wBIYa9Vrxfw3+zbJ4P8O6XoOi/FLx7p2jaXaxWNlZx3NiywQRIEjjBa0LEKqgAkk8ckmtL/AIUfq/8A0V74gf8Af/Tv/kOgD1aivKf+FH6v/wBFe+IH/f8A07/5Do/4Ufq//RXviB/3/wBO/wDkOgD1aivKf+FH6v8A9Fe+IH/f/Tv/AJDo/wCFH6v/ANFe+IH/AH/07/5DoA9Woryn/hR+r/8ARXviB/3/ANO/+Q6P+FH6v/0V74gf9/8ATv8A5DoA9Woryn/hR+r/APRXviB/3/07/wCQ6P8AhR+r/wDRXviB/wB/9O/+Q6APVqK8p/4Ufq//AEV74gf9/wDTv/kOj/hR+r/9Fe+IH/f/AE7/AOQ6APVqK8p/4Ufq/wD0V74gf9/9O/8AkOj/AIUfq/8A0V74gf8Af/Tv/kOgD1aivKf+FH6v/wBFe+IH/f8A07/5Do/4Ufq//RXviB/3/wBO/wDkOgBfgR/yEfil/wBjnd/+k9tXqtcf8NfhzafDTStQtLfUtS1mfUL6TUby/wBWkR55pnCqSTGiKMKijAUdPXmuwoAKKKKACiiigAooooAKKKKACiiigAooooA/MH9maRG/bU8RqHUsuk6sCoIJH/Eyj6jtX3dXyT8A9B0yx+N2n6lbada2+pXreLluryKBVmnVL7TdgdwMsF3NgEnG44xk19bUAFC9aKF60AIKWkFLQAUUUUAFFFFABRRRQAUUUUAFFFFABRRRQAUUUUAFFFFABRRRQAUUUUAef+LPhbf6340PifRfGGp+FtRk0+PTbhbO1tbhJoo5JJEJE0TkENK+SCMgjjiuM/4J4tq3iKP4qeK/EGt3GtazNr39iGWSCGFRb2plljIWJFG4vezEk542gYA59zrwv/gnjqEWk/DX4r3s6zPDbeMdQmdbaCSeUqsURISONWd2wOFUFieACTigaTbsj0j4Lf8AJ0P7Rf8A19aB/wCmxa98r5e+Cfjgr+0h8X9Ru/CvjPTNL8VXmkjSL+/8K6hDBP5FoIHLsYf3K7hnMuwYOTjpX1DUQ2PVzOEoVo8y+xD8IRT+56FLVP8AUw/9d4v/AEMVdqlqn+ph/wCu8X/oYq7VnkhRRRQBz+jabP8AYQ0OoSwI8jtsVEOCWOcEg1rafZixtRCHaT5mYuwGSWYsTwAOpNRaH/yDIvq3/oRq/QAVQ/5jn/bt/wCzVfqh/wAxz/t2/wDZqAL9FFFAFDXP+QZL9V/9CFSahZfboVQStCyusiugBIIOR1BFR65/yDJfqv8A6EKv0AZY0mZ7iCSe/mnEL+YqFEUZwR1Az0JrUoooAo6T/q7n/r4k/wDQjV6qOk/6u5/6+JP/AEI1eoAKqyf8hS3/AOuMn/oUdWqqyf8AIUt/+uMn/oUdAFqsz+yZkmmeC/lgWVzIUVEYAkAcEg+ladFAGTPZix0O6i8xpSVkdncAEliWJwBgck9BWtVLWP8AkF3X/XJv5VdoAKKKKAKOmf6y+/6+G/8AQVq9VHTP9Zff9fDf+grV6gCpqFl/aFr5JkaI70kV1AJBVgwODkdQKyrvTJm1TTfPvpbhVkZwrIi8gZHIA7gV0FZ95/yFNP8ArJ/6DQBoUUUUAVtS/wCQfdf9cm/kadY/8ecH/XNf5Cm6l/yD7r/rk38jTrH/AI84P+ua/wAhQBPRRRQBx95cSaZ4vlvEtLm7VovJZbaMuRwhGegAz3J9aveHVun1TVbiW0ktYLgxtGsgAOQCGyPUnmtSy/5CGo/76f8AoAq9QAVT1D/XWP8A13/9karlU9Q/11j/ANd//ZGoAuUUUUAFVNL/AOQXZ/8AXFP/AEEVbqppf/ILs/8Arin/AKCKALdFFFAFC2/5Ct9/uR/yar9ULb/kK33+5H/Jqv0AFUNW+7af9fMf86v1Q1b7tp/18x/zoAv0UUUAFUNC/wCQXB/wL/0I1frCs72SCxsYIYg8028KznCLgknOOScZIAHODyOtAG7RVCwupJJJre4Km5hPzFAQrKc7WAJOM4I6nkGr9AFQf8hQ/wDXH/2Y1bqoP+Qof+uP/sxq3QAUUUUAFFFFABRRRQAUUUUAFFFFABRRRQAUUUUAFFFFABRRRQAUUUUAFFFFABRRRQAUUUUAFFFFABRRRQAUUUUAFFFFAHwP8Df+StaH/wBdfGP/AKW6XX1RXxP+zf4s1LUP2qL/AMOXMFqmn6Xa+Iby1miLGVzcX9orhweMA24Ix/eOa+2KACiihetABRSCloAKKKKACiiigAooooAKKKKACiiigAooooAKKKKACiiigAooooAKKKKACvDP+CdvnL4F+JZtmjRR41vi5nBP/LOH0I4612Hx91S/0n4X30umX9xpd3Le6daC7tWCyxpNfQRSFSQQCUdwDjIzkcivlr9k74e+LvH3wg+L/grwt4gVbrUby01Jl16VjbyN/a+pwXCOyIX2zQ2ECsOQcMOAxpPY2owjUqxhOXKm1d9vM/QDQPip4b8V6zLpGieNPC2satECZLDT9QjnnTHXMaSFhj6V1O3Uv+elr/37b/GvBP2ttAs5tB+HekeH7GGHxk3iewHh8WUYSW3WOQPcOpUZSJYQ+/8Ah5Geor6KpJ62OivRhClCrTb96+j306+j/NNGNqC3/lRb3tiPOjxtRuu4Y79M1a26l/z0tf8Av23+NO1T/Uw/9d4v/QxV2qOEobdS/wCelr/37b/GjbqX/PS1/wC/bf41fooAxNJF/wD2fH5b24TLfeRifvHPQ+tXNupf89LX/v23+NGh/wDIMi+rf+hGr9AFDbqX/PS1/wC/bf41Txff2v8Aft/M8jrtbbjd6Z65rbqh/wAxz/t2/wDZqADbqX/PS1/79t/jRt1L/npa/wDftv8AGr9FAGJqy332CTzXtymVztRs/eGOp9aubdS/56Wv/ftv8aNc/wCQZL9V/wDQhV+gCht1L/npa/8Aftv8aNupf89LX/v23+NX6KAMTTVv/Ln2PbgefJncjddxzjnpmrm3Uv8Anpa/9+2/xpdJ/wBXc/8AXxJ/6EavUAUNupf89LX/AL9t/jVd1v8A7fDl7bf5UmDsbGMpnPPXp+ta9VZP+Qpb/wDXGT/0KOgCLbqX/PS1/wC/bf40bdS/56Wv/ftv8av0UAY2qC//ALOuPMe2KeWchUbPTtzVrbqX/PS1/wC/bf407WP+QXdf9cm/lV2gCht1L/npa/8Aftv8aNupf89LX/v23+NX6KAMXT1vy95se3B887so3XavTnpjFW9upf8APS1/79t/jS6Z/rL7/r4b/wBBWr1AFDbqX/PS1/79t/jVO6W//tCx3Pbl8vtwjY+7359K26z7z/kKaf8AWT/0GgBdupf89LX/AL9t/jRt1L/npa/9+2/xq/RQBk3y6h9iuNz2xTy2yFRs4wc45p1ouofZYdr223YMbkbPTjvVvUv+Qfdf9cm/kadY/wDHnB/1zX+QoAr7dS/56Wv/AH7b/GjbqX/PS1/79t/jV+igDEtVv/t19te3D7l3Eo2M7RjHPpVzbqX/AD0tf+/bf41nRLc3XiDVIort7ZI1hbCIrZJU5zkH0HStLSbl7i1ZZWDTwyNFIRxkqcA47ZGDj3oATbqX/PS1/wC/bf41VvFvxLab3tifO+XCN12N156YzWzVPUP9dY/9d/8A2RqAGbdS/wCelr/37b/GjbqX/PS1/wC/bf41fooAobdS/wCelr/37b/Gq+nrf/2fa7HtgnlLt3I2cYGM81r1U0v/AJBdn/1xT/0EUAR7dS/56Wv/AH7b/GjbqX/PS1/79t/jV+igDFt1v/7Su8Pb79ke7KNjHzYxz9at7dS/56Wv/ftv8aLb/kK33+5H/JqZrevad4bsHvdUvIrK1UgeZK2MseigdWYngKMkngA0AP26l/z0tf8Av23+NU9SF/ttt72/+vTG1G654zz0ry/w1+1T4T8TfFqHwNbv5VzMkixyyMSwnTB8qQBSkTMpJEbOJfl5jXIJ9c1b7tp/18x/zoANupf89LX/AL9t/jRt1L/npa/9+2/xq/RQBQ26l/z0tf8Av23+NZdrY3l9pMMYkhjQNuRgrb1IbIIOfXPbocV0dUNC/wCQXB/wL/0I0AQWtjeWcZSH7Ku7lmKuWY+pJOSfcmp9upf89LX/AL9t/jV+igDOtRcDUn+0GMnyhjywQOp65JrRqoP+Qof+uP8A7Mat0AFFFFABRRRQAUUUUAFFFFABRRRQAUUUUAFFFFABRRRQAUUUUAFFFFABRRRQAUUUUAFFFFABRRRQAUUUUAFFFFABRRRQB+Yn7M//ACel4h/7BOr/APpyjr7rr4k/Zx8Majpv7Vt7r93cWZsNWtfEVpaQQlvOU29/aM5fIwc/aBjB7HPv9t0AFC9aKKAEFLRRQAUUUUAFFFFABRRRQAUUUUAFFFFABRRRQAUUUUAFFFFABRRRQAUUUUAeaftFf8ksn/7C+j/+nO1rwr9h74iab8L9C+Jeual+8wltb2tqrqj3Vw+ua+sUKliFBZv4mICgFmICkj3X9or/AJJZP/2F9H/9OdrXi37A/hfw34sj8fad4q0TTtf05kgnS01KxS8i3rrfiAB9jKwDDJ568mk720NaTpqpF1VePWx9HWfjXwt4BsdR8c+KfFOieIPG13EtvHb2F/G6xBmHlafZKTnaXKguRukb52wAqp7tXmNl8FPhBpt5Bd2nw28J2t3byLLDPD4bt0eN1OVZWEWQQQCCOmK9A/tq0/vyf9+X/wAKUbrc6cVUpVGnTvfzsvRJLsLqn+ph/wCu8X/oYq7WNqGrW0kMQV3yJo25iYcBgT1FW/7atP78n/fl/wDCqOEvUVR/tq0/vyf9+X/wo/tq0/vyf9+X/wAKAE0P/kGRfVv/AEI1frE0nVraHT40ZnDAtnETHqxPUCrv9tWn9+T/AL8v/hQBeqh/zHP+3b/2al/tq0/vyf8Afl/8Kpf2rbf2x5m59nkbf9U+fvZ6YoA26Ko/21af35P+/L/4Uf21af35P+/L/wCFACa5/wAgyX6r/wChCr9Ymr6tbTWEiIzliVxmJgOGB6kVd/tq0/vyf9+X/wAKAL1FUf7atP78n/fl/wDCj+2rT+/J/wB+X/woANJ/1dz/ANfEn/oRq9WJpuqW0SThmfJnkYfu3PBYkdBV3+2rT+/J/wB+X/woAvVVk/5Clv8A9cZP/Qo6j/tq0/vyf9+X/wAKrSatanUIXDvtEUgP7ps5JQjjHsaANeiqP9tWn9+T/vy/+FH9tWn9+T/vy/8AhQAusf8AILuv+uTfyq7WNqmrW0unXKK77mjIGYmAzj1Iq3/bVp/fk/78v/hQBeoqj/bVp/fk/wC/L/4Uf21af35P+/L/AOFABpn+svv+vhv/AEFavViWGq20cl4WZwHnLDETHjao7DjpV3+2rT+/J/35f/CgC9Wfef8AIU0/6yf+g07+2rT+/J/35f8AwqldarbNf2ThnKqXz+6buuOmOaANuiqP9tWn9+T/AL8v/hR/bVp/fk/78v8A4UAS6l/yD7r/AK5N/I06x/484P8Armv8hVC+1a1ksrhFd8tGwGYmA5B74p1rrFqlrCpd8hADiJ/Qe1AGpRVH+2rT+/J/35f/AAo/tq0/vyf9+X/woAzYlu4Nf1OW3gjnRxEp3S7MEKT6H+9+lael2r2tmBLgzOzSSYORuYkkfQZwPYCqNrqtsl7esXfDsuMRN2UA8Y45q7/bVp/fk/78v/hQBeqnqH+usf8Arv8A+yNTf7atP78n/fl/8KqXmrWzyWhDuds24/umH8DD056igDZoqj/bVp/fk/78v/hR/bVp/fk/78v/AIUAXqqaX/yC7P8A64p/6CKZ/bVp/fk/78v/AIVV03VrWPT7VGZ9yxKDiJyOgHUCgDYrK8ReJdI8I6VNquu6rY6LpcJUS3mo3CQQoWIVcu5CjJIAyeSQK474kfHDw38ONCn1C6uop5I5VtxAZhGxlYfKmD8xY9AiK7nPyo3SvhXWrHx1+1x8RNW1zT7WO48MTxrBZ6n4ghMlnpSmMxzCzhZmjYyAKSwVnJEiyG3baEAPqr4yftYeGPhbC89nfWuo3t8oW3SM+a77TtDRxAqZFZ2CqxaOItwZASAfANV8E/Gv9pGzvdU1HVJPh1p8tvJ9hW9Vn1G4JB2q6AKbaJjs3KFQ4DLIkoIevXfhH+zX4U+FEiaiEk1/xMeZNb1RjLNu2hSYwxO07fl3EtIygBpHwCPWKAPh/wAYfCOW18CaR4j8AfD288ASeFEF5e32qylb2SVAC2yMBnmW3YE+YSoMQljgBWUMPtv4L/Fu1+NHwy0LxBGFh1AXC2uo2u4E291GdsqHBI+8CeCRg8E4zUjKGUgjIIwQRkY9K+Zfhvj9mb9pKXw9PcfY/A3igLNZNIQIYWRgI1yehjz9nPIAWS0HzPIxoA+66Ko/21af35P+/L/4Uf21af35P+/L/wCFAF6qGhf8guD/AIF/6EaX+2rT+/J/35f/AAqlpOrW0Onwo7OGGc4iYjqT1AoA26Ko/wBtWn9+T/vy/wDhR/bVp/fk/wC/L/4UAPH/ACFD/wBcf/ZjVuslNUt31FmDOR5Q/wCWbZ6ntirf9pQf3pP+/Tf4UAW6Kqf2lB/ek/79N/hSNqlui5ZnAyBkxt1JwO3rQBcoqp/aUH96T/v03+FH9pQf3pP+/Tf4UAW6Kqf2lB/ek/79N/hU0MyXEYeM7lJODjHQ4P6igCWiiigAooooAKKKKACiiigAooooAKKKKACiiigAooooAKKKKACiiigAooooAKKKKACiiigAooooA/M7w/428ReD/ib4Lj8KeF7fxZrOpaj4zto7G61Qaeiqtzp8rOZDFICQI8AbRnPUYwfqD4I/E+9+LHg+81TU9CXw3qljq19o95p0d6LxI5rWdoXKyhE3AlSQdo69+p+UvBvg/wAKfGr4taN4ZufENxBqeiXvi69mh0HVvs99aGS709EMmwl1V1MgAIAbBxnBr7A+Fvwv0X4Q+FRoGhNeSWhup7ySa/uGnnlmmkMkju7dSWJJP9ckgHXUL1ooXrQAgpaQUtABRRRQAUUUUAFFFFABRRRQAUUUUAFFFFABRRRQAUUUUAFFFFABRRRQB4r+0FqXiLxFdab8P/C+hWmqajfRxa5JcX2om0jhis7+0cqAInLMxIHbA556V41+xjrXjnwb8H/jN4u0Tw0uo65aahBolnptjvv5ZJhqd5cTy+UqoWWNNUUhQRu8hiSua9S/ak1rwl4BTR/Fmr6v4ktvE7xyaNomj+FbrZfavJNJE3kRxhSWO5IyTwFyM5JUHS/YP8M6j8Dfgr4lm+I+paXol5ea/LfXDz6gDHbNII4hFJM+1TJvQrlSQSRgnNJ7G1F8tSL5eazWnfy+Z33jzxB40+B/irwBe3XjC78aeH/Emv2vhu+03VLK0hkt5bncI7i3e3ijIVWX5kk3naT82Rmvfa+bfj5p198I/EWl/FvU9YufF+haXqkEUmhaskYTSo7mQW5uLLylQGVDKoHmrIxUsA65Jr6SqY7tHfjFF0aVSKWt02lZXWtrWWqTWttblLVP9TD/ANd4v/QxV2qWqf6mH/rvF/6GKu1Z5QUUUUAc7ouoXclq8dvZxypDI0Zd59pJzu6bT6jvWxp139usYbjb5ZkXO3Oce2aydI0dHtPNS4uYTK7OyxyYXOcZxj0ArZs7VLG2jgjzsjGBuOT+dAE9UP8AmOf9u3/s1X6of8xz/t2/9moAv0UUUAUNc/5Bkv1X/wBCFP1K8axtRIsfmsZEjVC20EswUZODjk0zXP8AkGS/Vf8A0IVNfWSX9v5UhZRuVwyHDAqQQQfqBQBVj1G5W8ht7m0SETBtrJNv5AyRjaO1adZ8OjpDcRztPcTvHkL5sm4DIweMVoUAUdJ/1dz/ANfEn/oRq9VHSf8AV3P/AF8Sf+hGr1ABVWT/AJClv/1xk/8AQo6tVVk/5Clv/wBcZP8A0JKALVZbajdSXVzFb2aSrA4jZ2m2EkqrcDaezDvWpWbJoqPcTTJcXMDTMHdYpMKSFC5xj0UflQBFNefbvD9xMU8slJFK5zggkHnjPINa9Zd3aJY6FcQRliqxsfmOSckkkn6k1qUAFFFFAFHTP9Zff9fDf+grV6qOmf6y+/6+G/8AQVq9QBU1K8NjavOqeYwKqEzjJLBRzg9zWZNeXf8AbGlrcWqQq7yKGSbf/AT0wPSta9s0vrdoJCwRiDlTgjBBBB+oFZU2lrDq+mu1xcTlWkIEsm4A7COmPQmgDdooooAral/yD7r/AK5N/I06x/484P8Armv8hTdS/wCQfdf9cm/kadY/8ecH/XNf5CgCeiiigDCjvLpda1KK3tUnCGMszy7MZQYA4PpWjpt419bs7x+U6yNGyBtwypIODgZ6elZ8emrc6tqMnn3ELExg+U+0EBBjPHuaoR2j2el31zHeXQeK4lxmTIJEhGSMc570AdXVPUP9dY/9d/8A2RquVT1D/XWP/Xf/ANkagC5RRRQBznxA8YW/w/8ABOt+JLuPzbbS7V7qRN+3KqMnnBwPfB+lfH/jb9q/xX8Qdat/BXw/8Pa4k9xaCe3kutGvrBLi2yF88vOkDFQSpYBoVAYATSEhD9H/ALUy7/2cfiSB20G7Y/QRkn+VfP37JXhzUNa8L2fjnX/FOreIdXQal4dt4ryKzigt7S21KaFAiwW8bFittGWLs2TnAAOAAL4D/ZTgnuotZ+JF8vijUghVNKUj7BbqxyYyAqiRSeqhI4mwC0TOC5+gYYY7eFIokWKKNQqRoAFUAYAAHAAHAAp9FABRRRQAV5l+0J8KF+LXw9ubK3iVtbsibzTm3iMmUKQYt5B2iRSy78HYxWQDdGpHptFAHF/safGpvil8NxpOqzM3ibw9ss7sSIY3ljCjy5SpJKsVwGUksjDa5DAgfQlfBXxPF1+zT8etK+J+lRMPDmsM0OrwJgKM5ecEnAAI3XC5IVWW6c7mZRX3TpWqW2taba39lKtxZ3USzRSr0dWGQR9QaALlUNC/5BcH/Av/AEI1fqhoX/ILg/4F/wChGgC/RRRQBQ/5jx/69h/6Eav1Q/5jx/69h/6EamvL6DT4w08gQHgDksx9AByT9KALNU9W/wCPP/tpH/6GtWI5EmjSRGDowDKw6EdQar6t/wAef/bSP/0NaALlFFFABVTTv+Pd/wDrtL/6MardVNO/493/AOu0v/oxqALdFFFABRRRQAUUUUAFFFFABRRRQAUUUUAFFFFABRRRQAUUUUAFFFFABRRRQAUUUUAFFFFABRRRQB+YH7Mf/J6HiH/sFax/6c0r7vr4P/ZkcL+2l4gU5y2layRgEjjU06noPxr7woAKF60UUAIKWkpaACiiigAooooAKKKKACiiigAooooAKKKKACvE9Y/aCv8Aw38ctW8Kaj4Y1KfwpY6csv8AbOiaVf6rP9qYQskUkVrBJ5asjykMTyYjyOle2V8r/ETw3pHi/wCPseka7pVlrek3Pi3SxNYajbpPBLjQtTYB43BVsMARkHBAPUCgD13/AIaE8Lf9Arxx/wCEDrv/AMhUf8NCeFv+gV44/wDCB13/AOQqP+GY/g7/ANEn8D/+E5Z//GqP+GY/g7/0SfwP/wCE5Z//ABqgA/4aE8Lf9Arxx/4QOu//ACFR/wANCeFv+gV44/8ACB13/wCQqP8AhmP4O/8ARJ/A/wD4Tln/APGqP+GY/g7/ANEn8D/+E5Z//GqAD/hoTwt/0CvHH/hA67/8hUf8NCeFv+gV44/8IHXf/kKj/hmP4O/9En8D/wDhOWf/AMao/wCGY/g7/wBEn8D/APhOWf8A8aoA4uTxF8LZviwnxIuPDfjq88WRWA0y1urrwP4glSzhyxcwRtZlY2cOQzKASARxufdo/BnT7D9r74N/EHRPFGh3fhxIPE80MMcisLiF42W4ilaKeJSp/egGN05GQcZ4yfjt+zt8KdG+B/xD1DT/AIY+DrC/tPDuoz291baBaRywyLbSMjq4jBVgQCCCCCAQcivQP2Pk+3P8WmlLBh4ymGYmMecWlsMnaRk8ck8k5J5Jpb6GtOpOjNVKbs1qmdlrnwS8RfEa40i2+IPjKz13w7pt3DfDR9J0Q6et7NEd0Rune4mLqGwxRBGpIGRjivYq881z4oeF9B+K3hv4dzXN5N4n122nu4YIJ2ZYIYlLF5SXBUNtYLgHJU9AM13H9mxf37j/AMCJP/iqSt0N8ROvKMPaqytdaJKze9lbe2/kN1T/AFMP/XeL/wBDFXayNQsYo4YiGmP76MczyHq4Hr1q5/ZsX9+4/wDAiT/4qqOMs5o615N8VviY3g1byx0W1n1HVLS1+13TZuJ1tkwSqiKI75pWCnbEpBIwSRlQ3lvw9/aI8VaxrmoWWtaJcw3djbwX1xo11B9kvGt5i4SWFo7y4jb5opF8tirArhiMiuGpjsLRm6dSok1b8TzqmYYelJwlLY+ntD/5BkX1b/0I1frm/Cc1j4g8O2Oo2dxJPa3SebFJHPIoZSSQcAjBx1GM5znnNbP9mxf37j/wIk/+KruPQTTV0W6of8xz/t2/9mqT+zYv79x/4ESf/FVS+wx/2xt3TY8jP+vfP3vXOcfjQM2KKqf2bF/fuP8AwIk/+Ko/s2L+/cf+BEn/AMVQBHrn/IMl+q/+hCr9Y+sWMcenysGmzlfvTuR94diau/2bF/fuP/AiT/4qgC3RVT+zYv79x/4ESf8AxVH9mxf37j/wIk/+KoAj0r/V3P8A18Sf+hVd69qydNsY3jnJaYYnkHyzOOAx9D196h8RX2m+F9EvdV1Ce4itLWMyOyzyEnsFUbslicAAckkAcmgTaim2blVJP+Qpb+nkyf8AoSV8qfEr9obxd4Vmub06Rqtno1la/wBoXkun2X2qOwtxnLTzS3MXnMFVmaO3R2UDnOVLevfDnx5L4j1e20rWlWPUHtXuLa8tJpUhvUymdqMxaN1BGULNwQQTgheClj8LWmqdOom3e3y3/r5nnU8woVZqmnq9j1qiqn9mxf37j/wIk/8AiqP7Ni/v3H/gRJ/8VXeekN1j/kF3X/XJv5VdrJ1Wwjj025YNMSIzjdO5HTuCefxq3/ZsX9+4/wDAiT/4qgC3RVT+zYv79x/4ESf/ABVH9mxf37j/AMCJP/iqAGaZ/rL7/r4b/wBBWr1ZGnWMbSXmWmG2cgbZnH8K9cHk+55q5/ZsX9+4/wDAiT/4qgC3Wfef8hTT/rJ/6DUv9mxf37j/AMCJP/iqpXVjGuoWKhpsMXzmdz0XsSePwoA2KKqf2bF/fuP/AAIk/wDiqP7Ni/v3H/gRJ/8AFUAGo/8AIPuf+uTfyNOsv+PSD/rmv8hXE/ErxRF4Rs7azs4pL7WdR3pa20l3IqBVA3yyHJwi7lBwDlnQcZyPnrw18fPGetfF7WvCNreWlxBpNik73klvJHbTzCTbJBGqzFwEyoMhYgNuXadvPBXx+FwsuStNJ2v12+R52Ix9DDycZvVbn2FRxXIeBfEdn440ZrlY7izvbeU215ZtdOzQTAAlcgjcpUqytxlWU4BJA6T+zYv78/8A4ESf/FV2RkpJSi7pndCcakVOL0Yll/yENR/30/8AQBWdNpmoNb3VqgtvJmlZxIXbcAzbumMZGfWrFrYxNfXy7psKyjiZwfuA8kHP51c/s2L+/cf+BEn/AMVVlluqeof66x/67/8AsjUv9mxf37j/AMCJP/iqqXthEs1mN03zTY5nkP8AAx454oA1qKqf2bF/fuP/AAIk/wDiqP7Ni/v3H/gRJ/8AFUAedftQf8m4/Ez/ALF6+/8ARLV4v+yB/wAkLsv+w5r/AP6eb2vYv2mLNLf9nn4lSoZWdPD18wEkrOvED5yrEg/jXjv7IH/JC7L/ALDmv/8Ap5vaAPaKKKKACiiigAooooA5v4ieB7L4j+DdT8P3zeVHdRgxXCqGa3mUhoplB4LI6qwByCVwQQSD5x+xH8TL3RrjV/hD4nxa6xoUsn2CNnLAxg5eFS3LBch0JJZonWRsbwK9rr5v/ac8L6p4I8Q6L8XfCibdW0t1tr9EjDGSNiVjfB4yS5jJJABaGRmC24oA+4KoaF/yC4P+Bf8AoRrmfhh4x0f4peBdI8T6VPLJa6hAsm1bmT5G/iXkg8HoSBkEHoa2tLtYF0mOWWWSNFDFm+0OqgZPPBGKANuisHz4vMjYRXQs2bZ9pe4kUZPAIBOcZ4ycdRjI5rT/ALNi/v3H/gRJ/wDFUAR/8x4/9ew/9CNQWcK2urXKyLvmkzLFM3LFMjKg9gpI4HGCO+aaLCP+2Cm6bHkA/wCufOdx75zinaho6zQ7oXmFzEd8e64k6jtnPAIyCfQ0APsv9AvHsjxE2Zbc9gM/Mn4E5HsQOxqfVv8Ajz/7aR/+hrWV9hfVWgaOK5tI43WTzbiaTfnuFXd3GQSccE4B61b1KxjS1yHm/wBZGPmnkI5dR60Aa1FVP7Ni/v3H/gRJ/wDFUf2bF/fuP/AiT/4qgC3VTTv+Pd/+u0v/AKMaj+zYv79x/wCBEn/xVN0tQlqVyTiWUfMST/rG7nrQBdooooAKKKKACiiigAooooAKKKKACiiigAooooAKKKKACiiigAooooAKKKKACiiigAooooAKKKKAPzA/Zj/5PQ8Q/wDYK1j/ANOaV9318Ffsu3kVx+2p4mjQsWj03WUbKkDcNSjJAJGCQCM4JxkZr71oAKF60UL1oAQUtIKWgAooooAKKK8D8eftxfCT4b+M9U8La7rV9b6vpriO4jj0yd1BIzwwQggcjI4yDgmgD3yivmVv+CjPwNRcnxDqGOB/yCLk/wDslO/4eLfA7/oYNQ/8FNx/8RQB9MUV8yr/AMFGPgcSQPEOoZU4P/EoueuAf7nvQ3/BRn4HLgnxDqA5AH/EouTyTgfwUAfTVFfM/wDw8W+B3/Qwah/4Kbj/AOIpq/8ABRj4HNux4h1A4OD/AMSi56/98UAfTVFfOeg/t/fBjxHr+l6NZa/fPfaldR2luraVcKpkc4UElMAZ6k8AcngV9GUAFfk7+3JbrL+0t4zlf7KmyK3HnXEDStFldPUMhVlKsN5wQc4LAYzkfrFX5O/t1f8AJwnj3/rja/z0ysqj93Q78FFSqNSV9D1fw/8As4eJfJ1nyPHNvAv2BvNVbTUf3ib0ypxqYyCcHnPQcZwR5dqnw+1zTPFUmjf29ay7b63svO8rUB/rbaWfdt+3np5O3Ged2cjGD9m+Gf8Aj31z/sHv/wCjI6+T/iD4+0XQ/i9qdtdTXRmtNWsLicW9hcThEGnTgklI2HWaPgHPzZxwceNCtUklqfp2Iy3A0W24JLmS69jitD8O67rKaO39r2sI1D7Bxt1BvL+02Ulz/wA/wzt8vb2znPGME0Xw9rmrf2L/AMTe1i/tKPT5Pu6g3l/abSa4x/x/DO3ydvbO7PGMF/hX4i6Lp0Phxbn+0o2tP7J88f2Tdnb5OmTQS9IjnbI6rxnOcjIBIPDPxF0Ww/4Rj7QNSj+xw6Ok/wDxKbs7DBp9zDKOIudskiDjOc5GQCRtz1DzI4bA+7dLdm5onwr134wagL3UvEViJPsdlrMiXVleXySveW0hKOJr5s+XuJD9SyqeMEHq7H9mfW7Cyt7ZfGdvKsEaxh3sr7c2ABk41ADJxk4GPQAcVR+DPxY8NaLqllp2o3N7YXl7pmh6PBHc6XdxhruOAxPEWMQAIdguSQDnIJHNfRtctavWhLfQ93Lcqy7EYdScVKS82fJnxg+Hknw78N41DxLBreoaoWstP0CCz1Az6lKwx5QA1EkL8w3Ng4yOCSqt92/sc6lP8MPg34+8Q69okukLd+IZLmx0mKWKWactFDBFCnlsy73lQooz3BPHNfPK+BdO+H+q+K/iTr95c+JdZht7ieK4mjVTY2MYZ1trdAdq4XILDG8licbjn6W/Zb0/Q/jt8MdRt9c0vVdMm0LxG7CKDVJbO4guViLK6zWkykjy7nHDY5PHAruwtRzbV76HzOd4KhhIxnKPJFy+Fau2vXu/XQS58F3fhf8Aah+Bepa26XHizXI/El9q86NuRZPslsEgjOB+6hQCNeBnaWPLGvrKviv4peEtAs/2iPhw9ppPxa1DQNFXVoNa1OB/E939neSKNYPIuNzSbWZG3G3baw27iwAx9m2EccVjbpF5piWNQn2hnaTbgY3F/mLeu7nPXmvQh1Pnc096nh56/C91b7cmlu+jWna3ch1T/Uw/9d4v/QxV2qWqf6mH/rvF/wChirtaHgHzP8RNUuPBPiX4j6hLp15qd2hXVrays4mknvoRZxIiRKoOSXhePoegJ61wHwf1K11WbWPEGqjVP+Epu4In1CfUdDvdNtrSBC5jtoGuYYw0cZeQlslmZmZtoKqv1l4w8B6R42ghXUYZFuYMm3vbaQxXEGcZ2uOQDgZU/KcDIOK5jS/gXo1rdpNqepar4jjjbclrqk0fkAjkFkjjQSY9H3DoeoBr4vHcPfW8TOtGdlO1++nTbX70fIYrJ6lWrJwekmWfgPZz2fwv0rzo2hM8t3dRxyAgpFLcyyRqQeRhHUYPI716DVHRP+QZEfdv/QjV/rmvs0uVWR9XTh7OEYLohaof8xz/ALdv/Zqv1Q/5jn/bt/7NTNC/RRRQBQ1z/kGS/Vf/AEIVfqhrn/IMl+q/+hCr9ABRRRQBQ0r/AFdz/wBfEn/oVcb8c9PuL/4b3xt4mnNpc2l9LEgyXhhuYpZMDqSERiAOSQBznB7LSf8AV3H/AF8Sf+hVdYAipklJcr6mVWCqwlB9UfDPx41a31zRNR0L+wvE2oXE2nNcaNdaPaz3NhfXLh1WGYRh4SgPl5W7XySHzggNj1vwFbahqnj7wRFMkS6np0UmoakLbPlxqbaSEqM9FaWUbQSSRGT/AAkj0XUvgX4evLx5rKfUtCSRt0ltpd0Y4CT1xGQVTJ5OwLzk9Sa6Dwz4N0nwXLHbaVa+SJI5JJZpHaSaZsoN0kjEsxxxyTgAAYAAr5HAZB9TrxqOd1Btr5q3y/HU+Yw+UVKdaEpP3YP+vyOoooor7A+sKWsf8gu6/wCuTfyq7VLWP+QXdf8AXJv5VdoAKKKKAKOmf6y+/wCvhv8A0FavVR0z/WX3/Xw3/oK1eoAKz7z/AJCmn/WT/wBBrQrPvP8AkKaf9ZP/AEGgDQooooA8O+OGn3kXjLSbyK5+xre6Zc6da3jRiRLe63K6/KSMllDNgkA+SRkd/n/4ZfCnxr4G+JmnzX+q6Rqnh+08P/YGvLXSntpZ5TO0h37ruQmVmYyNIVKtuIABOa+2fFGi2Ov6BfWOo2sV7aSREtFMoIyOQRnoQQCCMEEAjFcNZfAfw8/kvPe61d2jKpNlPqcrRHgEgnO9gemGYjHGOa+TzPJamNrOrSqJKSs01fvqu258xjssrV6kpUpK0t7lX4FWss1z4r1dCf7PvLuOCA/wytDHskkHr8xMf1iNes1XsbG3020htLOCK2toUEcUMKBEjUDAVVHAAHQCrJr6ShSWHowoxd1FJfce9hqP1ejGle9ilZf8hDUf99P/AEAVeqjZf8hDUf8AfT/0AVeroOkKp6h/rrH/AK7/APsjVcqnqH+usf8Arv8A+yNQBcooooA8z/ab/wCTcvih/wBizqP/AKTSV4p+x/j/AIUXZY/6Dmv/APp5va9r/ab/AOTcvih/2LOo/wDpNJXif7IH/JC7L/sOa/8A+nm9oA9oorwX4t/tbaH8IfFWs6Rqlhth0qO1kub+WSZIYxcBzCGdIHVSxjkABYE7GIGBXnv/AA8o+HP/AD96V/4MZv8A5GquVk8yufXlFfJUn/BST4YraQMmo6c9yzMJYmvJQqAY2kN5BLE5OQQMYHJzxB/w8o+HP/P3pX/gxm/+RqOVhzI+vKK+Q/8Ah5R8Of8An70r/wAGM3/yNU9p/wAFJPhjI0v2jUtOgAjZozHdyvucD5VOYBgE9Tzj0NHKw5kfWteV/tHeNh4N8CWsUraNFZa5qCaNdz+II3ksooJY5DIZER1JBCFcbgPm/CvGrf8A4KS/DiS6tY3uLJ45Zo4m+y3kssihnCllQwDcQDnGQSAQOa+pPCvibT/GnhfR/EOkTNcaVq1nDf2kzIULwyxiRGKkAglWBwQCM4IzS23HdPY+Uf2D/jNceCfGd54K1u9S60PXNQu49M1NcrDdTxXU0C3EZYklbjyHYZZmZxKQFSMV9/6ZbpdaGsMo3RyKysOnBJr5S/as+F8vjDwbF4j0kNH4g8O5uYpIkLO9uCGkUAEMxUosgUEF/LMeQJWz7Z+zr8YNP+MXw9ttQtcQ6ha4hvrUuG8qUjJwR95M7grjhtpIyCDSGeh2h+2Ws9ldjzJIx5UuRjepHDfiPyII7U/TJn2yWs7bri3IBY9XU/db8cEH3BpLy1nNxFc2vlidQY2EhIVlPPOAeQeR+I4zmnWunmGZp5pWuLll2lz8qgZzhVHQZ+p96AE/5jx/69h/6Eav1Q/5jx/69h/6Eav0AFU9W/48/wDtpH/6GtXKp6t/x5/9tI//AENaALlFFFABVTTv+Pd/+u0v/oxqt1U07/j3f/rtL/6MagC3RRRQAUUUUAFFFFABRRRQAUUUUAFFFFABRRRQAUUUUAFFFFABRRRQAUUUUAFFFFABRRRQAUUUUAfAnwJ/5Kxof/Xbxn/6X6ZX1XX5/wCo6z4s0/xV4Vg8C399ZeI7jWvGFuG0+wt75yi3Ni8iGOd1UfcB3bgRtxg549D+DcPx++MXw/tPFVr8YLXTLa6u763jtbrwzaeaot7ua3y+0EAt5O4gEgFsZOMkA+vaK+d/+FV/tDf9Fv03/wAJi2/+Jo/4VX+0N/0W/Tf/AAmLb/4mgDsPjl8UPE/wd/snxTDoUWv/AA8thIviY2aSNqemxnaUvY0B2ywphvNULvVSGGVVsej+HfEWmeLdDsdZ0a/t9T0q+iWe2vLWQPHKjDIZSOCP5dDzXy942i+Mfw5vPDlt4i+P+n6afEGorpOnyP4RiaJ7plZkjaQIVQttIXcRkggZwccn8B/2Uvjz4X8VeP8AQPCXxX0vwNpNtdw3fkx6LDe2t09wZZDJDbthLNQMKY4wFJUYGAtAH29RXgb/ALM/7UXG39pDR+v/AEJVr0/M/wCe9Rxfs4/tQTTTxD9o7R1MJA3f8IVa85AOevbNAHZeJvjrp/gf4u6P4L8R6VeaNp2uwImj+JrgqbC8vizbrEsCfLlKhCm8jzCWUAELv4L9nf8A5OD+P/8A1/6f/K5r03Uf2XvEnxA+Fp8IfEfxxp/i1Ly2EOpMfD8cSTuDkOoWQFGBAIZcEEAjBAx4f+x78GvFvh74qfGnw5J8QptRvNHutPtZNWvtOWee9UfahG0hLg7wgAYkksSSSTzQB9XUVCvw18TWm5JvGcdw1wPKiYaQi+U/3t5HmHdwpGDj72c8YJ/wqfxb/wBD5D/4JE/+OUATUVD/AMKn8W/9D5D/AOCRP/jlH/Cp/Fv/AEPkP/gkT/45QBNRULfDPxPfsbm38aR2lvMfMjtzpCSGNTyF3GQZwMDOBnGcCj/hU/i3/ofIf/BIn/xygD52/bc/5AHwq/7KBpv/AKJua+irq6hsbeW5uZY4LeFDJJLIwVEUAksSeAAASSeABXzL+3f8N/Ftn4M+G6R+NYpLy58cWFtaTHSUQW87QXWyUjeQwUjlSAD6itPWP2N/jR8UP+Kb+Inx2tta8G+ZHLqOmaZ4bSxkvkAJELyRyK3llgNwB5GRwcEAHffBb43wfHCTxJqGiaHeQ+DrC7W00rxJcMFh1plDCeSCMgMIo3AUSHKuSQDlWA/PL9upLb/hoDx2fNl3/Z7UsvlDAO7TOAd2SMc5wOeMd6/SPxh8AfiSvhbTdJ8CfE3TfCRs3jjjVPDEDQpbJGyiFIyxVQDsxgAALgYr8sv2r9B8S+EfjD430zxn4lh8U+IIVhWbVY7RLRJgW00qBEoABC4BwTnGfWs6nwnoYLWpvbQ/Qfw7BpKwa1svb1gbFgxazRSF3pkjEpyc9j6nnjB+VvEeqeKvCfxi8Wp4WvdHfT9Y1SwizrFhK0qsdOznEc6gAfZiMcn5s57V9FeGde01bfXM6jajOnuOZlH/AC0j46181ePvE+n6V8Qry8adbhV1vT9kduys8rHT7pVVBnBJYgDJAyRkgc14UHpsfrGIj7zbqvSS7fy+hy8/7SnxAt59Nt5bjwfazXsNjcebeWFzBawJdW5mDSTvchAFICnGSeSASNp34/jP8Rby6uhY3nhK7sobia1ju/7Lu0Wcx2RuzIgNzzGy7ArZw27cPlwW818WeBbr7LoGnw+JkOoW1mLXUrmPyjaLLbWLslvAdvmEqsKB5NxXzCh2ll2p02i6k32Mf2jc2QvPPYSfZptyHHhmNQQSAeSBkY4JIycZO7UbaI8iE6/M4zqO1+52GueIvH3xS8feHrLxPd+G4LVfFljcTtpOn3CvlLNNSO3zJ2GNuY8Hvg5xX0v9n0b/AJ/77/wBT/49XzZo2qWQ+JGmMbu3C/8ACRwMWMq4x/wjKjOc9M8fXivc/wC3NO/6CFr/AN/l/wAa5cQ3dKx7uUU06Tl7Vp+q6L0M/wCM1vpC/B/x0Uvb5n/sK+KhrNACfs8mASJeBnvzj0Nex/sU6xp/hrwX8U7+a+t7bSbXxRJLcX2qSraRwqLK1JZySyqBzyW7fl8//F7WLCT4T+NUS+tndtEvQFWVckmBwABnk16N8Bru2s/2efjc97JHFZv4pSGeSVdyrG8FijHHfhjx3NdeCe7tY8HiSl7SVKDm5XaXTrfsfUdr+0b8N765htrf4i+Bri4mcRxwxeJrZndicBVAOSSeMCvQfMvv+fe3/wC/7f8AxFeLr458CaHr2hw658MLvwfa6teR2ml63quj2cdvLctzFGfLkeWB2I+Xzkj54617nXrxdz89xVGNLl5ItJ92n91vxMjUJLvyYt0MIHnR9Jied4wPuDvVzzL7/n3t/wDv+3/xFN1T/Uw/9d4v/QxV2qOEqeZff8+9v/3/AG/+Io8y+/597f8A7/t/8RVuigDH0eS7XT4tkMLLluWmIP3j22mrvmX3/Pvb/wDf9v8A4io9D/5BkX1b/wBCNX6AKnmX3/Pvb/8Af9v/AIiqXmXf9s/6mHf5GNvnHGN3XO3r+FbFUP8AmOf9u3/s1AEnmX3/AD72/wD3/b/4ijzL7/n3t/8Av+3/AMRVuigDH1iS7bT5d8MKrleVmJP3h22irvmX3/Pvb/8Af9v/AIio9c/5Bkv1X/0IVfoAqeZff8+9v/3/AG/+Io8y+/597f8A7/t/8RVuigDH017sR3G2GE/v5Cd0xHO45H3Tx71d8y+/597f/v8At/8AEUzSf9Xc/wDXxJ/6EavUAVPMvf8An3t/+/7f/EVVeS7/ALQgJhh3eVJgeccdUzzs+nbv+erVWT/kKW//AFxk/wDQo6AE8y+/597f/v8At/8AEUeZff8APvb/APf9v/iKt0UAZOqyXZ025DwQhTGclZiT07DYKt+Zff8APvb/APf9v/iKbrH/ACC7r/rk38qu0AVPMvv+fe3/AO/7f/EUeZff8+9v/wB/2/8AiKt0UAZGnyXfmXm2GEnz2zumI52rwPlORVzzL7/n3t/+/wC3/wARTNM/1l9/18N/6CtXqAKnmX3/AD72/wD3/b/4iqV5Jd/2hY5hhD5fbiY4Py9zt4rYrPvP+Qpp/wBZP/QaAJfMvv8An3t/+/7f/EUeZff8+9v/AN/2/wDiKt0UAZl/JefYbgNBAFMbZImJI4PbYP506zkvPssGIICPLXGZm9B/sVY1L/kH3X/XJv5GnWP/AB5wf9c1/kKAI/Mvv+fe3/7/ALf/ABFHmX3/AD72/wD3/b/4irdFAHOw39+mrahHDYJO6mNnIuAoGVGACV56elXrHULy+hZxaQxlXaNla4JwVJB5Ce1V000z6vqMqXU9uzGMERFQDhBjOQfU1pWNithB5Su8mWZy8mNxJJJJwB3NACeZff8APvb/APf9v/iKqXsl351nuhhB875cTE87G4PyccZrWqnqH+usf+u//sjUAL5l9/z72/8A3/b/AOIo8y+/597f/v8At/8AEVbooA8u/aOa5f8AZ6+KCzQxJD/wi+qbmSUswH2SXJAKjJHUDIz6jrXxn8I/2jLT4b/BRdKsbNZtdtfEGsNMNWjuLa0W2fVNSladJVifzQohdSIwSG4PIIr9BfFnhmw8a+FdY8O6ojSaZq1nNYXSRsVZoZY2jcAjkEqx5r5Ei/4JY/CXUvM1CfXfGTXV+ftFww1G3Ad3LM5wLfAyXckDj5j60AeR+EfGd74y+Omo6trNouk6vqWteFhFpwtbuIeTbi8JlDXEMZIP2lBgDIwTgggn7v3P/dX/AL6P+FfCfhn9n3wt+zv+0Vrfhrwy19c2cGq+EZ47jVJVlnUzNqZkUMqKNpMMZxj+Gvu6vToJuC1PGxTtMiUv5j8LnAzyf8Kfuf8Aur/30f8ACkX/AFj/AEH9afW0Vpuc85a7Ddz/AN1f++j/AIUyQv8AJkKPmHc/4VLTJf4P94USjoKEve2PGP2ywjfsz+OBOWjTyICGjAY7hcRFRgkcE4BOeASQCRg3f2Y/+TbPhP8A9ilpP/pHFVD9tL/k2Pxv/wBcrb/0qhq/+zH/AMm2fCf/ALFLSf8A0jirgxCtJanq4R3gz0uvlrRb4fsm/tFtKxkt/AviRSwSNcxpuKqFPIAMUpjjBAJ8uS2RFOHNeifHf9om0+Dc2n6RaaJea/4n1QILGyQGKAl5BEpeYgjG8gEIGZdylgqsGrN8K/sk+IfjZqVp4p+OetyXtvGS9l4P0uTybW1BBU+YyMcEgkEI7OMYE7KStcp2n1rFdXU8aSRxW8kbjcrrcEhgeQR8nIp/mX3/AD72/wD3/b/4irXSloAxxJd/2wT5MO/yAMeccY3HnO3r+FXfMvv+fe3/AO/7f/EVH/zHj/17D/0I1foAqeZff8+9v/3/AG/+IrM8QXV9DpxbyoI182MGTzSwT5hgkbRkZx34HPat6qGsRrJYsrKGVpIwVPQjeuRQBnFb3SZUuGxNHJ8kzSXDMMkgK2NmFAJIIAAwcnpWr5l9/wA+9v8A9/2/+Iqgq3awPp32bz1UFBNMf3ZjI4z3JA4wOuMkjIrTs4Wt7WKJ5TM8ahTI3BYgYyaAI/Mvv+fe3/7/ALf/ABFVbF7vyW2wwkebJ1mI/wCWjZ/h9f8AIrVqpp3/AB7v/wBdpf8A0Y1AB5l9/wA+9v8A9/2/+Io8y+/597f/AL/t/wDEVbooAzzd3a3Cwm3h3MhcHzj0BAP8HuKl8y+/597f/v8At/8AEUkn/IXh/wCuD/8AoS1coAqeZff8+9v/AN/2/wDiKiur27tLd5ntoSqDJCzHP4fJWhVDW/8AkE3X+5/WgCTzL7/n3t/+/wC3/wARR5l9/wA+9v8A9/2/+Iq3RQBU8y+/597f/v8At/8AEU+1me4Ry6BHVipCsWHHoSB/KrFVbH/l4/67N/SgC1RRRQAUUUUAFFFFABRRRQAUUUUAFFFFABRRRQAUUUUAFFeV/HX9oTw/8B9P0yXVmiuLy/m/d2b30FofITBmlMk7qg2ggKpYb3ZFBAJZey8EePND+ImijVdAv1vbYSGGVdpjmt5gAWimjYBo5AGUlGAYAjjBFAHz7+1F+yNF8RfEWmfEPwnf67oXi7SfNNzb+G9RFhLqUMiqsgRyCqz7Y0AYjDhQrHG1l5z9mm40j4c+D9M8CwXt1eaa13fS6Nq2oZE10ZLma4mtbgEAx3kLSOrRsAXCF1HEix/Y9eGfG74IHV2v/EnhvTxeX1yFbV9CWXyV1YJgpLE4I8m9j2qY5gQSVVWIwrxgHR0L1rzH4Z/Ez7cLLSdXvGu5LgvHpurTxeQ16YwfMt7iPA8m9iCsJIiAGCs6gAOkfp1AHL/E74b6F8XvAes+EPElsbvR9VgMMyqQHQghlkQkEB1YKynBwVBweled/sG+KvEl9r3xQ8J+L7r+1tf8Hz2Wjya5u51WJGulhuHUklJGRAGBZiWBOeePbK8K/Y4uIrH4/ftGyTuIo5dWsQjN3Ia8yB9Mj86APsWqNl/yENR/30/9AFJ/bdj/AM/Uf5mqlrq1mt9fO1wgV2UqSeuFAoA5r4++JNR8G/An4j6/o9ybLV9K8N6lfWdyFVvJmitZHjcBgVJDKDggg45Ffnl8DvGGiax8UPt+nftJa54ftde8JjXPF+vXtvZ2MceqRzW6RW/mXNssZGLq5IC5J2DkjNfpB460vQ/iD4I8QeFdTu3TTdc0640y6a3cLKIpomjcqSCA21jgkHBxweleY+BP2U/gv4Fks7r+wIPE+sWkEVvHrHiyd9Wu0WMBU2NcFhCAAABEqKBwABQB5R8AfideeJv2lLTRfDfxd174u+CItEvJdRvr3ToVs7W/WaFYVjuYreNHYo03Cs3AOenH2jWHPqVhGbGOGaNIoZeFQYCqEYAAAcAZAq7/AG3Y/wDP1H+ZoAv0VQ/tux/5+o/zNH9t2P8Az9R/maAJNL/5Bdn/ANcU/wDQRX59ftK/HDx14D/ad1bTNe+JPi34b/D1tW0+3tLuz0JJLEWDaW0lxNHO1rJvcXgjjxuJHmMMYU7fvnT9Ys49PtUe4RXWJQVJ5yAAanbWNPkUq1zGVPBB5/CgD8w4dZ134veFb3xLrHxc1zxbaeEfixptloulX9tawC5sWmtY4b2SMQpKCyXkwB+VTxxkV+ntt/yFb7/cj/k1eR+Kv2Z/gl4y8Sad4g1HwVoia5p97FqMOoWERs5jcRsGR5GhK+YQQOH3AjivUbfVrNdSu3NwgRljCnPBI3Z/mKANmvzv/ao/4J/fE74zfHDxR4r8Pz+A59B1mOOMR+Ibm7W6iAS2DFBHbssb5tyAwZvlc5AJr9Av7asP+fqP8zSf21Y/8/Uf50mr7lwnKm7xZ+bkP/BN3xZY+cs/hLwRP9pQwQlfGupL5bkghj/xLTuACkY45Oe1Vn/4Ji+M5CT/AMIx4DDdmHjDU8g4IyD/AGf7n86/SHUNWtJJLMpcIQs4ZsHoNrDP6irn9tWH/P0lZ+zjsdv16vvdfcv8j80Y/wDgmH4xhiSNfC/gPavAB8Y6me2D/wAw/qec+ua84+JH7Ji/CqDxTHr3hbQG1LRLfRbsRabrt9cwyxahdXVsrFzbI6tGbNyyrG5KsMZPFfrr/bVj/wA/SV8sfGbU7ST9oDVCJkZCPh77jjXtXJ/Qj86PZRF9ervS6+5f5HzHrf8AwTQ8eeKls9X8L6J8NdPtJpftcKXvibU7+GWF4nVVbbZR7sb0YMD1ReMHFcv48/Yf1/4I+G/D0/ivR/B1/JeXlrpK/wBm+JtRe4uZXIV5VjazVQFUPI2XAAXAJJUH9EPg/rVv8OdWuvhre3KpY21v/afhuRyQDp5YCS1HvayMqAdBFLbjJIYjzT4papa/EjwP4n+Is8yPpxuLDSvDEbcj7CNStjNdgHobmRFIPQxQQEYLMCezi9yI4ytHZ/gj4o079iPxd8Svhzf+JvDHhTwoi21lFqCQTa9qdxczxMi3HkrDFahmkdF2YWRTliA3Oa92/Zq+KB+BXwR+KWn28cvjTxhoviGxutQ0vxBbXGl3UME1vZr9quIboGZI0YMfMYH7oYnHNe3fss/ELw94H+CCavrGq21rZW+i2d037wM5SK0Bk2oDkkbSMAZJGMVmeOPCugftXLH8R/h1qt34A+KPhdxYWOsapYmPzlKiWSwvoefPtZI54z32F8rn50ZqCS0KjinKpGdZc0U1dbX8tDsv20tQsvEvwh03wppk8N94i8Ua1pkGiwwSBpGZbuOZ5l25OxY45CzjgA8nmvomuE8KeBvAXgu7bUNG8O+G9G1aZNtxe6TpcNq8pP3slRuwTngsfqetdZ/bdj/z9R/mapLW7CtWhKlChTvaLbu+7t+Gi/Edqn+ph/67xf8AoYq7WNqGr2ckcYS4RiJo24PYMCT+VWv7bsf+fqP8zVHCX6Kof23Y/wDP1H+Zo/tux/5+o/zNAGN4d0q1vrW4knjMji4dQdzDgEYHWtbw/n+yYRknBcDcSTgMQOvsKwtG1g6bbyx+VHIHlaQN5wU4J9CPatPR9StbXT445riJZMsSFbIGWJ6/jQBuVQ/5jn/bt/7NR/bdj/z9R/map/2tZ/2x5n2hPL8jbuz33ZxQBt0VQ/tux/5+o/zNH9t2P/P1H+ZoANc/5Bkv1X/0IVFr0Ylt7eNs7JLiNWAJGQW5HFQavq1nNYSIlwjOSuFB9GBP6UzV9Ut5oIjBNHI8cySbd+3cAckZIoAdcadb6fqGlvboYme4ZGwxOR5Mhwcn1AP4CtyuabWhfXtg0ixW8cEplZjMGODG6gAAdcsPyNa39t2P/P1H+ZoAXSf9Xc/9fEn/AKEavViabq1nEk4e4RSZ5GGT2LEg1c/tux/5+o/zNAF+qsn/ACFLf/rjJ/6FHUX9t2P/AD9R/marvrFmdQhcXCbFikBbPclCB+h/KgDXrDt9Ot9Q1DVHuEMrJcKi5YjA8mM4GD6kn8TV3+27H/n6j/M1krrQsb2/aNYriOeUSqwmCnAjRSCCOuVP5igCa3Xy/Dt8gJ2o9wq5JOAJGAGT7Ct+uZj1CBNDu45JY1mlaZxGrbvvMzAZxycEVr/23Y/8/Uf5mgC/RVD+27H/AJ+o/wAzR/bdj/z9R/maAF0z/WX3/Xw3/oK1erF0/VrSN7wvcIoacsuT1G1Rn9Kt/wBt2P8Az9R/maAI/EHOluMkBnjU7SQSDIoI49jis7UdNttP1XSHt0MbNOQTuJyNp45NWNY1K1utPdIbiN5N6MFLYB2sGIz9AazrvWPt+paazpHDHDKXZ/NDcbT2AoA62iqH9t2P/P1H+Zo/tux/5+o/zNAE2pf8g+6/65N/I06x/wCPOD/rmv8AIVQvtYspLG4RblCzRsAM9yDinWus2SWsKtcxgqgBGfQCgDNtdLtrjQXuZEZ7gpI5kLtnILYPWt3T2LWFsSckxKST9BzXNw6s1vpb2Qjif5XQSCcAHJODgjPetiz1aygtIY2uY9yIqnnuAKAPMPiF+018PPhD4uvNF8SeJNJsNTZY5ja3OsWNrIiFRglJ542weSCAQcda57/hvD4O/wDQ36H/AOFJpH/yZXnHiyG28TftkXui3Otazp2jalJZm6XQ9bvNLecR6bdsoaS1ljcgOAcFsZHSvaf+FC+Av+hh8ef+HH8Rf/J1AHO/8N4fB3/ob9D/APCk0j/5MqN/24/g7dNG/wDwmvh+L7O3m7ZPEmk5k4K7Vxdnn5s84GAec4B6b/hQvgL/AKGHx5/4cfxF/wDJ1Vrr4B+Bmkttmv8AjsqJct/xcXxCcDa3PN9xzjkUAY3/AA3h8Hf+hv0P/wAKTSP/AJMo/wCG8Pg7/wBDfof/AIUmkf8AyZXm+keB9Iuv2vNf8FTeL/HjeE7XwnBqcFl/wn+ujbdNc7GfzBebzlQBtLFR1AzmnfsveBNH+IWg+PLnxL4v8eX8+m+NdX0mzb/hYGuxeXaQzBYY8R3ig4X+IgsepJNAHo3/AA3h8Hf+hv0P/wAKTSP/AJMqOL9uT4PWMcdt/wAJp4fn8lfL82LxJpOx8DG4ZuwcHGRkA46gHium/wCFC+Av+hh8ef8Ahx/EX/ydVex+AfgVbK3D6/48WQRqGA+I3iEAHAyMC+4+lAHzBdfE3w98Wv2lvEGv+GdRtdT006p4MtzNaXcF0gkVtWyu+F3QkAg4DEjIyM8V9mV8IfHj4fra/Fbxp4O0/XrmHSL3VPB9zp7+L9SutahM0o1OJyTeTSOdzQohAbpGAAcAV5/4+8L6x8MdZ0y38UeBNH0bS2vBZ32uXNjpEWn7nimeE21xM8auGaBgfN8plBXKguoPoUqijFHmVqTqTuj9LF/1j/Qf1rz64/aQ+EtrPLBP8UfBcM0bFJI5PEForKwJBBBk4IIIIPIIr4MGq+BdzH7f4Hxx/wAvvhX/AOT69d/Z98K+HL3/AIJ0XmoS6Npdxff2H4hdbprWJ3yLi9CEOAegAwQSAAMHAFXGpfQwnR2bPtLTtRtNX0+2v7C5hvbG6iWeC5t5BJFLGwDI6OCQykEEEEgggg4qWX+D/eFfF3wJ/bQ8MeF/gf8AD3Rp4tHM+neHdOs5DL4y0OB90drGhzHJeK6HIOVdQwPBAIIHbv8At2eE22/udE4IP/I9eH//AJNq3Ui4kRozjPbQ7H9tL/k2Pxv/ANcrb/0qhrJ/ZduLfT7HxT4T0jxe3jPwp4VubPStDvpHtZWitlsLdhCZbaNFk2sWAJBbAwSSCa+dv2uv2x/+E/8AhiPCPhOz0KSbWrgR3j/8JBp+pvHBEDOWRLO6dlOYgCzKVwSOpFfVX7LttDa/s2/CvyYY4vM8K6VI/lqF3MbOLLHHUnAyTya4q8lKSaPRwsXCDTRD+0d8Jx8VPh/PFawGbW9O3XNkqMEeXj95AGPALqBtJyFlSKQgmMV2v7KHxvh+MXw9EVyyjxFopS11FApTzSyB0uFQ8osincFb5lzhgCCK6Cvl3xtJcfswftDaV8QdOjYeEvEEjwatAmAql2MlwPbDF7peQAftjO2BGtcx2H3lRWdHr1hIoYXSYIyM5B59qd/bdj/z9R/maAD/AJjx/wCvYf8AoRq/WJ/a1n/a5k+0Js8gLuz33E4q5/bdj/z9R/maAL9U9W/48/8AtpH/AOhrTP7bsf8An6j/ADNVdS1iyltdqXCMfMjOAewcE/oDQBs0VQ/tux/5+o/zNH9t2P8Az9R/maAL9VNO/wCPd/8ArtL/AOjGqP8Atux/5+o/zNV7HV7OOFg1yinzZDjPYuxB/EEGgDXoqh/bdj/z9R/maP7bsf8An6j/ADNAD5P+QvD/ANcH/wDQlq5WM2rWX9pxSfaE2CF1LZ4yWXH8j+VWv7bsf+fqP8zQBfqhrf8AyCbr/c/rR/bdj/z9R/maqatq1nNptwiXCM5XAUHnNAG1RVD+27H/AJ+o/wAzR/bdj/z9R/maAL9VbH/l4/67N/Sov7bsf+fqP8zTtLmSeOd42Do0rEMPwoAu0UUUAFFFFABRRRQAUUUUAFFFFABRRRQAUUUUAFYHjbxjp3w/8K6l4g1V3WysY95SJd0krkhUijX+KR3KoqjlmZQOTW/XhX7VnwV8R/GbwtZ2uh6hbtDZLO8miXRaOO8lZVVJPMUjlF81fLYbJBMwLRMFlQA+atX1DxF8SNegvTFHe/EP4hQta6PbK5aHSdIZZEkuw4wVRozNHDIMMY/tU6fPOYq+2/hd8N9N+FPg2y0DTS0/lDfc3sigS3c5ADyvjgE4ACj5VVVRQFVQPMf2afhLq2jX2u/EHxnFcf8ACZa7I0Ecd5FFFLZWSlQsYjjeRIt/lxnYjsAkcCszOru3vtABRRRQB4Z8bvgg2svqHiTw3YLd6hchG1fQhL5C6ssePLljkBHk3sW1TFMCM7VViAFePk/hj8ThqAstJ1a9a7e4Z4tN1aaLyWvGjz5lvcR4Hk3sW1hJEQAwVnUAB0j+n68J+PHwchvIdU8W6NBCZmjWXXNKkn+zRalFEAyzpLkeRdwhA0c+R9wKxACvGAdKK8Q/Yt/5OC/aR/7Cen/+h31Hg/8AaM8P6X4IGr+I9fjudCEEkun+JGj8v7eI8h7eSIAGO+Qgq0IAMhBaMfeSPoP2JPAetW8Xjr4oa1aNo7fEK+jv7HR5eZbeyjMzQvIRxvcTscDgKFOcsQoB9QVRsv8AkIaj/vp/6AKvVRsv+QhqP++n/oAoAvUUVyHjf4seE/h3Jbw6/rUFpfXQJtdNhV7i+usdfJtYg00uP9hCaAOj1D/XWP8A13/9karlePXvxK8e+JprM+F/hlPZ2zTZjv8AxlqcemJINrfMsMK3E44z8sscROMcA5q0fCfxe1r5tR+IGg+Hoj0h8PeHTJKvrma6nkVuOn7leQCcjIoA9XoryK4+Eesx4bU/jZ43aduQQdJtlx3CqliowCTgnLcgEnApsPwh1OZ8WXxs8dC4HIZJtJmK++x7FlPXHKnr680AeqaX/wAguz/64p/6CKt15Bpvgj4raRp9q+lfE7T9VXyVPk+JvDUcuRjOA9rNb7T2yVbgDgnJNg+N/in4c/5Dnw3svEVuv/Lz4P1yN5mH94294luF/wB1ZpDxwSeKAPV6oW3/ACFb7/cj/k1cl4R+NfhLxlq40aDUZNL8R7S50DW7aTT9QwPvMsEyq8ij++gZDkEMQQa622/5Ct9/uR/yagC/RRRQBR1P/WWP/Xwv/oLVeqjqf+ssf+vhf/QWq9QAV8qfGb/k4TVP+6d/+n/V6+q6+Rf2htesPC/xm8S6zqtwlnpmnW3w/u7q5kztiiTXNYZ2OOcBQTx6UAdh+0lo998QNB8M+DvC8Jm8atDPqkUyXLW5trGOForhGlUEoLkTC1XuDMZVBMGRpfFzxFo/iv8AZfj1XQIvs2j3DaV9mtTEImtgt/bqYWjH+reMqUZDyrIVIyCK6j4F+Hb9dFuvGGv2723iXxOIriW2l+/YWaKRaWXfBjRmZwCQZppyOGAHk37R0b/DCx1zTVUjwx411Kxu7XAOyz1db2B54/QLcRo0wHAEkM5JJlAoA8L/AGP/ANln4d/Gi18Y3fiXSJHk06TR7a3Wxna1RVfRrKZyVjwCzSSyMWPJLHJr6u1pPDn7Jnw18XazpUF/qLyPDdLBqGoS3M99fSlbeFDJKzMASsKccKqk46k+U/8ABOeRTpPxFT+JbrQyfodA08D+Rrp/28Y79vh74dewkigePxXojPNcLuhjHnyhWkXIygcpkAipk7Js9DL6McRi6dKezaudvd+F/jJpdx4U1a08Y2uu3kmpQjxBoVxaW9tpkVkwbzjassRuPMQ7dpeVg3JK9q9nr5n/AGhdB1X4E/Cu8+JOh+MfE974h8PS293dx6lq801nqsTTRxzRSWrEwRBldiDDGhU4xX0xSjvY0xa5qcKqtZtrRcuqs3dfNWe/cpap/qYf+u8X/oYq7VLVP9TD/wBd4v8A0MVdqzywooooAoaH/wAgyL6t/wChGr9UND/5BkX1b/0I1foAKof8xz/t2/8AZqv1Q/5jn/bt/wCzUAX6KKKAKGuf8gyX6r/6EKv1Q1z/AJBkv1X/ANCFX6ACiiigCjpP+ruf+viT/wBCNXqo6T/q7n/r4k/9CNXqACqsn/IUt/8ArjJ/6FHVqqsn/IUt/wDrjJ/6FHQBaooooApax/yC7r/rk38qu1S1j/kF3X/XJv5VdoAKKKKAKOmf6y+/6+G/9BWr1UdM/wBZff8AXw3/AKCtXqACs+8/5Cmn/WT/ANBrQrPvP+Qpp/1k/wDQaANCiiigCtqX/IPuv+uTfyNOsf8Ajzg/65r/ACFN1L/kH3X/AFyb+Rp1j/x5wf8AXNf5CgCeiiigD5Lm/wCT9gP9u2/9NN5X1pXyVN/yfx/wO2/9NN5X1rQAVT1D/XWP/Xf/ANkarlU9Q/11j/13/wDZGoA+ePD/APykG8Wf9iDaf+llSfsQ/wDIq/FL/spPiD/0oFR+H/8AlIN4s/7EG0/9LKk/Yh/5FX4pf9lJ8Qf+lAoA+j6qaX/yC7P/AK4p/wCgirdVNL/5Bdn/ANcU/wDQRQB+cf7Xth/anxu+Klo1o1/FPc+C4pLVTIPNVo9UBQ+WQxBBIIzznFcdosd/4d1i+W++HviTXdMuLTT44pdP1y9tru3ktbiaRSlxLK0q4SUKqxsqgAgFclq7P9rpY5Pjr8Tll8vyzeeCs+asLD7mqdpbe4Q/8Cicexrhf7P0v/pw/wDAXQ//AJmK66fwo4Kmsmek2vh3U/Fy3N58KvGnie7vIl867+H3jDxNqFlqdhGMgCBluASmcBfNLoxPEwAxW1+z0JF/4Jt6gJQyy/2F4kDq5JYH7RfZBJJJOepJJ968Um0fT5J45re+fSr2Bg8GoaPPpWn3cDdzHcQeG0lTI4O1hkEg5BIr2r9nmRpf+CbV+7u0rtoXiQl2IJJNzfZJICgk+oA+g6VtCzbOepdJeqPFvhDrXjCL4T+CktT4m+zLoliIvs+s6skewQIBsVLgKq4xgKAoGAABgV1b6743+XnxZ1H/ADHNZ/8AkmvM/hXZac/wx8INILIyHR7MtvttGJz5KZyZPDsrk+7SyN6u5yx6ZtP0vj/jw6/8+uhf/MxU/ZNre+eeftP6l4hvNJ8Lrq51owDUmK/2lqN/cpu8iTotxM6g4zyADjPOM16V4H+F2j+AZv2ZPEukmaLUvFFjY39/8sSIJGOnlhGERdikXEq7QcbWxjFePftD2tnDY+Gjb/Zt/wDaDA+TDpyHHkSdTbaPZNj6uw/2c4I+kFO3wr+xuScL/YmnHnp00muWpuddHSJ9t187/FyGH4ga34y8L+O/Ftr4O0DSba31LTIoVjRZ0YbY7uaaQkuY7lHX7OgQHCBjIJQo9j8J/Ejwx47vtVtPD2t2mrz6WypdravuVN24KQ2MMpKSLuUkbo5FzuVgPmb4PeDrP9rDx54v+JHieW71jwRp2uXOm+EIJZyI7i2jCpNOpCKBC7qQojKlwHSYyhRWRseh/wDBPv8AaCs/FWlal8Mb6/SbV/DoElorSO7i2Yk+QxcBi0bBh8+HKjLKnAr7Lr88f2svA9z8EvEnhL46eArKPT5PDJisdZsbGAKj2GQqMEUqAFJCkDqCgOFU19zfDbx9pfxS8D6N4p0adLjTtTt1njZGDAZHK5HBwcjI4PUcEUAbP/MeP/XsP/QjV+qH/MeP/XsP/QjV+gAqnq3/AB5/9tI//Q1q5VPVv+PP/tpH/wChrQBcooooAKqad/x7v/12l/8ARjVbqpp3/Hu//XaX/wBGNQBbooooApyf8heH/rg//oS1cqnJ/wAheH/rg/8A6EtXKACqGt/8gm6/3P61fqhrf/IJuv8Ac/rQBfpOlVL+9FjErmN5SziNFXAyxOBkngDPf6VB/Z8t9hr9w6drWPPlj/eP8R+uB7UASW+qW13cmGGQudu4MFO1sEA7T0OCRnHqKlsf+Xj/AK7N/So9RtWlgR4AFuIDvi7DIGCp9iMj2zntTNHuEu7eSZM7XlYgNwR0yCOxB4PuKANGiiigAooooAKKKKACiiigAooooAKKKKACiiigAor5J+OX7T3inwl8ZL/S/Cc1s+heGYLOLW1vLRJbUT3U8KDzXDrKhAuLURmLfkvcExuYQp+ifhV4yvPiJ8OPDvie+0g6Fc6vZR3p08zGUxK43J8xRDypU4ZVYZwQCCKAOtooooAKKKKACvljxlrmo/tW+L9U8IaBeTWXwt0NwNb1e1cq2qTKAwtonHRD8pyOSoMnCtA0kvx0+N8HxW1m2+DPwn8SafqvinWHeLXdR0u7S4XQ7FGxO0pjJ2ueU25B6qWjeSMn2vwj8M9G+Gfga38P6D9otdMsYGCRlwTIxBZ3cgDczMSzHuSTQB5P8VP2adFn0231bw94YtdU06O1jh1fwSpENpq0CReUjRgELHdRIf3b5AO1VJBWN4+y+APxOPj221fTobybxDYaOYYotfkhMLyMwJNpcxkLtvIQFEoUbfnQ/KzMi9rriahpnhG/v9JtbzW9Ut7GSe00qO7SA3kyoWSESPhYy7AKGbAGcngGvmT/AIW5+0dpl41zY/ssXVrbyyNPfRp8QNLLTsVxuG0D5+FySGLAYxnBAB9h1yXijxxo3w/t9Q1PW7o28DXENvBHFG009zMygJDDEgLyyMQcIoJOCccGvPPg38WLjxjZ6ZD4muY7XUNV3tY3FhJIltJKuTNYOsgDx3duQ6PG4BcRmRQMSRxeL+NI7T4xftqeKPDmp3mqXPhvwB4YgtBZafMYr19b1Fo7iKSLaR5nlwW0cis2FikjV+CoagD6B/sv4gfE/wDeajey/Dbw1Jyum6eY5dbuE/6bXHzRW2RkFIQ7gEETIcgclovj74e/DzU9T0P4U+D7/wAe+KPMMWoy+Ho/tGZwM4v9WuHEfmDHIkmaUY+6TgVb0n4L+OPiFpCWnxZ8WC50pUWJ/D/hxpLaG+wMGS9mzvct1MEWyJclSZhg163ofg3TfDOj2ml6PGdJ0y0jEVvZ2SrDDCg6KiKAqgegAFAHlU2i/G3xxJbvq+v+HvhrYSygR2fh+2OrajGCpJ3XVwFhVgARgW7jLcMcDNj/AIZR8M6tGw8V+JvHHjdmOT/bHii7iiz3/wBHtXhhweOPLxwMYr1G803ZLaD7VcndNj5pM4+VjkcdeP1NW/7J/wCny7/7+/8A1qAPK7D9j74JWOd3wu8MahkcnVdOjvj9czhzkdM9QOBxxT7r9kH4JXfH/CqvCduvHy2ekw2659cRqor1H+yf+ny7/wC/v/1qP7J/6fLv/v7/APWoA8cs/wBlHwda6dFN4b1Pxd4Iu5VWRpfD3ia9iTcQCT9nkleAjPYxkdKst4J+Mvgli/hz4gab49s1IA03xxp621xtHXbe2SKAT0y1s/XPbB9R07TfM0+2b7VcruiU7Vk4HA4Ax0qz/ZP/AE+Xf/f3/wCtQB4b4j+LXhPXbGLw98cfAUvgtJZUCTeI4I73RGmyQjRajHmKN8j5fNMMmSMLnFbdl4T8X/Dy+ubnwRq7eMPD/lxP/wAI74ivWlnEZDEfZNQYs54yQlx5gYkASxLyPULrQIb+1mtrmWe4tpkMcsMrBkkUggqwIwQQSCDxzXkLfBDU/h3dXU3wk1WPw/DEVlk8J3xY6NdAliyxhQWsmPOGhBjBJLQyE5AB6R4I+JWjePVu4LJrix1exKrf6LqURgvrJjnAkiP8Jwdsi7o3AJRmHNdZXhunJ4a+OV59k1JNb8E/ErQY97W7TrDq2mBjgyQTAMk9s7L95d8MmArrkFB03hPXtUsdaj8J+MbmSHX2VmsNSt2KWmsRqMs8YOTHMoGXhJJAyyl1BKgHfan/AKyx/wCvhf8A0FqvViX+m+W9oPtVy26cLzJ0+VuRxwauf2T/ANPl3/39/wDrUAX6+efjZ8B/EHxC8ea7fW+laBr3h7WdI0azmtNT1u/0q5t7nT7y+uY5Y5bSMuPmvEIIZSDH3Br3f+yf+ny7/wC/v/1qP7J/6fLv/v7/APWoA8j/AGcPhr4t8A/8JBceI9RaWx1JbQ2Gn/8ACS6lrYtfLRxIwlviXQuWUlV+X5RTf2jvg3rnxbu/CB09LHU9K0m5kur3RNT1u+0y3upQYntpGNqCZDE8e4K4K5Oa9T0vTfM062f7XdJujB2rJgDjoBirf9k/9Pl3/wB/f/rUAfjT4XmvNH8G3WtSeJvF+h+MnsJp7zT7WY2Oli2h0q9FjOskccbNIDb6aFJkJcsQQc4H66/EX4eaN8V/Dev+FPEELzaVqdnHFL5TbZIyHdkkRsHDqwVlODyo4PSvkj9gTwZoHiq38ff2ppNlfXdncaG8V1cW0ckqhtCsCFDMDwCpIxjGSe9fUvxN8ZWHwp8Lav4m1JdY1C1sUtl+y6Wolu7iSWfyY440JUMxd1AGec0na2ptR9p7WPsfiurW79PxOYvvgT4m8ZaNpvhvx349j8UeErOeCeazi0YWt3qXkurxJdz+c6uu9EZhHHGWK8nGRXtNfPV9+0rLpdrDcXvwp+LFpBNNDbo89jZLmSV1jjTBu85Z3VQOuTXu39k/9Pl3/wB/f/rUo26HXi1iUo+3slra3La+l9I6X2/Adqn+ph/67xf+hirtYuoab5ccR+1XLZmjHzSccuBnp1FW/wCyf+ny7/7+/wD1qo84v0VQ/sr/AKfLv/v7/wDWo/sr/p9u/wDv7/8AWoAxPDmk2N9DeyXNlb3EguWUPLErHAVeMkVseHgF0W0AGAEwAPQEjFZmleHYprTzReXsJkZmZYbgquc4zgewFaNvoSWsKxRXd2qKMAeb/wDWoA1Kof8AMc/7dv8A2aj+yf8Ap8u/+/v/ANaqX9m/8TfZ9quf9Ru3eZ833sYzjpQBuUVQ/sn/AKfLv/v7/wDWo/sn/p8u/wDv7/8AWoANc/5Bkv1X/wBCFReII1msY45EWSN7iBWVgCCDKowQeoqvq+m+VYSP9quX5XhpMjlgPSp7jQkuo/Lku7srkNxKQQQQQQQODkCgCBtLs9P1jT2tbSC3ZhIGaKNVz8o4OBW5WNH4ZijmSU3t87pkL5lwWxkYOKtf2T/0+Xf/AH9/+tQAuk/6u5/6+JP/AEI1erE03TvMSc/arlcTSL8snox5PHWrn9k/9Pl3/wB/f/rUAX6qyf8AIUt/+uMn/oUdRf2X/wBPt3/39/8ArVWfTf8AiYQr9quTmKQ7vM5+8nHTpz+goA2Kw49LstQ1TUnurSC5dZEVWmiViB5anAyOnJ/Orv8AZP8A0+Xf/f3/AOtVR/DUTyvIL2+jd8FvLuCuSABk474AH4UAQ2sax+FZ0RQiL5wCqMAYdsDFdBWDd6KljpE6x3NyUVGYK0uQSck5455Jq/8A2T/0+Xf/AH9/+tQBfoqh/ZP/AE+Xf/f3/wCtR/ZP/T5d/wDf3/61AC6Z/rL7/r4b/wBBWr1YlhpvmPdj7VcrtnK8SdflXk8cmrn9k/8AT5d/9/f/AK1AEfiBQ+kzKwDKxQFSMggsAQfas+90uy0/WtFe2tILZzM4LQxKpI8tu4FX7jQkuoWikurtkbGR5vocjt7Vn3GgJFqVhm8vZPmcjzbgttO08jPTgmgDpKKof2T/ANPl3/39/wDrUf2T/wBPl3/39/8ArUATal/yD7r/AK5N/I06x/484P8Armv8hWffaZ5dlcN9rum2xscNJweDxjFOtdM3WsJ+13Qyg4WX2HtQBq0VQ/sn/p8u/wDv7/8AWo/sn/p8u/8Av7/9agD4o+JWseO7H9tzV5Ph94MTxlq+mWdnqNzbz6jDZRxwtZzW+S0jDJLTAgAHoc19Mfs8fFbVPjH8OTrutaFH4b1eDU7/AEu702G6FysUtrcyQPhwADzGemR6EivnLxd8PdL8YftzS2epT6msc0VtayvY6ncWbyxf2dcyhWeF1JAeNCATxt9znuv+Cful7v2cbM/a7wsdZ1RmZp2ZmY3kpLMzZLMSSSSSSTk80AfUNU9Q/wBdY/8AXf8A9kauG+LngPxn4v8ACJ07wJ8Q5/h9rhnST+2ZNLi1TEQzujEMjKuW4+Y5wAcDkEfMfxA+Ev7S3gm68IxN+1VJfHXNch0hWPgHTo/s5kilfzQN53YEeNvGd2cjHIB6d4f/AOUg3iz/ALEG0/8ASypP2If+RV+KX/ZSfEH/AKUCvN/2f/AfjTwb+2p4u03x58RZ/iJrh8GQTLrS6VDpeIjdqFi8qIspwQx3Zyd2OMc+SeG/Cfxm0T4Y/tB/ELwL8cJfBuheHPE3inUR4ZHhe0vjcSWzPKxNzK25TJtA+6QvUA9KAP0yrOtp/sugxTBdxjtg+31wucV8ww/s3/tLRzRtJ+1tLKisC0Z+HunjcAeRkS8Z9q+jJNN8zw27/arld1oTtWTgZToBjpQB+U/jLxz8T/iXrWh+LtX8L6W198VH0W90OLRbmcKqadJPC0ckYuIpNzNfIQROowpIIPT0X/hVfx1/6J9dfnqn/wA0dcf8FfDqaXb/ALIWpf2jql5Nq0l6jRX19LPDaiPVbdFFvGxKwjAGQoAJAJBwK/Vb+y/+ny7/AO/v/wBarU5RVkyHCLd2j82f+FXfGtl2x+Bb17ocyxsmqBUB+6Q3/CSHJPOQQMYHXPGr8M7H43+BP2W7j4VTfAPxBeX0un6pZDUo9Vs0jzdy3Dq21pWYBRMAQWJ4PJ61+gsGnbtRu0+03I2pGciTk53dTjtirn9l/wDT5d/9/f8A61NVJR1TIdKElqj8vfA3wT+O/h3wT4f0qX4e3SSWOnW9qyltRJBSJVIJj1+NDjH8KIvoqjAG6vwu+NaZ+1eBb2EHiMxpqj7pD91TnxIMAnqRkj0NfpN/ZP8A0+Xf/f3/AOtVLUtN8tbb/SrlszovzSdMnqOOtLnlbcr2cb3sfjj+1d4Y+Ifg7QfDV5418NtoWntqLJDNcSXaK8vkSELmfVbtQSAeiKf9rGQfU/FGnXPiL/hSPwi8XaLJomp+HLOz0HURHcRXKTITpa+ZGQCvzBGBVlIAI654+xf29PDtlefsqeN5buMXzwRQNbm7RZfIkaeOPzU3AhXCu2GHTPoSD86fCn9m/wAafEH4gad8VfEXxWbWo7fWJ1XSrrw9AkpjtL4xIDPA8a7mW0jy3lY5Py55qW2ykuVaH0TefBLRbD4W+JPBvhI/8Ig+s6fNZnVrRTLdLI8RjWd3Y75XUEYLNuwAAy4BG98M/h7pPwo+H/h/wfocXl6Xo1nHaQllVWk2j5pH2gAyO2XYgDLMxxzXTUUiihr2hWHijQ9Q0fVbSO/0zUIHtbq1mGUlidSrqR3BBIP1r5d/Y58YXv7Nfxw1/wCAPie7ZtIuZPt3hm8uGUedE5wgAAAyeEIGTuGBhUJr6xr5u/bU+D114u8J6V8QfDcCt428CTnVLL5Swnt1IaaJkBG/hdwBznDKB85yAfaX/MeP/XsP/QjV+vEP2aPi7bftAfDvTPFEEtxBcyQmK7jVyPLmUjcoyM4AIz1AOQCcZPsH9k/9Pl3/AN/f/rUAX6p6t/x5/wDbSP8A9DWmf2T/ANPl3/39/wDrVU1LTfLtc/arlv3kY+aT1cDPT3oA2qKof2T/ANPl3/39/wDrUf2T/wBPl3/39/8ArUAX6qad/wAe7/8AXaX/ANGNUf8AZP8A0+Xf/f3/AOtVax03fCx+1XS/vZB8snHDsM9Op6n3oA2KKof2T/0+Xf8A39/+tR/ZP/T5d/8Af3/61AD5P+QvD/1wf/0JauVitpv/ABM4k+1XPMLnd5nPDLxnHv8ApVv+yf8Ap8u/+/v/ANagC/VDW/8AkE3X+5/Wj+yf+ny7/wC/v/1qp6tpvl6bcP8AarltqZ2tJkH6jFAGpdWqXdvJDICUdSpx157j3qDTLh5I3hnP+kwnZIf73GQw9iMH65Hak/sn/p8u/wDv7/8AWqldaBNJcJNbX88Mv3JHdt2U5IAAxyCeMnAyeDQBp3V9FYqDM+CxwqgEsx9AByT7Cs/QVn86/kdPJhkm3LExBZW/iJxwM8cAnnJ706Hw7FDI0v2q6eYjDStLliPrjgewwKs6XH5Mc6b2fbK3zOcnt1NAF6iiigAooooAKKKKACiiigAooooAKKKKACsLxv4tsfAfg3XPEupMw0/R7Ga/n2/eKRIXIA7kgYA7kit2uA+Nvw3vvix4An8OWOsQaNJLdWty8t1aPdQzLDOk3kyIksTFHMYVtrqdpIzzQB8G+DfC2ofE678D+D9WIm1b4ja1ceKvFUkbBwunRNcLDFnvBOV1KaNhyjzQAfKAo/S2ONYY1RFCqowFAwB7Yr5s/Zo/Zl134SeNrzXPE93Z6rPZaFa+HtIvYLszSG2QgOpjFvCkCLHBZokaB/8AVyOzs0jGvpegAooooAK+Vdc8B+Dv24PE/iabUvFfja38G+DNXuvCOs+CYL0adpup3ls6ySzTeUfMmjPmRhcshHlAgDnP1VXyP8ElHhP9vD9oTwv9naDT/EVro/iS0S3T9wHit1iuwxHCyvLNC5B5YEEjBBIB798L/g74J+Eulpa+DvCek+GIDGse3TrNInZAFAMjgbpGIVSzOSzEZJOM12Opf8g+6/65N/I1ZqtqX/IPuv8Ark38jQA6x/484P8Armv8hU9U4Zkt9NjlldY4kiDM7EBVAGSST0A6182ePP28vBi6ne+Gfhbaar8XvFsUf7z/AIQ7TZdTsNO3Bdk1zPF8pjyxyImZsqVO0kGgCt+0O1pYfEqw0bwTpqa/4w8RNH/bvhwTtBb3EKDMN48qAtbXcTKjJcKNwRPmzthx6F+z78B7L4PrrF9fXf8AwkHjfVfKOseIZkxLcsAWCg9dgZ25OWbqxPAD/gL8Hrr4a+Hb7XNdddW+IOt7rvVL24kDFXbBECyAHCggbiowWHyqqLHGnJfst/tRX37RNxJdr4YsNEtJIJZrmOPWzdXNs6TGGMNEbdAY5AkhV92cxsCuMNXfRwOIr0KmJpxvCFuZ3Wl72++zJlJRtfqfSFFFFcBRT1D/AF1j/wBd/wD2RquVT1D/AF1j/wBd/wD2RquUAFFFFAFTS/8AkF2f/XFP/QRVuqml/wDILs/+uKf+girdABVC2/5Ct9/uR/yar9ULb/kK33+5H/JqAOa+I/wx0/4iW9lObifRvEWlu0+keILABbvT5SACUJBDxsAA8TApIowwPGPmzxt4q1v4g/EnTPht4/WLQvGKzI2iy2RlTTYCq5XWo5MgvOzb44LYkiJ0YSMxaMt9j15h8fPglYfGzwcbItHY+IdPY3Oj6owbdbT4HDFSG8p8AMFIIwrKVkjjZQDurmF7eHTI3nkuXjlRWmlCh5CFYFiFAUEnngAc8ADitWvAP2dPjRf/ABA0248KeK4ZLD4geFb1bLVbW4ZTJKArBZsqArEjAYqAGysgVUmjB9/oAKKKKAKWj/8AILtf+uS/yq7VLR/+QXa/9cl/lV2gD4w/4Jx/c+Jv/XTw/wD+mKyr65vtIs9Y1Ape263CQG3uY1fosqO7I31BAI+lfI3/AATiPy/E0f8ATTw/x/3ArKvsWP8A5Clx/wBcY/8A0KSgabTujzVtUj+IXx0k0hCJdJ8DW8d3cjAKvqdyjCFT6+VBvfGOtxGc5WvVK+fP2SdL8UWepfGS+8U6Hd6Pcal44vbm0e8haMz22yNIihb78YVAFYcHnk9voOpjqrnoY6KpVfYxd1FJfhd/i2UtU/1MP/XeL/0MVdqlqn+ph/67xf8AoYq5VHnHyR+018YtXt/C+tapYa3DoGkafrFto8Ml3LLDblmvY7W4ubl4pIn8tC0uEEiqRHls5AWL4U+ItY0nw6/iHRfGum+MY1lZguiSS/2bdRKBuhCyXVyEkyG/eI68lQVIBB0PidoN94RbU9I+z6PLLLqp1XSn8QowsbpWuftBiEgB8qZGLBWAdl2I4RhxXOeA9J1i21zxVcP/AGXJ4u8T3MckOi6HcvdQWuyFIVlklaNGIO0M8jRqAAqgMQN359isVmkcXKlTbTU9F0cdLaW2tdt3t3PgsRXxPtWk3zc34dv60PrTwbqlvrnhbTdRtWL2t5ELiFm6lHJZf0Ira71zvw90OPwv4H0TR4n3xafapaIxGMiMbAcfQV0frX6D1Puo35Vzbi1Q/wCY5/27f+zVfqh/zHP+3b/2agsv0UUUAUNc/wCQZL9V/wDQhV+qGuf8gyX6r/6EKv0AFFFFAFDSv9Xc/wDXxJ/6EaxviJ4uPgrwrc6lHCLm7Lx29rCxwrzyuscYY9lDMCxHIUEgGtnSv9Xc/wDXxJ/6Ea5b4veGrvxN4MkTT4/P1CyuYb+CHIBmMUgZowTwGZA6gngFgTxWc+blbhvbQwrucaUnDex8iat8S9d8SfFy/wBIm8d6VBPZX9vYf2bqOt3NjeajI0Ucs7WaQTosIjSZFUeTIzsjBnGd9fSHw08W6lbeLLbw7q17JqcE1pNJYXlxgzgoyb4pGGN2FIKsRuIDbiSAT80658O77X9V8VWukT6HHoHiHVbPV9Svr6eSHU9MngMKvGtv5XJ/0ZCrPJG0bSNlWwAfoD4aWR8WfECw1e2HmaRpMFwUvF/1c9y+2MrGf4gil9xGRlgASQwHw2WYvH1cbThUk3Gz5k+mn4e903+Vj43CVq8sXBRbff8A4J7zRRRX3p9yUtY/5Bd1/wBcm/lV2qWsf8gu6/65N/KrtABRRRQBR0z/AFl9/wBfDf8AoK1eqjpn+svv+vhv/QVq9QAVn3n/ACFNP+sn/oNaFZ95/wAhTT/rJ/6DQBoUlLRQB4v8ZvFmuale3nhPw3qaaHcx2Sz3WpPAZtrSFlijCh0OMIzOQytjaFZSSw8Q+Fd144Txj4lhm8YC7t9FaG0j1Cx+3IrXhTzJYpIbm8uUlRY3gBbghnZQQUJr2T4o6a/hXxxc69cDy9G1aCCKS6x8lvcRllxIeih1ZApOBlCCQSufNPh3Yp8P/BFraaxqNrdapcXVzeTSWcjTfap57iSUiMYDOSZAAoUngAA4FfnedY/M8PjJUqDfK+XlSW/f11urHweZYnEwrzgm91Y+lPhz4ubxt4Xt7+aFbe+jkktbuFCSqTRuUfbn+EkblzztYZ5zXUVw/wAIPDN34b8In+0Ivs+oajdTahPASCYTI2UjOONyoEBxkbgcEjmu571+gU+ZwTnvbU+0w7nKlF1PisrnyXN/yfxj/atv/TTe10f/AAT6/wCTbrL/ALDGp/8ApXJXNzf8n9H/AHrX/wBNN7XSf8E+v+TbrL/sMan/AOlclaHQfSVeSfH7/kKfCf8A7Ha0/wDSa6r1uvJPj9/yFPhP/wBjtaf+k11QBw/h/wD5SDeLP+xBtP8A0sry/wAI/wDJl/7W3/YW8c/+ipa9Q8P/APKQbxZ/2INp/wClleX+Ef8Aky/9rb/sLeOf/RUtAH3HWU3/ACK5/wCvP/2StWspv+RXP/Xn/wCyUAfmL8KP+QB+xN/131L/ANPFvX6n1+WHwo/5AH7E3/XfUv8A08W9fqfQBQtv+Qrff7kf8mq/VC2/5Ct9/uR/yar9ABVDVvu2n/XzH/Or9UNW+7af9fMf86APEf28P+TT/H3/AFytf/SyCsH9nX/klkH/AGF9Y/8ATndVvft4f8mn+Pv+uVr/AOlkFYP7Ov8AySyD/sL6x/6c7qgD0uiiigAo4OQRkUUUAfJ37ESH4a6p8bdRsZpotH074kanp0uioR5Ftp8axlZIYwMqwEisTn5lhAAzkn79jkSaNZEYOjAMrKcgg9CPUV8VfDX4N+O/AfiX9oO60650/TD4r1T+0vDV3MROgme3y8kkYxhRIyqQRklGJDDBbqP2Afj9qHxG8CX3gfxc4h8e+EJnsb6B1RHZEYrkopwpVgUIAAGAADjNAH1jVPVv+PP/ALaR/wDoa1cqnq3/AB5/9tI//Q1oAuUUUUAFVNO/493/AOu0v/oxqt1U07/j3f8A67S/+jGoAt1mzaoZC0dlF9slXOWDbY1PoXxjPsMn1xUIjbUry5guZGWOFhi3jyodSOGY9SDgjAwOCDnGa1I40iUIihEUYCqMAewxQBn290l5fW00eQr27nDDBB3KCD7g5B9CK1Kw8Lp/iSMZxDdRuQv92TKk/QEDP1z61uUAFUNb/wCQTdf7n9av1Q1v/kE3X+5/WgC/RRRQAVVsf+Xj/rs39KtVVsf+Xj/rs39KALVFFFABRRRQAUUUUAFFFFABRRRQAUUUUAFFFfHj/t5alZ+LddsX8D2up6NZa9eaFb31nqksUstxDctEkASS3ETTPEFuAqzcxtnqCKAPsOiiigAooooAq6hfW+l2Nxe3cy29rbxtNNLIcKiKCWYn0ABP4V+cX7PX7Vkvhe1+MPxo1X4b+IdbsNQ8RQ2ep65b3NlEmnxkxLb2xhknEzsjXSRl0QhkWLJ+QkfVH7dHjSfwb+zJ4tFnG1xqGrpHo0FsjbWnWdwsyKezGDziPcduo4i1/wCCcvgtvDv9kXXjLxzbaZeLYy6roena0sem3tzbxQJ5rwmIlizW8bEkk5GQRxgA+pvtl9/0D/8AyOv+FQX11eNZ3Aax2KY2BbzlOBg5OK16ral/yD7r/rk38jQB89/tBeKtN1rxh8LvhD4x8EweIvBfxDe8gu5ri/eBIbiyjivLVTtxvEjRsPLLDcVH3gCrez+F/D9j4H0S30fw74X0/QNIt8+Tp+lxxW0EeSSdsaAKMkknAGSSa+c/2/pJ7H4d/CjV9PVbvXNB8e6TrWnaS0hjOpzW8c7m1DgHYXTeASCN20Y+avrKgDG1C+ulsbhpIPsaLGxa489B5Qwcv8wK8deQRxXzZ+zb4V+Gvwqn0ix8E/E5fEdhcPdWljpz63pk6X1wSJ5iGhiV5ZEDj5FbaisCVyd1fUlxI8VvI6RPOyqSI0I3Nx0GSBk+5A96+Pv2efgP42+G/wAev+EhTS7jTPB/iDTRe63pd1dW7SafraRiNnxHI6sJhJI+Y2Iyfm27VB+kyzklg8VTnW5NE1HpNq+nqk3b7t2jGreysr/1/XyPp/xl48s/h94X1PxJ4hMWl6LpsBuLq7mnG1EHoACSScAKASxIABJAr568WfHb4seFNPsPilq2i2eg+CJrmKxtvh5eqp13UIpnASdXB+W9zgrZqCNhkDNvwU9d+PHwt1L4i6b4fv8ARLuAa54Z1JNZsNN1QFtN1CZFYLFcqASANxKSAExuFcBtuDifDP4Wa14m8ZD4ofE6zij8W7DFonh5ZlubbwzbMMFEcfLJdSdZZ19QiHYoLfNmx6fNfXdwthKdPeLdIGVHkAblG4I7HBOfpV77Zff9A/8A8jr/AIVJqH+usf8Arv8A+yNVygDP+2X3/QP/API6/wCFH2y+/wCgf/5HX/CtCigDH066vF0+2C2W9REoDeaBkYHOKsfbL7/oH/8Akdf8Kl0v/kF2f/XFP/QRVugD5Zg+NHxV+Jvi7xNqvw/sNPtdM8E3Z0688B64og1TW2IDNM7thrMFR/ox2ssvzmTAKhPX/hV8VbD4saLL4g0K2m2M32a7sbsiK5sLmMsstvPGeUlRsgqfYgkEE0Pi58Jb7X9UsvG/gq5h0X4k6PGY7W6myLbU7bO5rC8AGWhc5w2C0TEOvIIbE+BXgDxDa+PPGXxC8WWkPhvXvFEVoJfC+nzrLBZRxKwjM0ijbPdEZDSL8oGFBZVDEA9h+2X3/QP/API6/wCFH2y+/wCgf/5HX/CtCigD5J/am0PUfhP4+8OfHzQdPZJ9Jkj0/wAR2MTr/p9i7BQxwPvLnbkkD/VM52wAH6X0HxQvifQ9P1nSoY73TNQt47u1uY51KyxSKGRgcdCpB/Go/Hnhuw8ZeHLnQNVh+06XqqSWN1DnG+GWJ0cZ7ZVjXz3+wn4m1HSdB8XfCfX7r7TrvgTVJbVZHLFpbZ5Hw5JA+86SSKo4WKaAccUAfS/2y+/6B/8A5HX/AAo+2X3/AED/APyOv+FaFeXftCWPxQl8Dw6h8JNSsIPFWlXkd+2j6nCjW+uW6hhJYtK3MDPkFZARhkCkqrFlAO30u6u1063CWW9BGAG80DIx1x2q19svv+gf/wCR1/wrzz9nj45+H/jt4Ci1PSFm0/VNPf7DrOg36+Xe6VeLw8E8ZAKkEHBIAYDI7gep0AfE/wDwTpZoY/iVLEnn3LyaAslvkL5ajQrLY248HcS/A5G3nqK+vvt1zHeXEjWgULChbdMoCgF+c/n+VfnJ+x9+0FL8I9eY3fg/Ur/w34+1rw3oFjrsU0aRw3X2ZdOKtGTuIE1ncnIxlYiepAP2b+1R4d13xR8JfEFn4fsJtYuFNhcXOk2zlZdQtI7nfcW646l41Zdv8Wcc5wU3ZXN8PTVatCnJ2TaV+1zr/D3xi8L+LtWl0rQvEOga1qkWfMstP1q2nmTHXKIxYYwe3aup+2X3/QP/API6/wCFfMXjT4m+A/2j/hxoWkfC65hufGUOo2VxpNtb2/kXegmO5iM08q4BgjWPepP3XztXduFfVtKMrnVi8L9XUbpxbunGW6tbXpo79ujMXULq7aKLdZbR50Zz5oPIYYH4nirX2y+/6B//AJHX/Cn6p/qYf+u8X/oYq7VHnGPfRSanavbXmjxXdu4w0U7o6MPQgjB/Gq2jaPb+HYGh0nw5Z6ZExy0dmI4VPvhQAf8A69dDRSFyq97GHpNzdrp8YSy3rlsN5oH8R7Vc+2X3/QP/API6/wCFLof/ACDIvq3/AKEav0xmf9svv+gf/wCR1/wqn9pu/wC1t32L5/I+75o6buua3Kof8xz/ALdv/ZqAE+2X3/QP/wDI6/4UfbL7/oH/APkdf8K0KKAMPVrm7awkD2WxcrlvNB/iHarn2y+/6B//AJHX/Cl1z/kGS/Vf/QhV+gDP+2X3/QP/API6/wCFH2y+/wCgf/5HX/CtCigDD066u1jn22W4edJn96Bg7jkf/Xq59rvv+gf/AOR1/wAKdpP+ruf+viT/ANCNXqAOQ1nwbo/iK9jvNV8H6Vqd3H9y4vIIZXXjHDMpIx7VpxtPb3VrHDpyxJHC6JEsigBQUGBgYAGBx7+1blVJP+Qpb/8AXGT/ANCjpEqKTukRfbL7/oH/APkdf8KPtl9/0D//ACOv+FaFFMoxdUurttOuA9lsUxkFvNBwMdcd6tfbL7/oH/8Akdf8KfrH/ILuv+uTfyq7QBn/AGy+/wCgf/5HX/Cj7Zff9A//AMjr/hWhRQBiafc3ayXm2y3Ezkn96Bg7V49+3NW/tl9/0D//ACOv+FO0z/WX3/Xw3/oK1eoAz/tl9/0D/wDyOv8AhVO6urs39kTZYYF9q+aDn5eee1blZ95/yFNP+sn/AKDQAfbL7/oH/wDkdf8ACj7Zff8AQP8A/I6/4VoUUAYuqS3Fzp11FNpymF4mVw0isNpBBBGORisbw94N0bw/OL7SvCGlafeSKC11aW8MMj8YyWVQTn3rqtR/5B91/wBcm/kadY/8ecH/AFzX+QoJcU3dorfa77/oH/8AkZf8KPtl9/0D/wDyOv8AhWhRQUfIE88//DeAcWu6Qm2zHvAx/wASq9xz7jmuh/4J/wBxdp+zjZBLLzF/tjU/m80D/l7k7GuM8S61rGn/ALeGpyaJ4O1nxhLptlaajd2+jzWMTxwmyuLcHN1cwKSXnTgE8Bj2APoH7AVrd2P7PMdpfWkljf2uvavbXNrKyM0Msd9KjoSjMpIZSMqxBxwSOaAPoH7Zff8AQP8A/I6/4V4z8fPFFtHrHwwilltIpYPGdoXja8j3KRb3IIIzx16muq+OfxpT4E6DpfiPUfDmqax4X+2iLXdU0tPNOi2hRib2SEAvJGrhA4QEqhd+SoVvJLv9i34e+MtQPiWw8TXmo6b4j1S415JIdP0O8hma7aW4MkVzJYPM0R83KDzWXbt69aAK+g+K7Rf29/FV0Z7MRt4FtYwxvY9uReZwGzgn2615n4U8S2qfsd/tWW5mtQ9xqvjYqpu03HdFLjAzls54x17V7J/wwP4B3bv7Rv8AdjG7+yNEzjjj/kH+w/Kon/YF8CrFLHb6vfW3m58zboPh+QODwQRJpjAE+oAPHBoA+gbHxD/am/7GkF2E4byLtH256ZxnGcH8qgkurxfDbhbLcv2TAbzQM/J1x2r5x+B+neCfhX+0frvgn4eWureLtRlsYU8W6wqWVvp/h9YRM9rE4t7eJZJ5XmcFBucKATgIce1/GDxxN8NPgT4p8U29ol9PpOhzXcdvI5VZGWIkAkAkDOM/0oA/PH4Su7eH/wBi/dHt8uTUjF8wPmH+2Lfj2+p9K/UP7Zff9A//AMjr/hX5p+GPh745+Hf/AAyDaeJNG0u202x1U2NvfWWqGd7g3dzHeozRGJfLCpEQRubJI5Ffp5QBiW91djUrsiyy5SPK+aBj72Oe/f8AKrf2y+/6B/8A5HX/AApbb/kK33+5H/Jqv0AZ/wBsvv8AoH/+R1/wqnqVzdsLbdZbcTpj96Dk54FblUNW+7af9fMf86APC/23pJbn9lnx8l1D9jh+zQN5u4P8wuYiq4HPzMAuegzk8Csf9nX/AJJZB/2F9Y/9Od1W1+3xOtt+yP8AEOZ87I4LZ2x1wLuAn+VfLXhH9ob4s/DLwLdC3+BUOqeH7ea/1aPUp/HemW8r201xNdBmt18wqwSQAqGY5BxkmgD7Wor5u1b9tLRfhjrkelfFe20vwfPe6Za6tpkmk6rLqaXUMrzKQ2+2gaNkMQJBUgiQYOQQIv8Ah4t8Cf8Aob//ACXb/CgD6Wor5p/4eLfAn/ob/wDyXb/CoD+1vcfGW+ttA+CNrZ63f3Uczvq2o3EaxWscRjWSQwhi6gGaMbpACTIpSOcBgAD6cyMgZ5wSB3xx/wDW/Ovz7+LXxGufhR+2zqfxL8KQt/wi3h1tN0zxld2RZ4POuFYHzEKgGRYkQNsLBQFBZZJCB9J+EfgFrfgiDxB4uHiRvFXxcvtKuLK01bW3kSxgZgrJF5SAkQiVI2YAHBDFFjDFav8Awu/Zx0jwj8Bp/h94gkbXrrWo5rnxJqcjbpdQ1C4+a4uDIQGLBsBHYbgI48kkZoA+kfDfixPFmh2WsaVCt7p15GJYZ0mGGU/hwR0I6ggjtVjUrq7a1w9lsHmR8+aOu8YH4nj8a+Lf2C/H2tfCfxl4k/Z/8cXQk1HRZjJot0VKpc2pAMZTJOQV28Zwp2qSWY19wat/x5/9tI//AENaAI/tl9/0D/8AyOv+FH2y+/6B/wD5HX/CtCigDP8Atl9/0D//ACOv+FV7G6u1hYLZbh5sh/1o6l2JH4HI/Ctiqmnf8e7/APXaX/0Y1AGZqE97DJHerYYaEESBZQS0Z5IwByQQCPoR3NTTazNbQrLJaKEb7hEwJbPQAY5J7AVsVRtNJtrFi8Ufz9FZiW2g/wAK56D2HFAGJdNqGq30G+ya2j2FgvmL5jYZSDkjC4IHqfoa2ftl9/0D/wDyOv8AhUkn/IXh/wCuD/8AoS1coAz/ALZff9A//wAjr/hVTVrq7bTbgPZbFKct5oOPwrbqhrf/ACCbr/c/rQAn2y+/6B//AJHX/Cj7Zff9A/8A8jr/AIVoUUAZ/wBsvv8AoH/+R1/wp2ls7xzl08t/NbK5Bx07ir1VbH/l4/67N/SgC1RRRQAUUUUAFFFFABRRRQAUUUUAFFFFAEF7dpYWc9zKf3cMbSMfYAk/yr8wfg3bp4otP2eNPvFAu/FnjS68T3AXobjTotOWQ+p5gcHPUE54zX6QfEa11G9+Hvii20i2a91abS7qOztldUMsxhYRqGchQS2BliBzyQK+K/2efgV8QNF+LPwrPiLwbq2h6P4Iu9Zntp7s2jII75L2VzI8N1Ll/NuoY1VMrth3kgnYgB980UUUAFFFFAHy7+1tGnjL40fs6+AH3Mt/4mm8QMoztK6dCJWD4/hZJJFweDkivqKvkIeNLP4p/wDBQi0j0gS3ujfDrQ7iy1HVlUG0h1KcMHthJkqZAjoGUcqyspAKmvrP+1LP/n7g/wC/i/40AWqral/yD7r/AK5N/I0n9qWf/P3B/wB/F/xqvqGp2f8AZ91/pcH+qb/lovofegD5i+JDf8LQ/bI+Gng//Xad4V0z+37yPGUdt6yA+zxTQ6YwPZbg46nH1fXxp+x/4wtvjB8fPjD8ULOC8h8IXbW2n6Bqt9AYYdQRI0t7h7ck/PGG0+Js9QZSCAQQPsH+1LP/AJ+4P+/i/wCNAFLxPNqlt4d1SXRIYbnWI7WVrOG4/wBXJMEJjVuR8pbAPI47ivnP9mv43fEX4qfFD4gaTrNv4fGk+F9bn0e7k0+0milYohEcoLztgFo2BUKc7gQQAc/SVxrFlbwySPcxlFUswRt7Yxk4AySfYV83/s6fED4AQePNYHw41i4j1rxo8uqSG+fUtt+0TMJnH2v5BIrs+QMMRzgqAa+hy+KlgsU3Qc2krSUW1F31u+nup2/4BlU+y721+/8Ap2PqGiqv9qWf/P3B/wB/F/xo/tSz/wCfuD/v4v8AjXzxqN1D/XWP/Xf/ANkarlZV9qFq01mRcwkLNk4kHA2MMnnpkiuY+IPxHHhz+y9H0T7LqHijWpHh0+2mlxDEqAGW5mI5EMQIzjBZmjjBBkBoA7yivlXV/Dtr471S6t/7Kk+NOrW8rQ3eseJ9b/svw1bzKSHgt4IhKCyNlcpBKQVKyTl1OK0fgnRvh6y3epeAbL4SwIePFPws18PaWPYSXNsYIFMQ6nfbzxJks+FBcAH1Rpf/ACC7P/rin/oIq3XmXwz+IkktyfCXiS5tB4jsbKK7jvLdgtvqdoxKrcRgk7WBAWSPJ2My4JV0Y+h/2pZ/8/UH/fxf8aALHPFUbf8A5Ct967I/5NSXmuadY2k1xNe28cMKGR3aUYVQCSTz6Cvln4vfHbxdpOnQeItMS+sdMvLm3hS1sRBG0dvJMkSzXE00cmHPnKRFGoOSQWIDOOPE4yjg4qVaVr6LzOLE4unhUufdn1oDS/yrxrwf8RtX0HWLLTfEupDVtNvpRbw6nNFHFNDM33Fl8sKjK5+UMqqQxAIIbK+uf2nZ9rqD/v4v+NPC4qjjKSq0JXiPC4qni4e0pvQZqf8ArLH/AK+F/wDQWrwD4x/sJ/Dv43ePL7xZrs2pQ396sfnwww2M8BkSNYvNC3NtKVdo44kYqQCIk44zXu2oahavJZ7bmFts4Jw44+VuTz06Vd/tSz/5+4P+/i/411nYfI3/AA63+EP/AD8al/4LNF/+V9ekfBv9jfwj8CV1lfCmt+ILJdWeJ7lIZbW1QmMMFIS3t41zhjyQSa9x/tSz/wCfuD/v4v8AjR/aln/z9wf9/F/xoA+ZPiB/wT/+G3xi8YXfjXXbnVDrGpwwrcBbfT50/dptTb59pIwwuB97oqjoBXzR8Rv2K/A2t/FGD4W/CFTqfiu1aK68SeINU0fSLjS/DVqxyBMqWSmW6kAPl2wZSR8zFUBYfpPpeoWsem2yvcwqyxgENIARx6ZrzXw78fPDH/C8fEnw11CwPhbxG6x6lp1zd+UsPiO3EKLJPBIp+aSIoY2jY7wkaMMqGCAHlvhH/gnD8P8AwfrXhzUIvF/jy8g0HV7XW7LSbjV4l01Lm3maaMi1jgWNVDvJwoXAlfGNxr0L9qa+uLLwbaCWSWDwzNrGlw+JZ4sjy9JM7/aC5HKxnCq5H8DPnAya9l/tSz/5+4P+/i/41TN5ZTXtyss9u8UkKIQzqVbl8g/n+tJq6sdGHqqhVjUavZnzz+1h4b8NW/g/QfGPhBNPtPiba3tjF4TutKZUnvmM0afZf3fM0BiL5U5VVBPABr6crjPDvw++H3hDVptU0Hw14a0TU5s+beadYW9vM+c53OignOT1Peup/tSz/wCfuD/v4v8AjSS1ub4jEKpThSjd8t9XvrbT0Vu+7YzVP9TD/wBd4v8A0MVdrJ1HULV4ogtzCxE0Z4kHZwSevTFXP7Us/wDn7g/7+L/jVHAWqKq/2pZ/8/cH/fxf8aP7Us/+fuD/AL+L/jQBzWj3Mckdys+rtZtHMyrEJY1wuAc4I9Sea6DQ7h7rSbWWR/NdkyXOOffiqek3ViLCMSy24fLffZc/eOOvtWgupWSrgXUAH/XRf8aALdUP+Y5/27f+zVL/AGpZ/wDP3B/38X/GqP2+1/tnf9oi2fZ8bt4xnd060AbFFVf7Us/+fuD/AL+L/jR/aln/AM/cH/fxf8aAItc/5Bkv1X/0IVHrtw1tYBlnNsDLEjSggbVMignJBHQnrUesahayafKqXELNlcKrgn7wPrVxtSsmUg3VuR7yL/jQBl290i6taxwao18sgfejSI2MAYPygY5rfqkt9p8bZW4tlPTh1H9af/aln/z9wf8Afxf8aAI9J/1dz/18Sf8AoRq9WRpmoWscdxuuYVJnkIzIOhY4PWrv9qWf/P3B/wB/F/xoAtVVk/5Clv8A9cZP/Qo6P7Us/wDn7g/7+L/jVV9Rtf7RhYXMO0RSAnzBjqmO/sfyoA1K5+a6R9SvY59VayEbKEjEkaZBUEn5gSeSa1v7Us/+fuD/AL+L/jTGvdPkbLXFsx6cup/rQBnQ3D3Xhq6dpjcYM6LISPmVZGVTwADwB061vVk6pf2jaZcpHcwk+WQFVwT06AZq5/aln/z9wf8Afxf8aALVFVf7Us/+fuD/AL+L/jR/aln/AM/cH/fxf8aAI9M/1l9/18N/6CtXqyNP1C1SS8LXMK7pyRukHPyryOelXf7Us/8An7g/7+L/AI0AQ65cPbaXNIknksNv7zj5QWAJ59s1jtNEut6SIdUa+LSOrI0kbYHlsc4UDHIFbralZMMG6tyvvIv+NULi7sl1KxeOa3wpfcVZeMrgZPagDaoqr/aln/z9wf8Afxf8aP7Us/8An7g/7+L/AI0ALqX/ACD7r/rk38jTrH/jzg/65r/IVUv9RtGsbhVuoSxjYACQZJwfenWepWi2sCtdQghFBBkHoPegDQoqr/aln/z9wf8Afxf8aP7Us/8An7g/7+L/AI0AfHPxy+CvxE8SfHrxTrXhDwzeNNq0OkWFv4pt/Ft3pMOnwq4+1+dBaXcEs4CEsoIb5guM8isF/wBkL4t/D3Szc+H9aXWokv0vLnQNK8Y+I9Oe+ElwrXbLI2pBFlZWlfe3VuTkk5+17PULVb6+ZrmEKzqVJcAHCgetXf7Us/8An7g/7+L/AI0AfFug3X7X2g+GdO0Q+HbXVYLKzjsvtWrGxubq5VECb55DqA8yRgMsxA3Ek45qh+zT8K/j98J/GltYPpi6B4Amvru/Phya5shpNpJLCT5dqkbz3ECmbdJsRxCCz4jBbNfcP9qWf/P3B/38X/Gql9qFq01mRcwkLNk4kHA2MMnnpkigDE+1eP8A/oGeG/8AwY3H/wAYryH9pC0+P+teF9Osvh+LfS7iaaaO+uPD19bG7WNreURkG9iCBRKYy2wiQgYVl5YfQn9qWf8Az9wf9/F/xo/tSz/5+4P+/i/40AfBvwl8G/tOfBLwXb+GPCfgPSbLT45HnmlkSxkuLu4cgyXE8jagWklcgEsxJ4AGFAA5zwr+xn8ZfG0RtdXtfDWg+Fo7eOzMfiC4lvdR1Rfs0avcSeRK6Rs8pkk5kYhsAqVGW/RX+1LP/n7g/wC/i/41V03ULVNOtVa5hVliUFTIAQQBnvQB8r+FP2MPFVr4t8A6l4m+I2va9p/hHUYb+00661aOa2QxRlUCxmzVgQCBky9M19eVV/tSz/5+4P8Av4v+NH9qWf8Az9wf9/F/xoAitv8AkK33+5H/ACar9ZFvqFqup3jm5h2skYDeYMHG7Pf3q7/aln/z9wf9/F/xoAtVQ1b7tp/18x/zqX+1LP8A5+4P+/i/41jeJ/EmkaNpZ1DUNVsrHT7NxcXN3c3KRxQxrks7uSAqgDJJIAA5oA8b/wCCgkhi/Y8+JLr95bS3IyAel1Cehrw3/hkjwn/wrf8At3+0Lr7d/ZP23b/ZOkbPM8nfjH2LOM9s9O9fTX7SPhnS/i58ENY8L/a3uLDXJbG3lk0uVWl+zveQb5Izhhwm5txBAAJIIFZHijT4tJ+Gur2MG7yLXSJoI9xydqwlRk9zgCgD4u+EfwL1D48aJffFHxx4g8Xa5p4vZdHul8MTxQ3unQQMWjZIFhYTwjznJjjAdCWKrLvKr714Y/4J+/DPxpoNlren/ELxxfWV6nmQ3FlrNuYXXJAKkW+O3OO+c81b/YF8UaR4H/Zr1jU/EGpW2jWEOv3srz3sgjXafKAIz1JOAAMkkgDJIFbEngLxN46e98Q+Fpx4E8OXrebe+Fby5ks5fFB3ZMlwUO7TWZRjfGpmkBAmAChAAeU6h+w34R8WaxPofw/8Y+OdQltZjDqPiK91WJ9NsGU4eJQsKm5nBBBjRgqHPmOpARvEv+Cc97c6h8ZRPeXM13cP4Tuy0s7lmJN1YknJ6ZJJwMDngV+l/wAMvHvhXWNHGkaTbw+GrrR0S3uPDU6x282nDBCL5aEqYyAdskZaNgCVYgGvyZ/Y58B6v4+8bWmk6R4gn8JX0fh2e7bUbc3QlaMS2g8oCG4h+VjIrEsTzGuAOTQB+qlFfJ/wtt/F3w8/bCHgLWPGuoeKdMfwU+tZuZ7op5j3oiAMc1xMMqISQykH94wIIxX1hQB8n/tVeHJ/GHxB8J678Lom1v4r+FrtVurXT2VUFiSWeK6uCDHAyk741c7ssWVGIBH1z8LPidafFr4Z6br9q2JpGijuoSpRopgyFgVPKkgg7Tyu4A4IIryjQo0+GPxMutE2LD4e8WTzajpzKAFg1LBkurf/ALaqGuFHUstxnA2isjwlqSfDb9pyfwvpUqz6V4ttm1i6sY+Rp0qSbpJHA4RZXO5T0Ly3BJyUAAPrWiqv9qWf/P3B/wB/F/xo/tSz/wCfuD/v4v8AjQBaqpp3/Hu//XaX/wBGNS/2pZ/8/cH/AH8X/Gq2n6hapAwa5hU+bIceYO8jEHr6GgDToqr/AGpZ/wDP3B/38X/Gj+1LP/n7g/7+L/jQA2T/AJC8P/XB/wD0JauVlNqFqdUhb7TDt8lwW8wYyWXAzn2P5Vb/ALUs/wDn7g/7+L/jQBaqhrf/ACCbr/c/rUv9qWf/AD9wf9/F/wAapaxqFrJplwiXMLsV+6rgn8s0Aa9FVf7Us/8An7g/7+L/AI0f2pZ/8/cH/fxf8aALVVbH/l4/67N/Sj+1LP8A5+4P+/i/40zTZElSd0ZXUzNhlII7elAF2iiigAooooAKKKKACiiigAooooAKKKKACiqGtazZ+HdGv9V1G5Sz06xt5Lq5uJM7YokUs7nHYKCfwrg/Cn7Rfw88ceI7DQtD8Q/b9Svw5to1srhUk2xmRgJGjCBtgLAFskAkA0Ael0UUUAFeaftIeNta+HfwN8ZeIfDtzpNnrtpYsLK612+jsrOCZ2EayySSAp8pfcEbh2VUyN2R6XWV4m8Oab4w8O6noWs2cd/pGp20tneWkudk0MilHQ4IOCpI49aAPLf2ffgfpvwD8E+HvCdtdHV77ZJe6vrU4zNqmoS7nuLqRjksWbgFizBFRSx2g17F9lh/55R/98ivkv8AZd13W/hD8Tr39nfxdLPfSeGbP7b4Q1ybLnUtBYssKSsAAJoDmEgBQVjG1cLub65oAi+yw/8APKP/AL5FfPv7aNtq+vfDbRfAeh6vpPhhfHOsReHtS1bUbqGCSGxkilkuI7ZXP724lWLyURQxJlJ+XG9foevK/wBpb4IaZ+0D8I9W8L31xJpt8mL/AEnWIB+/0zUIgWguYyCCCrZB2kEqzqCN2aAOz8E+D9F8E+D9E8P6Hp0On6PpllFaWlqgLCKJECquSSScAckknkkkmtz7LD/zyj/75FeB/sh/H7Uvi14V1Dwx4x0660f4oeCzHpvia1mg2QzS7pEjuoHACvHMIXcbQACSBldrN9A0AUrq3At5PJgieXadiv8AKGbHAJAOB05wfoa+Hf2bP2OPiR8H/iJ4K1jUZPCd9b6I2oWupRpdzTuYLg+ZHJbGS1/dyKzuG27CyqAXIYqv3a3vXyl8Bf2gte8W/tV/EbwXrGoPc6Hcafb6z4chlsfs/l24xG+12jRplbcjBxvXAOGOK+ryetj6eDxkMK1ycqc0+q1jp5pSb/HdHPXUXFKXdH1V9lh/55R/98ij7LD/AM8o/wDvkVLRXyh0GdfW8QmssRIMz4+6P7jV83/FTVLmPxD8ZdTtJPsmp2dhovhHTbpB81h9ulAluk44bddxMT0P2ROPl5+ldQ/11j/13/8AZGrxT4weC7SPxdqp1OWS18J/EDSU8N6nexcHTtQjMn2G5B/hL+c8e8kYkitVH3uABum+APDvxC8a+I/CGr6Rb3HgPwPBY6XZeGZI91pcyvbLM008R4nRY5IY0RwVDJKxBYqV0NN/Zz8DXml2Go+EbPVvhlbXlsssmm+GidHjcOoYCe0ChFlXJBJQMCWBJ6VyeseLn8OeJIb3WPFuj/DD4mfZI9OvT4jhH9h+JY4ixjlhYyRbmG+RlEcokiEjLIjKENVtY8Za14pvBp3/AAtaPVvFbKPsXhf4Wx26qu7pJe3E63JjjGD+9YQrgEBJHKqQDyHwd4Zm/Y/+NXhUfEvXtb1n4ZXAey8G+Lbm8P2XRXuEAbTdRTG1YzhPLkyIwYoyVAXMX3v9lh/55R/98ivm/wCE/g/xRN470jSdT8f6x440rQ9MWTxMmpQWj6e+pOIntreFVgVlaIZmJLlkH2fOTISPpWgDmvHnhk+KPBHiHRrfZDPqOn3FpHJjG1pI2UHI6YJFfI3xjutc8UfDuLSdB8J6lrmoy3NqbqGzns4hYyW91DJJFKJ54yGwjABQwyOSAQa+3BXC+IPhf4a8Y+ILu71KwcXojjBu7G6mtJmGGABkhdWOOwJ4rw8zyyOZKm27ODur3t+DR4+PwLxTjUg1zR77Hj1l9q8a3fhvS10+407Urq9tb6ewu2iaa0gguEld5DE7oOIwoKsQWdR64+lvs0X/ADyj/wC+RWP4V8E6L4JtZYNG09LNZW3SybmeSUjgF5GJZiBxyTgcVu1tlmXwy3D+wi73bfzZeX4H6lTcW7t6mdqVvEslliNBm4APyjptbir32WH/AJ5R/wDfIqtqf+ssf+vhf/QWq9XrHqkX2WH/AJ5R/wDfIo+yw/8APKP/AL5FS0UAfNf7VHjC58F6H8KGt/FuoeCbXUvE8NpdahpWltqU85+yXLw2wtkjd5hLMkUexVJO7j1HhP7TWpaN4q+Gd1qXjL4jeM9LGgOupaZrc/wo1XSXsL1SBCyXptVEBZyiZLAHcAc8V9+6P/yC7X/rkv8AKvCvGn7OOq/Gz42Q678TNSs9S+G/huWOfw14Ks97QXF0EG691HcoEsisXVIxlFXGTlpAwB6x8N7iTWPh54Xv71luby60u1nmmZFBkkaJWZiAABkkngAc1xn7QXxGvfhf4WSXQrO2ufEetX+n6DpCXSEwLdXMzojyAYJVRubHfaB3r12vLvjt8J5/jB4ZfTNP1X+w9d026sdY0nUWj8xILy3ld4y65BKnkHByM55xgzK9tDswfsliIOv8N9f+D5dzj/iJqfi39n3R9K8X6r4xuPGnh9dQtbLXbPUdLs4BBDPKsP2i2a3jjZSjunySGTcCRkHmvfPssP8Azyj/AO+RXxx+21a/EjxP8AZNH8SDQdGOp6np+mW9l4fvZ7xtSupLmPbuMsEWxAFdvLAYllU78Lhvsypi9WjuxlJLDUqrtzNyT5bWsuW22nV7foZ2pW8SwxERJ/r4x90f3xVz7LD/AM8o/wDvkVX1T/Uw/wDXeL/0MVdrQ8Ui+yw/88o/++RR9lh/55R/98ipaKAMzRbeJtNiJjQnLdVB/iNXvssP/PKP/vkVV0P/AJBkX1b/ANCNX6AIvssP/PKP/vkVQ+zxf23jy0x9nzjaMfe61qVQ/wCY5/27f+zUAWvssP8Azyj/AO+RR9lh/wCeUf8A3yKlooAy9at4l02UiNAcr0Uf3hV/7LD/AM8o/wDvkVV1z/kGS/Vf/QhV+gCL7LD/AM8o/wDvkUfZYf8AnlH/AN8ipaKAMzS7eJo7nMaHFxIOVH948Ve+yw/88o/++RVbSf8AV3P/AF8Sf+hGr1AEX2WH/nlH/wB8iqslvF/aUA8pMeTJ/CP70dX6qyf8hS3/AOuMn/oUdAEv2WH/AJ5R/wDfIo+yw/8APKP/AL5FS0UAZ2rW8S6XdERoD5ZOQoHarn2WH/nlH/3yKr6x/wAgu6/65N/KrtAEX2WH/nlH/wB8ij7LD/zyj/75FS0UAZmm28TSXuY0OLggfKOm1eKvfZYf+eUf/fIqtpn+svv+vhv/AEFavUARfZYf+eUf/fIqheW8Y1KwAjQAmTI2j+7WpWfef8hTT/rJ/wCg0AW/ssP/ADyj/wC+RR9lh/55R/8AfIqWigCjqFvEthckRID5TYwo9DTrO2iNnATEhPlrn5R6Cn6l/wAg+6/65N/I06x/484P+ua/yFADvssP/PKP/vkUfZYf+eUf/fIqWigDMs7eI6hqAMSEB0x8o/uCr32WH/nlH/3yKrWX/IQ1H/fT/wBAFXqAIvssP/PKP/vkVTvreITWWIkGZ8fdH9xq0ap6h/rrH/rv/wCyNQBP9lh/55R/98ij7LD/AM8o/wDvkVLRQBF9lh/55R/98iqumW8TabaExoT5SE/KP7oq/VTS/wDkF2f/AFxT/wBBFAE32WH/AJ5R/wDfIo+yw/8APKP/AL5FS0UAZltbxHVL0eWmAsePlHo1XvssP/PKP/vkVVtv+Qrff7kf8mq/QBF9lh/55R/98isHxl4Z0fxNox0rWNJsdW0u8lSK5sb62SeCdCeVdGBVhwOCMV0dUNW+7af9fMf86APjL47/ALFdx8K/AOs+Iv2dtX8V+D9dtZYr1PBuk3xutIv5PtCNI4tLjeqyhQCCpCgRBQnJqlqPxr+L+qeEbnS7n9nrxa99cWLW0lwJowpkaMqWwE4BJJwK+6aKAPyA+Hei/tVfCnVAdG+Esurafa3kl3pseuWUk62TuAHljjDKnmkDAcgsASFZQzA/pj4P8UeKZPCejPqPgS5m1KS0ikuzb3NqkazMgMiqGl3AKxZefTqetenVQ0L/AJBcH/Av/QjQB+e/x4+JX7UGsfELUl8PfAuKyXRr2WPQvEdnbvJfLblhgmRbjypEcAFomRoyQCVJUEeUfsp+BPjH8AvGMeuaz8FvFuqqNGuNKMdjFGrbmltnR/mcDGIWGMkgkdua/W6igD8yPE3i741f8NRQ/EnQP2f/ABVLGvhFNBew1EpGci7lmMgZCwxhlAB54J9K7k/tEftF4P8AxjRqxPYfaz/8TX3f/wAx4/8AXsP/AEI1foA+IfD/AMC/jB+1F/ZOs/FC+uPhR4Xtp4b+08NaHNt1MTIdyySS87GBwQWzxkeUjAOfqjwv8MfDHwz8OnTvDmkQ6fC88bzy5Mk9y+9QZJpnJeV8cbnYnHGcDFdtVPVv+PP/ALaR/wDoa0AT/ZYf+eUf/fIo+yxf88o/++RXH/Ez4veFPhFosup+KNXg06JIy6xM48xwOMgE8DOBuOFB6kV8M/Ej9sz4h/Hy6udE+FmnyaB4eDmKbXLktFwDgjeRksMEFVGVIAZXVg1c9WtCiuabNqdGdV2ij6n+O37V/wAPfgTYzDUby31DVlDBNPtWBIYDkOwB247gAkA5IAyR4h8Cf21NX8W/HqLw34x0CXwvoPiGzgk0SG+hCN5zKWLZK52uxbC7n4AYNt2lvH/A3wN0jwxfLrGrzyeJvEhwzajfKCsbDJHlRkkIAScEklQxAIU7Rr/tK+BLnxdpVrqGkhk8R6La2l5p8kakuxFvEXiABBIYKCFyAWVQeMg+N/akZTVloet/ZzUHd6n6TfZYf+eUf/fIpfssP/PKP/vkV4x+yX8eLf4/fCHTdXeVTrVoi2upRbgWEgGA/QZDYJDYAJDY4xXtle+mpK6PEas7Mznt4v7WiHlJjyX/AIR/eWrn2WH/AJ5R/wDfIqCT/kLw/wDXB/8A0JauVQiL7LD/AM8o/wDvkVR1q3iXSrkiNAdvUKPWtOqGt/8AIJuv9z+tAFr7LD/zyj/75FH2WH/nlH/3yKlooAi+yw/88o/++RUGnqFFwAMDzm4A+lXKq2P/AC8f9dm/pQBaooooAKKKKACiiigAooooAKKKKACiiigDB8d6X/b3gjxDpuN32zTri32+u+Jlx+tfnH+zXNFZ+Pv2YvEVtbxQS+ItR8TtrF1Cgja7ZftP2QzEAF2EeoqFZsnamMgEAfp1X5UadrafDVfDWj3A/suTwT8R5JYJroeVbNo9tJa2lwI5mwjStPYyKIVJk2yLJtKHJAP1XooooAKKKKAPl74xMnhn9ub4EaqyER69pmsaTLMPup5MXmRhj/tPOAPc19Q18q/t9K/hbwv8P/iMsxtofB3ia1vL2dcZS1LBmAOD9+WKCPBHPmHvgH6eW1kZQRfzkHuBH/8AEUAXKral/wAg+6/65N/I037HN/z/AFx/3zH/APEVXv7WVbG4JvJmAjbKsI8HjvhKAPmTwIo8C/t6eLtPkVo4vGPh2DVkk/hZ447aCKMf7WLW+cgdBkn71fV1fIn7YVzF8J/Fvwd+L82pfZYdE1U6ZfNJJGi/Z54WLnBA3ssKXSInJLzrgZ5H1h9jm/5/rj/vmP8A+IoAh1qzsr/R7611K1jvtPmgeO5tZYfOSaNlIZGjwd4K5BXByDjBzXg3wn8afAnxd4xs9R8GaHp0ut21w+h2V5a+FJ4J9PaCAb7dpDbq1qoQsAHKKfmVckMB7xcWtyIZPJupZJQp2K5RVLY4BIQ4Ge4B+lfL/wAGP2W/Efw9+OVt44F/p+nQXmirZ+ItKsrp5kk1CJAkN1EzQIH3RmTduVSpZsb9xI97Lo4WWHxHt6soSUfdSekn2en3fd1MqjlZcqufWVFZWpTRaLp91f3+rmysbWJp57m4aKOKKNQSzsxUBVABJJ4AHNZ3g3xRpHxD8M6f4i8N+IV1rRL+PzbW+s2jeORckHnbwQQQQcEEEEAgivBNTa1D/XWP/Xf/ANkajVNMtNa0260/ULWG+sbqJoZ7a4jDxyxsCGRlIwQQSCD1BqpeWsqzWebyZszYBITj5G5Hy/hz61c+xzf8/wBcf98x/wDxFAHll58IfF2i2r2PhPx3D/YZ4TRfGej/ANt28C9o45Fmgn2jsJZZSO3ACiDRvhJ46a0OnX/jTRfDOiOxaTT/AAD4eGmSvnqDcTTz43YGWjSNwDgMCA1etfY5v+f64/75j/8AiKPsc3/P9cf98x//ABFAGX4H8N6b4R8KaZpWkWcdjYQQjZEhJJZvmd2YnLMzEszMSzMxJJJJrfrL021lbT7VhdzIDEuFUJgcDplT/OrP2Ob/AJ/rj/vmP/4igC3VC2/5Ct9/uR/yaodSmi0bTrm/v9XNlY2sTz3F1cNEkcUagszuxUBVABJJ4AGTWB8P/F2jfErRoPEvhjXxrGh6jbxT2t/bbSsqHcMEFMqQQQVIDKQQQCCAAdpRVT7HN/z/AFx/3zH/APEUfY5v+f64/wC+Y/8A4igBmp/6yx/6+F/9BaqvivxRpvgjwzqviHWbn7HpOl20l5dzlSwjijUszYAJOACeKNQtpVks83czZnAG4Jx8rcjC9frXnX7U1u8X7NfxQd7mWZR4a1DMcgXaf3D9cKD+RoAxNK/bV+Fusa1pem22pagZdSu4LG2ml02aKN5ppFjjUl1GMsyjJHeveK/IbSm+HFq37O0HhzStJsfGP/CTaZFq9zaaN5E05N/ZyfPdCMLKyhkJG5iN4yBX63fY5v8An+uP++Y//iKAOP8AGHxX8JfCHwtpOpeMNbg0OzvJUs7eWdWbzZijMEAUEk7UY9McV8ofEz49aR8B/iVqfxY8CeJ73xb4V1mSOTxp4IuEuS+EjWIalpzzKFjmjiRA8JZUkSMLlSqMvrn7U37PWuftC+A/BujaTdaebez1ZLrUYNWmaFHs2tpoZVjKQyEyYm4DAA4OWBwa8v8Ai1/wTd+BPhT4V+Mtb0/ws632m6Le3kBeclRJHA7qSABxkDoaAPVbD9vL4U6nY215b3OsyW9xGssbf2TLyrAEHp6EVb/4WD4K/az8N+LvBPh/xJqWkX1zYRGSSGF7a8t0EpKyoGAyu4BTg88jjINfEvw6+Gvhvxd8CdV8Lw/ApNW8cw3c1vN4iOjaYyq1xKt5bsbhpRJtFpdW5zjKghccYHtn7M+j6B8Ov2vfjxaaTY2fhjw9pdjb3AttKtUhht4xY6dJJsiRcAEszEKuSSe55RpTlOnOM4bp6ep9IaL8EtX1HxF4a1fx74ri8Wt4ZAfSbKz0w2FtHcbNn2qVWmlaWYLuAJYKu5iFBOa9crzn4cfGHwz8WNa8Rab4Y1u91BtBaCO9nNsscYklDkIu9AxICc8Y5GCecWPiH8StO+HV1oun3E2q6xr+tyvDpeh6VDBJd3jIu+QqH2oqIvLO7KoyMnkUlZK6OytHE1qqpVI+8lta1lvtol3f3s7HVP8AUw/9d4v/AEMVdrzjwh8SLD4gHUbKE6ppOuaRdwQ6lomrxQx3doXIZGYJuRlYcq6Mytg4Jwa7z7HN/wA/1x/3zH/8RVHHUpypS5JqzLdFVPscv/P/AHH/AHzH/wDEUfY5f+f+4/75j/8AiKDMy9I1q2islj23LMjMpMdpK65DHIBCkH8K17O7jvrdZoSxjYkDcpU5BIIIIBBBB6jtXN6HJPa2bIRf482RgYYkZTljyCQTWno9jcLYDfc3EDNJI+xlTPMjEE/KeoIP40AbNUP+Y5/27f8As1SfY5v+f64/75j/APiKpfZpP7Y2/a5s/Z87sJn73T7uMfhmgDYoqp9jm/5/rj/vmP8A+Io+xzf8/wBcf98x/wDxFAEeuf8AIMl+q/8AoQqW9vodPjV5i4DMEAjjZ2JPIACgnse1UdYtZU0+Um7mcZX5WCAfeHoo/nTNYtbhY7aRJ7qfy51YqixlgMEZA289aALUOtW01xFCBcJJIdqebbSxgkAnGWUDOAT+FaNc44uL6+08Kb9BHMZGaaKNQo8txnO3rkgfj+NbH2Ob/n+uP++Y/wD4igBmk/6u5/6+JP8A0I1erH021laO4xdzIRPIPlCc4Y8nK9au/Y5v+f64/wC+Y/8A4igC3VWT/kKW/wD1xk/9CjpPsc3/AD/XH/fMf/xFVpLWX+0IR9smJ8qQ7sJnqnH3ff8AQfiAalZsmuWqSyRYuXaNtrGO1lcA4BxlVIPUVP8AY5v+f64/75j/APiKx4PtFjcXiOdQbdMXVooo2VgQMHO3rx+lAF+8vIr7RLqaEsUKOvzIVIIyCCCAQQQeo7VqVzUdnPHoN28k1xFuaZ/LdUBwXYgnC5GQQeCPwra+xzf8/wBcf98x/wDxFAFuiqn2Ob/n+uP++Y//AIij7HN/z/XH/fMf/wARQAzTP9Zff9fDf+grV6sfT7WVpLzF3MuJyDtCc/KvJyvX6cVd+xzf8/1x/wB8x/8AxFAGZ448ZaR8OvB+teKNeuxZaNpFpJe3c5UtsjRSxwAMsTjAABJJAAJNeAaZ/wAFAfgt4l8UaPp1n4iuvtE10LbMmnTKsbyMIl3kr8o3sAScAZ5xXT/tqW7R/spfFEySNeJ/Yc4MUwULyAM/KAcjqBnBIAIIyD8qeIfhX8KfjP4X8PaX4W+CK2UF5rFktxrlr4Yt7GM2kdyoumFwoDBSiSDjk5xjJxQB93f8Ll8D/wDQ06X/AOBAo/4XL4H/AOhp0v8A8CBXyZ/w7p+BP/Qof+TLf40f8O6fgT/0KH/ky3+NAH1hN8WPBt/E9tbeJNNmuJlMccaTgs7EYAA9SSKIfi54LtY0hm8S6bFLGAjo04BVhwQfcEGvmPQvgF8Ff2RYtX+JltYjwzDpunyRXd+88jKIWZCV2AnczMqBQASSQAMkVyVr8Cb39sC+h8bfGLTLvSPC0aMPC3gZn8qW2hYqTd3xGSbiUKuIgcRL8pyxYgA+zP8Ahcvgf/oadL/8CBTG+M3gsHjX4JB/ejSR1P0IUg/hXyf/AMO6fgT/ANCh/wCTLf40f8O6fgT/ANCh/wCTLf40AfVUfxW8K2k0tzLq6RwXZDwP5UhDhQFJwF4wQRz6VN/wujwZ/wBByP8A78y//E18n/8ADun4E/8AQof+TLf40f8ADun4E/8AQof+TLf40AfWH/C6PBn/AEHI/wDvzL/8TUUnxY8KXrRvBq6SJat58pEUg2pgrnleeXUYHrXyp/w7p+BP/Qof+TLf407xl4gf4HaT4c+BHwR0bzvGl9ayXNkt4Xks9CsZJ3Ml/cu2cqJGkCJzlgFAICqwB9Xf8Lo8Gf8AQcj/AO/Mv/xNH/C6PBn/AEHI/wDvzL/8TXxq37DK+ANI0nxL8OvEs9v8YNInm1CTxJrCiSPXp5hm4hvVA3eTIcgbSWj3ZBZhk9VHpvgT9tvwGdC8e+G77S9c8M6in9s+Frq5eG40y+EbAZZCBNC6OWjkGVdWBGCCAAfUH/C6PBn/AEHI/wDvzL/8TUUHxa8JabClpc6xHFcW4EUkZikJVlGCOF5wQelfJX/Dtj4Cf9CnP/4MJv8A4qrdj+xvL8L4f+LM+PdV+HYJDS6fcRrqNjMwxljHIRh2AwXbeQACAMHIB9aWPxb8JalfW9nb61C9xcSLFEjJIu52OAoJUDJPHXrxXY1+fereLvjT8P8A4ufCzQ/GureH9W0nxB4htoFfTwS/yzxAkp9njKEeYrKQ7DK4KkE5++fsc3/P9cf98x//ABFAEdt/yFb7/cj/AJNV+se3tZf7Su1F3MCEjywCZP3v9n+XrV37HN/z/XH/AHzH/wDEUAW6oat920/6+Y/51J9jm/5/rj/vmP8A+IqjqdtKq22buZ8zpjcE456jC/zoA2aKqfY5v+f64/75j/8AiKPsc3/P9cf98x//ABFAFuqGhf8AILg/4F/6Eak+xzf8/wBcf98x/wDxFUtHtZX02Ei7mQc/KoTHU+qn+dAGxRVT7HN/z/XH/fMf/wARR9jm/wCf64/75j/+IoAi666f+vYf+hGr+KyBay/2wU+1zZ8gHdhM/ePH3cY/DPvXhf7Un7Vml/s4Lp+mOt9q3ibVYWl0+yjjjYSYO3oFBY5wNuVznAYEgGZSUVdjS5nZHvWua9p/hvTZdQ1S9gsLOL709w4RQewGepJ4AHJPAr47+KP7fUeueIJfCPwn0G48Xaq0chN4g2pGVViJASNqhWXOX4JUo3lkhh4h4sn+JH7TGqRan8Qpk8MaAq7Y9A0+WQvKuRkvucqgYDBAA3KxDIrKGr174W6L4d8HyLp2h+FtM0u3FvcMzQtcM8hED8u7SkuSBgsxJx0IIBHi1syhzclN6nrUsBPl55rQ8Osfg5q3jrWf+Ei+KetyeJdUdxKNOjkb7LE2MfMSd0hAyOcfKSrGRQK9YtbWCxtora2hjt7eJQkcUShURQMAADAAA4AHAra/ti0/6AWn/wDfy4/+O0f2xaf9ALT/APv5cf8Ax2vl605VpXnP8z6KnGNJWjEyq1fE3/IRh/68rT/0njo/ti0/6AWn/wDfy4/+O1p+IdWtY7+INotjKfslqdzPODgwRkDiUDABwO+AMknJMqEeR+9+fmU5PnXunifwz8cP+yv+0hbakS0XgTxlL5V5Go+SC5YgEgDuW2sOrMDtAVYya/TmCaO4hjlidZIpBuV1OVYHkEEdq/PT4oeHNN+JHgrUdDl0fT7WeZN9rdK1wTBMOUYfvc4zkMBglWYZGa9f/YR+Olz8SvBNx4L12V9O8V+FVFpLbAgtJCmE3ksCSwYEEjCZOEGF4+ry3EKpD2beqPm8fQcJ86Vkz6mk/wCQvD/1wf8A9CWrlZLWsv8AakS/a5s+S53YTP3l4+7/AE7Vb+xzf8/1x/3zH/8AEV7Z5Bbqhrf/ACCbr/c/rUn2Ob/n+uP++Y//AIiqesWsq6bcE3czgJ91gmD+Sj+dAGvRVT7HN/z/AFx/3zH/APEUfY5v+f64/wC+Y/8A4igC3VWx/wCXj/rs39KT7HN/z/XH/fMf/wARTdNUok4Ls585sswGe3oBQBdooooAKKKKACiiigAooooAKKKKACiiigArmtN+G/hLRtbu9ZsPC+i2Or3czXFxqFtp8UdxNIxyZHkChmYnkkkkmulooAKKpw6haXF5c2cN1DLdWwUz26SAyRBgShZQcrkA4z1wcVcoAKKKKAPP/j18N1+Lnwc8X+EQsZuNT0+SO1MmNq3KgPAxz2WVYyfpX5jeF/ip4+8efC7X/Elp4++MFt8RLHUdO0/QvDej2N62kXcESWcVxJJstWjViftTFTMvIGQc/N+vNfKn7Nlw3hH9qz9oP4eaRG0/hu1u7LxDIylVSxvL6ESvEQTuYyAsRtXYiQICQWxQB9V1W1L/AJB91/1yb+RqzVbUv+Qfdf8AXJv5GgD5b/awUeMfjJ+yz8Pv9Qb3xe/iv7Vydo0i0afy8D++ZgM9sV9W1558VfBviXxd4FK+B9fsfCHjaGFRpviC80qO/NupaNpIgj9FlEYRiM4ByASorw9f2qfiv8GZk0/42/Bu+uonkEUHi34at/aOlXDs6hRJDM6y2gy6IDK3zvnAAoA+m/Fd1qFl4Z1W50q3+16nFayvawf89JQhKLyR1bA6jr1FfLX7EOvXPjvRtC8ReIvGerXvj1rPUl1vQrq/mkTc19hJJbUv5ds0ZieNAEU7WdRwmB9Uab4gstd8P2utaVKuqafeWy3drLbMCLiNlDIVJIHzAjGSOvOK8j+Af7Suj/Hq4+16D4c16x028immW+1FbVUR4ZFhaJ1jnd1YnlSV2sAcNkED3cLKp/Z9eMKV1eLc+sdJe76Pf/t37sprWLb/AK0Ln7Tnw51z4geD9Km0eCPX49D1GPVbzwbeP5dn4jhjyTaysMYYHEkYYmIuiiRWU5XyuT4kaP8ADfS9Q+NHw4mW88E6pfrH4v8AAkwFvewaizLHJJbQsR5d+GKiS2OBPgFTuIZ/rmvP7v4E+Br34oQfEObw/bnxXEgX7YGYI7qCsczxZ2NMis6LKVLqrlQcYA8I1OummFwNNmVXRZJQ4WRCjAGNjggjIPPQgHPBrSqnqH+usf8Arv8A+yNVygAooooAqaX/AMguz/64p/6CKt1U0v8A5Bdn/wBcU/8AQRVugD5a8UeONI+NN74wvfHV9D4W+DvgHUPJ1PSNSbZdaxdxFWRryL7yWm4o0UBBa4baSNuEfof2a/CurSeNPHvxAn0qXwToniySC4sfB+0KRgMDqF0hJEd1OMFo49oChd++TLD0LxR8B/A/jT4iaJ421nQob3X9HGbeVyRGzKSYpJYwdsrxEuYy4PlmRiuCQR2dt/yFb7/cj/k1AF+iiigCjqf+ssf+vhf/AEFq83/au/5Nl+Kf/Yt6h/6IevSNT/1lj/18L/6C1eb/ALV3/JsvxT/7FvUP/RD0AfnXD8MYvD2lfs2+JRrd7PDf+L9NuBpkyRCC3ke7so5GVwgcgi3Q4ZiAc4xmv1A1z4meF/DPjPw14R1LWbe28S+JGnGlaYdzTXPkxNLKwAB2qqIx3NhcgDOSAfzY+LGs3vh39nP9njVtN04avqVjrFndWuntOIRdSpdxMkRkIITcQBuIIGcnpXufwb+IFt8Pk134geLNB1vxv8atetCL/UcWkNrbxrl4tLsd1wxgtEbAJwWkYGWQE7VXOVSENJM6qOExGITdGDkl2Vz6s8QfEfwz8OND0GbxPrdrosOp3EWnWj3TbRNcOpKxjjrhWOegAJOKp/H7/khHxI/7FvUv/SWSvz6/aP8AjD8Xvjl4f0TwxqXwIl8MnQtQa8klt/F9hdvMwtpofLAaNVTJmzv+fbtyFPbyTxlD4tPg/XPM+EfjG0j+wzhrif4iaVPHEPLbLPGunqXUDkqCCQCAQTml7Wne3Nqbf2fjOXm9jK3oz7Y/ZO/5BPjb/sKaX/6jejVB+zf/AMn3fHf/AK9rL/0g0ypf2S3Mmi+NGIwW1PSiRgDr4a0bsOB+HFUfgDqEWk/tuftBXs6zPDbWNrM620Ek8pVdP0wkJHGrO7YHCqCxPABJxWpwWbdketfBb/k6H9ov/r60D/02LWdoMh8Qft6eKHu/3g8P+DLW3sUblY/PuN8jgdmOAueuBisv4J+OCv7SHxf1G78K+M9M0vxVeaSNIv7/AMK6hDBP5FoIHLsYf3K7hnMuwYOTjpXVfEDw1qnw9/aE0r4q6bpd7rWhX+iv4e8QWumW73N1bhZPOt7qOFAXkAbMbKgLAMCFbtj0+Z9VUThXnCWjlSil6qELr10cfXQ53xDM2k/t8aQlqfKj1fwQv2xB0laLUB5bkf3gCRn0OK+mCcDNfP8A4N8N6l48+PesfFfUdKvtG0i20218N+H7XVLZre5niNwJ7i6eFwHiy+1FDAMVViQM4Pv7LuUj14q49TyMwkr04LeMEn69vldLytY+OPjh8Wtf1rTdJ1q31iPQfDeo6h5CXt5NNFYaZZ+XI63V35MsLSeaY0QB5VjVp4xyfvXPg38TNf0HwXF4pvbmeXTYZ7hb23a4mmtbuzimdBe2omd3iV41EyKHKMrYy2VcY3jzwTq/hy68HaXBLYJrHg++aazsdauHtbTVbf7PJbJIkyxuQ6pKG+VXKtuUj5g1T/D7wTe3PhvVfCMNzZ3OveIb68ur2PSGaW00pLqRmkIYgfKqliCyoZHzhRuIHwksVmP11Uk38e3Tlu+na1tdvnc/LKlbFe0ik3z83+f/AAD7A0P/AJBcX1b/ANCNX6ztAjWPSYEQYVdwA9gxFaNffH3yCqH/ADHP+3b/ANmq/VD/AJjn/bt/7NQMv0UUUAUNc/5Bkv1X/wBCFX6oa5/yDJfqv/oQq/QAUUV5n8X/ANoLwp8ErrRrXxG14bnVhM1rFZxCRmEWzeSCw6eYvTPXnFAHfaT/AKu5/wCviT/0I1er5yj/AG2vhzp4ZdutXHmsZsw2HC7jnacsPmGcHGR6EjmpP+G6vhx/z7a//wCAC/8AxdAH0TVWT/kKW/8A1xk/9CjrwD/hur4cf8+2v/8AgAv/AMXTD+298OWkF15etjywYvKNgN7bsHcPnxgbMHJz8wwCMkAH0ZRXzt/w3V8OP+fbX/8AwAX/AOLo/wCG6vhx/wA+2v8A/gAv/wAXQB75rH/ILuv+uTfyq7XzlJ+258OdSje0261becDH501h8iZ4ydrE4HsCaJP27/hrEVDwa8m4kDdYqM4BJ/j9AfyoA+jaKw/Bni3TvHvhPRvEmkStNpWrWkV7ayMAC0cihlJwSOhHQmtygCjpn+svv+vhv/QVq9VHTP8AWX3/AF8N/wCgrV6gDxP9tf8A5NP+KX/YDn/kK4v9mP8A5Ib4Y/3Lj/0okrt/20IxJ+yj8VAeg0C5bj1C5H8q4j9mP/khvhj/AHLj/wBKJKAPUKKKKABetIKVetIKAFooooAKKKKACiiigAooooAKKKKAPnD9pn/kuX7On/Y0p/6UWlfb9fD/AO05x8b/ANnYjg/8JVH/AOlNmK+4KAKFt/yFb7/cj/k1X6oW3/IVvv8Acj/k1X6ACqGrfdtP+vmP+dX6oat920/6+Y/50AX6+VP2iv2u/EXwh+LkfgrQPC58QTNptvfbYLC6vZ3MrXAwsduGbAFuxJK4GRk8gV9V18WfEX/lItpn/YqWn/uToAxG/bj+LbMSvww1VF7KfA+uNj8dgz+QpZP22vihbsY7D4Xa3DaD7iXPgrW5ZB3OXEag85IwowCBzjJ+naKAPmD/AIbi+Ln/AETLVP8AwhNd/wAK9h/Zd/aku/jZrOu6D4i05NE8QafiRbNrOazl8vod8MzF1Oc4DBWIVzt2gM3fV8x/tLaPqHwk+IHhv42eGYWaeyuI7PWLaME+erlY42IAJJcFYTgFmJt1BVQxoA+15Zo7fVZZZXWKFLXc8jnAUBiSST0AHc18KftkfHb4S/G79nux8X6F4iaHxFo+pT3Phy88gpM7wTNHKAGxmKZYt6rnLbYmK/Iyjn/jp+0prX7W+mxeD/h5bapovgDULlrPxP4ogYKJrIJuNnFIQAXlJKOELBVKgl1dwHt8O/DL/wBhhtCsWXRE2aarQgraghRhAeBwi4OMgqCORmvGxmYU6Fqdrtnq4XBTre/e1h/gPxNJ4w8H6VrE1pJYz3UQaSCSNkwwJVioYAlCQSpIG5Sp713PhD/kN/8Abrc/+iJKxa2vCH/Ib/7dbn/0RJXx9Np1U0rK59RO6ptN62MWiiisXuarYK1fE3/IRh/68rT/ANJ46yq1fE3/ACEYf+vK0/8ASeOtF/Df9dyH8a/rsZVeTeMNXv8A4C/FrQPi3oi/6KsyWuuQKMLIhAUSNj1XCE4J4VVGXJr1mqOuaLaeItHvdMv4vOs7uJoZUBIOCMZBHII6gjkEAgggVph6zoVFNGdekq0HFn3N4X8TWHjKz0nXNLmE9hfWRnhcEdCy8HBIyDkEdiDXRV8Kf8E//iNJ4K1fWvhB4n1EDUNMm/4kYkGPtNs67iUxgBQET5QNql1UFm3V911+hU5qpBSR8RUg6cnFi1Q1v/kE3X+5/Wr9UNb/AOQTdf7n9a1My/RVW+vVsLczMrOAQu1cZySAOSQByRyapvPe2kkdxcvGLdm2SRRjiLOAG3Hrg8HgDBzgY5ANaqtj/wAvH/XZv6VaqrY/8vH/AF2b+lAFqiiigAooooAKKKKACiiigAooooAKKKKACvKP2oPDt74i+CPiM6e94bvTUj1Zbaynkia8S2kWaS2IRl3rLGjx7ScHeD1AI9XpMA8GgD8+P2R9QsfhD8SvAqWT240Hx5ozWV5JBBFGravbzSLcEtGiho0uQ4jZgWYapEAQqqB+hFfmX8SPC7fC/VfE3w5guF07U9J8QadqvgqR2C+Y0rRW0UUYJAPlxGykSMEGSXSbhwMKzD9CfhZ4+s/il8OfDviuyCxw6tZR3JhDBjBIRiSIkdWRwyH3U0AdXRRRQAV8y/sx+DPEFj8Tv2g/iH4k0e+0vVte8ZNp9rHdQmIXWk2ECQ2k8YONysrOQ3Q7eDzX01Xivxk/Zv8A+FkeKbfxn4a8deJvhx49tLRbOHV9Fu/MtZ40Z3iju7KXMNxEjyyNtwpJc5bpgA9eW+lYArZTkY6ho/8A4uoL+6kNjcj7HOoMbZYmPA4PPD186eA/i58UPhT8UtH+H3xnfw3qGlavH5Gg+MNChntvtswcIkd1C5KQyt8uQjbd88SoCCxX6V1L/kH3X/XJv5GgCvZ3Uq2kIFnORsXkNH6D/bqDWLS38QaTe6ZqOjtfafeQvb3FrcCJ45Y2BVlYFsEEEgg+taNj/wAecH/XNf5Csnxl4y0f4f8Ahu917Xb1LDS7NN0kr5JJPAVQOWZjgBQCSSABmgD5n03xlc/sc6pP4b8W3U6/DHVp5n0PxDfESnTp3JcwTkPlgSWY87iQ0gyrS/Z9j9lb9m+++AaRJZ+IbHxFpzW7ie4ttHWC4u/MkaaI+d9rdfKQSvtUKSS5O/B21ymvXviL43eOIptQs1tbu1KzWGk3kazQeGoWGVurpDlZdQkU5jiORECGboN2H4Y8WeLP2KZbXSL63ufFvwnLeXbXEMe66sizEgEjqxJP7s4V2OIipZIF76OOxGHoVMNTlaE7cystbXt912TKKlZPofbP2yb/AJ8bj/vqP/4uj7ZN/wA+Nx/31H/8XWN4E+IPh74meH4Nb8M6tb6vpsvHmwNko3dXXqjDurAEeldJXAUZF5dStNZ5s5lxNkAlOfkbgfN+PPpVz7ZN/wA+Nx/31H/8XSah/rrH/rv/AOyNVygCp9sm/wCfG4/76j/+Lo+2Tf8APjcf99R//F1booAy9NupV0+1AtJnAiXDKUweB0yw/lVn7ZN/z43H/fUf/wAXRpf/ACC7P/rin/oIq3QBU+2Tf8+Nx/31H/8AF1St7qX+0rthaTElI8qCmR97r838vStiqFt/yFb7/cj/AJNQBJ9sm/58bj/vqP8A+Lo+2Tf8+Nx/31H/APF1booAx9QuZWks82ky4nBG4pz8rcDDdfrXnX7U1w8v7NfxQR7aWFT4a1DMkhXaP3D9cMT+Qr0/U/8AWWP/AF8L/wCgtXm/7V3/ACbL8U/+xb1D/wBEPQB8FfEuNZv2fv2cEeVYFbXLEGSQEqoN3FycAnA9gT7V7H/ZNr/0GrAf8AuP/jVfMXjH4nW/iD4ZfBPw2mi6pZPZeIg0WpXP2c2135WpQpKIgkrSAq0iA+YiZySMgZr6Krxsc0pRurn6dwnCU6FW02tVtb/I6rxdpdrJ4n1Rm1eziLXDkoyTkryeDiPGR7ZHvXD/ABG0i0/4V74o/wCJ3Yk/2XdfwXH/ADyb/plXly/tCeJPE3xLto7vwlZ2Ohazr19pcF5HqJkkDQGXJKbB18vvjOe1d98Rv+Se+J/+wXdf+imrjkuWpqtz6WjJVsC3Co9I7WXb0PVf2SVC6L4zGQw/tLSsMM4P/FNaNyM81W/Z2kaL9un47ssTSn7PZDahAP8Ax4aZzyRxx655HHXE/wCyP/yA/Gf/AGEdK/8AUa0aqXwD0231j9tz9oKwvI/OtLqwtYJo9xXcjafpisMggjIJ6V9Ifh32tT7Di12Ke+uLKOJpLy3VHmt1miMkavu2Fl35Aba2Ceu046VO19IqlmspwAMklo+P/H6+e/2b/C+meDf2hf2g9H0e3Npp1veaI0UJleTaX0/zG+ZyTyzsevGcDiu9/aW8C6J4y+Dvi2XV7M3UmnaLfz2rLNJGY38hjn5GGeVXrnpUqTtc9GphadPExo8z5ZKLvbX3op7X8+52raxHq+l2N7ZIbmzuGhnguYZYpI5UJUqysrEMGBGCOCDWn9sm/wCfG4/76j/+Lrzf4A/8m3/Cb/sXNF/9J4a9TqlqrnFWp+yqypro2vuMbVrC0162NtqWiLqFsTkw3UcMiHtnDMR3/WjSdOs9BtRb6boa6fb5z5NrHDEn1wrAVs0UHPyxvexj6PdSpp8QFpM4y3zKUx94+rD+VXftk3/Pjcf99R//ABdR6H/yDIvq3/oRq/TKKn2yb/nxuP8AvqP/AOLql9pl/tjd9kmz5GNuUz97r97H9a2Kof8AMc/7dv8A2agCT7ZN/wA+Nx/31H/8XR9sm/58bj/vqP8A+Lq3RQBj6xdSvp8oNpMgyvzMUx94ejH+VXftk3/Pjcf99R//ABdR65/yDJfqv/oQq/QBU+2Tf8+Nx/31H/8AF18U/t5HQLj43fAE+LdFbV9BFzqv2rS5NKfVPPXyYSD9miSUyAMASApIwD0BI+4a+Jv2+NFtdf8AjF8B7K8Epgmv5om8iaSFwsl7psbgPGysuUd1JBBwxoA6/wAP/AH4H+KdB03WtL+F/ga70zUraO8tbhfDVookhkQOjANECMqQcEAjPIBq/wD8Mx/B3/ok/gf/AMJyz/8AjVd7oei2XhvRbDSNMt1tNOsLeO1tbePO2KKNQqKMknAUADJzxV6gDzT/AIZj+Dv/AESfwP8A+E5Z/wDxqj/hmP4O/wDRJ/A//hOWf/xqvS6KAPNB+zJ8Hl5Hwo8Dg4PTw5Z//GqP+GY/g7/0SfwP/wCE5Z//ABqvS6KAPNP+GY/g7/0SfwP/AOE5Z/8AxqvJP2mfhf8AAzwH8J/FSL4S+Hvh3xK+lzTacq6bY2t4XAwrQjYHJ3DAK8g9Oa9/+JXxG0L4SeBdX8W+Jbo2ejaXF5szqNzsSQqxoOMuzFVUZGSwGR1rwvwF8B9S+N2rT/E34wwajp+qanEkWleD7O/ns4tH09d5iiuDCyNLcMZHdyx+VmCgKF2gA+iP2TLiSP8AZf8AhOq20soHhfTsOhUA/wCjJ0ywP516x9sm/wCfG4/76j/+LrjfgRpltovwZ8F6fZRCCztNKt4IIgSQkaoFVQSSTgADk1y/7VX7Qi/sz/DOHxdJpK6vG+oR2UkUk5hWNWjkdpCQjEhRGeACTnjPSgD03T7qVZLzFpM2ZyTtKcfKvBy3X6cVd+2Tf8+Nx/31H/8AF18aaD+298RtctUv9F+BOu6pp1229by3jvZImbBB2lbQ8DaByepI7Vsf8Nh/Fn/o33xF/wCAuof/ACHQB6h+2JO8/wCyz8VEeCS3X/hHrsmSUrt4jJH3STkkYHHUjOBkjjf2ZP8Akhvhj/cn/wDSiSvDf2mP2uvH+r/AXxvpXiX4N6p4T0zU7CXT21S+S9SKIyDarEtaqCcnpnJxxmvcP2YWD/AzwwRnGy4xuUqf+PiXsQCPxFAHqVFFFABSUq9aQUALRRRQAUUUUAFFFFABRRRQAUUUUAfNv7TrH/heX7Oy4P8AyNCtu7ZFxZkL9SeB2z1IHNfa/wBsm/58bj/vqP8A+Lr4d/aq1E2vx8/ZnthEX+1eLVTfuA2bZ7Rskd8gEV920AY9vdS/2ldsLSYkpHlQUyPvdfm/l6Vd+2Tf8+Nx/wB9R/8AxdR23/IVvv8Acj/k1X6AKn2yb/nxuP8AvqP/AOLqjqVzKy2u60mTE6H5inJz0GG6/XitmqGrfdtP+vmP+dAEn2yb/nxuP++o/wD4uvjX4gMz/wDBRHSWKNGT4UtcoxBK86n1wcc+xNfatfF/xJjCf8FFNGIPLeEbVj9d2qD+QFAH0BRRRQAV5J+1RkfBi8wcH+2NEwf+4taV63Xkf7VP/JF7z/sMaJ/6drSgZ5j8HdHtE/Zt8CRpqdjDH9ktH3eXMFBNpFlcCMnPckDHPUmtT+x7T/oO6f8A9+7j/wCNVzXwhYt+zT4IJOf3NsPwFpEBWhXwOLklU1jc+ywsW6ejNX+x7T/oO6f/AN+7j/41Wv4V0m1j1jcus2Mp+z3A2ok4ODBICeYgMAHJ5zgHAJwDydbXhD/kN/8Abrc/+iJK56Uo86938zoqRfI/eIv7HtP+g7p//fu4/wDjVH9j2n/Qd0//AL93H/xqsqis3ON/h/MtRf8AMav9j2n/AEHdP/793H/xqtPxDpNrJfxFtasYj9ktRtZJycCCMA8REYIGR3wRkA5A5etXxN/yEYf+vK0/9J460U48j938/MhxfOveD+x7T/oO6f8A9+7j/wCNUf2Paf8AQd0//v3cf/GqyqKy54/y/macj/mOL+OngebRfDVl8SvDWrW58R+Fb+GYvbCZTLbASMwJMY+aMguCQQqmUgFioP3Z8G/i5Y/GD4e6T4k0vF6J4kFz9m+VY59ql02yEMME9COPfrXzBGqyeCb5WAZWv4AVbkEGObIIrzr9lf4gH9mn4+XHgLUZvJ8E+Kj52mPIQEgkyTtHptJIOOApLsSWAH1GX4pK1Jq1z53HYd61E9j9HPtk3/Pjcf8AfUf/AMXVPWLqVtNuAbSZAU+8xTA/Jj/KteqGt/8AIJuv9z+tfRnhCzTPcQvFJYTujqVZS0eCD1H36zY9W8iyltdQt5GMQ8tt7JmRTkKcbuSQCCB3BAroKha2ia4WYxIZlG1ZCo3AHqAaAM3S7q6WzRZbK5O3IRnKBmUH5SwLZBxjP07ZxVvTWZ1nJRkPnN8rEZHT0Jq7VWx/5eP+uzf0oAtUUUUAFFFFABRRRQAUUUUAFFFFABRRRQAUUUUAcH4z+CPg74heJLbWvEOk/wBpzw232OS1luJBaXUQcuiXFuGEc6ozOVWVWCmRyBk12lraw2FrFbW0UdvbwoEjiiUKiKBgKoHAAHAA9KsVQ1nWtP8ADuk3ep6tfW+m6baRmW4u7uVYookAyWZmIAA9SaAL9FYPgzxpovxC8OW2uaBejUNLuGkRJvLeJt8bsjqyOAysrqylWAIIIIreoAKKKKAOB+Nfwh0r42eA7zw5qbG2lJ8+xv4wTJZ3ABCyLgg4IZlYAgsjsuRnNcL8C/i9qmtW+tfD3xyv2L4jeHYGW4WQjGpW4AC3UZAAcEFdxUAHcrFYy5jT3ivEf2nvhxpet+F/+Eyi1mHwj4r8NqbnT/EDtsAwG/cSEAlkYM6jhiPMYbWV5I5AD03xF4w0fwH4Qm13Xb6PT9Ls4VeWeTJ9AFUAZZmJAVQCWJAAJOK+YNa1rxN8W/HVrd3VoLTVbcC50nRLpRJb+G4GyFvr1QcSXrjPlw5+TnkAO4zLHXvHHxc1Lw/ceIrG30/xTa2sVxaaHsL2XhwMu06hdoSd95INxitySYwSM8SSV7V4U8KWPg7SRZWQkkLyGe4urht891M2N8sr4G52wMnAAAAACgAAHhMP9vfsp6pcy3c9/wCLfhrql211c6hMol1DTrmV8vJIVUeYrMc8AbsgDEgVbja+N/7QOh2PhHTtI8K3+keI9d8WxGHTI2niltfJclHnkJypQYcAEEEq2RtSQr3fx6lMPwN+IsgRZCnhzUWCsMg4tZDgjuD6V8yfAz4c6F8UfFUXhubwn8LtG2+GNEvrK81XwBbalcahM2l2c175krSod6vdRsMglg7HnYxIBBrHw1m/Zx8Hy+N/AHxZtYtZ0fTjcapbyXUbR3QijJKoihvOUKMLHKrOwWMCZADu9v8A2Q/257r4+eK7fwV4m8KXmheJJNLl1WG7+yy28E8McioQUlAIfDox8tpE+bAbiuG+Pv7K9t4Q+G2oR6LoHwo1jxNrGdJ0bTdP+GtjaXNzdSo2PLmNwRGY0WSYuR8qxMeoArqv2dvhD4k0H44ab4y8TX+uLbW1je6Doem67Y6XBcQ2IhspGlmewRVZmnSZV3ZOxATySSAfYGof66x/67/+yNVys6+uIjNZYlQ4nz94f3Gq59qh/wCesf8A30KAJaKi+1Q/89Y/++hR9qh/56x/99CgCHS/+QXZ/wDXFP8A0EVbqhplxEum2gMiA+UgOWH90Va+1Q/89Y/++hQB4J8Vf2jvGXhX4wSfDzwL8Jbr4j6lb6LDrd1NDr9ppqwRyzSxKMT43HMRPBzz04yeb/Zw/aQ8YftBeCdS8Sw6PpPhe+tNVn0q6sbrzLsAxLGQQ6OvIMjAnkEgEYFbXxU/Z/8AHPiP40SfEXwB8Xrb4fXlxocGiXVrP4ah1USpFPLKGDSTIFyZcYC/w5zzgfAf7Md9qGh+C9WS78VLDc3Wpf2hLjxDq+kgtPbW8x/c2cMkfBkI3bgTjkAAVpTSclzbGNVyUfd3P05/t7x5/wA/fhz/AMAbj/49Xy78Vv2/vGfwv+KWv+EX8NaFfwaLNHBcao0ksKlnsVvQAhc8mMsFBPzMhGRkE8P/AMJTcf8AQ4D/AMLvxL/8iV85/FaFde+L1lGBB4jmu/EPhmN4pJ7jW1uSWvVEbrfiFpQQAvlsVQjA3AEkdE409LI5adSrd8zP1l/tjxlJzc3WhsyfND5VnMoEnQFszHK4J4GDnHPBB81/aW1rxnJ+zz8SVvbrQntD4evvNW3s5lcr5DZCkzEA+hINfN7fBub5f+LNaH1/6JTov/yzrk/i98JZ7P4VeL7gfCXR7Aw6TdS/a4fhppFq8IWJiXE0eos8ZAGQyqxGMgEjFPkjbYFOd1734HH/ABU8D6B4G+Bfwe8a2ltctqdz4gXzxPqkxgwb1ZH8uOWTyIAxhBYqEBIBYnGa6z/hoix/6Blr/wCFHpf/AMkVU+Pm9f2TPgcY2kSQeJItphMSuD9okwVMoMYI7FwVz1BGa577dqf/AD+69/4GeGf/AIzXgYuKlJXP0nh7EToUqii2r+SZwmpzL4g8J+BrhYty3fjLWJhGts9+MM9w2AlvIrSAZ6o+O4JHXS8WeG/L8K6y/wBhZdtlMc/8IXq8eMRn+Jr0qv1IIHUggYrKurK6vvAfw/CWc2oSTeLtX2JJbNdNKwa4JyloV3nufKwvUjgYqxb+FvFPjPwbrLHwPBoht7W5W+kuLS6Q2gSIlwM3bMJSCpVZIhkMrEFTk42fN5f8E9CM4Oly2u3FdX/Kj7v/AGQv+Rc8Xf8AX/pPYj/mWtF7Hp9OtN/Zv/5Pu+O//XtZf+kGmU79kOIW/h7xfECxCahpKgscnjw1ow5Pc1S+AthZar+21+0DYalbW95p93Y2tvcWt1GskU0bafpqvG6sCGUgkEHgg4r2D840vqeqfA/UrS6/am/aMjguoZpPteh/JHIGPyacqPwD/CwKn0Ix1r0r48XUNn8EfiBNcTRwQr4fv8ySMFUZt3AyT7kVBpPwN+Fmg6na6lpnw+8H6dqNrIs1vd2mi2sUsLg5DI6oCpB6EHNbfi/wL4O+IMdtH4p8O6H4ljtSzQLrFlDdiItjcUEinaTgZx1wKhJ2sepWxFGpiYVVflSinor+7FLv1t8vM479nq4iuv2a/hO8MqTIPD+joWjYMAywRKy8dwwII7EEV6vXF6D8PvBnw/hmHhXw1oXhr7ZPAbn+x7CG087Y/wAm/wAtRu27mxnpuPrXX/aof+esf/fQqlorHFiZxqVp1IbNt6+ZLRUX2qH/AJ6x/wDfQqld65b2cyxYeaRl3YhAbAzjJ59aZzD9D/5BkX1b/wBCNX65zSdeihsI0NtcEgtyIx3Yn1rXtNSt7y3SZJAFbOAxAIwcEEfWgC5VD/mOf9u3/s1WvtUP/PWP/voVR+0Rf21u8xMfZ8Z3Dru6UAadFRfaof8AnrH/AN9Cj7VD/wA9Y/8AvoUAVdc/5Bkv1X/0IVfrM1q4ibTZQJEJyvRgf4hT77V4bGNGwZ2kcIscTLkk5PUkDsepoA0K+Nf23v8AkufwB/7CTf8Apx0uvrOPXlNxBFNaTW/nNsWSR4ioIUtg7XJHCnt6V8e/t5a1a6P8YPgVf3Bka2t9QkeT7PC874W+01jhIwzMQqscAEnBwDQB9E0VneHvEGneLNB07WtJuVvdL1C3jurW4QECSJ1DIwBAIyCDggEZ5ANaNABRRRQAUUUUARz28V0gSaNJVDq4WRQw3KwZTg9wwBB6ggEcivj/APbO+IPjXw38QdMsPDHii50K3h0WTUHhj3+XKUjvJXBCOjFiLdFBLELknackH7Er4t/a78G+JviR+0N4S8I+DpdIg1/WdJa0SXXmljtEha31MylniVmDbAwUhSNxGQRmgD7N/ZX1C51b9mv4X315K1xd3PhywmmmbGXdoELMccZJJP414N/wVk/5NUb/ALCy/wDpHdV9H/A7wdcfDH4NeB/CWp3dpc6joejWmnXM1rITC8kUSoxQsASuQcEgHGMgdK+bf+Cr7rN+yrL5bB9uqqzbTnA+yXQyfQZIH4igD32+8Jat4R1zWPE/gqETvcXbS6t4aaQRw6kdq5mhJIWG6x/EcJLwsmDtlj1bj41eHP8AhF7XVrJ7nUrq8naytNEt4iNQmvFB3WphYgpIuCX37VjUFnKqC1J4m+I0Pha5bS9OthrfinUZnNhpEUoQuoChppnwRDApI3SEHBIVQ7sqNyMPwX1DQ9em+IWna1Z3nxRuI/Lvri4Hlaff2/y/6CIxuMMahECSrukDKGfzRlCAcR+1F4Fv7r9mv4peK/GUkN74kXw5eCysbdi9no0bRkFIMgb5CCQ87AMwJACIdlS/sx/8kN8Mf7lx/wClElX/ANpX4gaf46/ZG+LwgjlsdXstBu4dQ0e7AF1ZS+UTtdVJBBAJV1JR1+ZSRzXC/sv/ABP8Pv4F8LeEJJb6y8QvBcyJZ32l3VsHVZWc7XkiVGIV1OAxOD04OAD3uiiigAXrSClXrSUALRRRQAUUUUAFFFFABRRRQAVHcXEVnbyzzypBBEpeSSRgqqoGSSTwAACSTwAKkrlfijo3hDxH4B1nSvHqac/hK8hEF+uqyrDBtZgFJkJGxg20qwIZWClSGAIAPF/2n/Cet658c/2b9V03Sbq+0zSfFqSahdQpmO1V5bZULnsCQQD6j6V9xV+b/wAPfjSvwr+IfhH4Pap4vtPiP4e1HXNO/wCES8U6ffQXd1FCl3CWs9REb5DxgqFmC7XXnCkMqfo39qh/56x/99CgCrbf8hW+/wByP+TVfrMtriIapekyJgrHj5h6NV77VD/z1j/76FAEtUNW+7af9fMf86tfaof+esf/AH0KoapcRMtriRD/AKRGeGHr1oA1K+Mfib/ykS0T/sULX/0PVK+yftUP/PWP/voV8W/FS8t7X/godoNzPdx28C+EbVSzuqoSX1TGSe/0I696APoeio7e4iuoUlglSaJxlZI2DKR6gjg1JQAV89aD48/4WJrWq/Bb43aNY6f4puCbvT306Sa307xFaRSiVJrNzIZI5oiqGSEuXXbvBKlgn0LXwx8VpJfil8I9N1jxH8QrDVtQtfFNrJb6H9ntYry0cautuBBNEVmjIiJJIyxGSWwRgA9D8H2UGm/BbQ7S2jEVtb3IiijySFVYEAAJ54AA5qCoPhHbXtz+zf4KeSK4mnkit5GZ1ZmYm1jJYk5Jyc8nqa0P7NvP+fWf/v2f8K/P8ZFuq9D7XCySprUrVteEP+Q3/wButz/6IkrO/s28/wCfWf8A79n/AArZ8JafdR61lraZR9muRkxnGTBIAOnrXPRjL2kdDoqSXI9TnaKs/wBm3n/PrP8A9+z/AIUf2bef8+s//fs/4Vlyyvsy1JW3K1avib/kIw/9eVp/6Tx1T/s28/59Z/8Av2f8K1PEmn3T6hEVtpiPsdoMiMnkW8YI6diCK1UZcj0/rUzclzrUwqK2lsZ7G0hlgspHnkBDSSRljGQegXGBwQQTnrxgg1HqGm3Nwsd2lrNmXIlURkYkHU4x0OQR2ySB0odFpXGqqv5Elv8A8iZef9f8H/ouavKPjR8P5PHvhB1sD5eu6dIL3TpVwD5y8hMnjDYAGQQGCsQdoFevw6fdf8IfeJ9mm3fb4Dt2HOBHLk4x05H51jf2bef8+s//AH7P+Fae/TcJRWxn7s1KLe57f+xZ8fE+OfwjtHvJMeI9HC2WowsW35AwrkN82SB/F8xwGIG4CvdNb/5BN1/uf1r8zfD/AIg1H9lv9ofTPGEFrcJ4R8UTfZNTt1jIVJ2OWIHTLcyAADLBmYgKBX6U32pWuoaC89vcRyxTQiSNlYfMp5BH1Br7nC1vbU1I+PxFJ0ZuJsUVF9qh/wCesf8A30KPtUP/AD1j/wC+hXWcxLVWx/5eP+uzf0qX7VD/AM9Y/wDvoVBp7BhcEHI85uQfpQBcooooAKKKKACiiigAooooAKKKKACiiigAooooAK8A/bK+Et/8TPhk15pTzTX2irNP/Z6h5UnhdNsjLECN08YAkjI+fKtGjJ5pYe/0UAfE3wP+J1l8K/HGm31vPKvwx+IEywbbm8a5/sLW1jXMDyuSzRSRhDHISQ8JgZQscbO32zXxH+0x8LW+FL+ILiy0u31L4b+LoJLe+sJ7iO3j0zUAWltpUaQGNSJj+7D4U73hYkG2iH0P+zSfGafCPR4PG8b/ANp26iG3uLgMlxcWwRdkk0bZaN8llAclyqo0gSRnjQA9VoorG8VeKtK8E+H77W9bvY9P0uzjMs1xM2AoHb3J6ADqTQAeK/FWleCfD97ret3sWn6ZZxmSa4mOAAOgA6kk4AA5JIAr5f8AEXiTxJ8XfGlqzWv2O7t9t1pmjXibodDhOdmoX6ZAe6YAmG3J+XGTghmjj17xL4j+MXjS0me0+xXduRdaVot6m6HQoSSE1G/TI33bgEw25IKdTghmT1Xwn4UsfB+liyshJIXkM9xdXDb57qZsb5ZXwNztgZOAAAAAFAAAE8J+FLHwfpIsrLzJDJIZ7i6uG3z3UzY3yyvgbnbAycAAAAAKABs0gpaAOB/aAYr8BviSQcEeGtSwQcH/AI9ZK8m/Z+8GXfiL4Yarquh2sdx4r8O2/hfWdJRgB58yeHbESW5J6LcRPLCSenm7uqivRfi54o0bxp+zT4/1nw/qtlrekXXhnVDBf6fcLPBKFt5Vba6kg4ZSDg8EEHBBFcP+zj4yvfB3wn13+xhHN4o1a18K6TokEo3K17N4esAjMOpSNQ8zgciOGQ9qAPW/A/ivw18VPE2pfFZmt4Ph/wCG9Ka30u8vIhFH5jxibULpwRwI0EUGTgo0V0vQnPS6D8QPC3xI8WeHrnwrqVvqmmRtfWt2sEbIomWKCQLIjAHcFkVhkdHBHWvIfF3h2P4H/Bb4xfCxbq4udFm8DarregXN45eSQ/ZZE1GIserCd0uCT1N8wHC8dR8IP+S0+Lf+xluv/TFotAHvV7p9qs1mFtoQGmw2IwM/IxweOmQKuf2XZ/8APpB/37X/AApuof66x/67/wDsjVcoAq/2XZ/8+kH/AH7X/Cj+y7P/AJ9IP+/a/wCFWqKAMvTdPtX061ZraFmaJSSYwSSQM9qtf2XZ/wDPpB/37X/Ck0v/AJBdn/1xT/0EVboAqf2XZ/8APpB/37X/AAr8kv2e9amtfCFyn9v/ANn7pLRjEfE+sWBJOnWmW8u0gkjOcfeJ3HGCMAZ/Xevx6+Cfiy68L/DXV7u21C4L20dvcLpdn4m1XT5rgrploQqR28RhLNjALOpJwCQADWtO3NqYVvhPXv8AhI5v+htX/wALrxJ/8iV86fFS4i8T/FyytzcQeJS3iLwzbSxPPd6+rktekxPHeLE8uQwzCcKwbGRk49WvPjZb6lpemtD45n0q21aNVi1CT4h6rbNDKyrIIT9sSJFcowZpDuSJWViJC0UU3jfjlIdc+JGlwC80HxOs3iHw1FJDol5F4jsGLSX5aIINvnFiSWjkdnkZ2Z5GaQmuiVuhyx5tbn00/wAI7L5f+LXaGOf+iLWg/wDbuuU+L3wvtLD4V+Mblfhvo1k0OkXcguY/hFbWbRERMQwnF0TERjIcAlcZAOMV1j/CSy+X/i12hjn/AKItaD/27rk/i98L7Ox+FXjG5X4b6PZNDpF3ILmP4RW1m0RETEOJxdExEYyHAJXGQDjFVbR6Ep6rUzPj9I0P7JPwRdGeN18RxkPEYlYH7RJyDKDGCO28bfXIzXLfb7n/AJ/tY/8AA3wv/wDGa6P48TR6h+yn8E7C2k8+8HiOJTb27QmUE3EgACyAoCcjG8FemQRms3/hAdf/AOgF4l/79eGv/kevn8VLla1sfouQ0vaU6j5ZP0OBS31jXPAfw30nTJllnbxhqwgj1GUeShLT5dhbFVyBk/usKSMDAOKb/a3izwDpHiiLRrzU9GvLuyn07X7O6120mXCRtiVN7Qy+YQSVyjJsmyuQFU6i/Dv4ueF7vRdMh8HTRnQtbvr2O4nudP3r53mruYR3ARivmA7VRVOMDaKZ4p+E2vadpeuaubTxjcSvp9wLubWLvRr1nUIzD5nUsoUkn5QWAJC7c5rDntO3MetHDc2H51SlstbeSPt/9kHP/CN+Lsu8h+36T88jbmb/AIprReSe5Pc9zVL4ExXFx+2x+0FHZx20l59itWt1vATD5o07TdhcDnGTzjnBNWf2Rby3j0jxZaPNGl019pLCFnUSEf8ACNaNzgHkcHkDHBqT9m//AJPu+O//AF7WX/pBplewfnOzPWfgj4w8UeKPit8V/DPjC30MN4Xm02C1i0e3IhCz27TltzjezEMgOeBt4HUmTxv4svNZ+PWm/CrSr7/hFBL4efxDNq9rp8M9xOBceSIITMjxIRguzOj5ygAHJqn8Fv8Ak6H9ov8A6+tA/wDTYteseOvHVj4D0qK4uIpr6+upRbafpdoA1zfXBBKxRqSOcAksSFVQzMQoJrNbbnt1+WGKShTTbhCy6JuEXe2q3bep5F4L8ReIfD3xy1n4YeI9Qh8TwJpFp4h03WpLKG3uvJe6Nu8E6wqsbHcmQyovHUV7v/Zdn/z6Qf8Aftf8K8z8C/DqXw9rmqeLfElxBdeO/EktubpYXzFZ2sTqI7SDIBMce8bnwC7sWIGQo9Wqo3tqcGMlTlVvTS2V7aJu2rS9f8yr/Zdn/wA+kH/ftf8ACs280vydSWeDTYLiIw7Cvyrg7s5wRzxW5RVHCcxpUcjWMZOjRTHLfMXTJ+Y+o7Vo6To0NvYRJPaQCXLFhsDYyxIGcc4BqfQ/+QZF9W/9CNX6AKv9l2f/AD6Qf9+1/wAKo/YLX+2dn2eLZ9nzt2DGd3XpWxVD/mOf9u3/ALNQBL/Zdn/z6Qf9+1/wo/suz/59IP8Av2v+FWqKAMjWNPtY9PlZLeFGyuGVAD94Drik1TR43jge3soJGjlDlNqruGCCM49xVnXP+QZL9V/9CFX6AOfbTXvL2yL6VBbRQyl5GyrZHluoGAPVgfwr45/4KDJpVj8Svgs2oXFxpmlrdTyXU+n3E1rKkYvNODsskBWRSEZ/mUggE4Ir7mrxz49fsxeHP2gtS8N3+tapqel3WgrcpbNYwWNwjicR7w8d5bToSPKXBCgjJ55oA8q8M/tAfBzwd4d0zQtI8SwWmlabbR2lpb+TdP5cUahUXcyFmwABkkk9SSea0/8AhqT4W/8AQ2wf+A0//wAbqja/8E+/B94shfxZrQMcjRDZoHhocKcAn/iU8nHU96sf8O7/AAZ/0N2uf+CLw1/8qaAJv+GpPhb/ANDbB/4DT/8Axuj/AIak+Fv/AENsH/gNP/8AG6h/4d3+DP8Aobtc/wDBF4a/+VNQt/wT48HLdRwDxZrWyRGkJOgeGs5UqBg/2TwPmPHfA9KALn/DUnwt/wChtg/8Bp//AI3R/wANSfC3/obYP/Aaf/43UP8Aw7v8Gf8AQ3a5/wCCLw1/8qaP+Hd/gz/obtc/8EXhr/5U0ATf8NSfC3/obYP/AAGn/wDjdeSr8RvDnxE/bg+FN34f1FdVso4mt5WWJ1XcbTUztIZRnAZSevUV6bef8E+fB9lay3EfizWi8alwH0Hw0y8DPIOk810Xw9/Yb8H/AA9+Ifh/xhb+INa1DUNDmlntYJbDR7WItJDJES5tLCGRgFkYgb8ZAJBxQB9Df2XZ/wDPpB/37X/CvnX9u74FeJvjp8B5vC/gm0tm1WbUIpJoWmW3DwFJEbk4VtpdX2kgHZwcgV9KUUAfDPgqw/ao8IJqc1t8O/A2s6zfTeZqGqalODcTyAfKhIugojUHCogVFDHCgkk/Tfh6+8eTaDpj6z4E0GLV2tY2vI7fVsRrOUBkCAwt8obIHzHjuetd7pn+svv+vhv/AEFavUAfnv8AtsaV8ctU8L+PNVTwR4Z8O+FrDTZoBr+l3u/UW05oV+0RSZkQSqWaTCNEMEArhgHPoHgTXPEPxe8WeBPFaeFjovhjSotQ2XtxqEUss4ZRCgEajKklCTkkAA89M+wftoMV/ZR+KxAyR4eu/wD0Wa84/ZH1J9Y/Zz8E38kSwPdWsk5iVy4XdPIcZIGcZ64FAHr9FFFABSUq9aQUALRRRQAUUUUAFFFFABRRRQAV5/8AHDwvqvizwPBb6NYQ6rfWusaXqQsbiZYlnjtr6GeRN7AgEpGwGRjOAa9AooA+Vvin4y1W3+IPwd0PU/hzD4YfUvGWmyx30GoW83yR3ESyIRGoOGEwBGcEZBBr7v8A7Ls/+fSD/v2v+FfD37VOoQ2vx1/Ztt5C3m3Xi2JYwqkjIurNjkjpwD1r7roAyLfT7VtSu0NtCVVIyF8sYGd2eMe1Xf7Ls/8An0g/79r/AIVFbf8AIVvv9yP+TVfoAq/2XZ/8+kH/AH7X/CqWp6faxra7baJd1wgO2McgnkHiteqGrfdtP+vmP+dAEv8AZdn/AM+kH/ftf8K/NT/goJo3hi9/ad0iPWZNTtwmj6HiDT1U2rwtqs63LXA2llC2zXTIYyrbgckgYr9Na+HPjZ4Z0rxZ/wAFBtCsda0uw1jTz4RtGa11C2SeMkPqhB2sCMg85IoAs/8ABP8A8z/hlnwt5ysk32jUDIrLtIb7bNkEYGDnORgYNfRVUdE0HTPDOmRado+nWmladDny7OxgWGJMkk4RQAMkknA5JJ71eoAK8K/ag8F+HrH4V3mpW2g6Zb6j/bWjSfa4rONZtzaraBjvAByQTk5ycnPWvda8j/ap/wCSL3n/AGGNE/8ATtaUAeW/BrxDqqfs2+CZV1O8WRYbeIOs7AhBbR4UHOcDsOgrY/4SvW/+gxqH/gVJ/jXMfB3/AJNp8Ff7sP8A6TR1pV8DjKklVep9nhIRdJNo1f8AhK9b/wCgxqH/AIFSf41reFfEmr3GsbJdUvZV+z3DbXuHIyIJCDgnqCAR6ECuUra8If8AIb/7dbn/ANESVzUqk+danRUhBQehF/wlet/9BjUP/AqT/Gj/AISvW/8AoMah/wCBUn+NZVFZ+0nfctU49jV/4SvW/wDoMah/4FSf41peIvEurw6hEseqX0am0tWKrcOBkwRkng9SSST3JJrmK1fE3/IRh/68rT/0njrRVJ8jfN/WpDhHnSsWdP8AFWqvM0U2r3gEqlBK1w+Y2yCDnOQMgA+xPoKlbxNqVjDKkms3lzcuu0CO5YrGcg5355PGMDgg9e1c5RQsRNK3UbowbudXD4k1dvCV3KdUvTKt9CokNw+4AxykgHOcEgEj2HpWT/wlet/9BjUP/AqT/Gpbf/kTLz/r/g/9FzVi06lSdo+8TCEby0M/4i6bcfEvwbqXh7VdSupba7jwrSytII5Aco4UnBKsAcHggEHgmu1/Ye+OF34s8L698PfGUnm+NfDbMomun8yaaMHGSzDc3QkMcFgGIAVQTzVeY+MjP8K/ip4W+KumxTPBZzpZa5b26lmltXIXzAozlgCFwBliIwSqhs+lluLdOqqcnozgzDDRnT54rVH6f/2XZ/8APpB/37X/AAo/suz/AOfSD/v2v+FY3w+8bad8R/BuleI9JmWay1CBZkKsGCkjlcjg4ORkcHGRwa6Ovs99UfKFX+y7P/n0g/79r/hTNNjSJJ0RVRRM2FUADt6VdqrY/wDLx/12b+lMC1RRRQAUUUUAFFFFABRRRQAUUUUAFFFFABRRRQAUUUUARTQpMoWRFkUMGCsARkEEHB7ggEH1FS0UUAYvizxZpPgfw/fa7rl9Fp2l2UZknuJjgKB2HqSeAByTwOtfFPxq+MvibxJq9tqq+Ede1y+tZo5NI8K6bpkl2NFRgSmo6goGw3RUborZmBQEMcMcrxX7UHxmn8SfHLwl/wAJl401DwD8P7DWddsbdNEt1uZRc6eYY47qTfBMpZnlbaPLIQKCG3HI9b/Yk1S61z4B2WpXl5canPdanqEn9pXkQS4vFF1IElkIRSzFQAWIBIAHYAAHMeFP2iL3wfpIsrL4GfE6QvIZ7i6uNKLz3UzY3yyvxudsDJwAAAAAoAGyP2stc/6IZ8Sv/BQf8a+iK4/4ra14x0PwdPJ4D8PW/iPxRPIltaQ310tvaWxc4NxcMSGaKMfMyRgu2AqgZLAA8A1r/goDpXhrxBFoGr/DXxlpWty24uo9PvbaOGd4SWUSBGYErlGGQMZBFanhf9urRPEXiTS9Km8EeJNKivrlLd7+9WFILcMQDJIxcAIuck9QAcAnAPYfAv4aeG/hD8UNJsb/AMRxeI/i74liuNT1jXNQuIxfXxWPbuW3BylsoBSONcJGq4GSCa+rPst//wA/yf8Afj/69AH5n/H7SbH4DeGfHWt/CLWNH1Xwf4ssbq18ReA7XUI2WC4uImiGo2CKT5bKWUyRgbWRcYG1SnR/s/ePIfhr4n0zxRrWkNr2jf8ACMaINCbTfEWhQoLn+x7O2vZJEu9QgcSRm3MK4X5Q04Jw1foTPp91cwyQzXMMsMilHjktgyup4IIJ5BBIIPWvOLX9nX4cm7u0XwB4NXy2Uf8AIt2mPugjA2cCgD5t/ai+PGn/ABq+EuraNonhy60jxMsE403ULzxV4XWGMywSW88chXVyRHJBNKhIBwWVgCVFbvw5+P3wu0H4yeK5NS+Jfg+xhbxFcSpNca9aIjIdF0mMOGMmCpeORQRwTGwHIIHp/wAYv2TvCfjL4T+MdC8O+DfBmn6/qWkXVpYXf9g28HlTvEyxv5iIWTDEHcoJGMgE18z+L/BvjjwhNf6J438LeD9Ah1DwLPaxL4ZBkS8it9T0uOYXCsiglhdqO4I3AjmgD9AI9Ss9as9H1HT7u3vtPuylxb3drIJIpo2jZldGUkMrAggg4IIPStivDfjx8ZfDv7Lnw/0Wa4iE0rSx6X4c8J6FYqLm+mC+XDbWsCn7oyi4AwoKgAkqp6D4pfFa/wDhT8KJfHeoaBrV9a2kcFxqOlWNnDNe2EDFfOkkRJirCFSzP5bOPlJBKgsADtPGPjrw38PdI/tbxX4g0vwzpXmLCb7WL2K0g3tnau+RguTg4GecUvg/xv4c+IGirq/hfxBpfiTSXdo1v9IvI7qAup+ZRJGSpI7jPFeG/tJTeGvjF+yT4l8S2l3o/i7Qm0iTVtJvGs0nRJVRgk8RbJjlXLDIAZTuBwcirHwL1Twv8Df2OvBHiXUr/SfB3hi08Lafqmo3KWawx+ZJbRM8jBMGSWR2A4BeR2AAZmAIB75pf/ILs/8Arin/AKCKZq2rWHh/S7zU9UvbfTdNs4muLm8u5VihgjUFmd3YhVUAEkkgAAk15t4D+JWs+Mfgbb+PLPwzrFlPNptxfWPhi9t449RnRN/2dCN5VXmREZQTgeaATwak+GPxE8M/tLfDF9V0u5g1XQ79ZdO1TRdW09RNazAbZ7G8t2J2yLu2sjZBBBBZWViAM/4aw+CH/RY/h/8A+FRY/wDx2vys+EfxQg0Xw3N4dj8UL4ZuLn7DNHdr4/k0ctu0+2+QW5CxRqVQsblmYADaqSOUQ/XP7BPwB+H/AMRf2d9G1nxN4G8I+ItVdLaNr3WfD9teXDItjbbVMkiliADgDPFcj+wx8Jz4g+Guqaxp3i7xD4WlmubS3ki0lrUK6R6baFATLbuxA3sANwUZOACSTtSTcrIwrNKN2eLfCvWpfhD4m+y2fxF8MJHq0TJeatpXxJ0dUZoyZIWmmmt5JicPJGF2EBUiG/jnmPi3rB8dfFvTTNrNj44E2v8AhmAvDf2vieGUF78GJhDFBHLnODCQCQ2C2GGP0h/4UvrH/RWPHP8A39sP/kSvFvin+wTefErx7Y+I7j4n3moQwTWM82neJtEttSjumtnlZFk2GEGIiaRShUghjkkYA6nTla1jgVSF7vc45/hHZfL/AMWu0Mc/9EWtB/7d1y/xY+FtnY/Cvxlcr8NtHs2h0a9kFzH8IbazaLEDkOJxdEwkYyJACVIyAcYr3R/2MbIbf+Jf8KuoH/JL7Qf+3Fcf8aP2SbTw/wDB3x3qosPhmDY6Df3P+hfDe2tp/ktpGzHMJyY344cAlTggEjFHK9dCueOnvHzD4q+EN34b8FfB3xfKNHS2vfExjjeztil7OZr5JP8ASHPDCPySqgE4DHp0r6urg/GfgvxB4u/Zp+CUugeHrrxI2la+uoXNpallJiimlkILKrFQ2zaGCkAsMjmt3/hMfG3/AEQTWv8Awbz/APyFXz2Lw860k49D9K4ezjD5ZTqRr3vK1rHceMv+Rr1X/r5f+ZrhfiN/yT3xP/2C7r/0U1W9S+IHjnUtQuLuX4Ca15kzl2xq04HJyePsfFYnibWvG/iDw3qulp8Cdaga+tJrYSnVp2Cb0KhiPsYzjOcZGcda5PqVTn5uh9EuJsEsL7Gzva23kdh8GfCFx8RPFnhnXItH8M6XbeCLjToptVisj/a+oFvDluQjygD5B/aCjk9IVGOmOm+AMd5L+25+0Emnzw2t+1jai3nuYTNFHIdP0zazxq6F1BwSodSQMbh1ra/Za0PVdH0HxY+qaNfaL9p1Sz+zw6hEY3kSHRdMtXcA87TLbygEgEhc4GcVgfAu+i0r9tb9oG+muBaQWtla3E0zRl9sa6dppY7RyeBnjnivcPylXctD2j4dfA/x94H+Knivxnd/ELRdXHiq4tZtV08eF5IFCwRiJFt3F6TGfLG3LiTpkgmr/jz4P+O9f+J58X+HPiLYaAI7BbC1sr7w2uofZV3FpWjc3CbTIdu47ckRoM4UVtfDj4yaF8WNa8Rab4Y1ttQbQWgjvZzYtHGJJQ5CLvIYkBOeMcjBPOLHjD4jt4V1608P2kGoeJfEl1bNex6Po9rD5wt1YIZneaWOJF3EKNzgk9AcHGdo2PXlXxv1j34pT5UrOMV7tla6attbV9Dn/CPwt8baJ42/4Sfxp8QofGLparp1lZ2uhrp0VqHuIpJX4mk3M3lRg5/uCvYq8w8C/FKz+Jiapa2zXmlazot7DbanomrWiw3llIxDRl1V2Uqw5VkZlYA4JxXoH2W//wCf5P8Avx/9eqVraHDipVZVLVlZrokkvLRJLz89y/RVD7Lf/wDP8n/fj/69H2W//wCf5P8Avx/9eqOQND/5BkX1b/0I1frE0m3vGsIzHdoiZbCmHJ+8c859aufZb/8A5/k/78f/AF6AL9UP+Y5/27f+zUfZb/8A5/k/78f/AF6p+Ref2vj7Wm/yPveT23dMZ/WgDboqh9lv/wDn+T/vx/8AXo+y3/8Az/J/34/+vQAa5/yDJfqv/oQq/WJq1veLYSGS7R0yuVEOD94Y5z61c+y3/wDz/J/34/8Ar0AX68h+L1x4i1P4kfD/AML6L4w1XwdaapFqU95caPb2Us8hgSExrm7t51ABkbOFBPHNen/Zb/8A5/k/78f/AF68s8dW97/wv74V5vELfY9awfJ6fu7btnmgCt8H7jxHofxh8eeD9X8Yar4w06x0jSdVtZ9Yt7KOeKW5utUimUG1t4FKkWUJAZSQd3ODge114l4Mhum/ag+JGy5RGHhTw9uYxZz/AKfrvbPHOT+NevfZb/8A5/k/78f/AF6AL9VZP+Qpb/8AXGT/ANCjqL7Lf/8AP8n/AH4/+vVaS3vP7QhBu0L+VJhvJ6DKZHX6flQBsUVQ+y3/APz/ACf9+P8A69H2W/8A+f5P+/H/ANegDzr9pbXtX8O/CG+uNC1SbRdSuNT0nT11C3iiklhjudStreUosqPGW8uVwCysASDiufuNN8X/AA6+Kvw4s5/if4m8WaZr19eWd5p+tWekrEVSwuJ0ZWtbGGQMHiX+LBGQQc1a/akhu0+EOZbpZE/4SHw9lRFtz/xOrLvk4qx8Ure9Hxc+DIN4hP8AbOoYPk9P+JVd+/PFAHsVFUPst/8A8/yf9+P/AK9H2W//AOf5P+/H/wBegBdM/wBZff8AXw3/AKCtXqxNPt7tpLzZdopE5Dfuc5O1eevHbirn2W//AOf5P+/H/wBegDyX9tIhf2TviuScD/hHbv8A9FmvLv2LpFl/Zb+HTowZTppwynI/1jivePjFao/w015NY8rUdLeEJc2rxhFlQuoKknIwQeQQQRkd6+b9P+JV/wDEbxxZ+CPgyLHSfBXhe8jTxJ4qt7SNrKMRlWOlWCY2STOMCSQDbCjZGXZRQB9BUUUUAC9aQUtFABRRRQAUUUUAFFFeM/GP43ax8D/G2jaj4h0iB/hFfQpaXviK1DvcaNqDSkI90mcC1kUxqJFBKuCGI3IGAPZqKitbqC+tYbm2mjuLaZBJFNEwZHUgEMpGQQQQQRwQaloAKKKKAPlT9rhgv7RH7LAJAJ8YjAJ5/wBba19918CftcRxN+0R+y2zx72Hi8hD/dYyWoVvcA4JHfGMjOa+7Pst/wD8/wAn/fj/AOvQAW3/ACFb7/cj/k1X6xILe8/tK7Au0DhI8t5PX72OM8Y5/Orn2W//AOf5P+/H/wBegC/VDVvu2n/XzH/Oj7Lf/wDP8n/fj/69U9St7tVtt92jfv0A/c4wc8Hrz9KANuvmvx98O9Nm/ahuPiJe6vNYnQ/DNrBJA7RramMvfEySMwyu0O54YDByelfQv2W//wCf5P8Avx/9evh/9p7wrffFj9r7QPhtrWv3UXgO+8PWWo61o9ioh/tUxzak0cUkoO9Y8wruVSAwJ6EKwAPZfhH8YNI+NOjajrXh601AaDb30llaapdwCKHUhGAHnt8ks0W4soYgAlWxnBx3VV9P0+10mwtrGxtobKytYlggtreMJFFGoCqiKAAqgAAAAAAACrFABXkf7VP/ACRe8/7DGif+na0r1yvA/wBtLxbH4a+E+m2kj6fbtq+vWMCXWragljaQm3ZtQJkmYEDctk0ajGS8qAZzigDz34Ntu/Zo8GcdBEPyt0H9K06d8E9S0Zv2bfBTtpMzRiKFWjW95Mgt03MDs4B7DHHqa6XTdW0JbxAmjSxO3yiSS9DBSenVMDnAz2yTXw2KpRlXacrfefX4apKNFNRuYMmnXMVt57xFI+OpAOD0OOuD64x71o+EP+Q3/wButz/6Ikq5/bWjxXEwk0W6EjgxymS+LHk85BQZIIz1HIHIrU0WbRrXxBJbppE8ciwXBEjXpYFfIc9NgxlfXpnOOMVhCjBTjJS6+f8AkbSqy5WpR/r7zhaK3v7U0D/oBXH/AIMP/tdH9qaB/wBAK4/8GH/2uuf2cf51+P8AkdHPL+X8v8zBrV8Tf8hGH/rytP8A0njqz/amgf8AQCuP/Bh/9rrR8QahoaX0Ql0a4kb7JbEMt9tABgjIGNh5AIGe+M8ZxVqnHkfvL8fPyM3OXOvd/L/M5ClUZYDOOcZPSt3+1NA/6AVx/wCDD/7XR/amgf8AQCuP/Bh/9rqPZx/nX4/5GntJfy/l/mXY4LbT/Dd5BNunUX8McrYICkxy4ZMHnAyQTwc9O9czdW72lw8L8sp+8vIIPII9iMEexrtob/TtS8M3JTRLmWKK4hVo1u8twsgQ7gmTgEjGOmOeMVn319occMQn0mYzoNghW/yyryfmYJjIJwByR3xgCu2rTjKKtJfj/kclOpKMndHKVo+H9FsvEWrwaVqVsl3p19utri3kGVkjdSrqfYgkfjV3+1NA/wCgFcf+DD/7XWv4P1DRZPE+mpBpE8ExlAWRr3eFPPJGwZ+mRXPRppVItSW/n/kb1ZycGuX8v8zgf2Ffihc/CX4jav8ABjxFdM1lM/2nRLmYgb1Y4Tn/AGgAp6AMqqowpNfoHX5lftAaFaX2k6d4u8M6TcWvibwzN9tiYXpYzwDmWL5U3A4GQVy2Ayrgvkfbf7Pfxkt/j58NbDxNpl2sDPmK4tJFWR4ZBwQzKQCfXAABDDsa+wwOIVaFr3aPlcZRdKd7WTPW6q2P/Lx/12b+lRfZb/8A5/k/78f/AF6XS1dY5xIwkbzWywXAPTtk16ZwF6iiigAooooAKKKKACiiigAooooAKKKKACiiigAooooAKKKKAPh/4f8A/JxX/cT8cf8Apx02vpCvm/4f/wDJxX/cT8cf+nHTa+kKAChetFC9aAPmq8/5SefDb/sRrz/0ZPX3LXxFc2at/wAFKvh5db2Dp4MuYwoI24LXRJPHXIHftX27QAVRsv8AkIaj/vp/6AKvVRsv+QhqP++n/oAoAvV8tftkeH/E+o61od54d8L6l4lY+GdY00LYRFkjuJL/AEa4iWRlBKKyWc4DBTyvSvqWigD5g+APwJ1+98WWPxs+L8ial8VdXQLY6Yob7J4TsZI2IsrZG6TEHEsp5JLKCQXaX6fqnqH+usf+u/8A7I1XKAPiH9oT9n7xl8IdK8Ur8GdMk1fwV4986z1zwKit5OmXUsTkalZbQxiUsqrJCFKtuGAOCml+zp8B/GXxQ0vwLqnxo01tJ0D4f2lppvhjwI2Wgkuba3SI6vd7gDLKzB/KjZQsS8gFmZm+zKKAKml/8guz/wCuKf8AoIrwT4zfCXX/AAP4rvvjN8I7dT42jgUeIfCxYpZ+L7OIEiKQKD5d7GpPkXCgkH924ZHIHvel/wDILs/+uKf+girdAH5rfs2/tBfEH9nXQ/8AhT8fwdvfEviHR7O1vbnbqE1q6xtbxRBvLNoxClomwSecjiuQ/Zh/ad1L4JeBNT8Mj4WeK/FV9a6p5N3caREhghlis7WB4iXIYurwuGBUADbgnOR6j8WJ/HS/8FAvE9p4D1LR9N1G+8NWEU0mtWsk8XlqJZOAjAg5XHcc169+zf8ACPW/hB4U8QWniHVLLV9X1rX7vXZ59PieKFWn2EqoYk4BUn6EDnGaqMnF3W5E4RmrSWh5b/w37rG4L/woTx9n/rnFjjHfOO9L/wAN9az/ANED8ff9+4v8a+qqK29vU7mH1Wl2PliP9vbUpFkM3wJ+IUZVd0flwQsGfIwCS4wMEnIycgDHORyvxQ/bU1Lx58NPFvhdPhB4l0271rSLvTUe9vrKMwtNC8YZ0MgYAFwcYyR06ivtGil7aeuu41h6atpseWfsuxvH8BfCQkjkibyJTtkjKNgzyEHBAIBBBGRyCD3r1OiisDpCiiigArwL9m//AJPu+O//AF7WX/pBple+188/AHUItJ/bc/aCvZ1meG2sbWZ1toJJ5Sq6fphISONWd2wOFUFieACTigaTbsj1r4Lf8nQ/tF/9fWgf+mxa9O8ReEdJsfEjePrfw5ca34usdNfTbf7HOqTy27SCQwqJZUh5YA5cjGDz2rwz4J+OCv7SHxf1G78K+M9M0vxVeaSNIv7/AMK6hDBP5FoIHLsYf3K7hnMuwYOTjpXf+MvFnjfwT8cLK+vYr+++FM2iNCYNE0Z9QuItSEwIeVYVacKY8gFFK9QwBw1ZJqx9BiqNV4lKOj9nDTVXtCKcdN3urfI5H4IzR+KPi18RvF2rRPoHi++k0yzn8KXCkXGn2kWRDJI2AJTKWZt8ZZBjaGYqTX0hXz34T0fV/HX7RWofE9tF1Dw74ah0C28OWUer2zWt3qMhvBcPOYWw8aIMIokAYlmOAK+hKqOxxZi06ya/ljp/LZJW+X39HrcKKKKs8soaH/yDIvq3/oRq/VDQ/wDkGRfVv/QjV+gAqh/zHP8At2/9mq/VD/mOf9u3/s1AF+iiigChrn/IMl+q/wDoQq/VDXP+QZL9V/8AQhV+gArz34lfCu78deIPDeuaZ4s1HwnqmhrdJDPYW1tOJFnVA4ZZ43HSMYwAeTXoVeYfFLxx4t0Xxl4P8M+EbXRZbzXEvppbjWmlEcS26xEBRHySxkPXpj3oAT4VfCu78HeKvE/ibVfFepeK9Z1eC102Sa+t7aBYoLWW6kjCpBGgyWvJiSc/w4xjn1CvHdM/4Xb5dxt/4QHHnyZ3fbuu45q5/wAXw/6p/wD+T1AHq1VZP+Qpb/8AXGT/ANCjrzP/AIvh/wBU/wD/ACeqtJ/wu7+0IM/8IBu8qT/n+x1T/wCtQB6/RXlP/F8P+qf/APk9R/xfD/qn/wD5PUAbvxm8BJ8TPh3qGhNqVzo7NPa3sV9aJG8sUttcxXMZCyKykb4VBBBGCawNN+CuuHxv4a8ReIPiPrPicaBPPc2tjc2FjbxGSW3kgJYwwIxwsrEDOMgZzVbVf+F2/wBm3O//AIQDZ5Zzt+3Z6dqjh8cfErw38RfBWieKrXwpPpniK6ubQzaO9yJoWitJrgNiT5SD5O0jrzntQB7LRRRQBR0z/WX3/Xw3/oK1eqjpn+svv+vhv/QVq9QByvxQ+H1h8V/h34i8HapPcW2na5Yy2E81qVEsayKVLKWBGRnjII46V8k6R/wTUg8HWtjo2g/Hb4qaHpO+Vo7HS9aFrbQli0jeXFGqogLMxIAAySepr7grPvP+Qpp/1k/9BoA+SP8Ah3Xe/wDRx/xm/wDClf8AwpP+Hdd93/aP+MxP/Yyv/hX2RRQB8Z3X/BPG/t7eWUftHfGUlELAHxK/OATzxRb/APBO+/lt4nP7R/xlyyhv+RlfuM+lfYepf8g+6/65N/I06x/484P+ua/yFAHx/wD8O673/o4/4zf+FK/+FJ/w7qvu/wC0f8Zj/wBzK/8AhX2RRQB8YW//AAT1v5rq5iP7RvxlAiZQCPEr5OVB5496sD/gnXfd/wBo/wCMxP8A2Mr/AOFfXNl/yENR/wB9P/QBV6gD44/4d13v/Rx3xm/8KV/8K9Z8Mfs32nhXwFB4Q1Xxn4n8Z2d1DNY3Vx4kuIbyW4jlLu4cvEd4IJjw+4bCQR0I9uqnqH+usf8Arv8A+yNQB8iWH/BN/T/D9qun+HvjV8VPD+iQswtNLsfEUkcFrGWLCNFXACjOBxnA5OcmrP8Aw72uf+jgvi//AOFPP/8AFV9fUUAfIP8Aw72uf+jgvi//AOFPP/8AFVDa/wDBP+6uraGY/H/4uqZED7V8Tz4GQDgZavsSqml/8guz/wCuKf8AoIoA+UfD/wDwTt0TT/iJ4R8Xa58UPH/jG78L6hHqNhb+INV+2RpKrK4A8wNsBZE3bcEhQMjrX1zRRQBQtv8AkK33+5H/ACar9ULb/kK33+5H/Jqv0AFUNW+7af8AXzH/ADq/VDVvu2n/AF8x/wA6AL9fG3xS/wCUh/hz/sTLX/0bq9fZNfG3xS/5SH+HP+xMtf8A0bq9AHvNFFFABWJ4z8J2PjnwzfaJfmRILpQVmgbbLBIrB4pozg7XjdUdTjhlB7Vt0UAfFvh3VrjwHHd+ANZto7W5tdTZo3hUrCGEaqUQEkLEVMMkQB4imWPloJSOnrsf2pPhousaKvi+z/cXemxhb6RULH7MpZknKrhmMDPIxUHLQy3UY5kBHmPhDXm1jT2juU8jUbVjBcwFw5R1JBG4ABhkHDAYYYZcqyk/LZthXdV4/M+jyzEKzoyOtbWH4dIkS5wA1x1Y4GARngHAGSOScnPJq34RYtrhLHJNtcnJPOfIk5rEra8If8hv/t1uf/REleBTm5VI3fU9mcVGDsjFooorB7my2CtXxN/yEYf+vK0/9J46yq1fE3/IRh/68rT/ANJ460X8N/13Ifxr+uxlUUUVkaG5ayPF4NvSjsh+3wjKkg4MUwI49RWHW1b/APImXn/X/B/6LmrFreo3aKMaa1kwrd8C/wDI4aT/ANdx/WsFnEalmIVVBJYnAAHUk1xWg/FzVfE3jJNJ+FXh+Xxzrdmwe4vY1xptiDnDzTFlVh1IAYBtrANuGDrhaU6lWKgrmeIqQp05czOn1zXtO8M6bLqGq3sNhZRYDTXDhVyeABnqSeABkkkAAmoP+CeVn4pT4teKdR8LaJfQ/BvUVeaPU9QiMELTAACO3RjlwGLAbQFRUZWAZufV/hL+wRpsepW3if4xaqvxE8TR/NFpZBXR7HPVUiIHndwS6hWGMx5G4/WkMMdvDHFEixRRqFREAAUDgAAdABX1eBwDwz55S1Z83jMasR7sVoiaqtj/AMvH/XZv6VaqrY/8vH/XZv6V7J5RaooooAKKKKACiiigAooooAKKKKACiiigAooooAKKKKACiiigD4f8AAf8NFE9T/afjj/046bX0hXzd8Pef2iD/wBhTxyP/KlptfSNABWT4s8WaP4E8N6j4g8QajBpWjafEZ7q8uG2pGg7nuSSQAACSSAASQDrVg+MvAXh34iabb6d4m0e01uwguob2O2vYw6CaJgyNg8HB6g5BBIIIJBAPC/gSviv4yftEaH8ZtYsF8L+EYtPuNP8MaFPAo1TULZkYm8nONyq2/KxZwFwcDJaT7T/ALW/6c7v/v1/9evky5+JGvW37e/w58DR3ES+Hbjwze6nLB5I3tP++QHf1AAReBxnJOTjH2FQBQ/tb/pzu/8Av1/9eqdrqWy9vW+y3J3svyrHkj5QORnituqNl/yENR/30/8AQBQAn9rf9Od3/wB+v/r0f2t/053f/fr/AOvV+igDFvNS3y2h+y3I2zZ+aPGflYYHPXn9DVv+1v8Apzu/+/X/ANen6h/rrH/rv/7I1XKAKH9rf9Od3/36/wDr0f2t/wBOd3/36/8Ar1fooAx9O1Ly9Ptl+y3LbYlG5Y+DwOQc9Ks/2t/053f/AH6/+vUml/8AILs/+uKf+girdAHwzrnzf8FINRl6eb4atG8tuGTEdwMMOxOMgehB719LV8069/ykn1j/ALFy0/8ARU9fS1ABRRRQAUUVxnxq1C70n4N+PL6wuZbO/tdAv57e4gYq8Ui2zlGUjBBBAII5BAoA7OivmL9nP4/6xqHwZ8H23/CJeLvH2sWfh+xudV1a1utP+/LEWXe93eRPI5VckhSDkZJORUv7NPxOvfiZ+0J8crpNU1K58MtZeFtQ0fT76ZillHdaYZnCRlisZYkFgvBYZJJ5oA+mKKKKACvn39nmb7N+3R8d5PLkk/cWS7Y1y3Nhphzj04/WvoKvnn4B6bb6x+25+0FYXkfnWl1YWsE0e4ruRtP0xWGQQRkE9KBq19T6/i8TWk99cWUaSyXluqPNbqAZI1fdsLLnIDbWwT12nHSrH9rf9Od3/wB+v/r18/fs3+F9M8G/tC/tB6Po9ubTTre80RooTK8m0vp/mN8zknlnY9eM4HFetfFPxff+HtJtNL0BY5fFuuS/YdJjlUtHE5GXuZAP+WUKZkb1wqA5dalS0uzvr4XkrqjTd7qLu9Piipa72tfU0B4t07XBcx2Ev2x7G+W2ulgZZDBMpRzE4BO19rqdp5wwPcVr/wBrf9Od3/36/wDr184/sceH18K6D8V9HS6uL/7F8SbyA3d25eadlisw0jt3Zjlj7mvp2iLurmeMoRw1eVKLulbX5XKH9rf9Od3/AN+v/r0f2t/053f/AH6/+vV+iqOMxNJ1LyrCNfsty/LfMseRyxPXNXP7W/6c7v8A79f/AF6ND/5BkX1b/wBCNX6AKH9rf9Od3/36/wDr1S/tL/ib7/stz/qNu3y/m+9nOM9K3Kof8xz/ALdv/ZqAD+1v+nO7/wC/X/16P7W/6c7v/v1/9er9FAGJq2pebYSL9luU5X5mjwOGB65q5/a3/Tnd/wDfr/69Guf8gyX6r/6EKv0AUP7W/wCnO7/79f8A168w+Knh3xdrXjbwd4l8IJp8d1ocd9FLBrcMxSRbhYgCpjOQR5Z6+or16igDxGx1L42xrMFtfBLbpnY/u77qScjrVr+1vjh/z5+Cv+/V9/jXq2k/6u5/6+JP/QjV6gDxv+1vjh/z5+Cv+/V9/jUD6l8bjexN9l8FBhG4C+XfdCVycZ7YH517XVWT/kKW/wD1xk/9CjoA8l/tb44f8+fgr/v1ff40f2t8cP8Anz8Ff9+r7/GvZKKAPEtR1L42yWM6Pa+CVUoQWMd8ABjrnNQReHfiX4k+I3gjW/FKeHodL8O3dzdtFpEN0Z5WltJrcAGQ7QAZQT7A17PrH/ILuv8Ark38qu0AUP7W/wCnO7/79f8A16P7W/6c7v8A79f/AF6v0UAYlhqWyS8P2W5bdOW4j6fKvB561c/tb/pzu/8Av1/9el0z/WX3/Xw3/oK1eoAof2t/053f/fr/AOvVK61Ldf2TfZbkbS/ytHyflxwM81uVn3n/ACFNP+sn/oNAC/2t/wBOd3/36/8Ar0f2t/053f8A36/+vV+igDJvtT8yyuF+y3S7o2G5o+BkHk89KW11Tbawj7JdHCDlYuOg96ual/yD7r/rk38jTrH/AI84P+ua/wAhQBX/ALW/6c7v/v1/9ej+1v8Apzu/+/X/ANer9FAGJa6lsvb1vstyd7L8qx5I+UDkZ4q5/a3/AE53f/fr/wCvS2X/ACENR/30/wDQBV6gCh/a3/Tnd/8Afr/69VLzUt8tofstyNs2fmjxn5WGBz15/Q1tVT1D/XWP/Xf/ANkagBn9rf8ATnd/9+v/AK9H9rf9Od3/AN+v/r1fooAof2t/053f/fr/AOvVbTtS8vT7Zfsty22JRuWPg8DkHPStiqml/wDILs/+uKf+gigCP+1v+nO7/wC/X/16P7W/6c7v/v1/9er9FAGJBqW3Urtvs1z8yR/KI+Rjd1GeM5q5/a3/AE53f/fr/wCvRbf8hW+/3I/5NV+gCh/a3/Tnd/8Afr/69UtS1HzFtv8ARblds6N80fXB6DnrW5VDVvu2n/XzH/OgA/tb/pzu/wDv1/8AXr4Y/aS12+0v9trTNR0rU5dK1eHwbZC2tH8JXeuG5zc6oHyttcRGMKrEgknJz0CnP3tXxt8Uv+Uh/hz/ALEy1/8ARur0Aen/AAs13XfE3w90TU/EtgNM124g3XdqtvJbBWDEAiKRmaPIAO1mJGcEkjNdVRRQAUUUUAIyhlIIyCDkEZGK+APj5oWs/An4kQW2lSrpmg34t49LupNPmngmVriOL7JJKjqsDW8RcCRlcNDHbJgmMmv0Ar5N/wCChH/Iq+DP+wn/AOzRVEoqUWpK6Ki2pJp2Z1H/AAh//Ub0f/wL/wDrVreF/C4tdWDjVNNuX8mZViguNzEtGynjAOACSSMkYzg1xFbfg8ka4CDg/Zbkgjt+4kr4ClOn7WPu9T7WpCfs37xp3/hMSQwFtR0e2k52lJyqMnY5IySDkZ5yMZPHNL/hD/8AqN6P/wCBf/1qwZppLiRpJXaWRjks5JJPuTTKidSnKV1EqFOaWsjof+EP/wCo3o//AIF//WrR17wr599E39saTHi1tl2yXWDxBGM4x0OMg9wQe9cbWr4m/wCQjD/15Wn/AKTx01OnyP3f61Bxnzr3i5/wh/8A1G9H/wDAv/61H/CH/wDUb0f/AMC//rVz1c940+IGgfD3Szf6/qUNhDg+WjHMkpAyQiDJYjqcDAHJIAJqY8smlGF2ypKUU25WR6tD4X2+FrqD+19LO69hfzBc/IMRyjBOOCc5A7gH0ryvx7430nwZqdvodlew+LPFl02y28PeHy11duSM/Mqqdox82DlioJVWAOLfgD4X/Fz9o2xW1ENx8Jfh9dyLdHUL6LOs30agr+6jBHkgiQ4YkfwsrSKSK+vvgn+zh4C+AOlvbeEdFSC+mXF3rF2RNfXZJyTJKRnBbLbFCoCSQoya+jo5bGolKqrHgVcwcG1Tdz5V8B/seeNPi9NHqfxnvLrQfDhIePwR4fY7pVznF3cA89wVXOeGBiYEV9h6B4X8P/D3waNA8MeHU0DSYVPl21pbCKPJxlmxyzHGSxySeSSea7aqWt/8gm6/3K92nShSjywVjx6lSdR803cP7W/6c7v/AL9f/Xo/tb/pzu/+/X/16v0VsZlD+1v+nO7/AO/X/wBenaXJ50c77WTMrfK4we3artVbH/l4/wCuzf0oAtUUUUAFFFFABRRRQAUUUUAFFFFABRRRQAUUUUAFFFFABRRRQB8O/Dsg/tEHH/QU8cj/AMqWm19JV81/DnP/AA0QeOP7V8dd/wDqJ6bX0pQAUL1ooXrQB8z6hHIf+CnPwzlETGFfBd2hkyMAl7ogdc9FPavuiviKa7tbj/gpF4Bt4bmOa7g8Jzme3jyzQqfteGcgYAO8YBOenGCCft2gAqjZf8hDUf8AfT/0AVeqjZf8hDUf99P/AEAUAXqKKKAKeof66x/67/8AsjVcqnqH+usf+u//ALI1XKACiiigCppf/ILs/wDrin/oIq3VTS/+QXZ/9cU/9BFW6APl344/sQj4vfFy48f6d8Rde8F6lcWUFo66Q0kTjyhINyyxSxuAyuAVJIyM98Dj1/YF8SzTyW4/aC+ICNCAxkGragS+7OAQb3Axjt1zX2lVC2/5Ct9/uR/yagD5A/4d7+Jv+jh/iF/4NdQ/+TaP+He/ib/o4f4hf+DXUP8A5Nr7OooA+LJv2BfEtoY1P7QPxAlMzeUGbV9QGwkE7hi95PGMHjmva4f2d7qfwBH4U1fx5rWtWj6YNLvLi5ht/Nu0MXlSM7lC25xkklicknOea9a1P/WWP/Xwv/oLVeoA+OfhT+wP4j+C+lXum+GPjVq1vZXkUMMkd1o0N1hYkKIEM0jbFAJ+VcAZ4A4re/Z7/YVh/Z+j12Wx+IWt6pqWsJZw3N5cQRsxhtYTFBGBKZCAqlgACAFKqBhQK+qKKAPlT4hfsbeIPib4suvElr8bPGfhq1vY4ymkaZe3EFvb4QAhFhuI1OepJUkk8k1zn/DvfxN/0cP8Qv8Awa6h/wDJtfYOj/8AILtf+uS/yq7QB8Y/8O+fE3J/4aH+IX/g11D/AOTa9B/Zv/ZMT4A+PPE2v3HjXVvGOp6vaQxzXGqbnlJyAWeWSSR3IWGJRlgFVcAen0bWZfabaa02pafqFrDfWF3aLBcWtzGJIpo28xWR1YEMpBIIIwQaBq19Tw74H6laXX7U37RkcF1DNJ9r0P5I5Ax+TTlR+Af4WBU+hGOtdrrvw78ayfEi/wDFeh+K/D9qJrKOwtrbWPDs969pCp3SKkkd9CMSSYZspk7UBJCLjT0n4B/DHQdTtdS0z4c+E9O1G1kWa3u7TQ7WKWFwchkdYwVIPQg5rrta0PTvEmlXOmavp9rqum3SeXPZ3sKzQyr/AHWRgQw9iKhR0sz1a+Li6yqUduWMXdJ/Ckut1ra/TsfLv7J0fieTXviw8/iLQbzTo/iLffb7a10mVJp5ylsPNikN2wijJAxGySH5G+c5+X6wrgtN+DfgDwTfW+p+HfA3hvQNSWVIxeaXpFvbTBS4yu9EBwe4zXe04rlVjLH4iOKrurDay6JbLyCiiiqPOKGh/wDIMi+rf+hGr9UND/5BkX1b/wBCNX6ACqH/ADHP+3b/ANmq/VD/AJjn/bt/7NQBfooooAoa5/yDJfqv/oQq/VDXP+QZL9V/9CFX6ACiiigCjpP+ruf+viT/ANCNXqo6T/q7n/r4k/8AQjV6gAqrJ/yFLf8A64yf+hR1aqrJ/wAhS3/64yf+hR0AWqKKKAKWsf8AILuv+uTfyq7VLWP+QXdf9cm/lV2gAooooAo6Z/rL7/r4b/0FavVR0z/WX3/Xw3/oK1eoAKz7z/kKaf8AWT/0GtCs+8/5Cmn/AFk/9BoA0KKKKAK2pf8AIPuv+uTfyNOsf+POD/rmv8hTdS/5B91/1yb+Rp1j/wAecH/XNf5CgCeiiigCjZf8hDUf99P/AEAVeqjZf8hDUf8AfT/0AVeoAKp6h/rrH/rv/wCyNVyqeof66x/67/8AsjUAXKKKKACstLz7B4fhn2bykCYXOMkgDGe3WtSs23tEvtDt4JNwR4UBKnB6A8GgCOTUry28tp7KOOJ5EjLJcbiCzBQcbR3I71rVl/2GjOhkurqUI6yBZJcrlSCMjHqBWpQBQtv+Qrff7kf8mq/VC2/5Ct9/uR/yar9ABVDVvu2n/XzH/Or9UNW+7af9fMf86AL9fG3xS/5SH+HP+xMtf/Rur19k18bfFT/lIl4a/wCxMtv/AEbq1AHvNFFFABRRRQAV8m/8FCP+RV8Gf9hP/wBmir6yr4r/AG7fiJ4Y8R2/h7QtK17T9Q1rTdUYXljbzq8sG2SJWDqDkEMQD6EgHBpPYqO51NbXhD/kN/8Abrc/+iJKxa2vCH/Ib/7dbn/0RJX5vTT9qvU+7qP92/QxaKKKys7ml1YKueONTs9GY3t/dw2VlBYWjy3FxIEjQfZ4+SxIwPcmvNrr4nz+IPEh8KfDvQrr4g+LTw1rphAtrUZI3T3B+SNQQQSSACMMVJBr3L4c/sOy+NNTs/FPxx1lfFupQbFt/C2nlotIs2iURjcBhpz8vVsDDFW8wYNexhcvqV4vm91HlYnHU6Uly6tHiXhO/wDHv7QWoSab8JNAJ0pJDDc+NNbjaHToCDhhCCN0rjBGACVO0lSp3V9TfA79ifwd8KdTi8TeILib4g+Psh21/WkDLAw5H2aEkrCAc4OWZckBgp2j6A03TbPRbC2sdPtYbKxt4xFDa20YjjiQDAVVAAUAcAAYq5X1GHwlLDr3Fr3Pnq+JqV3eT0Kj/wDIXh/64P8A+hLVyqcn/IXh/wCuD/8AoS1cruOQKoa3/wAgm6/3P61fqhrf/IJuv9z+tAF+ivEfjD+1JoHw01Z/DGj2N14y8ctlI9C0xHcxPsWQCZkR2BCyRsUjSSQLIrlAh3Dsvgn8VLD4z/DbSPFNiI4nuowt1bRSF1guABvQMQCy5IZWIG5GRgAGFAHeVVsf+Xj/AK7N/SpZpkhXc7Y7AdST6ADqfpUVjGyxyM67S7l9pxkA+uO9AFqiiigAooooAKKKKACiiigAooooAKKKKACiiigAooooAKKKKAPzD+IPjPUPCPxs8Piy8d6J8OF1DxR47t59e8QW8c9tEgu7OQIVkliUFmRQCWzzwD0r6M/ZX+JGs/FL4WPq+uarY67eQ6rfWK6pp0CwwXcUU7JHKiqzKAygEYYjBHJ6nzbw34U0Txh8efsWvaPp+uWaaz45lW31G1juIw41LTwGCuCAQCRnGcE+tfTOheH9L8L6bHp2jabZ6Rp8ZJjtbGBYYlySSQigAEkknA5JJoA0K4j4x33juy8Eyp8ONKsNT8UXU8drDJqlyIbeyRzta6cYJkWMEMY1+ZgDgEgKe3oXrQB4p8D/AAJ4V+CnxG8O+DD4kXX/AB94kW41jxBqGoyr/aOtMsTgTuuSVhRgyxxglUAIBJ3s31Z/Ylj/AM+sf5GviXUP+Un3wy/7Ei8/9DuK+6aAKH9iWP8Az6x/kaqWuk2b318jW6FUZQvHQFQf51tVRsv+QhqP++n/AKAKAKeqabaWemXc8drH5kULyLuBIyFJGefaqVvpkUOoWkTvDdRzK2QIwpBABBBBrpGUSKVYAqeCDUEGm2lrJvgtYYXxjdHGFOPTIFAFC90iySW0C26ANNtbA6jaxx+YFWv7Esf+fWP8jT9Q/wBdY/8AXf8A9karlAGeNFsf+fWP8qP7FsP+fWP9ag8SeIrPwpol5q2oyGO0tk3ttGWYk4VVHdmYhQBySQBya+ZPEH7W/iSHxhcWFrpEGmaNa31vpt1qlxYm8t7S6nCGKCaRbqJg7eZCCY4pI0MygvwxrmrYijh/4s7HJXxVLD/G9T6a0/SLOXT7Z2t0Z2iUliO5AzVj+xbH/n1j/KuR+GvxAPiNX0bUbVLDW7KBXaKN98VxFnb5sRIBIyAGUjKkgHIKs3e1rTqQqwU6bvFm1KtCtBVKbumc7qWmwf2ja20QhtUkilkZygYnaYwByf8AbP5VF4fsbe8lvBNHHKY2MYZVwDh3XOAe4AroLixt7zb58EcwXp5iBsfnVWwhjt9SvI4kWNFSPCoAAPvdhWhqP/sSx/59Y/yNH9iWP/PrH+Rq/RQBi6hpNnHJZhLeNQ84VsDqNrHH6Crf9iWP/PrH+RpdT/1lj/18L/6C1XqAKH9iWP8Az6x/kaP7Esf+fWP8jV+igDG0vSLOXTbd3t0Z2QEsRz0q1/Ylj/z6x/kado//ACC7X/rkv8qu0Ac9qmmW63VpBEsVsJQ5aRkDdAMAZPv+lZ9vYS3EetxWiWk99BHstHuFIhMhVipcKc4yQDjnArqrizgvABcQxzgHIEiBgPpkVWs7aK11C4SGJIU8qM7Y1Cj7z9hQNaO54t8EfFXiXxR8Vviv4Z8YQaOG8MTabDaxaPG4hCz27Tltz/OzEMgOeBt4HUnU+KXhvX/E/j/w74d8K+L7jwSn9mX2oX01ppdteGYrLaxwqftEbBfvzn5cE457VkfBb/k6H9ov/r60D/02LXT+MvCPgXx58XtP07xFqlvqerQaM8qeEZ5FMU8BmXM80X/LVQwChWymcnBIBGf2f67nvVFCni+ZRSXJF6RUld0027PTd319Rvgv4X+JfCN5NceIviDeeNbeUxxR2t1pNlaLExkXLhoI1YnGRgnHNekf2JY/8+sf5GvnrwrpsHwt/au1HwJ4bRNO8Hav4Yg8Rf2JANtvZXkd+luzQRj5YlkRxlVABKZr6Uqo7Hn42LjUUm01JJqyUdH5LRGf/Ytj/wA+qflQNFscf8eqflXnGr/tB6EmtatpPh63k8U3ukTfZtSexuIFhspgAxikZ3B3gHJCqcdCQeKn+Ef7Q3g74y/aItA1KCa8t2KvBHdwXKnABO2SCR42xuGV3bgCCVAIzEalOUnCMk2t1dX+48dYilKbpqWqN/RtJbUo7hhJHEsUxiA8kNxtU5JJ9SR+ArW0fTbS7023mlt4zIy5baMDPriq2h29/a287wJbSRTStIPMkZWHAXBAU/3c9e9bGl2r2OnwQSFS6LhiucZ9s1qdIz+xLH/n1j/I1T/smz/tjy/s6eX5G7bjvuxmtuqH/Mc/7dv/AGagA/sSx/59Y/yNH9iWP/PrH+Rq/RQBiavpNnDYSOluiuCo3AcjLAH9KbrGmWttYloYI0kaSNAzLkDdIqk4+hNXtc/5Bkv1X/0IU7VrWS8szHFt8wPHIu8kLlXDYJA9qAMj+xVs9Qs0kMdxHMzKw8oKRhSwwQfUVq/2JY/8+sf5GoBb31xfWktwtvHHAzN+6dmJypXHIHrn8K1qAMTTtJs5I5y9ujYnkUZHYMQBVs6LY/8APrH+VGlH93cf9fEn/oVeT6z+1B4ZXxtrXhLw/DN4l1vRIxJqXkOsNtaZYqVaZyAzAqchQ20jDEGs51IUo81SVl56GNStCjHnm7I9X/sWx/59U/KoG0myF/Cgt02GKQlcdwUx/OuC+Dn7RXhf40WrtpJuLW4WWaJY7qPCzmJtshhcfLIoPpyRhsbSCfSX/wCQpB/1xk/9CSqTUleLuiqdSNRc0HdDP7Esf+fWP8jWV/Yq3l/eRxNHbxwuqgeUGJyoYkkn1NdJWSbW+t767lt1t5I52Vv3rspGFC9gfTNUaGdFYQSaDcyyQxmeNp08xV252Oyg4z1wAfrWx/Ylj/z6x/kaqNayWfh+7jm2+a3nStsJKgs7NgEj/axnHatqgCh/Ylj/AM+sf5Gj+xLH/n1j/I1fooAxdP0mzkkvA9vGwScquR0G1Tj9TVv+xLH/AJ9Y/wAjS6Z/rL7/AK+G/wDQVq9QBh6xptra6fJJFbxrJlVDMuQMsBnGe2az59H+xatpiSOk8U0joyeUF6ISDkH1Arf1S1e9sZIYyokYgqWzjIIPOPpWbcR302saU1ylvGiSSN+6dmJ/dkdwPWgDQ/sSw/59Y/yNH9i2H/PrH+Rq/XM/EP4i+HfhT4TvvE3irVI9I0WyUNLcSKznJOAqIoLOxPAVQWPYGk3ZXYF++0ezjsbh1tkDLGxBA7gHFOtdHsntYWNuhJQE5HqBXg/jT9sTRfC9tZPeeF9elttVgkks4bGD7XezRBctKLaHewjUMpLMRjcoOCQK9m+HvjjRPiJ4P0vX/DuoRanpN5AkkNxFnBBUEZB5HBHX2NRCpCouanJS9Hc56WIpVv4crmx/Ylj/AM+sf5Gj+xLH/n1j/I1forQ6DlF0hbrXNRt4mjgihWJgvlBuWBz1PHT9avaPpdtcWsnnQRySRzSRl9u3IViAcA+gpscN7HrmpzWywOriJSJXZSCFJ4wD/e/StHSrWW0t3WfYZZJXlIjJIG5icAkDPWgBP7Esf+fWP8jVW90iySW0C26ANNtbA6jaxx+YFbNU9Q/11j/13/8AZGoAZ/Ylj/z6x/kaP7Esf+fWP8jV+igCh/Ylj/z6x/kar6fo9nLp9q726M7RKSxHcgZrXqppf/ILs/8Arin/AKCKAI/7Esf+fWP8jR/Ylj/z6x/kav0UAYsGk2baldobdCirGVGOATuz/IVb/sWw/wCfWP8AWi3/AOQrff7sf8mqh4y8aaH8PPDd94g8R6nb6Po1jH5txeXThUjX+p7ADk9qBOy1Zf8A7Esf+fWP8qp6lpNpEttst0XdOinjsTyK8m8RftbeF/B9nb6nr+n3Wh6HcsEg1HUb6wgSXI3BlV7gFgVG7Ay2P4a9QsfEmm+LtD0rVtIvI77T7qaN4p4zwwzggg8ggggg4IIIIyMVnTqQqrmpyTXk7/kYUsRSra05XNX+xLH/AJ9Y/wAjXx78TLdbT/goh4ZjgRY4P+ENt2ZQDnJl1UAj8q+0a+HPj54y8P8AgX9v3w3qfiXXdN8P6cPBtshvNVvI7WEMZtVAG+QgZJOAM81odB9J0V5p/wANOfB3/orHgf8A8KOz/wDjtH/DTnwd/wCiseB//Cjs/wD47QB6XRXmn/DTnwd/6Kx4H/8ACjs//jtH/DTnwd/6Kx4H/wDCjs//AI7QB6XXwr+258LbTwB/YHibw9dalLrN1rF1cW9tdXhe2gnuLiGaUxocbA8qITycY44GK+n/APhpz4O/9FY8D/8AhR2f/wAdr5w/bM+L3gT4gab4KtPC/jXw74kuodUWSS30jVYLp0UyRAErG5IGeMkYoA9b/Z7/AOFmfH74NeFvH1nqunadb61btL9lnupdyMkjROOIzwWQkck4IzzmuH8UeI/2lfg/o1z4v8aeFNLl8Jad82pnTNU+0XFvbsdhlVQfmMe4OcDHy5OACR9K/sT/AAx8R/Bv9l3wH4N8W2iWHiHTLedbu2jmWYRF7mWRV3oSpIV1zgkZzg1674l0+11bRbiyvbeO7s7nbDNbzIGSRGYBlYHqCCQQexrj+q0k7r82dX1io9/yR8AeKf2movDMFgE1681rUtSWNtO0nSB9pu7zzBmPy0XnDfwkkAngEkgHs/BX7PPxj+P0S3fxU8RX3w98Ey4I8JaTchtQvYzzi6mwRGpGMoASVYqyIw3H334E/sm/DX9nWGRvCOhAapKWD6xqLfaL0ox/1YkI+RAAo2oFBCqW3NyfY+DWOHwcaPvSbbNK+KdXSKsjjPAXwg8G/DHQYtG8MeH7TSLCPGViBZ5WAA3SSMS0jYAG9yWOBk8Vu2Oj2ckLFrdCfNkAOOwdgB+QFa9VNO/493/67S/+jGr0jhI/7Esf+fWP8jR/Ylj/AM+sf5Gr9FAGM2kWX9qRJ9nTaYXYrjuGXH8z+dWv7Esf+fWP8jT5P+QvD/1wf/0Jafe3lvptpNd3c8dtawIZJZpnCJGgGSzMTgADkk8YFAEP9iWP/PrH+RrmPiFr3hj4f+Gp9T1u7ttLgJEURkyXmlJ+WONBlpHboEUFiegNc/8A8LP134j5g+GunwyaY3DeMtZicacB/etYQVkvD3DKY4SDkSsQVq7oHwm0rRr6bVLq5u/FnjGSMxP4h1hlkmhVsbo4QoEdtGeMxwqoOAWDHLEA8i1L4N+J/iZ8YdM+IegWs3wt0z7K9jd3d00bareQlTtl+yPFJFECAoxKxclYWdF+ziOT134bfBfwp8MdNuLPwzpsiC7kM95fXk8kr3MxLEysCcFiWIyoVdoVRhUVR3wtDI2+4bzWzkLjCL9B3+p/SrdAFKx0u30/JjT526vjn8PQfSrtFFABRRRQAUUUUAFFFFABRRRQAUUUUAFFFFABRRRQAUUUUAFFFFAHw38Of+TiH/7C3jr/ANOWm19KV81/DkD/AIaKY9/7V8dcn/sJabX0pQAUL1orD8beNtC+G/hTU/E3iXU4NH0LTYjNdXtwTtRQQAAACWYkhVVQWZmCgEkAgHhd5Zo//BSr4cXZLCWPwhcxgA/Lgm8JyPXIH5V9wV8QfA/T/FfxU/aF0D4veJdNk8I6fNZz6d4V8OTxILv7L5Ujm6v2wWEkgdisKsAgIBLEFm+0Nupf89LX/v23+NAF+qNl/wAhDUf99P8A0AUm3Uv+elr/AN+2/wAap2q3/wBuvdr24fcu4lGxnaMY59KANuiqG3Uv+elr/wB+2/xo26l/z0tf+/bf40AP1D/XWP8A13/9karlY14t+JbTe9sT53y4RuuxuvPTGatbdS/56Wv/AH7b/GgDg/j3byt4KtbtQTa2Wp2tzdjqBCsgyx9FQlXJ7BCTwK+NPiN4X13VPGXiLwxoR1a3stf1zTdSure48PytbsYzbGaeLUlk8qOMR24zE6+aXUhcB1I/QK4tby7t5IJxZywyKUkjeJmVlPBBBPIIJ4NeZ3XwDYXDDTPE2paLZseLG18mWKMekZmjkZR6DcQASABgY+dzPK6mNqRq0pJNK2u26fZ9V/wUfPZhgatap7WlrpbX8zG8D28t58WtHNsCRZafdS3bgZCxyGNUQntuZSR6+U3oce7iuN8D+D08J6QE07yt90FmuLq63yTzsQPmdyeTjoBhR0AA4rpNupf89LX/AL4b/GvRy/CfUcLDDXvy/wCd/wBT0MvwrwdBU5O7NCqFt/yFb7/cj/k1G3Uv+elr/wB+2/xqpbrf/wBpXeHt9+yPdlGxj5sY5+teieibVFUNupf89LX/AL9t/jRt1L/npa/9+2/xoAXU/wDWWP8A18L/AOgtV6sXUFv/ADLPe9uT5427Ubrtbrz0xmre3Uv+elr/AN+2/wAaAL9FUNupf89LX/v23+NG3Uv+elr/AN+2/wAaAHaP/wAgu1/65L/KrtY2li//ALOt/Le2CeWMBkbPTvzVrbqX/PS1/wC/bf40AX6zL6O8lbUk0+eG1v2tFFvPcwmaKOQ+ZtZ41dC6g4JUOpIGNw61Jt1L/npa/wDftv8AGs7UNQn0ddRv7ue2ht7W1E88nlOwWNd7EgAkkgA9Pagcb3Vjyz4dfA/x94H+Knivxnd/ELRdXHiq4tZtV08eF5IFCwRiJFt3F6TGfLG3LiTpkgmup8YfB+bUPiNbfEDwvq1r4f8AF8emnSJri+077dbXNr5gkCPGJInDK/RkkXg4OcDB8OPjZovxZ1rxFp3hjUYtQbQWgS9nNrLHGHlDkIu8hiQE54xyME840fHnxIj+H0enx3p+36pqcpg07SdNtnmu72QDcwjTcAAq8s7FVUdWHFRaNj1qlbGvEWmrTslblS0srXVrWtbdbGL4Q+EcvhbxTq/jLX9bPiXxhrBtbOa+S1Frb29rHJlILeHe5RNzMx3O7EnJNdd8RLy+03wD4lu9Mz/aMGmXMttg4PmrExT/AMeAri/Bvxmh8feJNb8Ly6fdeHfFGgyW0l7o+qxxeciSkNFIrwTSxsh74ckdwMivR5Ib+WNkd7R1YYKtGxB9QRmmttDhxarSm1X0dl91tLW0tba2h+d19odtoXgD476d4dh+z2UNraFFt/lLQnToWlYkdSyl2Y5JYsSSScnvt0Nr+0VYXuheWjRaboaF7PG0l9ReOJSRxhoJLlR/sMx6V6lZ/sj6Z4B1+bVvAXh3wbpskjOyq2lJazQBydyJcRIW8vnhWBIHGcYA6X4U/s62nw5vVvobHw/prRyNPDpuhaatpaJMV2GZguDJLtyoY4ABIAzzXxeGyXEUceqzn7qd799rpq/kfCRy6v7e2trrX7v8j1/Q/wDkGRfVv/QjV+sTSVvv7Pj8t7cJlvvIxP3jnofWrm3Uv+elr/37b/Gvtj7Iv1Q/5jn/AG7f+zUbdS/56Wv/AH7b/GqeL/8Atj79v5nkddjYxu9M9c0AbdFUNupf89LX/v23+NG3Uv8Anpa/9+2/xoANc/5Bkv1X/wBCFX6xNWW++wSea9uUyudqNn7wx1PrVzbqX/PS1/79t/jQBfoqht1L/npa/wDftv8AGjbqX/PS1/79t/jQBgeJ7q9sfAvim40wE6jDbXklsF4PmhGK4992K+H/AA78SfhnpfxhvrP/AIS3wvDpsfhS3s5Ul1K3RPMFzcPNG6lseZhizqefmyRyTX3lpy3xjn2PbgedJncjddxzjmvM9S+DOvaXcSnw1qOmJp8jM66bfQuEgJJJWKRCSqZJwpVtvQEKAo+eznATx1FRp6tX0vbf5PY8HNMLUxEF7NX8r+af6Hzd8EfHuga7Dqg8PeIdM1PWIfHcl3bxafexyy+XNqQRXwjE+XIjspfGCrtyRX3Y/wDyE7f/AK4yf+hJXnHhH4U6ppusW+s63qVnf31ruNrbW8DJb27EFS4yxZ32lhuJAAY4UEknvHW/F9D+8t9/lSYOxsYymc8/T9a6crwc8Fh/Zzerd7XvbRK17Lt+JtluGnh4Tc1bmd7bmxRVDbqX/PS1/wC/bf40bdS/56Wv/ftv8a9g9gdrH/ILuv8Ark38qu1jaot//Z1x5j2xTyzu2o2enbmrW3Uv+elr/wB+2/xoAv0VQ26l/wA9LX/v23+NG3Uv+elr/wB+2/xoAXTP9Zff9fDf+grV6sXT1vy95se3B887so3XavTnpjFW9upf89LX/v23+NAF+s+8/wCQpp/1k/8AQaXbqX/PS1/79t/jVO6W+/tCy3Pbl8vtIRsfd5zz6UAbNfLf7eHiLS9B8EwJrupWOm6dNpOsfZmv50iWS+NqI4UTceXKS3AAHJyQAcmvpbGpf89LX/vhv8awvGHg2TxppP2G8mihZJFmgurdCJbeVc4kQkkZwSMEEEMQQQSDz16brUpU+6aOfEQdSm4x3PjTV/2g/DOjeDPB2m6P4w8N297rdoYYdZvtRg+w2SwpGJ5HYuA7r5ihYQQWY8lVVmHt37Ken6R4fN5o3hS+TUfCtrommG3uIZ1mjkYefEJQ6na7PHEm4jjCJjjArXuPhX45tlkX+2NBeBFJ+1m0mEmAOvlb8E4/2wM9q9A8D+DX8H6N5FrPHcTXL/abm7uVJlnkIA3NggDACqAAAAoAr5fJsqrYGrOpNcqd+t766dFt/SPmcty+tRrKUouKV+t7nZ0VQ26l/wA9LX/v23+NG3Uv+elr/wB+2/xr7A+uFsv+QhqP++n/AKAKvViWq3/2692vbh9y7iUbGdoxjn0q5t1L/npa/wDftv8AGgC/VPUP9dY/9d//AGRqZt1L/npa/wDftv8AGqt4t+JbTe9sT53y4RuuxuvPTGaANmiqG3Uv+elr/wB+2/xo26l/z0tf+/bf40AX6qaX/wAguz/64p/6CKj26l/z0tf+/bf41X09b/8As+12PbBPKXbuRs4wMZ5oA16KobdS/wCelr/37b/GjbqX/PS1/wC/bf40AFv/AMhW+P8AsR/yavm/9tyyg1rwu1lqEK3Fjb+Hta1KGGQbk+1xQxJHIQeNyLLKVzkgsSMFc19CW4v/AO0rrD2+/ZHuyjYx82Mc/WuR+Lnwa0n41+HItI8T6dpOox2063Vo95YJciCYAgMElDKQQSpBHIJ5BwRz4im61KVNO10c+IpyqU3GLseATR2954f8O2enX2hWHi+TRt1pLq1kLqT7JtiFwFUSIwUkxZO7bnblWxitj9ie8tG+H9hZ6PBcWugRado8sENzKJWWUrNE53hUDhkhhbcETcGB2rnFXpf2Tzc6Tb+HpvB/w5fQreZpod2l7oYpGGGkWzMWxWI6/vMnpnvXsnhfwKPAGh2unWkkUu66WWW4ePa80hAAZguFACqqhQAAqqB0r5rI8rr5fOpKq9H6d99P16+p83leBr0Kic7pK531cR41+Cfw7+JWqRal4u8A+GPFWowwi3iu9b0a3vJkiDMwQPIjEKGZjgHGWJ7muo26l/z0tf8Av23+NG3Uv+elr/37b/GvrT6w85/4ZO+CH/RG/h//AOEvY/8AxqqOj/sp/BObTYXk+DvgF2Ocs3hixJ6nv5VeqbdS/wCelr/37b/GqekC/wD7Pi8t7cJzjcrZ6n0NAHC/8MnfBD/ojfw//wDCXsf/AI1R/wAMnfBD/ojfw/8A/CXsf/jVejbdS/56Wv8A37b/ABo26l/z0tf+/bf40AeV/wDDKfwT/tgx/wDCnvAOzyA23/hGLHGdxGceV1rSsP2Xfg1pd9b3ll8JPAtpeW8iyw3EHhqySSJ1IKsrCPIYEAgg5BFdti+/tY/Pb+b5A52NtxuPbPXNXNupf89LX/v23+NAF+qerf8AHn/20j/9DWmbdS/56Wv/AH7b/GqupC/+y/O9tt8yP7qMDneMdT64oA2aKobdS/56Wv8A37b/ABo26l/z0tf+/bf40AX6qad/x7v/ANdpf/RjVHt1L/npa/8Aftv8a4j4lfEC++Fvw71bxMLBNVjsZcNbx5QLvnEZlkcn93Chfe74bYis2GxigD0aiviDRf2nvil4a8UeEPGfje2tX8D+NLCQ6doujCORrYgxmJipIYTFpERg0xUq7yOLfymQ+9XHhXx78SYRL4x1KPwd4ebkeGtDuXF1cKei3d5GQwz3itioByDLKpwQDV8SfF6FfFkugeENNk8a+J7aN4ri1s5RHZ6e5KnF5dEFYSBgmNQ8pBBEbCoYfhPL4kvLfUviXqieLb1HE1t4ft4jFo9owOVK25JM7qQD5s5bDDcixZwOt8L+FofDen2mn6TYWGhaRZxGC3s9PthCkakgnag4XJGeR3ORk10cFuluDsHzH7zHkn6nvQBCIZbjHmnyo+0SHk/U/wBB+ZqzHGsSBEUKoHCgcU+igAooooAKKKKACiiigAooooAKKKKACiiigAooooAKKKKACiiigAooooAKKKKAPzY1zxj4r8L/ALQGgWfgvS9L1TXdY8TeO7OOLV53ht1VbqzndiygkHEJA4Iyfxr6P+AvxI1j4neC76/8QabZ6VrWm6zqGjXdvYStLB5lrcPCzIzAEglDjPXrxnA8I/4VX4U+LnxvTSfF+jQ63p0Ou+OLmOGZnULINQ09QwKkHOHYdcc19O+Avh74d+GHhuHQPC2lQ6NpELvIlrbklQzsWZiSSSSSSSSaAOirJ8SeEdD8ZWtrba9pFjrNva3Ud7BHfW6zLFPGcpKgYHDKScEYIBI6Eg61C9aAPCbv4ia/b/t/fDjwTHeqvhqbwxeanJZ+SmWuP3yB9+N2AqAYBA68Zr7Gr4W1COUf8FOfhlN5ZMA8GXcRkyMBibpgMZz0U9vSvumgAqjZf8hDUf8AfT/0AVeqjZf8hDUf99P/AEAUASajdGx0+5uAu4wxNIF9cAnH6VTivb2O+toblbcpOGIMW7IIAPOa0poUnieORQ0bgqynoQRgg1VttGs7OZZYoAsiggMWJIz16mgB2of66x/67/8AsjVcqnqH+usf+u//ALI1XKACiiigCppf/IMs/wDrin/oIq3VTS/+QXZ/9cU/9BFW6AM2/vLmO+trW1WEvJHJKWmzgBSgxx/v/pVbQbqS8u755lVZFIjYJnb8rOuRn1xWheabbX7I08QkZAQrZIIBxnoe+B+VVdLtYrO/vIoUEcYWMhRnuWJ/Un86ANWiiigCjqf+ssf+vhf/AEFqvVR1P/WWP/Xwv/oLVeoAKKKKAKWj/wDILtf+uS/yq7VLR/8AkF2v/XJf5VdoAz9Qu7mG5toLZYy8u4lpc4AUD0+tVtHu5rrUr9Z1RZYRHGfLztP3jkZ+v6VevNPgv9hnViY+VKuykZ68gj0rOZrTw2uqXXlXBt4LYXMq28UtzMwXzCdsahnkbA4VQWJ4AJOKBpNuyPH/AILf8nQ/tF/9fWgf+mxa5PWvHGqt+3Hq1jpuhyeItS0vwfDa6bZmXyLeDz5/NnuJZireWMJDHkKzH5QFPJqf4J+OCv7SHxf1G78K+M9M0vxVeaSNIv7/AMK6hDBP5FoIHLsYf3K7hnMuwYOTjpXSeOtB1j4ZftGWvxPsNEv9e8Nazof9h67DpFsbm7tJIpDJBciFAXlUgtGwQEjAODWPTTufWNKniZRnHV0opX0u1CF1+DVu+m5ueGfinNqHxKvvBnirwta+FvGS21vqMEtnei9ttSsxPs3RTmKJyUc4KOikbgRkHNew18+6bpeo/Ej9oqz+Icek6lo/hjRdF/se0k1iyksri/uJrpJHdYJQsiRoqAZdVJZuBgZr6CrSNzwsbCEJx5FZ2V12fbW77aX02CiiiqPPOb0u+vmt5o7dLcR25OfN3ZJJJ4xW5Y3BvLK3nK7TLGr7c9MgHH61k6bo1pdWSyyRvvcsGKysu7DEDIBArahiSGFIo1CoihVUdAAMAUASVQ/5jn/bt/7NV+qH/Mc/7dv/AGagC/RRRQBQ1z/kGS/Vf/QhT9Uu2sbCadFDOoGAx4ySAM47c0zXP+QZL9V/9CFWLq3jvIHhlXfG4wy5I/lQBTt7q8XUUtrpYMPE8itDn+EqMHPru/StOqNrpNtZzebGj+ZtK7nkZzgkEgZJxyB+VXqAKOk/6u5/6+JP/QjV6qOk/wCruf8Ar4k/9CNXqACqsn/IUt/+uMn/AKFHVqqsn/IUt/8ArjJ/6FHQBarLuLq9k1GW2tVg2xxpIWm3ZO4sMDHpt/WtSqNzpNreTmaRX83aFLJIyZAyQDgjPU/nQBWkumvvDT3DKEaW3LFVOcEites2/t47XQ54Yl2RpCVVeTgAcCtKgAooooAo6Z/rL7/r4b/0FavVR0z/AFl9/wBfDf8AoK1eoAq6jdGx0+5uAu4wxNIF9cAnH6VlPPeLrWlpciDbJ5hUxbsjC55z9a2poUuIZIpFDRyKVZT0IIwRWS2lW1nq2nvGrhv3g+eVm/h7ZJoA26KKKAK2pf8AIPuv+uTfyNOsf+POD/rmv8hTdS/5B91/1yb+Rp1j/wAecH/XNf5CgCeiiigDAW6uzruoW9qsPyiN2abPdQBjH0rT0u6e+sY5pFVXYkMqk4yCRx+VUV0u3vdVv5JVcupRQySMhxtBwcEZrTtbWOzgSGJdiLnC5Jxk5PJoAnqnqH+usf8Arv8A+yNVyqeof66x/wCu/wD7I1AFyiiigAqjYy+TotvJjO23VvyUGr1U9NUSaTaqwyrQqD+KigCjb6lfb9OadLfyrxtv7stuXMbP34/hx+NbVZ1vodnayRSRxvui/wBXuldgvBHAJx0JFaNAFC2/5Ct9/uR/yar9ULb/AJCt9/uR/wAmq/QAVQ1b7tp/18x/zq/VDVvu2n/XzH/OgC/WbfXV0l9DbWqwlpI3kZps4G0qMDH+9+laVU7zTbe+kR5lYvGCFZXZDg4yMgj0H5UAJpd1JeWpeZVWVZJI2CZ25VyuRn6U3Qv+QXB/wL/0I1PaWsVlCIYF2ICTgkk5JJJJJyTkk1BoX/ILg/4F/wChGgC/RRRQBQ/5jx/69h/6Eav1Q/5jx/69h/6Eav0AFZ+uSeVprvjO14zj6OtaFUdYUPYlWGVMkfH/AANaAKlrqV80mntcJb+Vd/8APMtuU+WW7/TFbNZsOjWNiyTKrJ5IJUySsVTggnBOBwTXn03xcv8AxxcSWHwx06HxAFYxy+KL4smi2xBwdjjDXjDn5YMpkFWljNAHd+JvFWj+CdFn1bXtTttJ02DG+5u5QihicKoJ6sxIAUckkAAk4ry6S88WfGfR73TtOsD4M8E3nnw3Gra3aK+o30LswdYbKVSsCkEjdcqW6gwYIaug8N/Cuy0/XYdf1+9uPHHjKHJj1PUABDYkjBW1gGY7VSDglQZWXAd5MZruoNPCqfPfzcszhP4ASxbp35PU0Aec/B34EeFfg7pItvD9l9u1BlaOfXtSJmup0MjPguxJILMXYLtVnZ5CNzsT6ZDaLG29iZZcY8xuv0HoPpVmigAooooAKKKKACiiigAooooAKKKKACiiigAooooAKKKKACiiigAooooAKKKKACiiigAooooA+G/hzn/hol/T+1vHXf8A6iWm19KV81/Dn/k4h/8AsLeOv/TlptfSlABRRXG/FmHxxeeCbq0+Hk+l2PiW6kjgj1DVizRWMbMBJcJGFIlkRSSsbEKSASSBtYA8ek1TT9Q/4KPeC4rK8W9vNJ8MyrqNvbK0jWe5LtoxKVGFZhKpCH5tpDY2kGvtj+0ov7lx/wCA8n/xNfJvwf8ADvgT4H/FTwH8NNM1KW78Y6gbzX7+5vhJLe6qzW8yy3k8xBDOzgjBbIAwBgZr69oAqf2lF/cuP/AeT/4mqdrfRLfXzbZsM6niFyeEA5AGR+Na9UbL/kIaj/vp/wCgCgB/9pRf3Lj/AMB5P/iaP7Si/uXH/gPJ/wDE1booAyb2/iaazO2b5Zs8wSD+BhxxzVv+0ov7lx/4Dyf/ABNJqH+usf8Arv8A+yNVygCp/aUX9y4/8B5P/iaP7Si/uXH/AIDyf/E1booAy9Nv4l0+2UrMSsSj5YJCOg6EDmrP9pRf3Lj/AMB5P/iaNL/5Bdn/ANcU/wDQRVugCp/aUX9y4/8AAeT/AOJqlb30Q1K7bbNhkjH+pcnjd1GOPxrYqhbf8hW+/wByP+TUASf2lF/cuP8AwHk/+Jo/tKL+5cf+A8n/AMTVuigDI1G+jaSzIWYbZwTuhcfwt0yOT7Dmrn9pRf3Lj/wHk/8AiaZqf+ssf+vhf/QWq9QBU/tKL+5cf+A8n/xNH9pRf3Lj/wAB5P8A4mrdFAGTpV/HHptspWYkRjO2ByOnYgc/hVv+0ov7lx/4Dyf/ABNN0f8A5Bdr/wBcl/lV2gCp/aUX9y4/8B5P/iaqpfRf2hM2yfBijH+okz1ftjjr/nFatZl/ptvrDanYXkfnWl1aLBNHuK7kbzFYZBBGQT0oGrX1CLxJp899cWUc5kvLdUea3WNzJGr7thZcZAba2Ceu046VgeLvjJ4H+H9xbweKPFek+G57hS8MWr3S2rSqDglRIQSAe4ryH9m/wvpng39oX9oPR9Htzaadb3miNFCZXk2l9P8AMb5nJPLOx68ZwOK9c1b4R+GvEXj5vFmtaXZ6zfR6dHp1rHf2yTLaqskryNHuBw0nmKCfSNfU1CbaPSq0KGHr8lSTceWL0STfNFO3VLcz9G+N3w/8e3sem+GvGeh+INQVknNppd/HcSiNXXLbEJOASOcdxXc/2lF/cuP/AAHk/wDia8h+EuiaLrl5qvxB0zS7KwtNUuo9P0f7JBHGP7Phmx5nyAZ86UPJnughH8Ne0043a1OfFU6dKq4U76b379V8tip/aUX9y4/8B5P/AImj+0ov7lx/4Dyf/E1boqjkMfR76OPT4lKzZy33YHI+8e4FXf7Si/uXH/gPJ/8AE1Hof/IMi+rf+hGr9AFT+0ov7lx/4Dyf/E1S+3R/2xu2zY8jH+ofP3vTGcfhWxVD/mOf9u3/ALNQBJ/aUX9y4/8AAeT/AOJo/tKL+5cf+A8n/wATVuigDH1i+ik0+VQs2cr96BwPvA9SKu/2lF/cuP8AwHk/+JqPXP8AkGS/Vf8A0IVfoAqf2lF/cuP/AAHk/wDiaP7Si/uXH/gPJ/8AE1booAx9Nvo447gFZuZ5D8sLnqx9BwfbrV3+0ov7lx/4Dyf/ABNM0n/V3P8A18Sf+hGr1AFT+0ov7lx/4Dyf/E1Ve+i/tCFtk+BFIP8AUSZ6p2xz0/zmtWqsn/IUt/8ArjJ/6FHQAn9pRf3Lj/wHk/8AiaP7Si/uXH/gPJ/8TVuigDJ1W/jk025ULMCYzjdA4HTuSvH41b/tKL+5cf8AgPJ/8TTdY/5Bd1/1yb+VXaAKn9pRf3Lj/wAB5P8A4mj+0ov7lx/4Dyf/ABNW6KAMjTr6NZLwlZjunJG2Fz/CvXA4Pseauf2lF/cuP/AeT/4mmaZ/rL7/AK+G/wDQVq9QBU/tKL+5cf8AgPJ/8TVK6vo21CxYLNhS+cwOOq9gRz+FbFZ95/yFNP8ArJ/6DQBL/aUX9y4/8B5P/iaP7Si/uXH/AIDyf/E1booAzL7UI2sbgBJsmNsZgkA6HuV4p1pqES2sClJ+I16W8h7DvirGpf8AIPuv+uTfyNOsf+POD/rmv8hQBH/aUX9y4/8AAeT/AOJo/tKL+5cf+A8n/wATVuigDItb6Jb6+bbNhnU8QuTwgHIAyPxq5/aUX9y4/wDAeT/4mmWX/IQ1H/fT/wBAFXqAKn9pRf3Lj/wHk/8AiaqXt/E01mds3yzZ5gkH8DDjjmtaqeof66x/67/+yNQAv9pRf3Lj/wAB5P8A4mj+0ov7lx/4Dyf/ABNW6KAKn9pRf3Lj/wAB5P8A4mq2m38S6fbKVmJWJR8sEhHQdCBzWpVTS/8AkF2f/XFP/QRQAf2lF/cuP/AeT/4mj+0ov7lx/wCA8n/xNW6KAMe3vohqV222bDJGP9S5PG7qMcfjV3+0ov7lx/4Dyf8AxNR23/IVvv8Acj/k1X6AKn9pRf3Lj/wHk/8AiapanfRyC1ws3E6E7oXHQ9sjk+w5rYqhq33bT/r5j/nQBJ/aUX9y4/8AAeT/AOJo/tKL+5cf+A8n/wATVuigCp/aUX9y4/8AAeT/AOJqlo19HHpsKlZs8/dgcjqe4FbFUNC/5BcH/Av/AEI0ASf2lF/cuP8AwHk/+Jo/tKL+5cf+A8n/AMTVuigDH+3x/wBsF9s2PIA/1L5zuPbGce9Xf7Si/uXH/gPJ/wDE1H/zHj/17D/0I1foAqf2lF/cuP8AwHk/+JqpqV9G9rgLN/rIz80EgHDqfStaqerf8ef/AG0j/wDQ1oA8m/afktNU+FtpYXVu9zZXnirwza3NvNbO0c8MmvWCSxOpXDK6MylTwwYggg11Hwl8ZH4k+C49VSzXR7aO9vbBLOBjgLbXUtuDnAwCIgcADGcZOKx/2lv+SdaR/wBjn4T/APUh06q/7LP/ACSY/wDYd1v/ANOlzQB61HGsKBEUKo6BelPoooAKKKKACiiigAooooAKKKKACiiigAooooAKKKKACiiigAooooAKKKKACiiigAooooAKKKKACiiigD4b+HP/ACcQ/wD2FvHX/py02vpSvmz4c/8AJxD/APYV8df+nLTa+k6AChetFC9aAPmHVP8AlKD8LP8AsS73+d1X3dXw9qNnE3/BSj4aXRDGdPCdxGrbjgKRekjGcHJA5IzwK+4aACqNl/yENR/30/8AQBV6qNl/yENR/wB9P/QBQBeooooAp6h/rrH/AK7/APsjVcqnqH+usf8Arv8A+yNVygAooooAqaX/AMguz/64p/6CKt1U0v8A5Bdn/wBcU/8AQRVugAqhbf8AIVvv9yP+TVfqhbf8hW+/3I/5NQBfooooAo6n/rLH/r4X/wBBar1UdT/1lj/18L/6C1XqACiiigClo/8AyC7X/rkv8qu1S0f/AJBdr/1yX+VXaACqsf8AyFLj/rjH/wChSVarMvtNtNabUtP1C1hvrC7tFguLW5jEkU0beYrI6sCGUgkEEYINA1a+p4d8D9StLr9qb9oyOC6hmk+16H8kcgY/Jpyo/AP8LAqfQjHWuh/bC8cXHw6/Zn+IGuWcjQ3aaf8AZIZU+8j3EiW6sPcGUH8K6fSfgH8MdB1O11LTPhz4T07UbWRZre7tNDtYpYXByGR1jBUg9CDmut13QNM8UaTc6VrOm2mr6ZcqFnsr6BZ4ZQCCAyMCrDIB5Haos+Vo9epiqDxdKuk3GPJdO2vKkvPe34nNeAbG00z4WeC7OwTy7G30/T4rdMY2xqkYUY+gFdpVC/iS3s7aKJFjjSaFVRBgKA4AAHYVfqzyqkuebl3CiiiggoaH/wAgyL6t/wChGr9UND/5BkX1b/0I1foAKof8xz/t2/8AZqv1Q/5jn/bt/wCzUAX6KKKAKGuf8gyX6r/6EKv1Q1z/AJBkv1X/ANCFX6ACiiigCjpP+ruf+viT/wBCNXqo6T/q7n/r4k/9CNXqACqsn/IUt/8ArjJ/6FHVqqsn/IUt/wDrjJ/6FHQBaooooApax/yC7r/rk38qu1S1j/kF3X/XJv5VdoAKKKKAKOmf6y+/6+G/9BWr1UdM/wBZff8AXw3/AKCtXqACs+8/5Cmn/WT/ANBrQrPvP+Qpp/1k/wDQaANCiiigCtqX/IPuv+uTfyNOsf8Ajzg/65r/ACFN1L/kH3X/AFyb+Rp1j/x5wf8AXNf5CgCeiiigCjZf8hDUf99P/QBV6qNl/wAhDUf99P8A0AVeoAKp6h/rrH/rv/7I1XKp6h/rrH/rv/7I1AFyiiigAqppf/ILs/8Arin/AKCKt1U0v/kF2f8A1xT/ANBFAFuiiigChbf8hW+/3I/5NV+qFt/yFb7/AHI/5NV+gAqhq33bT/r5j/nV+qGrfdtP+vmP+dAF+iiigAqhoX/ILg/4F/6Eav1Q0L/kFwf8C/8AQjQBfooooAof8x4/9ew/9CNX6of8x4/9ew/9CNX6ACqerf8AHn/20j/9DWrlU9W/48/+2kf/AKGtAHm37S3/ACTrSP8Asc/Cf/qQ6dVf9ln/AJJMf+w7rf8A6dLmrH7S3/JOtI/7HPwn/wCpDp1V/wBln/kkx/7Dut/+nS5oA9dooooAKKKKACiiigAooooAKKKKACiiigAooooAKKKKACiiigAooooAKKKKACiiigAooooAKKKKACiiigD4b+HfzftGOSMldV8cgcf9RHTa+lK+a/h3/wAnFy/9hbxx/wCnHTK+lKACuV+J3xO8N/B7wXf+KfFepR6ZpFmuWkc5eRiDtjjXqzsRgKOSfYEjqqo6toOma+tqmp6da6itrcx3lut3AkoinjYNHKgYHa6sAVYYIIyCDQB4B8D/AAr428ffHLwz8V/iDFN4ZbUluLDQ/BgVVl0/T/s80gku3xu+0yMQxRSPLHytkkqn2f8A2Laf3JP+/wA/+NfIeofEPxDB/wAFAPhp4JTUNvhifw3eapJY+THzchblBJv27xhQBgNt74719lUAUf7FtP7kn/f5/wDGqVrpVs97fIVfCMuP3rZ5UH155rbqjZf8hDUf99P/AEAUAH9i2n9yT/v8/wDjR/Ytp/ck/wC/z/41eooAxrzSbaOa0ARwGmwcyseNrHueOQOlW/7FtP7kn/f5/wDGnah/rrH/AK7/APsjVcoAo/2Laf3JP+/z/wCNH9i2n9yT/v8AP/jV6igDI07SbWTT7Z2VyzRKTiVx1APQGrP9i2n9yT/v8/8AjT9L/wCQXZ/9cU/9BFW6AKP9i2n9yT/v8/8AjVK30q2bUrtCr7VSMj96w67u+eelbdULb/kK33+5H/JqAF/sW0/uSf8Af5/8aP7FtP7kn/f5/wDGr1FAGJqGlW0b2gVX+acKcyOezHueOlXf7FtP7kn/AH+f/GjU/wDWWP8A18L/AOgtV6gCj/Ytp/ck/wC/z/40f2Laf3JP+/z/AONXqKAMbS9JtptOt3ZXLMgJxKwGcegNW/7FtP7kn/f5/wDGl0f/AJBdr/1yX+VXaAKP9i2n9yT/AL/P/jWbqGksV1FNPSP7aLUG2+1SyeX5p8wLvKndtyBnHOK6Cqsf/IUuP+uMf/oUlA1o7niPwR8VeKfFHxW+K/hnxh/ZobwxNpsFrFo7TCELPbtOW3Od7MQyA54G3gdSbHjHVdU8SfHS3+Gmja5J4TtofDy+ILvUrUJPfT77loEhhWYPGoXy2Z2ZHPzIABkmqfwW/wCTof2i/wDr60D/ANNi1Q+Kvgmx+Pnxuj8O2Vxd+GNV8D2EOozeLNJlMWowy3ZkENrEfumMrDI8m8MD8qgAljWWtj6N06X1puUVGPs4va6i3COtuur+93NXw5qOu+F/jNP8PNb1WbxVY3GkJrlhrFzGkN1EFukglgnEQSN871ZWVE6OCDjNe0f2Laf3JP8Av8/+NfOPwlm174d/GzWvA3jy5g8TeJ9UtIdW03xmqGObULKK4EZtpYslYWiZ8hY8IwctjcWJ+nKqOx52YQVOqlG2qWq0T80un3LbVJ6FH+xbT+5J/wB/n/xo/sW0/uSf9/n/AMavUVZ5hiaTpNtNp8bsrliWziVh0YjoDV3+xbT+5J/3+f8AxpND/wCQZF9W/wDQjV+gCj/Ytp/ck/7/AD/41S/sq2/tfy9r7fI3f61/72Oua26of8xz/t2/9moAX+xbT+5J/wB/n/xo/sW0/uSf9/n/AMavUUAYmraTbQ2EjorhgVxmViOWA6E1d/sW0/uSf9/n/wAaTXP+QZL9V/8AQhV+gCj/AGLaf3JP+/z/AONH9i2n9yT/AL/P/jV6igDE03S7aVJyyvkTyKP3jjgEgdDV3+xbT+5J/wB/n/xo0n/V3P8A18Sf+hGr1AFH+xbT+5J/3+f/ABqtJpNqNQhQI+0xSE/vWzkFAOc+5rXqrJ/yFLf/AK4yf+hR0AR/2Laf3JP+/wA/+NH9i2n9yT/v8/8AjV6igDG1TSbaHTrh1VwyoSMysRnHoTVv+xbT+5J/3+f/ABpdY/5Bd1/1yb+VXaAKP9i2n9yT/v8AP/jR/Ytp/ck/7/P/AI1eooAxLDSraSS7DK+FnKj94w42qfXnrV3+xbT+5J/3+f8Axo0z/WX3/Xw3/oK1eoAo/wBi2n9yT/v8/wDjVK60q2W/skCuFYvn963Zc9c8Vt1n3n/IU0/6yf8AoNADv7FtP7kn/f5/8aP7FtP7kn/f5/8AGr1FAGTfaTax2Vwyo+RGxGZXPQH1NOtdHtWtYWKPkoCf3r9wPerepf8AIPuv+uTfyNOsf+POD/rmv8hQBB/Ytp/ck/7/AD/40f2Laf3JP+/z/wCNXqKAMS10q2e9vkKvhGXH71s8qD6881d/sW0/uSf9/n/xosv+QhqP++n/AKAKvUAUf7FtP7kn/f5/8aqXmk20c1oAjgNNg5lY8bWPc8cgdK2ap6h/rrH/AK7/APsjUAN/sW0/uSf9/n/xo/sW0/uSf9/n/wAavUUAUf7FtP7kn/f5/wDGq2naTayafbOyuWaJScSuOoB6A1r1U0v/AJBdn/1xT/0EUAM/sW0/uSf9/n/xo/sW0/uSf9/n/wAavUUAYlvpVs2pXaFX2qkZH71h13d889Ku/wBi2n9yT/v8/wDjSW3/ACFb7/cj/k1X6AKP9i2n9yT/AL/P/jVLUtKtolttqP8ANOinMrHgn3NbdUNW+7af9fMf86AF/sW0/uSf9/n/AMaP7FtP7kn/AH+f/Gr1FAFH+xbT+5J/3+f/ABqlpOlW02nwuyuWOc4lYDqR0BrbqhoX/ILg/wCBf+hGgBf7FtP7kn/f5/8AGj+xbT+5J/3+f/Gr1FAGINKtv7XMe19vkBv9Y/8AeI65q7/Ytp/ck/7/AD/40n/MeP8A17D/ANCNX6AKP9i2n9yT/v8AP/jVTUtJtorXcqPnzIxzKx4LgHqfQ1s1T1b/AI8/+2kf/oa0AeU/tJaTaxfDvSCqNn/hMfCg5lY8HxBp4PU+hp/7KyCP4R7VyANd1oDkn/mJ3PrVr9pb/knWkf8AY5+E/wD1IdOqv+yz/wAkmP8A2Hdb/wDTpc0Aeu0UUUAFFFFABRRRQAUUUUAFFFFABRRRQAUUUUAFFFFABRRRQAUUUUAFFFFABRRRQAUUUUAFFFFABRRRQB+dV18XvCHwX+NS63401uLQdLm13xvax3E0cjgym/05guEVjkhGOcY469K+oPh58SPDXxY8LW3iPwnqsWtaJcMyR3UKsoLKxVgQwDAgg9QOx6EGvjb4nR+JtN+MNr4j8KXNjpviPwn4v8VzGDxJoOr3FpcRX0kcaujWkDBgFRzw4wSOvIre+D/xU8Z/DPw7qdleQ+H9UvtS1m/1q4ng0zxBBEJbu4aZ1RDpzEKC5AyxOAMknkgH2hQvWvjXxd+2v8RfDWuLY6d8J5vFlu1ss7XmjxXyJGxZgY2F1bQsWAUH5QRhhznIGMP29vinn/k3/Xvyb/CgD0nVLeVv+CnPwvnEZMC+DruNpMjAYm7IGM+inkD0r7qr8ovC/wAefiF4w/ag0D4iXvw9k8HtouknTxDrlrqEkMocXOW3WttMwI8zGCByQeRnH1H/AMNd+Mv+fLwn/wCAPiT/AOVdAH11VGy/5CGo/wC+n/oAr5B8S/tmePNB8O6nqNp4e8Paxc2tvJPFp9pY+IFmuGVSRGhk01UDMRgbmUc8kda83h/4KKfF+KaeRf2e9XLSEFgQ+OAAMc+goA/QPXtcsPDGhajrOq3Udlpmn28l3d3UmdsMMalnc47BQT+FeV/Cr9r/AOD/AMbPFH/COeCfG9pr2t+S0/2SO3njYouNxBkjUEjOcA5wCexr4t+Kn7d3xe8ffC/xh4Yl+AesWcWtaNeaa1wscjGITQPGWABJJAfOACTjpT/h/wCMPihofi74aa3rep+CLyDwJoU2h6da2Xh7xPbvLHLFDGWndrGQFgIEOVCjJbjB4AP0o1D/AF1j/wBd/wD2RquV8f3H7WXjOSS3J07wuxSTd8th4jwPlIyc6X057d8Vwnij/goJ8VfD/iO703T/AIOt4qtIUjZdS0iG+jgcsMlQLqGF8g8fcx7mgD77or88f+Hjvxi/6N61b8n/AMa6bwH+3b8S/F8upLqvw4svBZtTH5Sa3batK1wGDElDaWk6gLgZ3EHkYB5wAfbul/8AILs/+uKf+girdfIFn+1n4zhtIYxp/hdQsaqFaw8R54AGDjS+tZfjD9tXx/4a8O3mpWPhTQ/EV3AEMemadZ68s85LKpCGbTo4wQCT8zqMA854IB9E/GP9o34b/s/RaS/xB8VWvhoaqZVshPFLIZvKCeZgRoxwvmJknH3hWt8MfiR4b+LWir4q8I6rFrfh+/Rfs99Crqsm13RuGAYEMpBBA6V+bPxI/bI+PPij4jeDPGugfBW40zVfDdnqVkkOpWE11BMl4bYuSEmjYMv2ZcHdj5jkcVD+zv8AtefGD4FeA4PB4+Burau9u812935EkW5p7maYgLkgAGQgfMTxyB3AP1gor88f+Hjvxi/6N61b8n/xqCx/4KRfGO6s7eZv2etVDSRq5AWTGSAcDJBxz3APsOlAH6D6n/rLH/r4X/0FqvV+cl9/wUa+MLXFih/Z71bBmJBxJ1CsQOM/qR9exu/8PHfjF/0b1q35P/jQB+h1FfnVa/8ABSL4xztNn9nrVR5chQfLIOAAeckc89sj360+4/4KPfGGKMsf2fdTQAgb5FlKqMgZIUMxA9gT6A0AfoLo/wDyC7X/AK5L/KrtfH9l+1l4zgtIYxp3hhQqgBXsfEZbgd8aX1qx/wANceNP+fDwr/4AeJP/AJV0Ae7fGD4+eAPgJpthqHj7xJb+G7S+laG2knilk8xlAJAEaseARyRjkDuKj+HPxb8N/HLwvqXiD4ceI7LV7RozaW+otbSPDFcqHI8yJjG7AbkYrlSwPDDOa+SviD8Wtc8cePPA/jPWPEfhrwVF4Ga+v47z/hGPEOpwsZbfyn86NrW1wioXJYSjBAJBGRXtH7IvhXV/CM3xesbvVbHVtRm8b3moXV7bWb20EklzDBcN5cRkkZFBlIALscAZOc0DTs7nQfDr4H+PvA/xU8V+M7v4haLq48VXFrNqunjwvJAoWCMRItu4vSYz5Y25cSdMkE11vir4U31x44bxp4R19fDPiSe0jsb/AO1WX22y1CGNmaITQiSNt6F32ukinDkHIwB2+3Uv+elr/wB+2/xo26l/z0tf+/bf41PKtjtnja9SftJNXslsrWWiTVrO1luuiPP/AA/8K7rSfF83jTxPro8S+K54otNhmgsxZ2lla+csjRQQ75GG5wCzPI7HaoyAK9PrG1Bb/wAqLe9sR50eNqN13DHfpmrW3Uv+elr/AN+2/wAadrHNUqzrS5pv9PwWhfoqht1L/npa/wDftv8AGjbqX/PS1/79t/jTMijpus2lrZJFJI29SxYJEzBcsSMkAgcVswypNGkiHcjgMrDoQeQa5jTbPV0t5ntTZNFcdfOLhgRkHoCK1rO11K0s4IBJakRoqZ2N2AHr7UAatUP+Y5/27f8As1G3Uv8Anpa/9+2/xqni+/tf79v5nkddrbcbvTPXNAG3RVDbqX/PS1/79t/jRt1L/npa/wDftv8AGgA1z/kGS/Vf/QhVm5uI7SB5pW2RoMs2CcfgKytWW++wSea9uUyudqNn7wx1PrT9Rs9SvrKWESWmXAxlGHQg9cn09KALdrq1teTGKNn8zaW2vGyHAIBIyBnkj86u1hRWmsyaglzO1inlxNGBHvP3ipOc4/uir23Uv+elr/37b/GgBdJ/1dz/ANfEn/oRq9WJpq3/AJc+x7cDz5M7kbruOcc9M1c26l/z0tf+/bf40AX6qyf8hS3/AOuMn/oUdRbdS/56Wv8A37b/ABqu63/2+HL22/ypMHY2MZTOeevT9aANeqNzq1tZ3BhlZ/N2hiqRM+AcgE4B64P5Um3Uv+elr/37b/GqMlrrMWoS3EDWL+bGiMJN642liMYz13H8qALd/cR3WhzzRNvjkhLK2DzkcHFaVc69nqFj4faCSS2ZI4SrbVbOAOcEn+lae3Uv+elr/wB+2/xoAv0VQ26l/wA9LX/v23+NG3Uv+elr/wB+2/xoAXTP9Zff9fDf+grV6sXT1vy95se3B887so3XavTnpjFW9upf89LX/v23+NAFuaZLeF5ZGCxxqWZj2A5JrIbVba81bT0jZ937w/PEycbe2QM/hUt/aaleWNzb+bajzY2jzsbuCPX3rOkt9XbVtNe4Nkhj8wJ5e89V5yDjt70AdPRVDbqX/PS1/wC/bf40bdS/56Wv/ftv8aAJtS/5B91/1yb+Rp1j/wAecH/XNf5CqF8uofYrjc9sU8tshUbOMHOOadaLqH2WHa9tt2DG5Gz0470AalFUNupf89LX/v23+NG3Uv8Anpa/9+2/xoA8o+LP7U3wt/Z88QJZfEDxZD4dutS2yWsclpcTb1CgEkxRsFGc8sR0PpXofgD4geH/AIpeEdO8U+FdTi1nQNRVntb6EMqyBXZGwGAIIZGBBAOQa+ZP2ndI+KHgH4qab8YvAv8Awjl8+nWVv4Xu9N1K3lmnm+36haxq1vGJoELhjHjzJ414YEgEEUf2ZvFHjH9nb4K6D8PNV+GniC+vdFlvUa4j1Lw8gkSS7mmQlW1gFG2yLuXnacgMwG4gH2ZVPUP9dY/9d/8A2Rq8Q/4aS8Rf9Ep8Sf8Ag18Of/LiuC8dft4W3gXxBYaRrPww8bDUpIvtscOnx6TfDy8sm4tBqUijnIwSD36dQD64or41/wCHkWlf9Ep+JH/gnsv/AJOqtY/8FM9B1OKSS1+F/wARp445ZIWZNIsyA8blHU/6d1DKQfcGgD7TrOt7qGw0GK5uJFht4bYSSSOcKqhQSSewAFfHupf8FNNB0mxnvLz4X/Ea3tYFMkkz6RZhVUdSf9O6VQ1z/goRpmreD9R0q3+FnxGWS5sJLWNpNJswuWjKgki96ZIyQPw7UAe6fDn9tH4LfFrxta+EfCXjyz1fxJdeZ5GnrbXEbyGONpHAMkaqSFRiRn+E+le3V+RXgP8AaK1fwV4n+AUes+HPE+o2fgH7eINNtPCUNrcSRzafNBIRO2qyLMUeSIY8qEFSzcEBD9V/8PItK/6JT8SP/BPZf/J1AH13bf8AIVvv9yP+TVfr4msP+Clnh+61DUfs/wAMPiNNNBIkFwq6RZZjcKGCkfbeDtdT1PBHSrN9/wAFLtE06znu7r4W/EaC2t42llkbSLPCqoJJP+ndAAfyoA+0Koat920/6+Y/518hR/8ABSbSJo1kT4V/EhkYBlYaPZ4IIyD/AMf1VNW/4KTaFb2n2i6+F3xGhgt2855G0iyAUKCST/pp4ABP4daAPtevKvjB+1F8LvgHqNhYeP8Axfa+G7u+iM9vDNDNKzoCVLfu0bAyCBnGcHHQ1yOn/tQ63qthbXtr8LPEr21zGk0TNqfh5SVYAgkHVwQeRwQD2Irx7xp4u+KGpftBWPxJ8L+C7nRXtvC8nh0x6u2haiJBJdpOxEcevwbcGKMBvMbqwK9CAD7D8DeOtB+JnhPTvE/hjUotX0HUUMlreQhlWVQxU8MAQQykEEAggitLQv8AkFwf8C/9CNfBPwT/AGoG/ZQ+Gfhz4TeIvh74y1PXNFtJLppdIg0y9je3nvLkwyFodRZVZtjgoSSCp5Iwx7Ox/wCCjmkW9okafCr4kFVzydIsj1JPX7cP5UAfaVFfKngb9upPiNqGqWOifC/xo15psUE91DqA0iwZUmMqxsPtGpx7gTDIPlzjbzjIz2H/AA0l4i/6JT4k/wDBr4c/+XFAHtn/ADHj/wBew/8AQjV+vlvxt+2RN8O7Q61rnwv8WwW2YbUG1udDu3LySBUURQ6qzkliBkA4zk4HNcz/AMPI9K6n4U/Egf8AcHsv/k6gD7KrI8Uala6LoN3qF9OttZWgWeeaQ4WONWDMx9gAT+FfJtt/wUh0a61HT7IfDH4gQT391FZW7XWn2EEZmlcIimR78KoLEDLEAZySBzXS/E744+JPGPw68SaDb/C7xBHcanp81nE8mseHQivIhVSxGrMQuSMkA8Z4oAzfHn7W3wo+Oljovg/wD4q/4SjxI3ivw3dHT7HTrsyRwwa7YyzSOTEAiIiMWZiAMcnJAPrP7LP/ACSY/wDYd1v/ANOlzXnfwV+Gms+A5PAEuvfEnwfqFl4S0KfSbHT7LTmtpx54tyxmnN7KshX7OBlI0BJJ4HFd/wDsoyi4+D6Sq8cqvrmtMHj5Vs6nc8g5PFAHsVFFFABRRRQAUUUUAFFFFABRRRQAUUUUAFFFFABRRRQAUUUUAFFFFABRRRQAUUUUAFFFFABRRRQAUUUUAFFFFABRRRQAUUUUAFFFFABRRRQAUUUUAFFFFABRRRQAUUUUAFFFFABRRRQAUUUUAFFFFAHmf7Tv/JtfxZ/7FLVv/SOWsH9nT/kYfi1/2M6f+m6zr0X4keDYviN8PPFHhSa5eyi17S7rS3uY1DNEs8LRFwCQCQGJAPpXzpqFn4++BfiDVNenaOyh1B45tQ1ayt5b7QNQkSNYxLd22WutNkKIoMsLSwKF3SBjgUAfWFFeU+B/2hNC8SSabZ62i+GdU1HaLEzXKT6fqZIyDZXqfu588kIdsuOTGterUAUtU/1MP/XeL/0MVdqlqn+ph/67xf8AoYq7QAUUUUAUND/5BkX1b/0I1fqhof8AyDIvq3/oRq/QAVQ/5jn/AG7f+zVfqh/zHP8At2/9moAv0UUUAUNc/wCQZL9V/wDQhV+qGuf8gyX6r/6EKv0AFFFFAFHSf9Xc/wDXxJ/6EavVR0n/AFdz/wBfEn/oRq9QAVVk/wCQpb/9cZP/AEKOrVVZP+Qpb/8AXGT/ANCjoAtUUUUAUtY/5Bd1/wBcm/lV2qWsf8gu6/65N/KrtABRRRQBR0z/AFl9/wBfDf8AoK1eqjpn+svv+vhv/QVq9QAVn3n/ACFNP+sn/oNaFZ95/wAhTT/rJ/6DQBoUUUUAVtS/5B91/wBcm/kadY/8ecH/AFzX+Qpupf8AIPuv+uTfyNOsf+POD/rmv8hQBPRRRQB45+0Z/wAk/uf+xp8M/wDp5sK5T9n/AODPw/8AFfgnV9V1vwL4a1nU7jxV4iMt5qGkW880mNYvANzuhY4AAGTwAB2rc/aT1zT7fw1baK95D/bOpeJ/D7WOmqwa5uhFqllLMY4hlnCRo7sVB2qpJwBmtb9l0g/DLUCOn/CVeI+f+4zeUAbX/DO/wp/6Jl4O/wDBBaf/ABum/wDDOvwo37v+FY+Dd2Mbv+EftM/TPl16JRQB57/wzv8ACn/omXg7/wAEFp/8bpq/s6fCiMEL8MfBoGSeNAtOpOSf9XXolFAHnbfs5/CiRSrfDHwaykYIPh+0I/8ARdO/4Z3+FP8A0TLwd/4ILT/43XoVFAHnZ/Z0+FDMGPwx8Glh0P8AYFp/8bp3/DO/wp/6Jl4O/wDBBaf/ABuvQqKAPOl/Z0+FCFiPhj4NBY5J/sC05OMf88/YflSt+zr8KJFKt8MfBpUjBB0C0wf/ACHXolFAHnn/AAzt8Ke3wy8Gj/uAWn/xukb9nX4UOpB+GPg1gRgg6Bafl/q69EooA88H7OvwpAA/4Vj4NA/7AFp/8bpf+Gd/hT/0TLwd/wCCC0/+N16FRQB50P2dfhR5hYfDHwbuIAJ/sC0zxnH/ACz9z+dP/wCGd/hT/wBEy8Hf+CC0/wDjdehUUAedD9nX4UeYWHwx8G7iACf7AtM8Zx/yz9z+dP8A+Gd/hT/0TLwd/wCCC0/+N16FRQB5037OfwofG74Y+DSM5H/EgtOoPH/LOn/8M7/Cn/omXg7/AMEFp/8AG69CooA87b9nX4UyY3fDHwcRnP8AyALTseP+WdP/AOGePhV/0TPwd/4ILT/43XoNFAHn3/DPHwq/6Jn4O/8ABBaf/G66/QfD+l+FdIt9K0XTbPR9Mt8iGy0+BIIYsksdqKAoySScDqSa0qKACiiigAooooAKKKKACiiigAooooAKKKKACiiigAooooAKKKKACiiigAooooAKKKKACiiigAooooAKKKKACiiigAooooAKKKKACiiigAooooAKKKKACiiigAooooAKKKKACiiigAooooAKKKKACiiigAooooA8G+NP7JHhz4oeG9c07RL+48Eza1g6jFpybrDUPnDsLm0yqsWIG6SMxyt0MmMg/PP9sftBfshnbfpceMPBVvx5ly5vrVEHfzwEktuOS0gjhiUBY45m5P3/AEUAfMPgD9vX4YeP5tP0rV9SHg7xBcNHKlnqrEQSqHXLxzkABSSAolETuSNqHIr6NXXLORVZZGZWAIYROQQenavLfFX7LfgzWPEN34k0CBvBfim6ga3n1HR44/Juo2YM6XFrIrQTBmC7mKBztADjAx5i3gHx78F2Z9Jsb7TrGM7vtvgCH7ZpT47z6BO5aFSf4bCQueMsAMAA+o/7atP78n/fl/8ACj+2rT+/J/35f/CvkHwT/wAFHvDbeINa0Txjpk0UWk3psX8RaPbTC2lcBQS9pOFnhfeSggXzpNyNxgqT9Q+Bvil4S+JUM8nhnxDYaw9vgXFvBKBPbE8hZoTh4mwQcOoPIOOaANDSdWtodPjRmcMC2cRMerE9QKu/21af35P+/L/4V4t42/bG+DnwX1r/AIRnxp45tND12NBM9lJb3EjKrklMlI2HIwcZ7jjmvaNF1mz8R6PYatptwt3p19bx3VtcR52yxOoZGGexUg/jQAv9tWn9+T/vy/8AhVL+1bb+2PM3Ps8jb/qnz97PTFbdUP8AmOf9u3/s1AC/21af35P+/L/4Uf21af35P+/L/wCFXqKAMTV9WtprCREZyxK4zEwHDA9SKu/21af35P8Avy/+FJrn/IMl+q/+hCr9AFH+2rT+/J/35f8Awo/tq0/vyf8Afl/8KvUUAYmm6pbRJOGZ8meRh+7c8FiR0FXf7atP78n/AH5f/CjSf9Xc/wDXxJ/6EavUAUf7atP78n/fl/8ACq0mrWp1CFw77RFID+6bOSUI4x7Gteqsn/IUt/8ArjJ/6FHQBH/bVp/fk/78v/hR/bVp/fk/78v/AIVeooAxtU1a2l065RXfc0ZAzEwGcepFW/7atP78n/fl/wDCl1j/AJBd1/1yb+VXaAKP9tWn9+T/AL8v/hR/bVp/fk/78v8A4VeooAxLDVbaOS8LM4DzlhiJjxtUdhx0q7/bVp/fk/78v/hRpn+svv8Ar4b/ANBWr1AFH+2rT+/J/wB+X/wqldarbNf2ThnKqXz+6buuOmOa26z7z/kKaf8AWT/0GgB39tWn9+T/AL8v/hR/bVp/fk/78v8A4VeqpqWpWej2M17f3UNjZwqXluLmQRxxqOpZiQAPc0AVL7VrWSyuEV3y0bAZiYDkHvinWusWqWsKl3yEAOIn9B7V5X4j/aT0K60W+m8I6bfeM7aOJi+r2my10eIYI3tqE5SF1HfyTKw4+U5FfPvirxv+0J8dtSsLD4dXmnW/hW5tCLrUND8+3sIHBXCjVJVjluVdWP72yjUoyDIYEigD6e+Jn7Rnw7+EVvI/ijxJBYXKxGcWCo8l00Y4LiJQWCZIBcgIueWA5rwrS/2sde+PYu7TwLY6loyRXMlq2n6XaJd64wU/K8kkoFlYIylXWSR5t6t8gDCn/C//AIJ66Ho91HqnjzxBeeJtUMouWgsZGtYvOAx5jzAiVpcfKZYzBvGQ6tmvqfw34W0fwbo1vpOgaVZ6NpduMRWdjAsMSZOSQqgDJPJPcnJoA8J8C/sx6hJPeaj4o1WXRjqIAvrDQb+eW+vVHRL3V5MXUyg8iOEwInKgMuK928L+FtH8FaFa6LoGmWuj6TahhBZWUQiiTcxZiFAAyzMzE9SWJOSSa16KACiiigAooooAKKKKACiiigAooooAKKKKACiiigAooooAKKKKACiiigAooooAKKKKACiiigAooooAKKKKACiiigAooooAKKKKACiiigAooooAKKKKACiiigAooooAKKKKACiiigAooooAKKKKACiiigAooooAKKKKACiiigAooooAKKKKACiiigAooooAKKKKACiiigAooooAKKKKACiiigAooooAKKKKACiiigDi/iF8HfBfxUhRPFPhyx1aWJSkN4ymO6twc5EVwhWSPOTyjA818sfED/gnLHbYvfhp4qn0e9tUYWFpqjlRZkg8W1xGh+z5PLSGGSU5IDjII+26KAPzsPwX+Inw80Hx5pXiHU/ENkvjrwzbeHfEfiDVdBfxWkpiguIDPbT2VzFNApW5ck3Vu+0gEsQCK9Y8AftWaf8ACD4KaMfEunWOs+GvDNjY6Rd+JPBOtW+p28TL5dsrTQyeRcRsXKgoschUkgk4yfruuC+IHwL8A/FCZLjxP4U03U9QjKmLU/K8q+hKkEGO5jKyxkEDlWHQelAFPwT+0V8NviFJb2+jeL9PN9crvi02/ZrK9dTxkW84SXGeM7cZruv+Y5/27f8As1fKXjT/AIJyeENZhuh4d8RajoiXDbnsb6FLu0kbGA03lmGe4OMZ86d8gD61wGg/si/Gf4S+MtKv9I8Uapq3hizEvnaf4Q15dLmkzGVjWOymiWzCqTvxI8hJUAsBzQB990V8mt8ZvHngk+XqviLUtOjX7y/EPwLLn8dS0yRbMH1wh65AAGDiN/wUWs9F8ZDQL/wraeLohYpePqvw41r+2YE3SyR7JTLDbrA4MbErI4wMYJoA+vtc/wCQZL9V/wDQhV+vmKz/AG/vg54mWXTv7Y1Kx1MbS9k+lz3TxEEEiRrZZUTqPvMAcjB5q38bf2zvA/hj4R+MdW8F+OvC994z0y0Mlro99dqLjzCUA3WrOkpADg4AGaAPpKivlb4D/HLx5r37Qg8A+JvFPhLxhplx4NPiZLzw3ZNA1vN9rihED/v5AcK7E9DyvTHP1TQBR0n/AFdz/wBfEn/oRq9VHSf9Xc/9fEn/AKEavUAFVZP+Qpb/APXGT/0KOrVVZP8AkKW//XGT/wBCjoAtUUV81fGP9oD4k+H/AI0al4F8A+GPD2rJpXhdPE17da5eywnyzNLGUQIpyR5YPPXJ6YoA+iNY/wCQXdf9cm/lV2vOvhd8RJPil8C/DfjS8tY9Ml1nRotQmt0kLRwl4wzAMQOAc8nt1q7r3xw+HPhXd/bfj/wvo23Ib+0NZtoMYwDne47kfmKAO4orxn/hrn4Z3etto2jarqfinVhbi6+y+HNCvtR/dbtu8yQwtGFDcZZgMkDqQDBrn7RWpWFk91B8OtX06zX/AJiXirVdN0izU9cMWuHnHHP+pPH5UAev6Z/rL7/r4b/0FavV8B6t+2r8WNe8Wa7oXgTwvoGr+TMjxap4Zt7zxPYS741JX7VbiLy2VgVLNAygjBJ7xt4J/ay+L2f7VvtU0CwmH/HtdapDpcQzjmOexK3AXrlZ7difTHBAPrn49fErSPhr8L/FF/feJdP8O6gNKumsJLy8jgka4ETeWIw5G5t+3AAJJwMGviD4Z+NPHnww1r4Y+MP7R+NHxDi/4Ra91Dxvoviq3mtbKxvBawNGltJew28TL5rXHKSTMVjXbuz8/uPwR/Ys174b6HDa3vjax02+86eabVfDmgWo1icSSvJsm1C4SQyhQ+wEQxkKoAxwR7Dpv7M/w9t7qK71XRpPF+oIwkW78WXc2rMjj+ONbhnSI98RqoB6CgD5TX9s740fHVRF8K/BcVvZy/duNM238m09CL2Rfs8Eg7w3MKHIIDEAsbmj/sS/F34peING8R/E/wCIv2W502+h1C3tZB/apEkbBgwt5Cbe2cjKsIzLGwP3ATx9229vFZ28cEMSQwxqFSONQqqoGAAB0AHYVPQB5bpP7OnhKG/g1PxEdQ8f6xCweO+8WXX2wRuOjxWwC20LD+9FEh5616lRRQAUUUUAFFFFABRRRQAUUUUAFFFFABRRRQAUUUUAFFFFABRRRQAUUUUAFFFFABRRRQAUUUUAFFFFABRRRQAUUUUAFFFFABRRRQAUUUUAFFFFABRRRQAUUUUAFFFFABRRRQAUUUUAFFFFABRRRQAUUUUAFFFFABRRRQAUUUUAFFFFABRRRQAUUUUAFFFFABRRRQAUUUUAFFFFABRRRQAUUUUAFFFFABRRRQAUUUUAFFFFABRRRQAUUUUAFFFFABRRRQAVy/i34X+DfHyFfFHhLQvEakYI1bTYboYxjH7xT2rqKKAPDvEv7GPwm8TW4gfw/c6fEvKQ6fql1Dbqeefs4k8lup+9GRXOeG/2JNI8AaXqWmeD/G2t6LpGoXYvp9Hn0zSbiwMwjSMMIzZqy4WKMYDgcMcbmLV9KUUAfLeufsg6zqTQNJqHw91oW5byv7U8EPFOmcZ2z297HtzhSQEwSqnggGvG7f8AYl+PXhm5vZ/D3juJPtF7cXUVnH461fTrG2WSV5FiSGG1Z2RQwUB5W6E55AH6EUUAfn3D8DP2yNFWfyvG2jyqpJVdP1y8lLDk7Q91u3E8DcyqSQSTgnPa+GfB37Q+n+GtIj1rVfiVJqq2kK3n9ka34ZmjNwEAlYfabPcFLZIG9sDjPAJ+z6KAPi3xVoH7RS+GdVPhy++Kja/9mkNh/aOp+EDbeftPl+YFtgxTdjIDAkZwR1rkoPBf7ZN5ITLruvRooKlbvUdAjLA9QGhtSwHAzgqemD6ff9FAH5+f8Kf/AGs9RvNNGo63eXVot7byXqx+KJNPee3WVTJGskEjeWWUEbhGTgk8ng+gN+yz4g1vVJ9T1j4Z+BtX1O4hW2fU/FfjnWfEFz5SliqDz7VREql2JSMhWJ5Ixk/YdFAHwp4y/wCCdV947i0GAf8ACv8AwnbaZcGXbZ6LeagWTynQITLdRnaCykBSu0gEHjB6Dw//AME29FsUC33j/XETjdBoymO3bGePJvJLtAuOMADq3qMfZdFAHzn4O/YL+FHgzUJL6ztdZW+kjMMtxZ6tNphmUsGIkWxMCuCwyQwIJ6jgY9D0P9nL4Y+HdQS/tPA2iSanH93UL60W7ul+k026Qdv4ucD0r0migBkcaxqEQBVUYAAwBin0UUAFFFFABRRRQAUUUUAFFFFABRRRQAUUUUAFFFFABRRRQAUUUUAFFFFABRRRQAUUUUAFFFFABRRRQAUUUUAFFFFABRRRQAUUUUAFFFFABRRRQAUUUUAFFFFABRRRQAUUUUAFFFFABRRRQAUUUUAFFFFABRRRQAUUUUAFFFFABRRRQAUUUUAFFFFABRRRQAUUUUAFFFFABRRRQAUUUUAFFFFABRRRQAUUUUAFFFFABRRRQAUUUUAFFFFABRRRQAUUUUAFFFFABRRRQAUUUUAFFFFABRRRQAUUUUAFFFFABRRRQAUUUUAFFFFABRRRQAUUUUAFFFFABRRRQAUUUUAFFFFABRRRQAUUUUAFFFFABRRRQAUUUUAFFFFABRRRQAUUUUAFFFFABRRRQAUUUUAFFFFABRRRQAUUUUAFFFFABRRRQAUUUUAFFFFABRRRQAUUUUAFFFFABRRRQB//2Q==)"
      ],
      "metadata": {
        "id": "8TIt2Ay_oTX4"
      }
    },
    {
      "cell_type": "code",
      "source": [
        "x_coor = []\n",
        "y_coor = sorted[\"location\"].str[1:].astype(\"int\").values"
      ],
      "metadata": {
        "id": "vtzrA-izecxg"
      },
      "execution_count": null,
      "outputs": []
    },
    {
      "cell_type": "code",
      "source": [
        "import string\n",
        "\n",
        "map = dict(enumerate(string.ascii_uppercase))\n",
        "letters2numbers = {v: k for k, v in map.items()}"
      ],
      "metadata": {
        "id": "DJUUDTyJo-oP"
      },
      "execution_count": null,
      "outputs": []
    },
    {
      "cell_type": "code",
      "source": [
        "letters2numbers"
      ],
      "metadata": {
        "colab": {
          "base_uri": "https://localhost:8080/"
        },
        "id": "EuUls3nb-szS",
        "outputId": "c865170f-61d3-4968-ca66-35acfabdbafe"
      },
      "execution_count": null,
      "outputs": [
        {
          "output_type": "execute_result",
          "data": {
            "text/plain": [
              "{'A': 0,\n",
              " 'B': 1,\n",
              " 'C': 2,\n",
              " 'D': 3,\n",
              " 'E': 4,\n",
              " 'F': 5,\n",
              " 'G': 6,\n",
              " 'H': 7,\n",
              " 'I': 8,\n",
              " 'J': 9,\n",
              " 'K': 10,\n",
              " 'L': 11,\n",
              " 'M': 12,\n",
              " 'N': 13,\n",
              " 'O': 14,\n",
              " 'P': 15,\n",
              " 'Q': 16,\n",
              " 'R': 17,\n",
              " 'S': 18,\n",
              " 'T': 19,\n",
              " 'U': 20,\n",
              " 'V': 21,\n",
              " 'W': 22,\n",
              " 'X': 23,\n",
              " 'Y': 24,\n",
              " 'Z': 25}"
            ]
          },
          "metadata": {},
          "execution_count": 400
        }
      ]
    },
    {
      "cell_type": "code",
      "source": [
        "for i in sorted[\"location\"].str[0].values:\n",
        "\n",
        "    table = i.maketrans(letters2numbers)\n",
        "    x_coor.append(ord(i.translate(table)))"
      ],
      "metadata": {
        "id": "pdKK_hWyxM0f"
      },
      "execution_count": null,
      "outputs": []
    },
    {
      "cell_type": "code",
      "source": [
        "sorted[\"x_coor\"] = x_coor\n",
        "sorted[\"y_coor\"] = y_coor"
      ],
      "metadata": {
        "id": "H7jmEABTy-Z6"
      },
      "execution_count": null,
      "outputs": []
    },
    {
      "cell_type": "code",
      "source": [
        "df = sorted.drop([\"location\", \"date\"], axis=1)"
      ],
      "metadata": {
        "id": "6jr3OTHA5Gz7"
      },
      "execution_count": null,
      "outputs": []
    },
    {
      "cell_type": "code",
      "source": [
        "y = df.iloc[:, -2:]"
      ],
      "metadata": {
        "id": "2MUoq2pUIH5l"
      },
      "execution_count": null,
      "outputs": []
    },
    {
      "cell_type": "code",
      "source": [
        "X = df.drop([\"x_coor\", \"y_coor\"], axis=1)"
      ],
      "metadata": {
        "id": "PG9IxtshI1fk"
      },
      "execution_count": null,
      "outputs": []
    },
    {
      "cell_type": "code",
      "source": [
        "scaler_y = MinMaxScaler()\n",
        "scaled_y = scaler_y.fit_transform(y)\n",
        "\n",
        "scaler_X = MinMaxScaler()\n",
        "scaled_X = scaler_X.fit_transform(X)"
      ],
      "metadata": {
        "id": "aB_jOn7o5xmD"
      },
      "execution_count": null,
      "outputs": []
    },
    {
      "cell_type": "code",
      "source": [
        "X_train, X_test, y_train, y_test = train_test_split(scaled_X, scaled_y, test_size = 0.15, shuffle=False)\n",
        "X_train, X_val, y_train, y_val = train_test_split(X_train, y_train, test_size = 0.10, shuffle=False)"
      ],
      "metadata": {
        "id": "SP4ztdNaJVSM"
      },
      "execution_count": null,
      "outputs": []
    },
    {
      "cell_type": "code",
      "source": [
        "def rnn(x, y, val_x, val_y):\n",
        "\n",
        "    model = Sequential()\n",
        "    model.add(SimpleRNN(units = 64, activation=\"tanh\", \n",
        "                            return_sequences=True, input_shape=(X_train.shape[1], 1)))\n",
        "    model.add(Dropout(0.3))\n",
        "    model.add(SimpleRNN(units = 64, activation=\"tanh\", \n",
        "                            return_sequences=True))\n",
        "    model.add(Dropout(0.2))\n",
        "    model.add(SimpleRNN(units = 32, activation=\"tanh\", \n",
        "                            return_sequences=True))\n",
        "    model.add(Dropout(0.1))\n",
        "    model.add(SimpleRNN(units = 32))\n",
        "    model.add(Dropout(0.1))             \n",
        "    model.add(Dense(units=2))            \n",
        "\n",
        "    model.compile(optimizer=\"adam\", loss=\"mean_squared_error\")\n",
        "    model.summary()\n",
        "\n",
        "    model.fit(x, y, epochs=100, batch_size=32, validation_data=(val_x, val_y))\n",
        "\n",
        "    return model"
      ],
      "metadata": {
        "id": "OhhY3ecPMXMJ"
      },
      "execution_count": null,
      "outputs": []
    },
    {
      "cell_type": "code",
      "source": [
        "model_rnn = rnn(X_train, y_train, X_val, y_val)"
      ],
      "metadata": {
        "id": "UHAz6U3hM53B"
      },
      "execution_count": null,
      "outputs": []
    },
    {
      "cell_type": "code",
      "source": [
        "pred_rnn_without_scaling_train = model_rnn.predict(X_train)\n",
        "pred_rnn_without_scaling_val = model_rnn.predict(X_val)\n",
        "pred_rnn_without_scaling_test = model_rnn.predict(X_test)"
      ],
      "metadata": {
        "colab": {
          "base_uri": "https://localhost:8080/"
        },
        "id": "cTHvU46vO-Y-",
        "outputId": "6d03e8b6-1fac-4d45-841f-751815922d5b"
      },
      "execution_count": null,
      "outputs": [
        {
          "output_type": "stream",
          "name": "stdout",
          "text": [
            "34/34 [==============================] - 1s 5ms/step\n",
            "4/4 [==============================] - 0s 7ms/step\n",
            "7/7 [==============================] - 0s 5ms/step\n"
          ]
        }
      ]
    },
    {
      "cell_type": "code",
      "source": [
        "def performanceMeasures(y_true, y_pred, title):\n",
        "\n",
        "    y_true = y_true.flatten().reshape(len(y_true.flatten()), 1)\n",
        "    y_pred = y_pred.flatten().reshape(len(y_pred.flatten()), 1)\n",
        "\n",
        "    print(\"\\n\" + title)\n",
        "    print(\"==================================\")\n",
        "    print(\"RMSE: \", np.sqrt(mean_squared_error(y_true, y_pred)))\n",
        "    print(\"MAE: \", mean_absolute_error(y_true, y_pred))\n",
        "    print(\"MAPE: \", mean_absolute_percentage_error(y_true, y_pred))\n",
        "    print(\"Pearson's Correlation Coefficient: \", r_regression(y_true, y_pred)[0])\n",
        "    print(\"R-squared: \", r2_score(y_true, y_pred))"
      ],
      "metadata": {
        "id": "HpbW3EXgtXXY"
      },
      "execution_count": null,
      "outputs": []
    },
    {
      "cell_type": "code",
      "source": [
        "performanceMeasures(y_train, pred_rnn_without_scaling_train, \"Train\")\n",
        "performanceMeasures(y_test, pred_rnn_without_scaling_test, \"Test\")\n",
        "performanceMeasures(y_val, pred_rnn_without_scaling_val, \"Validation\")"
      ],
      "metadata": {
        "colab": {
          "base_uri": "https://localhost:8080/"
        },
        "id": "DEB7zDRTuklU",
        "outputId": "075114bc-ee69-4259-947b-94f5c18f5205"
      },
      "execution_count": null,
      "outputs": [
        {
          "output_type": "stream",
          "name": "stdout",
          "text": [
            "\n",
            "Train\n",
            "==================================\n",
            "RMSE:  0.0893435386122225\n",
            "MAE:  0.06794451343641236\n",
            "MAPE:  36435909841446.9\n",
            "Pearson's Correlation Coefficient:  0.9432074964173668\n",
            "R-squared:  0.8889861058998298\n",
            "\n",
            "Test\n",
            "==================================\n",
            "RMSE:  0.09302413903934846\n",
            "MAE:  0.07244117268108638\n",
            "MAPE:  44283611445450.13\n",
            "Pearson's Correlation Coefficient:  0.9382208863142893\n",
            "R-squared:  0.8761685455690402\n",
            "\n",
            "Validation\n",
            "==================================\n",
            "RMSE:  0.1049724981525519\n",
            "MAE:  0.09026122136719887\n",
            "MAPE:  0.2366745525700624\n",
            "Pearson's Correlation Coefficient:  0.9312841022293303\n",
            "R-squared:  0.6581954492211525\n"
          ]
        },
        {
          "output_type": "stream",
          "name": "stderr",
          "text": [
            "/usr/local/lib/python3.10/dist-packages/sklearn/utils/validation.py:1143: DataConversionWarning: A column-vector y was passed when a 1d array was expected. Please change the shape of y to (n_samples, ), for example using ravel().\n",
            "  y = column_or_1d(y, warn=True)\n",
            "/usr/local/lib/python3.10/dist-packages/sklearn/utils/validation.py:1143: DataConversionWarning: A column-vector y was passed when a 1d array was expected. Please change the shape of y to (n_samples, ), for example using ravel().\n",
            "  y = column_or_1d(y, warn=True)\n",
            "/usr/local/lib/python3.10/dist-packages/sklearn/utils/validation.py:1143: DataConversionWarning: A column-vector y was passed when a 1d array was expected. Please change the shape of y to (n_samples, ), for example using ravel().\n",
            "  y = column_or_1d(y, warn=True)\n"
          ]
        }
      ]
    },
    {
      "cell_type": "code",
      "source": [
        "def lstm(x, y, val_x, val_y):\n",
        "\n",
        "    model = Sequential()\n",
        "    model.add(LSTM(units = 64, activation=\"tanh\", \n",
        "                            return_sequences=True, input_shape=(X_train.shape[1], 1)))\n",
        "    model.add(Dropout(0.3))\n",
        "\n",
        "    model.add(LSTM(units = 64, activation=\"tanh\", \n",
        "                            return_sequences=True))\n",
        "    model.add(Dropout(0.2))\n",
        "\n",
        "    model.add(LSTM(units = 32, activation=\"tanh\", \n",
        "                            return_sequences=True))\n",
        "    model.add(Dropout(0.1))\n",
        "\n",
        "    model.add(LSTM(units = 32))\n",
        "    model.add(Dropout(0.1))    \n",
        "\n",
        "    model.add(Dense(units=2))            \n",
        "\n",
        "    model.compile(optimizer=\"adam\", loss=\"mean_squared_error\")\n",
        "    model.summary()\n",
        "\n",
        "    model.fit(x, y, epochs=300, batch_size=16, validation_data=(val_x, val_y))\n",
        "\n",
        "\n",
        "    return model"
      ],
      "metadata": {
        "id": "trYX21w-OTYB"
      },
      "execution_count": null,
      "outputs": []
    },
    {
      "cell_type": "code",
      "source": [
        "model_lstm = lstm(X_train, y_train, X_val, y_val)"
      ],
      "metadata": {
        "colab": {
          "base_uri": "https://localhost:8080/"
        },
        "id": "gLG2JXVryQih",
        "outputId": "960fdb36-1256-492e-c1e4-999d0f02085c"
      },
      "execution_count": null,
      "outputs": [
        {
          "output_type": "stream",
          "name": "stdout",
          "text": [
            "Model: \"sequential_23\"\n",
            "_________________________________________________________________\n",
            " Layer (type)                Output Shape              Param #   \n",
            "=================================================================\n",
            " lstm_32 (LSTM)              (None, 13, 64)            16896     \n",
            "                                                                 \n",
            " dropout_82 (Dropout)        (None, 13, 64)            0         \n",
            "                                                                 \n",
            " lstm_33 (LSTM)              (None, 13, 64)            33024     \n",
            "                                                                 \n",
            " dropout_83 (Dropout)        (None, 13, 64)            0         \n",
            "                                                                 \n",
            " lstm_34 (LSTM)              (None, 13, 32)            12416     \n",
            "                                                                 \n",
            " dropout_84 (Dropout)        (None, 13, 32)            0         \n",
            "                                                                 \n",
            " lstm_35 (LSTM)              (None, 32)                8320      \n",
            "                                                                 \n",
            " dropout_85 (Dropout)        (None, 32)                0         \n",
            "                                                                 \n",
            " dense_26 (Dense)            (None, 2)                 66        \n",
            "                                                                 \n",
            "=================================================================\n",
            "Total params: 70,722\n",
            "Trainable params: 70,722\n",
            "Non-trainable params: 0\n",
            "_________________________________________________________________\n",
            "Epoch 1/200\n",
            "68/68 [==============================] - 12s 54ms/step - loss: 53.0980 - val_loss: 28.7060\n",
            "Epoch 2/200\n",
            "68/68 [==============================] - 2s 33ms/step - loss: 24.1004 - val_loss: 16.2750\n",
            "Epoch 3/200\n",
            "68/68 [==============================] - 3s 45ms/step - loss: 19.6598 - val_loss: 10.9943\n",
            "Epoch 4/200\n",
            "68/68 [==============================] - 2s 33ms/step - loss: 18.2216 - val_loss: 8.5783\n",
            "Epoch 5/200\n",
            "68/68 [==============================] - 2s 30ms/step - loss: 17.5462 - val_loss: 7.5300\n",
            "Epoch 6/200\n",
            "68/68 [==============================] - 2s 30ms/step - loss: 17.6220 - val_loss: 7.0976\n",
            "Epoch 7/200\n",
            "68/68 [==============================] - 2s 31ms/step - loss: 17.5340 - val_loss: 6.8007\n",
            "Epoch 8/200\n",
            "68/68 [==============================] - 2s 30ms/step - loss: 17.5428 - val_loss: 6.7027\n",
            "Epoch 9/200\n",
            "68/68 [==============================] - 3s 44ms/step - loss: 17.4184 - val_loss: 6.7843\n",
            "Epoch 10/200\n",
            "68/68 [==============================] - 2s 36ms/step - loss: 17.4581 - val_loss: 6.7471\n",
            "Epoch 11/200\n",
            "68/68 [==============================] - 2s 31ms/step - loss: 17.5566 - val_loss: 6.6368\n",
            "Epoch 12/200\n",
            "68/68 [==============================] - 2s 30ms/step - loss: 17.4493 - val_loss: 6.5828\n",
            "Epoch 13/200\n",
            "68/68 [==============================] - 2s 30ms/step - loss: 17.4981 - val_loss: 6.8222\n",
            "Epoch 14/200\n",
            "68/68 [==============================] - 2s 30ms/step - loss: 17.4606 - val_loss: 6.6020\n",
            "Epoch 15/200\n",
            "68/68 [==============================] - 3s 39ms/step - loss: 17.5992 - val_loss: 6.6563\n",
            "Epoch 16/200\n",
            "68/68 [==============================] - 3s 41ms/step - loss: 17.6071 - val_loss: 6.7451\n",
            "Epoch 17/200\n",
            "68/68 [==============================] - 2s 30ms/step - loss: 17.4872 - val_loss: 6.7195\n",
            "Epoch 18/200\n",
            "68/68 [==============================] - 2s 30ms/step - loss: 17.4289 - val_loss: 6.6970\n",
            "Epoch 19/200\n",
            "68/68 [==============================] - 2s 30ms/step - loss: 17.4141 - val_loss: 6.7526\n",
            "Epoch 20/200\n",
            "68/68 [==============================] - 2s 30ms/step - loss: 17.5921 - val_loss: 6.7694\n",
            "Epoch 21/200\n",
            "68/68 [==============================] - 3s 38ms/step - loss: 17.6307 - val_loss: 6.5424\n",
            "Epoch 22/200\n",
            "68/68 [==============================] - 3s 44ms/step - loss: 17.6592 - val_loss: 6.7061\n",
            "Epoch 23/200\n",
            "68/68 [==============================] - 2s 31ms/step - loss: 17.5533 - val_loss: 6.6791\n",
            "Epoch 24/200\n",
            "68/68 [==============================] - 2s 32ms/step - loss: 17.6241 - val_loss: 6.9268\n",
            "Epoch 25/200\n",
            "68/68 [==============================] - 2s 31ms/step - loss: 17.5044 - val_loss: 6.6569\n",
            "Epoch 26/200\n",
            "68/68 [==============================] - 2s 30ms/step - loss: 17.2778 - val_loss: 6.7148\n",
            "Epoch 27/200\n",
            "68/68 [==============================] - 2s 34ms/step - loss: 17.4781 - val_loss: 6.3539\n",
            "Epoch 28/200\n",
            "68/68 [==============================] - 3s 46ms/step - loss: 17.4101 - val_loss: 6.7000\n",
            "Epoch 29/200\n",
            "68/68 [==============================] - 2s 32ms/step - loss: 17.6030 - val_loss: 6.8842\n",
            "Epoch 30/200\n",
            "68/68 [==============================] - 2s 30ms/step - loss: 17.3720 - val_loss: 7.0680\n",
            "Epoch 31/200\n",
            "68/68 [==============================] - 2s 30ms/step - loss: 16.4672 - val_loss: 6.2874\n",
            "Epoch 32/200\n",
            "68/68 [==============================] - 2s 30ms/step - loss: 14.8416 - val_loss: 5.6486\n",
            "Epoch 33/200\n",
            "68/68 [==============================] - 2s 32ms/step - loss: 13.6874 - val_loss: 4.9215\n",
            "Epoch 34/200\n",
            "68/68 [==============================] - 3s 45ms/step - loss: 12.8444 - val_loss: 4.5656\n",
            "Epoch 35/200\n",
            "68/68 [==============================] - 2s 35ms/step - loss: 12.2359 - val_loss: 4.6986\n",
            "Epoch 36/200\n",
            "68/68 [==============================] - 2s 30ms/step - loss: 11.5287 - val_loss: 4.4041\n",
            "Epoch 37/200\n",
            "68/68 [==============================] - 2s 30ms/step - loss: 10.7749 - val_loss: 4.5600\n",
            "Epoch 38/200\n",
            "68/68 [==============================] - 2s 32ms/step - loss: 9.4360 - val_loss: 5.1747\n",
            "Epoch 39/200\n",
            "68/68 [==============================] - 2s 31ms/step - loss: 8.5717 - val_loss: 4.5071\n",
            "Epoch 40/200\n",
            "68/68 [==============================] - 3s 45ms/step - loss: 7.5962 - val_loss: 4.0542\n",
            "Epoch 41/200\n",
            "68/68 [==============================] - 2s 36ms/step - loss: 6.8776 - val_loss: 4.0043\n",
            "Epoch 42/200\n",
            "68/68 [==============================] - 2s 30ms/step - loss: 6.0890 - val_loss: 3.7665\n",
            "Epoch 43/200\n",
            "68/68 [==============================] - 2s 30ms/step - loss: 5.5641 - val_loss: 2.8855\n",
            "Epoch 44/200\n",
            "68/68 [==============================] - 2s 31ms/step - loss: 5.4548 - val_loss: 3.1361\n",
            "Epoch 45/200\n",
            "68/68 [==============================] - 2s 31ms/step - loss: 5.0200 - val_loss: 2.6744\n",
            "Epoch 46/200\n",
            "68/68 [==============================] - 3s 42ms/step - loss: 4.6935 - val_loss: 2.9270\n",
            "Epoch 47/200\n",
            "68/68 [==============================] - 3s 40ms/step - loss: 4.3884 - val_loss: 3.2033\n",
            "Epoch 48/200\n",
            "68/68 [==============================] - 2s 30ms/step - loss: 4.3427 - val_loss: 2.6637\n",
            "Epoch 49/200\n",
            "68/68 [==============================] - 2s 31ms/step - loss: 4.3803 - val_loss: 3.0389\n",
            "Epoch 50/200\n",
            "68/68 [==============================] - 2s 31ms/step - loss: 4.1428 - val_loss: 2.9716\n",
            "Epoch 51/200\n",
            "68/68 [==============================] - 2s 31ms/step - loss: 3.9466 - val_loss: 2.7483\n",
            "Epoch 52/200\n",
            "68/68 [==============================] - 3s 38ms/step - loss: 3.8511 - val_loss: 2.4858\n",
            "Epoch 53/200\n",
            "68/68 [==============================] - 3s 44ms/step - loss: 3.7136 - val_loss: 2.4870\n",
            "Epoch 54/200\n",
            "68/68 [==============================] - 2s 30ms/step - loss: 3.8050 - val_loss: 2.2779\n",
            "Epoch 55/200\n",
            "68/68 [==============================] - 2s 31ms/step - loss: 3.5831 - val_loss: 3.0722\n",
            "Epoch 56/200\n",
            "68/68 [==============================] - 2s 31ms/step - loss: 3.5671 - val_loss: 2.9180\n",
            "Epoch 57/200\n",
            "68/68 [==============================] - 2s 31ms/step - loss: 3.4112 - val_loss: 2.7606\n",
            "Epoch 58/200\n",
            "68/68 [==============================] - 3s 38ms/step - loss: 3.5450 - val_loss: 2.7077\n",
            "Epoch 59/200\n",
            "68/68 [==============================] - 3s 45ms/step - loss: 3.2838 - val_loss: 3.0671\n",
            "Epoch 60/200\n",
            "68/68 [==============================] - 2s 30ms/step - loss: 3.3680 - val_loss: 2.7887\n",
            "Epoch 61/200\n",
            "68/68 [==============================] - 2s 31ms/step - loss: 3.2977 - val_loss: 2.8319\n",
            "Epoch 62/200\n",
            "68/68 [==============================] - 2s 31ms/step - loss: 3.1187 - val_loss: 3.1684\n",
            "Epoch 63/200\n",
            "68/68 [==============================] - 2s 31ms/step - loss: 3.2381 - val_loss: 2.8741\n",
            "Epoch 64/200\n",
            "68/68 [==============================] - 2s 34ms/step - loss: 3.2271 - val_loss: 2.8830\n",
            "Epoch 65/200\n",
            "68/68 [==============================] - 3s 44ms/step - loss: 3.0978 - val_loss: 2.7148\n",
            "Epoch 66/200\n",
            "68/68 [==============================] - 2s 34ms/step - loss: 3.1543 - val_loss: 2.8055\n",
            "Epoch 67/200\n",
            "68/68 [==============================] - 2s 31ms/step - loss: 3.1581 - val_loss: 2.8363\n",
            "Epoch 68/200\n",
            "68/68 [==============================] - 2s 31ms/step - loss: 3.0150 - val_loss: 2.9459\n",
            "Epoch 69/200\n",
            "68/68 [==============================] - 2s 31ms/step - loss: 2.9995 - val_loss: 3.0420\n",
            "Epoch 70/200\n",
            "68/68 [==============================] - 2s 32ms/step - loss: 3.0924 - val_loss: 2.8053\n",
            "Epoch 71/200\n",
            "68/68 [==============================] - 3s 44ms/step - loss: 2.9783 - val_loss: 2.7691\n",
            "Epoch 72/200\n",
            "68/68 [==============================] - 2s 36ms/step - loss: 2.9718 - val_loss: 2.7196\n",
            "Epoch 73/200\n",
            "68/68 [==============================] - 2s 31ms/step - loss: 2.9394 - val_loss: 2.6870\n",
            "Epoch 74/200\n",
            "68/68 [==============================] - 2s 31ms/step - loss: 2.9217 - val_loss: 2.8923\n",
            "Epoch 75/200\n",
            "68/68 [==============================] - 2s 31ms/step - loss: 3.0778 - val_loss: 2.6405\n",
            "Epoch 76/200\n",
            "68/68 [==============================] - 2s 31ms/step - loss: 2.8912 - val_loss: 2.6404\n",
            "Epoch 77/200\n",
            "68/68 [==============================] - 3s 44ms/step - loss: 2.9097 - val_loss: 2.8172\n",
            "Epoch 78/200\n",
            "68/68 [==============================] - 3s 37ms/step - loss: 2.8982 - val_loss: 2.7951\n",
            "Epoch 79/200\n",
            "68/68 [==============================] - 2s 31ms/step - loss: 2.9880 - val_loss: 2.7719\n",
            "Epoch 80/200\n",
            "68/68 [==============================] - 2s 31ms/step - loss: 2.9060 - val_loss: 2.9535\n",
            "Epoch 81/200\n",
            "68/68 [==============================] - 2s 32ms/step - loss: 2.7453 - val_loss: 3.0114\n",
            "Epoch 82/200\n",
            "68/68 [==============================] - 2s 31ms/step - loss: 2.8822 - val_loss: 2.8952\n",
            "Epoch 83/200\n",
            "68/68 [==============================] - 3s 43ms/step - loss: 3.1679 - val_loss: 3.1349\n",
            "Epoch 84/200\n",
            "68/68 [==============================] - 3s 39ms/step - loss: 2.9217 - val_loss: 3.0756\n",
            "Epoch 85/200\n",
            "68/68 [==============================] - 2s 31ms/step - loss: 2.9213 - val_loss: 2.8053\n",
            "Epoch 86/200\n",
            "68/68 [==============================] - 2s 31ms/step - loss: 2.7218 - val_loss: 2.8162\n",
            "Epoch 87/200\n",
            "68/68 [==============================] - 2s 35ms/step - loss: 2.6979 - val_loss: 2.5790\n",
            "Epoch 88/200\n",
            "68/68 [==============================] - 2s 31ms/step - loss: 2.8137 - val_loss: 2.5010\n",
            "Epoch 89/200\n",
            "68/68 [==============================] - 3s 40ms/step - loss: 2.8140 - val_loss: 2.7425\n",
            "Epoch 90/200\n",
            "68/68 [==============================] - 3s 41ms/step - loss: 2.7929 - val_loss: 2.8413\n",
            "Epoch 91/200\n",
            "68/68 [==============================] - 2s 32ms/step - loss: 2.9257 - val_loss: 3.0399\n",
            "Epoch 92/200\n",
            "68/68 [==============================] - 2s 31ms/step - loss: 2.8324 - val_loss: 3.0162\n",
            "Epoch 93/200\n",
            "68/68 [==============================] - 2s 31ms/step - loss: 2.8374 - val_loss: 3.0916\n",
            "Epoch 94/200\n",
            "68/68 [==============================] - 2s 31ms/step - loss: 2.7607 - val_loss: 2.5773\n",
            "Epoch 95/200\n",
            "68/68 [==============================] - 3s 39ms/step - loss: 2.8937 - val_loss: 2.6415\n",
            "Epoch 96/200\n",
            "68/68 [==============================] - 3s 46ms/step - loss: 2.6960 - val_loss: 2.8003\n",
            "Epoch 97/200\n",
            "68/68 [==============================] - 2s 35ms/step - loss: 2.7524 - val_loss: 2.4320\n",
            "Epoch 98/200\n",
            "68/68 [==============================] - 3s 42ms/step - loss: 2.6768 - val_loss: 2.5272\n",
            "Epoch 99/200\n",
            "68/68 [==============================] - 3s 46ms/step - loss: 2.7315 - val_loss: 2.9506\n",
            "Epoch 100/200\n",
            "56/68 [=======================>......] - ETA: 0s - loss: 2.5230"
          ]
        }
      ]
    },
    {
      "cell_type": "code",
      "source": [
        "pred_lstm_train = model_lstm.predict(X_train)\n",
        "pred_lstm_val = model_lstm.predict(X_val)\n",
        "pred_lstm_test = model_lstm.predict(X_test)"
      ],
      "metadata": {
        "colab": {
          "base_uri": "https://localhost:8080/"
        },
        "id": "BsRLly9uVYoR",
        "outputId": "c10e5766-be45-4624-bff8-deb5ce8868cd"
      },
      "execution_count": null,
      "outputs": [
        {
          "output_type": "stream",
          "name": "stdout",
          "text": [
            "34/34 [==============================] - 4s 18ms/step\n",
            "4/4 [==============================] - 0s 19ms/step\n",
            "7/7 [==============================] - 0s 18ms/step\n"
          ]
        }
      ]
    },
    {
      "cell_type": "code",
      "source": [
        "performanceMeasures(y_train, pred_lstm_train, \"Train\")\n",
        "performanceMeasures(y_test, pred_lstm_test, \"Test\")\n",
        "performanceMeasures(y_val, pred_lstm_val, \"Validation\")"
      ],
      "metadata": {
        "colab": {
          "base_uri": "https://localhost:8080/"
        },
        "id": "0O22U3Ztzko_",
        "outputId": "b92c639f-e147-4b50-80f5-1e3d4cf27b7e"
      },
      "execution_count": null,
      "outputs": [
        {
          "output_type": "stream",
          "name": "stdout",
          "text": [
            "\n",
            "Train\n",
            "==================================\n",
            "RMSE:  0.0793832040456485\n",
            "MAE:  0.05728472829860402\n",
            "MAPE:  30292341462749.773\n",
            "Pearson's Correlation Coefficient:  0.9554480177559003\n",
            "R-squared:  0.9123588060151345\n",
            "\n",
            "Test\n",
            "==================================\n",
            "RMSE:  0.0838137335353811\n",
            "MAE:  0.06539378306189378\n",
            "MAPE:  34958317298241.11\n",
            "Pearson's Correlation Coefficient:  0.9515260374306622\n",
            "R-squared:  0.8994759379795154\n",
            "\n",
            "Validation\n",
            "==================================\n",
            "RMSE:  0.10294339206456703\n",
            "MAE:  0.08297550230699811\n",
            "MAPE:  0.22024944511010244\n",
            "Pearson's Correlation Coefficient:  0.9267365695256371\n",
            "R-squared:  0.6712818196989638\n"
          ]
        },
        {
          "output_type": "stream",
          "name": "stderr",
          "text": [
            "/usr/local/lib/python3.10/dist-packages/sklearn/utils/validation.py:1143: DataConversionWarning: A column-vector y was passed when a 1d array was expected. Please change the shape of y to (n_samples, ), for example using ravel().\n",
            "  y = column_or_1d(y, warn=True)\n",
            "/usr/local/lib/python3.10/dist-packages/sklearn/utils/validation.py:1143: DataConversionWarning: A column-vector y was passed when a 1d array was expected. Please change the shape of y to (n_samples, ), for example using ravel().\n",
            "  y = column_or_1d(y, warn=True)\n",
            "/usr/local/lib/python3.10/dist-packages/sklearn/utils/validation.py:1143: DataConversionWarning: A column-vector y was passed when a 1d array was expected. Please change the shape of y to (n_samples, ), for example using ravel().\n",
            "  y = column_or_1d(y, warn=True)\n"
          ]
        }
      ]
    },
    {
      "cell_type": "code",
      "source": [
        "pred_lstm = model_lstm.predict(scaled_X)"
      ],
      "metadata": {
        "colab": {
          "base_uri": "https://localhost:8080/"
        },
        "id": "W9OO6DbQ8oeN",
        "outputId": "3a48bb9b-a188-4751-e115-c2c83bfd10f5"
      },
      "execution_count": null,
      "outputs": [
        {
          "output_type": "stream",
          "name": "stdout",
          "text": [
            "45/45 [==============================] - 1s 23ms/step\n"
          ]
        }
      ]
    },
    {
      "cell_type": "code",
      "source": [
        "y.to_numpy()"
      ],
      "metadata": {
        "colab": {
          "base_uri": "https://localhost:8080/"
        },
        "id": "ntGd7EF58w0i",
        "outputId": "6d00bf25-b313-4a26-b5ae-aae1ee857656"
      },
      "execution_count": null,
      "outputs": [
        {
          "output_type": "execute_result",
          "data": {
            "text/plain": [
              "array([[ 8,  1],\n",
              "       [ 8,  1],\n",
              "       [ 8,  1],\n",
              "       ...,\n",
              "       [15,  1],\n",
              "       [15,  1],\n",
              "       [14,  2]])"
            ]
          },
          "metadata": {},
          "execution_count": 399
        }
      ]
    },
    {
      "cell_type": "code",
      "source": [
        "scaler_y.inverse_transform(pred_lstm)"
      ],
      "metadata": {
        "colab": {
          "base_uri": "https://localhost:8080/"
        },
        "id": "daEQwpv18175",
        "outputId": "66dd6c71-cfbb-4d2e-85a1-6c79e0c6e58f"
      },
      "execution_count": null,
      "outputs": [
        {
          "output_type": "execute_result",
          "data": {
            "text/plain": [
              "array([[ 8.6820965,  3.1978242],\n",
              "       [ 8.718987 ,  3.166154 ],\n",
              "       [ 8.628184 ,  3.3115523],\n",
              "       ...,\n",
              "       [12.901003 ,  3.8212602],\n",
              "       [12.911572 ,  3.7814755],\n",
              "       [12.911572 ,  3.7814755]], dtype=float32)"
            ]
          },
          "metadata": {},
          "execution_count": 395
        }
      ]
    },
    {
      "cell_type": "code",
      "source": [
        "fig, axes = plt.subplots(nrows=3, ncols=5, figsize=(25, 10))\n",
        "plt.show()"
      ],
      "metadata": {
        "colab": {
          "base_uri": "https://localhost:8080/",
          "height": 166
        },
        "id": "pRUDs5jK_d5V",
        "outputId": "ff06ab3f-aa40-45e6-f75c-825379d077c5"
      },
      "execution_count": 1,
      "outputs": [
        {
          "output_type": "error",
          "ename": "NameError",
          "evalue": "ignored",
          "traceback": [
            "\u001b[0;31m---------------------------------------------------------------------------\u001b[0m",
            "\u001b[0;31mNameError\u001b[0m                                 Traceback (most recent call last)",
            "\u001b[0;32m<ipython-input-1-ab034cb13efe>\u001b[0m in \u001b[0;36m<cell line: 1>\u001b[0;34m()\u001b[0m\n\u001b[0;32m----> 1\u001b[0;31m \u001b[0mfig\u001b[0m\u001b[0;34m,\u001b[0m \u001b[0maxes\u001b[0m \u001b[0;34m=\u001b[0m \u001b[0mplt\u001b[0m\u001b[0;34m.\u001b[0m\u001b[0msubplots\u001b[0m\u001b[0;34m(\u001b[0m\u001b[0mnrows\u001b[0m\u001b[0;34m=\u001b[0m\u001b[0;36m3\u001b[0m\u001b[0;34m,\u001b[0m \u001b[0mncols\u001b[0m\u001b[0;34m=\u001b[0m\u001b[0;36m5\u001b[0m\u001b[0;34m,\u001b[0m \u001b[0mfigsize\u001b[0m\u001b[0;34m=\u001b[0m\u001b[0;34m(\u001b[0m\u001b[0;36m25\u001b[0m\u001b[0;34m,\u001b[0m \u001b[0;36m10\u001b[0m\u001b[0;34m)\u001b[0m\u001b[0;34m)\u001b[0m\u001b[0;34m\u001b[0m\u001b[0;34m\u001b[0m\u001b[0m\n\u001b[0m",
            "\u001b[0;31mNameError\u001b[0m: name 'plt' is not defined"
          ]
        }
      ]
    }
  ]
}